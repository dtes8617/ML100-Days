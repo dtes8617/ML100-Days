{
 "cells": [
  {
   "cell_type": "code",
   "execution_count": null,
   "metadata": {},
   "outputs": [],
   "source": [
    "train_data = pd.read_csv('./Datasets/train_data.csv')\n",
    "test_data = pd.read_csv('./Datasets/test_features.csv')\n",
    "y_true = train_data['poi']\n",
    "train_num = len(train_data)\n",
    "df = pd.concat([train_data.drop('poi', axis = 1), test_data], ignore_index=True, sort = False)"
   ]
  },
  {
   "cell_type": "code",
   "execution_count": null,
   "metadata": {},
   "outputs": [],
   "source": [
    "# Create searching engine\n",
    "import requests\n",
    "import re\n",
    "def find_sex(name):\n",
    "    r = requests.get('http://www.babynamecollection.com/index.php?q={}&M=true&F=true&a=&type=3'\\\n",
    "                     .format(re.split('\\s', name)[1]))\n",
    "    sex = re.findall('(?<=geslacht\\s).', r.text)\n",
    "    if not len(sex):\n",
    "        sex = ['C']\n",
    "    return sex[0]\n",
    "df['sex'] = df['name'].apply(find_sex)\n",
    "df[['name', 'sex']].to_csv('name_sex.csv', index = False)"
   ]
  }
 ],
 "metadata": {
  "kernelspec": {
   "display_name": "Python 3",
   "language": "python",
   "name": "python3"
  },
  "language_info": {
   "codemirror_mode": {
    "name": "ipython",
    "version": 3
   },
   "file_extension": ".py",
   "mimetype": "text/x-python",
   "name": "python",
   "nbconvert_exporter": "python",
   "pygments_lexer": "ipython3",
   "version": "3.6.6"
  }
 },
 "nbformat": 4,
 "nbformat_minor": 2
}
