{
 "cells": [
  {
   "cell_type": "code",
   "execution_count": 1,
   "metadata": {},
   "outputs": [],
   "source": [
    "import os\n",
    "import re"
   ]
  },
  {
   "cell_type": "code",
   "execution_count": 28,
   "metadata": {},
   "outputs": [
    {
     "data": {
      "text/plain": [
       "['.ipynb_checkpoints',\n",
       " 'Day_001_example_of_metrics.ipynb.json',\n",
       " 'Day_002_first_EDA.ipynb',\n",
       " 'Day_003-1_build_dataframe_from_scratch.ipynb',\n",
       " 'Day_003-2_read_and_write_files.ipynb']"
      ]
     },
     "execution_count": 28,
     "metadata": {},
     "output_type": "execute_result"
    }
   ],
   "source": [
    "dirlist = os.listdir()\n",
    "dirlist[:5]"
   ]
  },
  {
   "cell_type": "code",
   "execution_count": 29,
   "metadata": {},
   "outputs": [],
   "source": [
    "pattern = re.compile('^Day_00\\d{2}')"
   ]
  },
  {
   "cell_type": "code",
   "execution_count": 30,
   "metadata": {},
   "outputs": [
    {
     "data": {
      "text/plain": [
       "['Day_0078_Ans.ipynb',\n",
       " 'Day_0079_Ans.ipynb',\n",
       " 'Day_0080_Ans.ipynb',\n",
       " 'Day_0081_Ans.ipynb',\n",
       " 'Day_0082_Ans.ipynb',\n",
       " 'Day_0083_Ans.ipynb',\n",
       " 'Day_0084_Ans.ipynb',\n",
       " 'Day_0085_Ans.ipynb',\n",
       " 'Day_0086_Ans.ipynb',\n",
       " 'Day_0087_Ans.ipynb',\n",
       " 'Day_0088_Ans.ipynb',\n",
       " 'Day_0089_Ans.ipynb',\n",
       " 'Day_0090_color_histogram_ Ans.ipynb',\n",
       " 'Day_0091_classification_with_cv_Ans.ipynb',\n",
       " 'Day_0092_CNN_theory_solution.ipynb',\n",
       " 'Day_0096_Keras_CNN_layers_Ans.ipynb',\n",
       " 'Day_0097_Keras_CNN_vs_DNN_Ans.ipynb',\n",
       " 'Day_0098_Python_generator_Ans.ipynb',\n",
       " 'Day_0099_data_augmentation_Ans.ipynb']"
      ]
     },
     "execution_count": 30,
     "metadata": {},
     "output_type": "execute_result"
    }
   ],
   "source": [
    "renameList = list(filter(pattern.match, dirlist))\n",
    "renameList"
   ]
  },
  {
   "cell_type": "code",
   "execution_count": 31,
   "metadata": {},
   "outputs": [],
   "source": [
    "for file in renameList:\n",
    "    os.rename(file, file[:4]+ file[5:])"
   ]
  },
  {
   "cell_type": "code",
   "execution_count": null,
   "metadata": {},
   "outputs": [],
   "source": []
  }
 ],
 "metadata": {
  "kernelspec": {
   "display_name": "Python 3",
   "language": "python",
   "name": "python3"
  },
  "language_info": {
   "codemirror_mode": {
    "name": "ipython",
    "version": 3
   },
   "file_extension": ".py",
   "mimetype": "text/x-python",
   "name": "python",
   "nbconvert_exporter": "python",
   "pygments_lexer": "ipython3",
   "version": "3.6.6"
  }
 },
 "nbformat": 4,
 "nbformat_minor": 2
}
