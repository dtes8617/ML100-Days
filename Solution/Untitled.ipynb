{
 "cells": [
  {
   "cell_type": "code",
   "execution_count": 1,
   "metadata": {},
   "outputs": [],
   "source": [
    "import os\n",
    "import re"
   ]
  },
  {
   "cell_type": "code",
   "execution_count": 22,
   "metadata": {},
   "outputs": [
    {
     "data": {
      "text/plain": [
       "['.ipynb_checkpoints',\n",
       " 'Day078_Ans.ipynb',\n",
       " 'Day079_Ans.ipynb',\n",
       " 'Day080_Ans.ipynb',\n",
       " 'Day081_Ans.ipynb']"
      ]
     },
     "execution_count": 22,
     "metadata": {},
     "output_type": "execute_result"
    }
   ],
   "source": [
    "dirlist = os.listdir()\n",
    "dirlist[:5]"
   ]
  },
  {
   "cell_type": "code",
   "execution_count": 5,
   "metadata": {},
   "outputs": [],
   "source": [
    "pattern = re.compile('^Day\\d.*')"
   ]
  },
  {
   "cell_type": "code",
   "execution_count": 24,
   "metadata": {},
   "outputs": [
    {
     "data": {
      "text/plain": [
       "['Day078_Ans.ipynb',\n",
       " 'Day079_Ans.ipynb',\n",
       " 'Day080_Ans.ipynb',\n",
       " 'Day081_Ans.ipynb',\n",
       " 'Day082_Ans.ipynb',\n",
       " 'Day083_Ans.ipynb',\n",
       " 'Day084_Ans.ipynb',\n",
       " 'Day085_Ans.ipynb',\n",
       " 'Day086_Ans.ipynb',\n",
       " 'Day087_Ans.ipynb',\n",
       " 'Day088_Ans.ipynb',\n",
       " 'Day089_Ans.ipynb',\n",
       " 'Day090_color_histogram_ Ans.ipynb',\n",
       " 'Day091_classification_with_cv_Ans.ipynb',\n",
       " 'Day092_CNN_theory_solution.ipynb',\n",
       " 'Day096_Keras_CNN_layers_Ans.ipynb',\n",
       " 'Day097_Keras_CNN_vs_DNN_Ans.ipynb',\n",
       " 'Day098_Python_generator_Ans.ipynb',\n",
       " 'Day099_data_augmentation_Ans.ipynb',\n",
       " 'Day100_transfer_learning_Ans.ipynb',\n",
       " 'Day67-Keras_Dataset_Ans.ipynb',\n",
       " 'Day68-Keras_Sequential_model_Ans.ipynb',\n",
       " 'Day69-keras_model_api_Ans.ipynb',\n",
       " 'Day70-Keras_Mnist_MLP_解答.ipynb',\n",
       " 'Day71-使用損失函數_Ans.ipynb',\n",
       " 'Day72-Activation_function_Ans.ipynb',\n",
       " 'Day73-Gradient_Descent_解答.ipynb',\n",
       " 'Day74-Gradient_Descent_解答.ipynb',\n",
       " 'Day75-Back_Propagation_解答.ipynb',\n",
       " 'Day76-Optimizer_解答.ipynb',\n",
       " 'Day93-CNN_Brief_Ans.ipynb',\n",
       " 'Day94-CNN_convolution_Ans.ipynb',\n",
       " 'Day95-CNN_Pooling_Padding_Ans.ipynb']"
      ]
     },
     "execution_count": 24,
     "metadata": {},
     "output_type": "execute_result"
    }
   ],
   "source": [
    "renameList = list(filter(pattern.match, dirlist))\n",
    "renameList"
   ]
  },
  {
   "cell_type": "code",
   "execution_count": 25,
   "metadata": {},
   "outputs": [],
   "source": [
    "for file in renameList:\n",
    "    if (file[3] != 0) and (file[3] != 1):\n",
    "        os.rename(file, file[:3] + '_0' + file[3:])\n",
    "    else:\n",
    "        os.rename(file, file[:3] + '0' + file[3:])"
   ]
  },
  {
   "cell_type": "code",
   "execution_count": null,
   "metadata": {},
   "outputs": [],
   "source": []
  }
 ],
 "metadata": {
  "kernelspec": {
   "display_name": "Python 3",
   "language": "python",
   "name": "python3"
  },
  "language_info": {
   "codemirror_mode": {
    "name": "ipython",
    "version": 3
   },
   "file_extension": ".py",
   "mimetype": "text/x-python",
   "name": "python",
   "nbconvert_exporter": "python",
   "pygments_lexer": "ipython3",
   "version": "3.6.6"
  }
 },
 "nbformat": 4,
 "nbformat_minor": 2
}
