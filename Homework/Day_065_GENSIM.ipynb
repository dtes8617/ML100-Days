{
 "cells": [
  {
   "cell_type": "code",
   "execution_count": 1,
   "metadata": {},
   "outputs": [
    {
     "name": "stdout",
     "output_type": "stream",
     "text": [
      "Collecting gensim\n",
      "  Downloading https://files.pythonhosted.org/packages/54/ee/c1f685caa83ee9b8f54573b51648af61b01377bcc5981a18704f5247cce7/gensim-3.7.1-cp36-cp36m-win_amd64.whl (24.1MB)\n",
      "Requirement already satisfied: numpy>=1.11.3 in c:\\users\\jude\\anaconda3\\lib\\site-packages (from gensim) (1.15.0)\n",
      "Requirement already satisfied: six>=1.5.0 in c:\\users\\jude\\anaconda3\\lib\\site-packages (from gensim) (1.11.0)\n",
      "Requirement already satisfied: scipy>=0.18.1 in c:\\users\\jude\\anaconda3\\lib\\site-packages (from gensim) (1.1.0)\n",
      "Collecting smart-open>=1.7.0 (from gensim)\n",
      "  Downloading https://files.pythonhosted.org/packages/ff/c8/de7dcf34d4b5f2ae94fe1055e0d6418fb97a63c9dc3428edd264704983a2/smart_open-1.8.0.tar.gz (40kB)\n",
      "Requirement already satisfied: boto>=2.32 in c:\\users\\jude\\anaconda3\\lib\\site-packages (from smart-open>=1.7.0->gensim) (2.49.0)\n",
      "Collecting bz2file (from smart-open>=1.7.0->gensim)\n",
      "  Downloading https://files.pythonhosted.org/packages/61/39/122222b5e85cd41c391b68a99ee296584b2a2d1d233e7ee32b4532384f2d/bz2file-0.98.tar.gz\n",
      "Requirement already satisfied: requests in c:\\users\\jude\\anaconda3\\lib\\site-packages (from smart-open>=1.7.0->gensim) (2.19.1)\n",
      "Requirement already satisfied: boto3 in c:\\users\\jude\\anaconda3\\lib\\site-packages (from smart-open>=1.7.0->gensim) (1.9.23)\n",
      "Requirement already satisfied: certifi>=2017.4.17 in c:\\users\\jude\\anaconda3\\lib\\site-packages (from requests->smart-open>=1.7.0->gensim) (2018.11.29)\n",
      "Requirement already satisfied: idna<2.8,>=2.5 in c:\\users\\jude\\anaconda3\\lib\\site-packages (from requests->smart-open>=1.7.0->gensim) (2.7)\n",
      "Requirement already satisfied: chardet<3.1.0,>=3.0.2 in c:\\users\\jude\\anaconda3\\lib\\site-packages (from requests->smart-open>=1.7.0->gensim) (3.0.4)\n",
      "Requirement already satisfied: urllib3<1.24,>=1.21.1 in c:\\users\\jude\\anaconda3\\lib\\site-packages (from requests->smart-open>=1.7.0->gensim) (1.23)\n",
      "Requirement already satisfied: botocore<1.13.0,>=1.12.23 in c:\\users\\jude\\anaconda3\\lib\\site-packages (from boto3->smart-open>=1.7.0->gensim) (1.12.23)\n",
      "Requirement already satisfied: jmespath<1.0.0,>=0.7.1 in c:\\users\\jude\\anaconda3\\lib\\site-packages (from boto3->smart-open>=1.7.0->gensim) (0.9.3)\n",
      "Requirement already satisfied: s3transfer<0.2.0,>=0.1.10 in c:\\users\\jude\\anaconda3\\lib\\site-packages (from boto3->smart-open>=1.7.0->gensim) (0.1.13)\n",
      "Requirement already satisfied: docutils>=0.10 in c:\\users\\jude\\anaconda3\\lib\\site-packages (from botocore<1.13.0,>=1.12.23->boto3->smart-open>=1.7.0->gensim) (0.14)\n",
      "Requirement already satisfied: python-dateutil<3.0.0,>=2.1; python_version >= \"2.7\" in c:\\users\\jude\\anaconda3\\lib\\site-packages (from botocore<1.13.0,>=1.12.23->boto3->smart-open>=1.7.0->gensim) (2.7.3)\n",
      "Building wheels for collected packages: smart-open, bz2file\n",
      "  Running setup.py bdist_wheel for smart-open: started\n",
      "  Running setup.py bdist_wheel for smart-open: finished with status 'done'\n",
      "  Stored in directory: C:\\Users\\Jude\\AppData\\Local\\pip\\Cache\\wheels\\f7\\a6\\ff\\9ab5842c14e50e95a06a4675b0b4a689c9cab6064dac2b01d0\n",
      "  Running setup.py bdist_wheel for bz2file: started\n",
      "  Running setup.py bdist_wheel for bz2file: finished with status 'done'\n",
      "  Stored in directory: C:\\Users\\Jude\\AppData\\Local\\pip\\Cache\\wheels\\81\\75\\d6\\e1317bf09bf1af5a30befc2a007869fa6e1f516b8f7c591cb9\n",
      "Successfully built smart-open bz2file\n",
      "Installing collected packages: bz2file, smart-open, gensim\n",
      "Successfully installed bz2file-0.98 gensim-3.7.1 smart-open-1.8.0\n"
     ]
    },
    {
     "name": "stderr",
     "output_type": "stream",
     "text": [
      "twisted 18.7.0 requires PyHamcrest>=1.9.0, which is not installed.\n",
      "tensorflow 1.9.0 has requirement setuptools<=39.1.0, but you'll have setuptools 40.0.0 which is incompatible.\n",
      "keras 2.2.2 has requirement keras_applications==1.0.4, but you'll have keras-applications 1.0.2 which is incompatible.\n",
      "keras 2.2.2 has requirement keras_preprocessing==1.0.2, but you'll have keras-preprocessing 1.0.1 which is incompatible.\n",
      "You are using pip version 10.0.1, however version 19.0.3 is available.\n",
      "You should consider upgrading via the 'python -m pip install --upgrade pip' command.\n"
     ]
    }
   ],
   "source": [
    "!pip install gensim"
   ]
  },
  {
   "cell_type": "code",
   "execution_count": 56,
   "metadata": {},
   "outputs": [],
   "source": [
    "import gensim, logging\n",
    "from gensim.models import word2vec"
   ]
  },
  {
   "cell_type": "code",
   "execution_count": 58,
   "metadata": {
    "scrolled": true
   },
   "outputs": [
    {
     "name": "stderr",
     "output_type": "stream",
     "text": [
      "2019-04-05 15:54:37,317 : INFO : collecting all words and their counts\n",
      "2019-04-05 15:54:37,319 : INFO : PROGRESS: at sentence #0, processed 0 words, keeping 0 word types\n",
      "2019-04-05 15:54:37,319 : INFO : collected 3 word types from a corpus of 4 raw words and 2 sentences\n",
      "2019-04-05 15:54:37,321 : INFO : Loading a fresh vocabulary\n",
      "2019-04-05 15:54:37,323 : INFO : effective_min_count=1 retains 3 unique words (100% of original 3, drops 0)\n",
      "2019-04-05 15:54:37,325 : INFO : effective_min_count=1 leaves 4 word corpus (100% of original 4, drops 0)\n",
      "2019-04-05 15:54:37,326 : INFO : deleting the raw counts dictionary of 3 items\n",
      "2019-04-05 15:54:37,327 : INFO : sample=0.001 downsamples 3 most-common words\n",
      "2019-04-05 15:54:37,328 : INFO : downsampling leaves estimated 0 word corpus (5.7% of prior 4)\n",
      "2019-04-05 15:54:37,329 : INFO : estimated required memory for 3 words and 256 dimensions: 7644 bytes\n",
      "2019-04-05 15:54:37,331 : INFO : resetting layer weights\n",
      "2019-04-05 15:54:37,333 : INFO : training model with 4 workers on 3 vocabulary and 256 features, using sg=0 hs=0 sample=0.001 negative=5 window=5\n",
      "2019-04-05 15:54:37,364 : INFO : worker thread finished; awaiting finish of 3 more threads\n",
      "2019-04-05 15:54:37,365 : INFO : worker thread finished; awaiting finish of 2 more threads\n",
      "2019-04-05 15:54:37,365 : INFO : worker thread finished; awaiting finish of 1 more threads\n",
      "2019-04-05 15:54:37,366 : INFO : worker thread finished; awaiting finish of 0 more threads\n",
      "2019-04-05 15:54:37,367 : INFO : EPOCH - 1 : training on 4 raw words (0 effective words) took 0.0s, 0 effective words/s\n",
      "2019-04-05 15:54:37,387 : INFO : worker thread finished; awaiting finish of 3 more threads\n",
      "2019-04-05 15:54:37,388 : INFO : worker thread finished; awaiting finish of 2 more threads\n",
      "2019-04-05 15:54:37,390 : INFO : worker thread finished; awaiting finish of 1 more threads\n",
      "2019-04-05 15:54:37,392 : INFO : worker thread finished; awaiting finish of 0 more threads\n",
      "2019-04-05 15:54:37,393 : INFO : EPOCH - 2 : training on 4 raw words (0 effective words) took 0.0s, 0 effective words/s\n",
      "2019-04-05 15:54:37,417 : INFO : worker thread finished; awaiting finish of 3 more threads\n",
      "2019-04-05 15:54:37,418 : INFO : worker thread finished; awaiting finish of 2 more threads\n",
      "2019-04-05 15:54:37,419 : INFO : worker thread finished; awaiting finish of 1 more threads\n",
      "2019-04-05 15:54:37,420 : INFO : worker thread finished; awaiting finish of 0 more threads\n",
      "2019-04-05 15:54:37,421 : INFO : EPOCH - 3 : training on 4 raw words (1 effective words) took 0.0s, 308 effective words/s\n",
      "2019-04-05 15:54:37,442 : INFO : worker thread finished; awaiting finish of 3 more threads\n",
      "2019-04-05 15:54:37,443 : INFO : worker thread finished; awaiting finish of 2 more threads\n",
      "2019-04-05 15:54:37,443 : INFO : worker thread finished; awaiting finish of 1 more threads\n",
      "2019-04-05 15:54:37,444 : INFO : worker thread finished; awaiting finish of 0 more threads\n",
      "2019-04-05 15:54:37,445 : INFO : EPOCH - 4 : training on 4 raw words (0 effective words) took 0.0s, 0 effective words/s\n",
      "2019-04-05 15:54:37,468 : INFO : worker thread finished; awaiting finish of 3 more threads\n",
      "2019-04-05 15:54:37,469 : INFO : worker thread finished; awaiting finish of 2 more threads\n",
      "2019-04-05 15:54:37,470 : INFO : worker thread finished; awaiting finish of 1 more threads\n",
      "2019-04-05 15:54:37,470 : INFO : worker thread finished; awaiting finish of 0 more threads\n",
      "2019-04-05 15:54:37,472 : INFO : EPOCH - 5 : training on 4 raw words (0 effective words) took 0.0s, 0 effective words/s\n",
      "2019-04-05 15:54:37,473 : INFO : training on a 20 raw words (1 effective words) took 0.1s, 7 effective words/s\n",
      "2019-04-05 15:54:37,474 : WARNING : under 10 jobs per worker: consider setting a smaller `batch_words' for smoother alpha decay\n"
     ]
    }
   ],
   "source": [
    "logging.basicConfig(format='%(asctime)s : %(levelname)s : %(message)s', level=logging.INFO)  \n",
    "  \n",
    "sentences = [['first', 'sentence'], ['second', 'sentence']]  \n",
    "# train word2vec on the two sentences  \n",
    "model = word2vec.Word2Vec(sentences, size=256, min_count=1, window=5, workers=4, sg=0) \n",
    "# sg=0 表示COBW, sg=1 表示skip-gram"
   ]
  },
  {
   "cell_type": "code",
   "execution_count": 59,
   "metadata": {
    "scrolled": true
   },
   "outputs": [
    {
     "name": "stdout",
     "output_type": "stream",
     "text": [
      "Word2Vec(vocab=3, size=256, alpha=0.025)\n"
     ]
    }
   ],
   "source": [
    "print(model)"
   ]
  },
  {
   "cell_type": "code",
   "execution_count": 7,
   "metadata": {},
   "outputs": [
    {
     "name": "stderr",
     "output_type": "stream",
     "text": [
      "C:\\Users\\Jude\\Anaconda3\\lib\\site-packages\\ipykernel_launcher.py:1: DeprecationWarning: Call to deprecated `similarity` (Method will be removed in 4.0.0, use self.wv.similarity() instead).\n",
      "  \"\"\"Entry point for launching an IPython kernel.\n"
     ]
    },
    {
     "data": {
      "text/plain": [
       "-0.03773287"
      ]
     },
     "execution_count": 7,
     "metadata": {},
     "output_type": "execute_result"
    }
   ],
   "source": [
    "model.similarity('first','second')"
   ]
  },
  {
   "cell_type": "code",
   "execution_count": 8,
   "metadata": {},
   "outputs": [
    {
     "name": "stderr",
     "output_type": "stream",
     "text": [
      "2019-04-04 21:37:46,933 : INFO : saving Word2Vec object under mymodel, separately None\n",
      "2019-04-04 21:37:46,934 : INFO : not storing attribute vectors_norm\n",
      "2019-04-04 21:37:46,935 : INFO : not storing attribute cum_table\n",
      "2019-04-04 21:37:46,937 : INFO : saved mymodel\n",
      "2019-04-04 21:37:46,938 : INFO : loading Word2Vec object from mymodel\n",
      "2019-04-04 21:37:46,940 : INFO : loading wv recursively from mymodel.wv.* with mmap=None\n",
      "2019-04-04 21:37:46,940 : INFO : setting ignored attribute vectors_norm to None\n",
      "2019-04-04 21:37:46,941 : INFO : loading vocabulary recursively from mymodel.vocabulary.* with mmap=None\n",
      "2019-04-04 21:37:46,942 : INFO : loading trainables recursively from mymodel.trainables.* with mmap=None\n",
      "2019-04-04 21:37:46,943 : INFO : setting ignored attribute cum_table to None\n",
      "2019-04-04 21:37:46,944 : INFO : loaded mymodel\n"
     ]
    }
   ],
   "source": [
    "model.save('mymodel')  \n",
    "new_model = gensim.models.Word2Vec.load('mymodel')  "
   ]
  },
  {
   "cell_type": "markdown",
   "metadata": {},
   "source": [
    "# 作業:\n",
    "嘗試調整參數:  \n",
    "sg:sg=1表示採用skip-gram,sg=0 表示採用cbow  \n",
    "window:能往左往右看幾個字的意思 "
   ]
  },
  {
   "cell_type": "code",
   "execution_count": null,
   "metadata": {
    "collapsed": true
   },
   "outputs": [],
   "source": []
  }
 ],
 "metadata": {
  "kernelspec": {
   "display_name": "Python 3",
   "language": "python",
   "name": "python3"
  },
  "language_info": {
   "codemirror_mode": {
    "name": "ipython",
    "version": 3
   },
   "file_extension": ".py",
   "mimetype": "text/x-python",
   "name": "python",
   "nbconvert_exporter": "python",
   "pygments_lexer": "ipython3",
   "version": "3.6.6"
  }
 },
 "nbformat": 4,
 "nbformat_minor": 2
}
