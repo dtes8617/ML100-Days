{
 "cells": [
  {
   "cell_type": "code",
   "execution_count": 1,
   "metadata": {},
   "outputs": [
    {
     "name": "stdout",
     "output_type": "stream",
     "text": [
      "Collecting gensim\n",
      "\u001b[?25l  Downloading https://files.pythonhosted.org/packages/7a/ed/70ec5b2601d21e1a3258228d8da563f94ffc86e84cd8a7f600da0c6ebad8/gensim-3.7.1-cp36-cp36m-macosx_10_6_intel.macosx_10_9_intel.macosx_10_9_x86_64.macosx_10_10_intel.macosx_10_10_x86_64.whl (24.6MB)\n",
      "\u001b[K    100% |████████████████████████████████| 24.7MB 1.5MB/s ta 0:00:01   18% |█████▉                          | 4.5MB 1.6MB/s eta 0:00:13\n",
      "\u001b[?25hRequirement already satisfied: six>=1.5.0 in /Users/jude/anaconda3/lib/python3.6/site-packages (from gensim) (1.11.0)\n",
      "Requirement already satisfied: numpy>=1.11.3 in /Users/jude/anaconda3/lib/python3.6/site-packages (from gensim) (1.15.0)\n",
      "Requirement already satisfied: scipy>=0.18.1 in /Users/jude/anaconda3/lib/python3.6/site-packages (from gensim) (1.1.0)\n",
      "Collecting smart-open>=1.7.0 (from gensim)\n",
      "\u001b[?25l  Downloading https://files.pythonhosted.org/packages/ff/c8/de7dcf34d4b5f2ae94fe1055e0d6418fb97a63c9dc3428edd264704983a2/smart_open-1.8.0.tar.gz (40kB)\n",
      "\u001b[K    100% |████████████████████████████████| 40kB 4.0MB/s ta 0:00:011\n",
      "\u001b[?25hRequirement already satisfied: boto>=2.32 in /Users/jude/anaconda3/lib/python3.6/site-packages (from smart-open>=1.7.0->gensim) (2.49.0)\n",
      "Collecting bz2file (from smart-open>=1.7.0->gensim)\n",
      "  Downloading https://files.pythonhosted.org/packages/61/39/122222b5e85cd41c391b68a99ee296584b2a2d1d233e7ee32b4532384f2d/bz2file-0.98.tar.gz\n",
      "Requirement already satisfied: requests in /Users/jude/anaconda3/lib/python3.6/site-packages (from smart-open>=1.7.0->gensim) (2.19.1)\n",
      "Collecting boto3 (from smart-open>=1.7.0->gensim)\n",
      "\u001b[?25l  Downloading https://files.pythonhosted.org/packages/9a/61/04447c63e4578834ddb95acc6386bd591ccd929b756518904ce671efaccd/boto3-1.9.127-py2.py3-none-any.whl (128kB)\n",
      "\u001b[K    100% |████████████████████████████████| 133kB 784kB/s ta 0:00:01\n",
      "\u001b[?25hRequirement already satisfied: chardet<3.1.0,>=3.0.2 in /Users/jude/anaconda3/lib/python3.6/site-packages (from requests->smart-open>=1.7.0->gensim) (3.0.4)\n",
      "Requirement already satisfied: idna<2.8,>=2.5 in /Users/jude/anaconda3/lib/python3.6/site-packages (from requests->smart-open>=1.7.0->gensim) (2.7)\n",
      "Requirement already satisfied: certifi>=2017.4.17 in /Users/jude/anaconda3/lib/python3.6/site-packages (from requests->smart-open>=1.7.0->gensim) (2018.11.29)\n",
      "Requirement already satisfied: urllib3<1.24,>=1.21.1 in /Users/jude/anaconda3/lib/python3.6/site-packages (from requests->smart-open>=1.7.0->gensim) (1.23)\n",
      "Collecting jmespath<1.0.0,>=0.7.1 (from boto3->smart-open>=1.7.0->gensim)\n",
      "  Downloading https://files.pythonhosted.org/packages/83/94/7179c3832a6d45b266ddb2aac329e101367fbdb11f425f13771d27f225bb/jmespath-0.9.4-py2.py3-none-any.whl\n",
      "Collecting s3transfer<0.3.0,>=0.2.0 (from boto3->smart-open>=1.7.0->gensim)\n",
      "\u001b[?25l  Downloading https://files.pythonhosted.org/packages/d7/de/5737f602e22073ecbded7a0c590707085e154e32b68d86545dcc31004c02/s3transfer-0.2.0-py2.py3-none-any.whl (69kB)\n",
      "\u001b[K    100% |████████████████████████████████| 71kB 2.4MB/s ta 0:00:01\n",
      "\u001b[?25hCollecting botocore<1.13.0,>=1.12.127 (from boto3->smart-open>=1.7.0->gensim)\n",
      "\u001b[?25l  Downloading https://files.pythonhosted.org/packages/5a/f6/1a5311f51b8461ccc7cdc180fd183e85ec275798d90f359fe0c51cbbc583/botocore-1.12.127-py2.py3-none-any.whl (5.4MB)\n",
      "\u001b[K    100% |████████████████████████████████| 5.4MB 3.4MB/s ta 0:00:01\n",
      "\u001b[?25hRequirement already satisfied: python-dateutil<3.0.0,>=2.1; python_version >= \"2.7\" in /Users/jude/anaconda3/lib/python3.6/site-packages (from botocore<1.13.0,>=1.12.127->boto3->smart-open>=1.7.0->gensim) (2.7.3)\n",
      "Requirement already satisfied: docutils>=0.10 in /Users/jude/anaconda3/lib/python3.6/site-packages (from botocore<1.13.0,>=1.12.127->boto3->smart-open>=1.7.0->gensim) (0.14)\n",
      "Building wheels for collected packages: smart-open, bz2file\n",
      "  Running setup.py bdist_wheel for smart-open ... \u001b[?25ldone\n",
      "\u001b[?25h  Stored in directory: /Users/jude/Library/Caches/pip/wheels/f7/a6/ff/9ab5842c14e50e95a06a4675b0b4a689c9cab6064dac2b01d0\n",
      "  Running setup.py bdist_wheel for bz2file ... \u001b[?25ldone\n",
      "\u001b[?25h  Stored in directory: /Users/jude/Library/Caches/pip/wheels/81/75/d6/e1317bf09bf1af5a30befc2a007869fa6e1f516b8f7c591cb9\n",
      "Successfully built smart-open bz2file\n",
      "Installing collected packages: bz2file, jmespath, botocore, s3transfer, boto3, smart-open, gensim\n",
      "Successfully installed boto3-1.9.127 botocore-1.12.127 bz2file-0.98 gensim-3.7.1 jmespath-0.9.4 s3transfer-0.2.0 smart-open-1.8.0\n",
      "\u001b[33mYou are using pip version 18.0, however version 19.0.3 is available.\n",
      "You should consider upgrading via the 'pip install --upgrade pip' command.\u001b[0m\n"
     ]
    }
   ],
   "source": [
    "!pip install gensim"
   ]
  },
  {
   "cell_type": "code",
   "execution_count": 2,
   "metadata": {},
   "outputs": [],
   "source": [
    "import gensim, logging\n",
    "from gensim.models import word2vec"
   ]
  },
  {
   "cell_type": "code",
   "execution_count": 3,
   "metadata": {},
   "outputs": [
    {
     "name": "stderr",
     "output_type": "stream",
     "text": [
      "2019-04-04 00:59:42,029 : INFO : collecting all words and their counts\n",
      "2019-04-04 00:59:42,030 : INFO : PROGRESS: at sentence #0, processed 0 words, keeping 0 word types\n",
      "2019-04-04 00:59:42,031 : INFO : collected 3 word types from a corpus of 4 raw words and 2 sentences\n",
      "2019-04-04 00:59:42,032 : INFO : Loading a fresh vocabulary\n",
      "2019-04-04 00:59:42,033 : INFO : effective_min_count=1 retains 3 unique words (100% of original 3, drops 0)\n",
      "2019-04-04 00:59:42,034 : INFO : effective_min_count=1 leaves 4 word corpus (100% of original 4, drops 0)\n",
      "2019-04-04 00:59:42,035 : INFO : deleting the raw counts dictionary of 3 items\n",
      "2019-04-04 00:59:42,036 : INFO : sample=0.001 downsamples 3 most-common words\n",
      "2019-04-04 00:59:42,037 : INFO : downsampling leaves estimated 0 word corpus (5.7% of prior 4)\n",
      "2019-04-04 00:59:42,038 : INFO : estimated required memory for 3 words and 256 dimensions: 7644 bytes\n",
      "2019-04-04 00:59:42,038 : INFO : resetting layer weights\n",
      "2019-04-04 00:59:42,040 : INFO : training model with 4 workers on 3 vocabulary and 256 features, using sg=0 hs=0 sample=0.001 negative=5 window=5\n",
      "2019-04-04 00:59:42,047 : INFO : worker thread finished; awaiting finish of 3 more threads\n",
      "2019-04-04 00:59:42,048 : INFO : worker thread finished; awaiting finish of 2 more threads\n",
      "2019-04-04 00:59:42,050 : INFO : worker thread finished; awaiting finish of 1 more threads\n",
      "2019-04-04 00:59:42,051 : INFO : worker thread finished; awaiting finish of 0 more threads\n",
      "2019-04-04 00:59:42,051 : INFO : EPOCH - 1 : training on 4 raw words (0 effective words) took 0.0s, 0 effective words/s\n",
      "2019-04-04 00:59:42,060 : INFO : worker thread finished; awaiting finish of 3 more threads\n",
      "2019-04-04 00:59:42,061 : INFO : worker thread finished; awaiting finish of 2 more threads\n",
      "2019-04-04 00:59:42,062 : INFO : worker thread finished; awaiting finish of 1 more threads\n",
      "2019-04-04 00:59:42,063 : INFO : worker thread finished; awaiting finish of 0 more threads\n",
      "2019-04-04 00:59:42,063 : INFO : EPOCH - 2 : training on 4 raw words (0 effective words) took 0.0s, 0 effective words/s\n",
      "2019-04-04 00:59:42,069 : INFO : worker thread finished; awaiting finish of 3 more threads\n",
      "2019-04-04 00:59:42,071 : INFO : worker thread finished; awaiting finish of 2 more threads\n",
      "2019-04-04 00:59:42,077 : INFO : worker thread finished; awaiting finish of 1 more threads\n",
      "2019-04-04 00:59:42,079 : INFO : worker thread finished; awaiting finish of 0 more threads\n",
      "2019-04-04 00:59:42,079 : INFO : EPOCH - 3 : training on 4 raw words (1 effective words) took 0.0s, 76 effective words/s\n",
      "2019-04-04 00:59:42,082 : INFO : worker thread finished; awaiting finish of 3 more threads\n",
      "2019-04-04 00:59:42,083 : INFO : worker thread finished; awaiting finish of 2 more threads\n",
      "2019-04-04 00:59:42,084 : INFO : worker thread finished; awaiting finish of 1 more threads\n",
      "2019-04-04 00:59:42,085 : INFO : worker thread finished; awaiting finish of 0 more threads\n",
      "2019-04-04 00:59:42,089 : INFO : EPOCH - 4 : training on 4 raw words (0 effective words) took 0.0s, 0 effective words/s\n",
      "2019-04-04 00:59:42,094 : INFO : worker thread finished; awaiting finish of 3 more threads\n",
      "2019-04-04 00:59:42,095 : INFO : worker thread finished; awaiting finish of 2 more threads\n",
      "2019-04-04 00:59:42,096 : INFO : worker thread finished; awaiting finish of 1 more threads\n",
      "2019-04-04 00:59:42,096 : INFO : worker thread finished; awaiting finish of 0 more threads\n",
      "2019-04-04 00:59:42,097 : INFO : EPOCH - 5 : training on 4 raw words (0 effective words) took 0.0s, 0 effective words/s\n",
      "2019-04-04 00:59:42,098 : INFO : training on a 20 raw words (1 effective words) took 0.1s, 18 effective words/s\n",
      "2019-04-04 00:59:42,102 : WARNING : under 10 jobs per worker: consider setting a smaller `batch_words' for smoother alpha decay\n"
     ]
    }
   ],
   "source": [
    "import gensim, logging  \n",
    "logging.basicConfig(format='%(asctime)s : %(levelname)s : %(message)s', level=logging.INFO)  \n",
    "  \n",
    "sentences = [['first', 'sentence'], ['second', 'sentence']]  \n",
    "# train word2vec on the two sentences  \n",
    "model = word2vec.Word2Vec(sentences, size=256, min_count=1, window=5, workers=4, sg=0)  \n",
    "\n",
    "# sg=0 表示COBW, sg=1 表示skip-gram"
   ]
  },
  {
   "cell_type": "code",
   "execution_count": 4,
   "metadata": {
    "scrolled": true
   },
   "outputs": [
    {
     "name": "stdout",
     "output_type": "stream",
     "text": [
      "Word2Vec(vocab=3, size=256, alpha=0.025)\n"
     ]
    }
   ],
   "source": [
    "print(model)"
   ]
  },
  {
   "cell_type": "code",
   "execution_count": 10,
   "metadata": {},
   "outputs": [
    {
     "name": "stderr",
     "output_type": "stream",
     "text": [
      "/Users/jude/anaconda3/lib/python3.6/site-packages/ipykernel_launcher.py:1: DeprecationWarning: Call to deprecated `similarity` (Method will be removed in 4.0.0, use self.wv.similarity() instead).\n",
      "  \"\"\"Entry point for launching an IPython kernel.\n"
     ]
    },
    {
     "data": {
      "text/plain": [
       "-0.099718899"
      ]
     },
     "execution_count": 10,
     "metadata": {},
     "output_type": "execute_result"
    }
   ],
   "source": [
    "model.similarity('first','second')"
   ]
  },
  {
   "cell_type": "code",
   "execution_count": 6,
   "metadata": {},
   "outputs": [
    {
     "name": "stderr",
     "output_type": "stream",
     "text": [
      "2019-04-04 01:00:44,316 : INFO : saving Word2Vec object under mymodel, separately None\n",
      "2019-04-04 01:00:44,319 : INFO : not storing attribute vectors_norm\n",
      "2019-04-04 01:00:44,321 : INFO : not storing attribute cum_table\n",
      "2019-04-04 01:00:44,324 : INFO : saved mymodel\n",
      "2019-04-04 01:00:44,325 : INFO : loading Word2Vec object from mymodel\n",
      "2019-04-04 01:00:44,327 : INFO : loading wv recursively from mymodel.wv.* with mmap=None\n",
      "2019-04-04 01:00:44,330 : INFO : setting ignored attribute vectors_norm to None\n",
      "2019-04-04 01:00:44,334 : INFO : loading vocabulary recursively from mymodel.vocabulary.* with mmap=None\n",
      "2019-04-04 01:00:44,335 : INFO : loading trainables recursively from mymodel.trainables.* with mmap=None\n",
      "2019-04-04 01:00:44,336 : INFO : setting ignored attribute cum_table to None\n",
      "2019-04-04 01:00:44,337 : INFO : loaded mymodel\n"
     ]
    }
   ],
   "source": [
    "model.save('mymodel')  \n",
    "new_model = gensim.models.Word2Vec.load('mymodel')  "
   ]
  },
  {
   "cell_type": "markdown",
   "metadata": {},
   "source": [
    "# 作業:\n",
    "嘗試調整參數:  \n",
    "sg:sg=1表示採用skip-gram,sg=0 表示採用cbow  \n",
    "window:能往左往右看幾個字的意思 "
   ]
  },
  {
   "cell_type": "code",
   "execution_count": null,
   "metadata": {
    "collapsed": true
   },
   "outputs": [],
   "source": []
  }
 ],
 "metadata": {
  "kernelspec": {
   "display_name": "Python 3",
   "language": "python",
   "name": "python3"
  },
  "language_info": {
   "codemirror_mode": {
    "name": "ipython",
    "version": 3
   },
   "file_extension": ".py",
   "mimetype": "text/x-python",
   "name": "python",
   "nbconvert_exporter": "python",
   "pygments_lexer": "ipython3",
   "version": "3.6.7"
  }
 },
 "nbformat": 4,
 "nbformat_minor": 2
}
