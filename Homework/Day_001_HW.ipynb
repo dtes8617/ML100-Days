{
 "cells": [
  {
   "cell_type": "markdown",
   "metadata": {},
   "source": [
    "# 作業一"
   ]
  },
  {
   "cell_type": "markdown",
   "metadata": {},
   "source": [
    "我在Kaggle上找的資料是Two Sigma的[Using News to Predict Stock Movements](https://www.kaggle.com/c/two-sigma-financial-news)。他是透過新聞的文章內容、輿情，來預測股市未來十天的漲跌。\n",
    "\n",
    "### 為什麼重要\n",
    "你不理財才不理你，許多人在不熟悉或不夠透徹的情形下，往往會害怕做決策，更甚者甚至下錯決策導致家破人亡，也因此許多人會趨於投資保守型的投資標的。但若我們能透過分析，一是幫助我們快速的歸納這個資訊爆炸的訊息有什麼價值；二是幫我們找出隱藏在內難以察覺的規則，就能使我們更有信心把手上的閒置資金投進風險較高的股市內。\n",
    "\n",
    "### 資料從哪來\n",
    "在此項競賽中，資料分別由兩家公司而來：\n",
    "- Intrinio\n",
    "- Thomson Reuters\n",
    "Intrinio可以藉由API介接股票資訊，提供開盤金額、結束金額、交易量及報酬率等\n",
    "Thomson Reuters則是新聞業平台，提供期間內的所有新聞報導\n",
    "\n",
    "### 搜集而來的資料型態\n",
    "股市資訊是結構化的資料，除了股票標的是字串外，其餘皆為數值型變數。新聞資料則包含大量的文字資料，因為未結構化，是無法直接使用的，必須透過NLP的方式來向量化\n",
    "\n",
    "### 這組資料項解決的問題如何評估\n",
    "最終的目的當然希望能賺錢，也就是預測跌的時候不要漲；預測漲跌時後不要讓人血本無歸。也因此此數據資料可用三種方式評估：\n",
    "- Mean Absolute Error\n",
    "- Mean Square Error\n",
    "- Root Mean Square Error\n",
    "因為預測的結果與現實差越遠，賠得就越重。為了加重此一權重（離越遠的懲罰越重），後兩個評估指標會較為適合。"
   ]
  },
  {
   "cell_type": "markdown",
   "metadata": {},
   "source": [
    "***"
   ]
  },
  {
   "cell_type": "markdown",
   "metadata": {},
   "source": [
    "# 作業二"
   ]
  },
  {
   "cell_type": "markdown",
   "metadata": {},
   "source": [
    "### 核心問題\n",
    "提升業績可以單純就接客量來看，也可以更進一步的考量最佳化的資源配置。舉例來說，計程車短程單的單位利潤較長程單來的多；一趟遠距離載客的回程成本也會比適當路線配置的成本高很多。另外搭配解法如共乘，都可能讓業績往上增加。\n",
    "上述所說，往往僅是過程指標。最終要考量的指標應是能讓這個自由車隊能穩定發展的指標。也因此除了整體營收外，還需考量各司機的穩定性，也就是在單位時間成本的考量下，各司機的標準差不能太大。另外為提升整體服務水準，也因加入評分來維持整體品質，才能穩健的提升整體業績。\n",
    "\n",
    "### 資料從何未來\n",
    "為了達成上述核心，我們必須從幾個管道搜集資料：\n",
    "- 路線追蹤器：用來追蹤何時成單、路線距離、閒置路線等\n",
    "- 評分app：讓司機與乘客互相評分，以評估品質。可以更進一步的搜集使用者的屬性如Email、電話、平日叫車地點、時間等\n",
    "- 爬蟲：網路聲量藉以評估目前使用者在意的事，以及公司目前在市場上的聲量\n",
    "- User Experience Research/Servey：對特定專案或有研究方向或成果時，可用來檢驗甚至發現新的方法\n",
    "\n",
    "## 資料型態\n",
    "資料的型態結構化及非結構化的都有：\n",
    "- 結構化：如使用者屬性、評分資料、閒置時間等\n",
    "- 非結構化：圖資、網路評論、調查\n",
    "\n",
    "## 如何驗證\n",
    "對於較小的優化可以透過A/B Test來檢測優化是否有價值，較大的專案則需時間來評估，或是透過市場調查來挖掘績效。\n",
    "對最主要達成目標：\n",
    "- 公司整體營收\n",
    "- 司機市佔率/顧客市佔率\n",
    "- 市場滿意度調查、聲量"
   ]
  },
  {
   "cell_type": "markdown",
   "metadata": {},
   "source": [
    "***"
   ]
  },
  {
   "cell_type": "markdown",
   "metadata": {},
   "source": [
    "# 作業三"
   ]
  },
  {
   "cell_type": "markdown",
   "metadata": {},
   "source": [
    "## 練習時間\n",
    "#### 請寫一個函式用來計算 Mean Square Error\n",
    "$ MSE = \\frac{1}{n}\\sum_{i=1}^{n}{(Y_i - \\hat{Y}_i)^2} $\n",
    "\n",
    "### Hint: [如何取平方](https://googoodesign.gitbooks.io/-ezpython/unit-1.html)"
   ]
  },
  {
   "cell_type": "code",
   "execution_count": 21,
   "metadata": {},
   "outputs": [],
   "source": [
    "import numpy as np\n",
    "import matplotlib.pyplot as plt"
   ]
  },
  {
   "cell_type": "code",
   "execution_count": 22,
   "metadata": {},
   "outputs": [],
   "source": [
    "def mean_squared_error(y, yp):\n",
    "    \"\"\"\n",
    "    計算 MSE\n",
    "    Args:\n",
    "        - y: 實際值\n",
    "        - yp: 預測值\n",
    "    Return:\n",
    "        - mse: MSE\n",
    "    \"\"\"\n",
    "    mse = sum((y-yp)**2)/len(y)\n",
    "    return mse"
   ]
  },
  {
   "cell_type": "code",
   "execution_count": 23,
   "metadata": {},
   "outputs": [
    {
     "name": "stdout",
     "output_type": "stream",
     "text": [
      "The Mean absolute error is 10.236\n"
     ]
    }
   ],
   "source": [
    "def mean_absolute_error(y, yp):\n",
    "    \"\"\"\n",
    "    計算 MAE\n",
    "    Args:\n",
    "        - y: 實際值\n",
    "        - yp: 預測值\n",
    "    Return:\n",
    "        - mae: MAE\n",
    "    \"\"\"\n",
    "    mae = MAE = sum(abs(y - yp)) / len(y)\n",
    "    return mae\n",
    "\n",
    "MAE = mean_absolute_error(y, y_hat)\n",
    "print(\"The Mean absolute error is %.3f\" % (MAE))"
   ]
  },
  {
   "cell_type": "code",
   "execution_count": 24,
   "metadata": {},
   "outputs": [
    {
     "data": {
      "image/png": "[encoded data removed]",
      "text/plain": [
       "<Figure size 432x288 with 1 Axes>"
      ]
     },
     "metadata": {},
     "output_type": "display_data"
    }
   ],
   "source": [
    "w = 3\n",
    "b = 0.5\n",
    "\n",
    "x_lin = np.linspace(0, 100, 101)\n",
    "\n",
    "y = (x_lin + np.random.randn(101) * 5) * w + b\n",
    "\n",
    "plt.plot(x_lin, y, 'b.', label = 'data points')\n",
    "plt.title(\"Assume we have data points\")\n",
    "plt.legend(loc = 2)\n",
    "plt.show()"
   ]
  },
  {
   "cell_type": "code",
   "execution_count": 25,
   "metadata": {},
   "outputs": [
    {
     "data": {
      "image/png": "[encoded data removed]",
      "text/plain": [
       "<Figure size 432x288 with 1 Axes>"
      ]
     },
     "metadata": {},
     "output_type": "display_data"
    }
   ],
   "source": [
    "y_hat = x_lin * w + b\n",
    "plt.plot(x_lin, y, 'b.', label = 'data')\n",
    "plt.plot(x_lin, y_hat, 'r-', label = 'prediction')\n",
    "plt.title(\"Assume we have data points (And the prediction)\")\n",
    "plt.legend(loc = 2)\n",
    "plt.show()"
   ]
  },
  {
   "cell_type": "code",
   "execution_count": 26,
   "metadata": {},
   "outputs": [
    {
     "name": "stdout",
     "output_type": "stream",
     "text": [
      "The Mean squared error is 264.203\n",
      "The Mean absolute error is 12.731\n"
     ]
    }
   ],
   "source": [
    "# 執行 Function, 確認有沒有正常執行\n",
    "MSE = mean_squared_error(y, y_hat)\n",
    "MAE = mean_absolute_error(y, y_hat)\n",
    "print(\"The Mean squared error is %.3f\" % (MSE))\n",
    "print(\"The Mean absolute error is %.3f\" % (MAE))"
   ]
  }
 ],
 "metadata": {
  "anaconda-cloud": {},
  "kernelspec": {
   "display_name": "Python 3",
   "language": "python",
   "name": "python3"
  },
  "language_info": {
   "codemirror_mode": {
    "name": "ipython",
    "version": 3
   },
   "file_extension": ".py",
   "mimetype": "text/x-python",
   "name": "python",
   "nbconvert_exporter": "python",
   "pygments_lexer": "ipython3",
   "version": "3.6.6"
  }
 },
 "nbformat": 4,
 "nbformat_minor": 1
}
