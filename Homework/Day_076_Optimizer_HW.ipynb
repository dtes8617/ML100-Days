{
 "cells": [
  {
   "cell_type": "markdown",
   "metadata": {},
   "source": [
    "\n",
    "# 作業: \n",
    "    \n",
    "    (1)以, Adam, 為例, 調整 batch_size, epoch , 觀察accurancy, loss 的變化\n",
    "    \n",
    "    (2)以同一模型, 分別驗證 SGD, Adam, Rmsprop 的 accurancy"
   ]
  },
  {
   "cell_type": "code",
   "execution_count": 49,
   "metadata": {},
   "outputs": [],
   "source": [
    "import keras\n",
    "#from keras.datasets import cifar10\n",
    "from keras.datasets import mnist \n",
    "from keras.preprocessing.image import ImageDataGenerator\n",
    "from keras.models import Sequential, load_model\n",
    "from keras.layers import Dense, Dropout, Activation, Flatten\n",
    "from keras.layers import Conv2D, MaxPooling2D\n",
    "from keras import optimizers\n",
    "from keras.callbacks import EarlyStopping, ModelCheckpoint\n",
    "import numpy \n"
   ]
  },
  {
   "cell_type": "code",
   "execution_count": 50,
   "metadata": {},
   "outputs": [],
   "source": [
    "#    第一步：選擇模型, 順序模型是多個網絡層的線性堆疊\n",
    " \n",
    "model = Sequential()\n",
    "\n",
    "#   第二步：構建網絡層\n",
    " \n",
    "model.add(Dense( 500,input_shape=(784,))) # 輸入層，28*28=784   \n",
    "model.add(Activation('relu')) # 激活函數是relu   \n",
    "\n",
    "model.add(Dense( 500)) # 隱藏層節點500個   \n",
    "model.add(Activation('relu'))  \n",
    "\n",
    "model.add(Dense( 500)) # 隱藏層節點500個   \n",
    "model.add(Activation('relu'))  \n",
    "\n",
    "model.add(Dense( 500)) # 隱藏層節點500個   \n",
    "model.add(Activation('relu'))  \n",
    "\n",
    "model.add(Dense( 10)) # 輸出結果是10個類別，所以維度是10   \n",
    "model.add(Activation('softmax')) # 最後一層用softmax作為激活函數"
   ]
  },
  {
   "cell_type": "code",
   "execution_count": 51,
   "metadata": {},
   "outputs": [
    {
     "name": "stdout",
     "output_type": "stream",
     "text": [
      "Total Parameters：1149010\n"
     ]
    }
   ],
   "source": [
    "# 模型建立完成後，統計參數總量\n",
    "print(\"Total Parameters：%d\" % model.count_params())"
   ]
  },
  {
   "cell_type": "code",
   "execution_count": 52,
   "metadata": {},
   "outputs": [
    {
     "name": "stdout",
     "output_type": "stream",
     "text": [
      "_________________________________________________________________\n",
      "Layer (type)                 Output Shape              Param #   \n",
      "=================================================================\n",
      "dense_11 (Dense)             (None, 500)               392500    \n",
      "_________________________________________________________________\n",
      "activation_11 (Activation)   (None, 500)               0         \n",
      "_________________________________________________________________\n",
      "dense_12 (Dense)             (None, 500)               250500    \n",
      "_________________________________________________________________\n",
      "activation_12 (Activation)   (None, 500)               0         \n",
      "_________________________________________________________________\n",
      "dense_13 (Dense)             (None, 500)               250500    \n",
      "_________________________________________________________________\n",
      "activation_13 (Activation)   (None, 500)               0         \n",
      "_________________________________________________________________\n",
      "dense_14 (Dense)             (None, 500)               250500    \n",
      "_________________________________________________________________\n",
      "activation_14 (Activation)   (None, 500)               0         \n",
      "_________________________________________________________________\n",
      "dense_15 (Dense)             (None, 10)                5010      \n",
      "_________________________________________________________________\n",
      "activation_15 (Activation)   (None, 10)                0         \n",
      "=================================================================\n",
      "Total params: 1,149,010\n",
      "Trainable params: 1,149,010\n",
      "Non-trainable params: 0\n",
      "_________________________________________________________________\n"
     ]
    }
   ],
   "source": [
    "# 輸出模型摘要資訊\n",
    "model.summary()"
   ]
  },
  {
   "cell_type": "code",
   "execution_count": 53,
   "metadata": {},
   "outputs": [],
   "source": [
    " '''\n",
    " SGD(隨機梯度下降) - Arguments\n",
    "lr: float >= 0. Learning rate.\n",
    "momentum: float >= 0. Parameter that accelerates SGD in the relevant direction and dampens oscillations.\n",
    "decay: float >= 0. Learning rate decay over each update.\n",
    "nesterov: boolean. Whether to apply Nesterov momentum.\n",
    "'''\n",
    "sgd = optimizers.SGD()\n",
    "    \n",
    "'''\n",
    "RMSprop- Arguments\n",
    "lr: float >= 0. Learning rate.\n",
    "rho: float >= 0.\n",
    "epsilon: float >= 0. Fuzz factor. If None, defaults to K.epsilon().\n",
    "decay: float >= 0. Learning rate decay over each update.\n",
    "'''\n",
    "rms = optimizers.RMSprop()\n",
    "\n",
    "adam = optimizers.Adam()"
   ]
  },
  {
   "cell_type": "code",
   "execution_count": 54,
   "metadata": {},
   "outputs": [],
   "source": [
    "# 第三步：編譯, \n",
    "model.compile(optimizer = sgd, loss = 'binary_crossentropy', metrics = ['accuracy'])"
   ]
  },
  {
   "cell_type": "code",
   "execution_count": 55,
   "metadata": {},
   "outputs": [],
   "source": [
    "#  第四步：資料分割\n",
    "# 使用Keras自帶的mnist工具讀取數據（第一次需要聯網）\n",
    "(X_train, y_train), (X_test, y_test) = mnist.load_data() \n",
    "\n",
    "# 由於mist的輸入數據維度是(num, 28 , 28)，這裡需要把後面的維度直接拼起來變成784維   \n",
    "X_train = X_train.reshape(X_train.shape[0], X_train.shape[1] * X_train.shape[2 ])\n",
    "X_test = X_test.reshape(X_test.shape[0], X_test.shape[1] * X_test.shape[2 ])  \n",
    "Y_train = (numpy.arange(10) == y_train[:, None]).astype(int)\n",
    "Y_test = (numpy.arange(10) == y_test[:, None]).astype(int)\n"
   ]
  },
  {
   "cell_type": "code",
   "execution_count": 56,
   "metadata": {},
   "outputs": [],
   "source": [
    "\n",
    "'''\n",
    "   宣告並設定\n",
    "   batch_size：對總的樣本數進行分組，每組包含的樣本數量\n",
    "   epochs ：訓練次數\n",
    "   \n",
    "''' \n",
    "batch_size = 128\n",
    "epochs = 20"
   ]
  },
  {
   "cell_type": "code",
   "execution_count": 57,
   "metadata": {},
   "outputs": [
    {
     "name": "stdout",
     "output_type": "stream",
     "text": [
      "Train on 42000 samples, validate on 18000 samples\n",
      "Epoch 1/20\n",
      " - 2s - loss: 2.9121 - acc: 0.8180 - val_loss: 2.9145 - val_acc: 0.8182\n",
      "Epoch 2/20\n",
      " - 1s - loss: 2.9172 - acc: 0.8180 - val_loss: 2.9145 - val_acc: 0.8182\n",
      "Epoch 3/20\n",
      " - 1s - loss: 2.9172 - acc: 0.8180 - val_loss: 2.9145 - val_acc: 0.8182\n",
      "Epoch 4/20\n",
      " - 1s - loss: 2.9172 - acc: 0.8180 - val_loss: 2.9145 - val_acc: 0.8182\n",
      "Epoch 5/20\n",
      " - 1s - loss: 2.9172 - acc: 0.8180 - val_loss: 2.9145 - val_acc: 0.8182\n",
      "Epoch 6/20\n",
      " - 2s - loss: 2.9172 - acc: 0.8180 - val_loss: 2.9145 - val_acc: 0.8182\n",
      "Epoch 7/20\n",
      " - 1s - loss: 2.9172 - acc: 0.8180 - val_loss: 2.9145 - val_acc: 0.8182\n",
      "Epoch 8/20\n",
      " - 2s - loss: 2.9172 - acc: 0.8180 - val_loss: 2.9145 - val_acc: 0.8182\n",
      "Epoch 9/20\n",
      " - 2s - loss: 2.9172 - acc: 0.8180 - val_loss: 2.9145 - val_acc: 0.8182\n",
      "Epoch 10/20\n",
      " - 2s - loss: 2.9172 - acc: 0.8180 - val_loss: 2.9145 - val_acc: 0.8182\n",
      "Epoch 11/20\n",
      " - 2s - loss: 2.9172 - acc: 0.8180 - val_loss: 2.9145 - val_acc: 0.8182\n",
      "Epoch 12/20\n",
      " - 2s - loss: 2.9172 - acc: 0.8180 - val_loss: 2.9145 - val_acc: 0.8182\n",
      "Epoch 13/20\n",
      " - 2s - loss: 2.9172 - acc: 0.8180 - val_loss: 2.9145 - val_acc: 0.8182\n",
      "Epoch 14/20\n",
      " - 2s - loss: 2.9172 - acc: 0.8180 - val_loss: 2.9145 - val_acc: 0.8182\n",
      "Epoch 15/20\n",
      " - 2s - loss: 2.9172 - acc: 0.8180 - val_loss: 2.9145 - val_acc: 0.8182\n",
      "Epoch 16/20\n",
      " - 1s - loss: 2.9172 - acc: 0.8180 - val_loss: 2.9145 - val_acc: 0.8182\n",
      "Epoch 17/20\n",
      " - 2s - loss: 2.9172 - acc: 0.8180 - val_loss: 2.9145 - val_acc: 0.8182\n",
      "Epoch 18/20\n",
      " - 1s - loss: 2.9172 - acc: 0.8180 - val_loss: 2.9145 - val_acc: 0.8182\n",
      "Epoch 19/20\n",
      " - 2s - loss: 2.9172 - acc: 0.8180 - val_loss: 2.9145 - val_acc: 0.8182\n",
      "Epoch 20/20\n",
      " - 2s - loss: 2.9172 - acc: 0.8180 - val_loss: 2.9145 - val_acc: 0.8182\n"
     ]
    }
   ],
   "source": [
    "# 第五步：訓練, 修正 model 參數\n",
    "#Blas GEMM launch failed , 避免動態分配GPU / CPU, 出現問題\n",
    "import tensorflow as tf\n",
    "gpu_options = tf.GPUOptions(per_process_gpu_memory_fraction=0.333)\n",
    "sess = tf.Session(config=tf.ConfigProto(gpu_options=gpu_options))\n",
    "\n",
    "\n",
    "history = model.fit(X_train,Y_train,batch_size = batch_size, epochs=epochs, shuffle=True,verbose=2,validation_split=0.3 )"
   ]
  },
  {
   "cell_type": "code",
   "execution_count": 58,
   "metadata": {},
   "outputs": [
    {
     "name": "stdout",
     "output_type": "stream",
     "text": [
      " test set \n",
      "\n",
      " The test loss is %f  [2.920068144798279, 0.8178400123119354]\n",
      "\n",
      " The accuracy of the model is 0.089200 \n"
     ]
    }
   ],
   "source": [
    "#    第六步：輸出\n",
    " \n",
    "print ( \" test set \" )\n",
    "scores = model.evaluate(X_test,Y_test,batch_size=200,verbose= 0)\n",
    "print ( \"\" )\n",
    "#print ( \" The test loss is %f \" % scores)\n",
    "print ( \" The test loss is %f \", scores)\n",
    "result = model.predict(X_test,batch_size=200,verbose= 0)\n",
    "\n",
    "result_max = numpy.argmax(result, axis = 1 )\n",
    "test_max = numpy.argmax(Y_test, axis = 1 )\n",
    "\n",
    "result_bool = numpy.equal(result_max, test_max)\n",
    "true_num = numpy.sum(result_bool)\n",
    "print ( \"\" )\n",
    "print ( \" The accuracy of the model is %f \" % (true_num/len(result_bool)))"
   ]
  },
  {
   "cell_type": "code",
   "execution_count": 22,
   "metadata": {},
   "outputs": [],
   "source": [
    "# 第三步：編譯, \n",
    "model.compile(optimizer = rms, loss = 'categorical_crossentropy', metrics = ['accuracy'])"
   ]
  },
  {
   "cell_type": "code",
   "execution_count": 23,
   "metadata": {},
   "outputs": [],
   "source": [
    "#  第四步：資料分割\n",
    "# 使用Keras自帶的mnist工具讀取數據（第一次需要聯網）\n",
    "(X_train, y_train), (X_test, y_test) = mnist.load_data() \n",
    "\n",
    "# 由於mist的輸入數據維度是(num, 28 , 28)，這裡需要把後面的維度直接拼起來變成784維   \n",
    "X_train = X_train.reshape(X_train.shape[0], X_train.shape[1] * X_train.shape[2 ])\n",
    "X_test = X_test.reshape(X_test.shape[0], X_test.shape[1] * X_test.shape[2 ])  \n",
    "Y_train = (numpy.arange(10) == y_train[:, None]).astype(int)\n",
    "Y_test = (numpy.arange(10) == y_test[:, None]).astype(int)\n"
   ]
  },
  {
   "cell_type": "code",
   "execution_count": 26,
   "metadata": {},
   "outputs": [],
   "source": [
    "\n",
    "'''\n",
    "   宣告並設定\n",
    "   batch_size：對總的樣本數進行分組，每組包含的樣本數量\n",
    "   epochs ：訓練次數\n",
    "   \n",
    "''' \n",
    "batch_size = 512\n",
    "epochs = 20"
   ]
  },
  {
   "cell_type": "code",
   "execution_count": 27,
   "metadata": {},
   "outputs": [
    {
     "name": "stdout",
     "output_type": "stream",
     "text": [
      "Train on 42000 samples, validate on 18000 samples\n",
      "Epoch 1/10\n",
      " - 5s - loss: 14.4802 - acc: 0.1016 - val_loss: 14.4499 - val_acc: 0.1035\n",
      "Epoch 2/10\n",
      " - 5s - loss: 14.4802 - acc: 0.1016 - val_loss: 14.4499 - val_acc: 0.1035\n",
      "Epoch 3/10\n",
      " - 6s - loss: 14.4802 - acc: 0.1016 - val_loss: 14.4499 - val_acc: 0.1035\n",
      "Epoch 4/10\n",
      " - 6s - loss: 14.4802 - acc: 0.1016 - val_loss: 14.4499 - val_acc: 0.1035\n",
      "Epoch 5/10\n",
      " - 6s - loss: 14.4802 - acc: 0.1016 - val_loss: 14.4499 - val_acc: 0.1035\n",
      "Epoch 6/10\n",
      " - 6s - loss: 14.4802 - acc: 0.1016 - val_loss: 14.4499 - val_acc: 0.1035\n",
      "Epoch 7/10\n",
      " - 6s - loss: 14.4802 - acc: 0.1016 - val_loss: 14.4499 - val_acc: 0.1035\n",
      "Epoch 8/10\n",
      " - 5s - loss: 14.4802 - acc: 0.1016 - val_loss: 14.4499 - val_acc: 0.1035\n",
      "Epoch 9/10\n",
      " - 6s - loss: 14.4802 - acc: 0.1016 - val_loss: 14.4499 - val_acc: 0.1035\n",
      "Epoch 10/10\n",
      " - 5s - loss: 14.4802 - acc: 0.1016 - val_loss: 14.4499 - val_acc: 0.1035\n"
     ]
    }
   ],
   "source": [
    "# 第五步：訓練, 修正 model 參數\n",
    "#Blas GEMM launch failed , 避免動態分配GPU / CPU, 出現問題\n",
    "import tensorflow as tf\n",
    "gpu_options = tf.GPUOptions(per_process_gpu_memory_fraction=0.333)\n",
    "sess = tf.Session(config=tf.ConfigProto(gpu_options=gpu_options))\n",
    "\n",
    "\n",
    "history = model.fit(X_train,Y_train,batch_size = batch_size, epochs=epochs, shuffle=True,verbose=2,validation_split=0.3 )"
   ]
  },
  {
   "cell_type": "code",
   "execution_count": 16,
   "metadata": {},
   "outputs": [
    {
     "name": "stdout",
     "output_type": "stream",
     "text": [
      " test set \n",
      "\n",
      " The test loss is %f  [2.8822367763519288, 0.820200001001358]\n",
      "\n",
      " The accuracy of the model is 0.101000 \n"
     ]
    }
   ],
   "source": [
    "#    第六步：輸出\n",
    " \n",
    "print ( \" test set \" )\n",
    "scores = model.evaluate(X_test,Y_test,batch_size=200,verbose= 0)\n",
    "print ( \"\" )\n",
    "#print ( \" The test loss is %f \" % scores)\n",
    "print ( \" The test loss is %f \", scores)\n",
    "result = model.predict(X_test,batch_size=200,verbose= 0)\n",
    "\n",
    "result_max = numpy.argmax(result, axis = 1 )\n",
    "test_max = numpy.argmax(Y_test, axis = 1 )\n",
    "\n",
    "result_bool = numpy.equal(result_max, test_max)\n",
    "true_num = numpy.sum(result_bool)\n",
    "print ( \"\" )\n",
    "print ( \" The accuracy of the model is %f \" % (true_num/len(result_bool)))"
   ]
  },
  {
   "cell_type": "code",
   "execution_count": 18,
   "metadata": {},
   "outputs": [],
   "source": [
    "# 第三步：編譯, \n",
    "model.compile(optimizer = adam, loss = 'binary_crossentropy', metrics = ['accuracy'])"
   ]
  },
  {
   "cell_type": "code",
   "execution_count": 19,
   "metadata": {},
   "outputs": [],
   "source": [
    "#  第四步：資料分割\n",
    "# 使用Keras自帶的mnist工具讀取數據（第一次需要聯網）\n",
    "(X_train, y_train), (X_test, y_test) = mnist.load_data() \n",
    "\n",
    "# 由於mist的輸入數據維度是(num, 28 , 28)，這裡需要把後面的維度直接拼起來變成784維   \n",
    "X_train = X_train.reshape(X_train.shape[0], X_train.shape[1] * X_train.shape[2 ])\n",
    "X_test = X_test.reshape(X_test.shape[0], X_test.shape[1] * X_test.shape[2 ])  \n",
    "Y_train = (numpy.arange(10) == y_train[:, None]).astype(int)\n",
    "Y_test = (numpy.arange(10) == y_test[:, None]).astype(int)\n"
   ]
  },
  {
   "cell_type": "code",
   "execution_count": 20,
   "metadata": {},
   "outputs": [],
   "source": [
    "\n",
    "'''\n",
    "   宣告並設定\n",
    "   batch_size：對總的樣本數進行分組，每組包含的樣本數量\n",
    "   epochs ：訓練次數\n",
    "   \n",
    "''' \n",
    "batch_size = 128\n",
    "epochs = 20"
   ]
  },
  {
   "cell_type": "code",
   "execution_count": 21,
   "metadata": {},
   "outputs": [
    {
     "name": "stdout",
     "output_type": "stream",
     "text": [
      "Train on 42000 samples, validate on 18000 samples\n",
      "Epoch 1/20\n",
      " - 2s - loss: 2.8803 - acc: 0.8203 - val_loss: 2.8742 - val_acc: 0.8207\n",
      "Epoch 2/20\n",
      " - 2s - loss: 2.8803 - acc: 0.8203 - val_loss: 2.8742 - val_acc: 0.8207\n",
      "Epoch 3/20\n",
      " - 2s - loss: 2.8803 - acc: 0.8203 - val_loss: 2.8742 - val_acc: 0.8207\n",
      "Epoch 4/20\n",
      " - 2s - loss: 2.8803 - acc: 0.8203 - val_loss: 2.8742 - val_acc: 0.8207\n",
      "Epoch 5/20\n",
      " - 2s - loss: 2.8803 - acc: 0.8203 - val_loss: 2.8742 - val_acc: 0.8207\n",
      "Epoch 6/20\n",
      " - 2s - loss: 2.8803 - acc: 0.8203 - val_loss: 2.8742 - val_acc: 0.8207\n",
      "Epoch 7/20\n",
      " - 2s - loss: 2.8803 - acc: 0.8203 - val_loss: 2.8742 - val_acc: 0.8207\n",
      "Epoch 8/20\n",
      " - 2s - loss: 2.8803 - acc: 0.8203 - val_loss: 2.8742 - val_acc: 0.8207\n",
      "Epoch 9/20\n",
      " - 2s - loss: 2.8803 - acc: 0.8203 - val_loss: 2.8742 - val_acc: 0.8207\n",
      "Epoch 10/20\n",
      " - 2s - loss: 2.8803 - acc: 0.8203 - val_loss: 2.8742 - val_acc: 0.8207\n",
      "Epoch 11/20\n",
      " - 2s - loss: 2.8803 - acc: 0.8203 - val_loss: 2.8742 - val_acc: 0.8207\n",
      "Epoch 12/20\n",
      " - 2s - loss: 2.8803 - acc: 0.8203 - val_loss: 2.8742 - val_acc: 0.8207\n",
      "Epoch 13/20\n",
      " - 2s - loss: 2.8803 - acc: 0.8203 - val_loss: 2.8742 - val_acc: 0.8207\n",
      "Epoch 14/20\n",
      " - 2s - loss: 2.8803 - acc: 0.8203 - val_loss: 2.8742 - val_acc: 0.8207\n",
      "Epoch 15/20\n",
      " - 2s - loss: 2.8803 - acc: 0.8203 - val_loss: 2.8742 - val_acc: 0.8207\n",
      "Epoch 16/20\n",
      " - 2s - loss: 2.8803 - acc: 0.8203 - val_loss: 2.8742 - val_acc: 0.8207\n",
      "Epoch 17/20\n",
      " - 2s - loss: 2.8803 - acc: 0.8203 - val_loss: 2.8742 - val_acc: 0.8207\n",
      "Epoch 18/20\n",
      " - 2s - loss: 2.8803 - acc: 0.8203 - val_loss: 2.8742 - val_acc: 0.8207\n",
      "Epoch 19/20\n",
      " - 2s - loss: 2.8803 - acc: 0.8203 - val_loss: 2.8742 - val_acc: 0.8207\n",
      "Epoch 20/20\n",
      " - 2s - loss: 2.8803 - acc: 0.8203 - val_loss: 2.8742 - val_acc: 0.8207\n"
     ]
    }
   ],
   "source": [
    "# 第五步：訓練, 修正 model 參數\n",
    "#Blas GEMM launch failed , 避免動態分配GPU / CPU, 出現問題\n",
    "import tensorflow as tf\n",
    "gpu_options = tf.GPUOptions(per_process_gpu_memory_fraction=0.333)\n",
    "sess = tf.Session(config=tf.ConfigProto(gpu_options=gpu_options))\n",
    "\n",
    "\n",
    "history = model.fit(X_train,Y_train,batch_size = batch_size, epochs=epochs, shuffle=True,verbose=2,validation_split=0.3 )"
   ]
  },
  {
   "cell_type": "code",
   "execution_count": 11,
   "metadata": {},
   "outputs": [
    {
     "name": "stdout",
     "output_type": "stream",
     "text": [
      " test set \n",
      "\n",
      " The test loss is %f  [0.04433919565984979, 0.9900900220870972]\n",
      "\n",
      " The accuracy of the model is 0.950000 \n"
     ]
    }
   ],
   "source": [
    "#    第六步：輸出\n",
    " \n",
    "print ( \" test set \" )\n",
    "scores = model.evaluate(X_test,Y_test,batch_size=200,verbose= 0)\n",
    "print ( \"\" )\n",
    "#print ( \" The test loss is %f \" % scores)\n",
    "print ( \" The test loss is %f \", scores)\n",
    "result = model.predict(X_test,batch_size=200,verbose= 0)\n",
    "\n",
    "result_max = numpy.argmax(result, axis = 1 )\n",
    "test_max = numpy.argmax(Y_test, axis = 1 )\n",
    "\n",
    "result_bool = numpy.equal(result_max, test_max)\n",
    "true_num = numpy.sum(result_bool)\n",
    "print ( \"\" )\n",
    "print ( \" The accuracy of the model is %f \" % (true_num/len(result_bool)))"
   ]
  },
  {
   "cell_type": "code",
   "execution_count": 38,
   "metadata": {},
   "outputs": [
    {
     "data": {
      "image/png": "[encoded data removed]",
      "text/plain": [
       "<Figure size 432x288 with 1 Axes>"
      ]
     },
     "metadata": {},
     "output_type": "display_data"
    },
    {
     "data": {
      "image/png": "[encoded data removed]",
      "text/plain": [
       "<Figure size 432x288 with 1 Axes>"
      ]
     },
     "metadata": {},
     "output_type": "display_data"
    }
   ],
   "source": [
    "import matplotlib.pyplot as plt\n",
    "\n",
    "%matplotlib inline\n",
    "\n",
    "# history = model.fit(x, y, validation_split=0.25, epochs=50, batch_size=16, verbose=1)\n",
    "\n",
    "# Plot training & validation accuracy values\n",
    "plt.plot(history.history['acc'])\n",
    "plt.plot(history.history['val_acc'])\n",
    "plt.title('Model accuracy')\n",
    "plt.ylabel('Accuracy')\n",
    "plt.xlabel('Epoch')\n",
    "plt.legend(['Train', 'Test'], loc='upper left')\n",
    "plt.show()\n",
    "\n",
    "# Plot training & validation loss values\n",
    "plt.plot(history.history['loss'])\n",
    "plt.plot(history.history['val_loss'])\n",
    "plt.title('Model loss')\n",
    "plt.ylabel('Loss')\n",
    "plt.xlabel('Epoch')\n",
    "plt.legend(['Train', 'Test'], loc='upper left')\n",
    "plt.show()"
   ]
  },
  {
   "cell_type": "code",
   "execution_count": null,
   "metadata": {},
   "outputs": [],
   "source": []
  }
 ],
 "metadata": {
  "kernelspec": {
   "display_name": "Python 3",
   "language": "python",
   "name": "python3"
  },
  "language_info": {
   "codemirror_mode": {
    "name": "ipython",
    "version": 3
   },
   "file_extension": ".py",
   "mimetype": "text/x-python",
   "name": "python",
   "nbconvert_exporter": "python",
   "pygments_lexer": "ipython3",
   "version": "3.6.6"
  }
 },
 "nbformat": 4,
 "nbformat_minor": 2
}
