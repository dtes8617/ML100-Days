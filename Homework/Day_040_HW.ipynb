{
 "cells": [
  {
   "cell_type": "markdown",
   "metadata": {},
   "source": [
    "## 練習時間\n",
    "試著使用 sklearn datasets 的其他資料集 (boston, ...)，來訓練自己的線性迴歸模型，並加上適當的正則話來觀察訓練情形。"
   ]
  },
  {
   "cell_type": "code",
   "execution_count": 4,
   "metadata": {},
   "outputs": [],
   "source": [
    "import pandas as pd, numpy as np\n",
    "from sklearn import datasets\n",
    "from sklearn.model_selection import train_test_split"
   ]
  },
  {
   "cell_type": "code",
   "execution_count": 6,
   "metadata": {},
   "outputs": [],
   "source": [
    "boston = datasets.load_boston()"
   ]
  },
  {
   "cell_type": "code",
   "execution_count": 9,
   "metadata": {},
   "outputs": [],
   "source": [
    "X_train, X_test, y_train, y_test = train_test_split(boston.data, boston.target, test_size = 0.2, random_state = 168)"
   ]
  },
  {
   "cell_type": "code",
   "execution_count": 14,
   "metadata": {},
   "outputs": [],
   "source": [
    "from sklearn.linear_model import Ridge, Lasso, LinearRegression, RidgeCV, LassoCV\n",
    "from sklearn.metrics import r2_score, mean_squared_error\n",
    "from sklearn.model_selection import cross"
   ]
  },
  {
   "cell_type": "code",
   "execution_count": 33,
   "metadata": {},
   "outputs": [
    {
     "name": "stdout",
     "output_type": "stream",
     "text": [
      "R_square : 0.6311078164020419 \n",
      "MSE: 19.47881169575512\n"
     ]
    }
   ],
   "source": [
    "# Linear Model\n",
    "lr = LinearRegression()\n",
    "lr.fit(X_train, y_train)\n",
    "print(f'''R_square : {cross_val_score(lr, X_test, y_test, scoring= \"r2\").mean()} \n",
    "MSE: {-cross_val_score(lr, X_test, y_test, scoring= \"neg_mean_squared_error\").mean()}''')"
   ]
  },
  {
   "cell_type": "code",
   "execution_count": 40,
   "metadata": {},
   "outputs": [
    {
     "name": "stdout",
     "output_type": "stream",
     "text": [
      "R_square : 0.63109496085144 \n",
      "MSE: 19.479321977037827\n"
     ]
    }
   ],
   "source": [
    "# Lasso Model\n",
    "lasso = Lasso(alpha=0.01)\n",
    "lasso.fit(X_train, y_train)\n",
    "print(f'''R_square : {cross_val_score(lasso, X_test, y_test, scoring= \"r2\").mean()} \n",
    "MSE: {-cross_val_score(lasso, X_test, y_test, scoring= \"neg_mean_squared_error\").mean()}''')"
   ]
  },
  {
   "cell_type": "code",
   "execution_count": 42,
   "metadata": {},
   "outputs": [
    {
     "name": "stdout",
     "output_type": "stream",
     "text": [
      "R_square : 0.49346285265990897 \n",
      "MSE: 27.81153851609618\n"
     ]
    }
   ],
   "source": [
    "# LassoCV Model\n",
    "lassoCV = LassoCV()\n",
    "lassoCV.fit(X_train, y_train)\n",
    "print(f'''R_square : {cross_val_score(lassoCV, X_test, y_test, scoring= \"r2\").mean()} \n",
    "MSE: {-cross_val_score(lassoCV, X_test, y_test, scoring= \"neg_mean_squared_error\").mean()}''')"
   ]
  },
  {
   "cell_type": "code",
   "execution_count": 43,
   "metadata": {},
   "outputs": [
    {
     "name": "stdout",
     "output_type": "stream",
     "text": [
      "R_square : 0.6285277627754039 \n",
      "MSE: 19.582063150605226\n"
     ]
    }
   ],
   "source": [
    "# Ridge Model\n",
    "ridge = Ridge(alpha=0.01)\n",
    "ridge.fit(X_train, y_train)\n",
    "print(f'''R_square : {cross_val_score(ridge, X_test, y_test, scoring= \"r2\").mean()} \n",
    "MSE: {-cross_val_score(ridge, X_test, y_test, scoring= \"neg_mean_squared_error\").mean()}''')"
   ]
  },
  {
   "cell_type": "code",
   "execution_count": 44,
   "metadata": {},
   "outputs": [
    {
     "name": "stdout",
     "output_type": "stream",
     "text": [
      "R_square : 0.5686311137481499 \n",
      "MSE: 23.28606329321305\n"
     ]
    }
   ],
   "source": [
    "# RidgeCV Model\n",
    "ridgeCV = RidgeCV()\n",
    "ridgeCV.fit(X_train, y_train)\n",
    "print(f'''R_square : {cross_val_score(ridgeCV, X_test, y_test, scoring= \"r2\").mean()} \n",
    "MSE: {-cross_val_score(ridgeCV, X_test, y_test, scoring= \"neg_mean_squared_error\").mean()}''')"
   ]
  }
 ],
 "metadata": {
  "kernelspec": {
   "display_name": "Python 3",
   "language": "python",
   "name": "python3"
  },
  "language_info": {
   "codemirror_mode": {
    "name": "ipython",
    "version": 3
   },
   "file_extension": ".py",
   "mimetype": "text/x-python",
   "name": "python",
   "nbconvert_exporter": "python",
   "pygments_lexer": "ipython3",
   "version": "3.6.6"
  }
 },
 "nbformat": 4,
 "nbformat_minor": 2
}
