{
 "cells": [
  {
   "cell_type": "code",
   "execution_count": 1,
   "metadata": {},
   "outputs": [
    {
     "name": "stderr",
     "output_type": "stream",
     "text": [
      "Using TensorFlow backend.\n"
     ]
    }
   ],
   "source": [
    "import os\n",
    "import keras\n",
    "\n",
    "# Disable GPU\n",
    "os.environ[\"CUDA_VISIBLE_DEVICES\"] = \"\""
   ]
  },
  {
   "cell_type": "code",
   "execution_count": 2,
   "metadata": {},
   "outputs": [],
   "source": [
    "train, test = keras.datasets.cifar10.load_data()"
   ]
  },
  {
   "cell_type": "code",
   "execution_count": 3,
   "metadata": {},
   "outputs": [],
   "source": [
    "## 資料前處理\n",
    "def preproc_x(x, flatten=True):\n",
    "    x = x / 255.\n",
    "    if flatten:\n",
    "        x = x.reshape((len(x), -1))\n",
    "    return x\n",
    "\n",
    "def preproc_y(y, num_classes=10):\n",
    "    if y.shape[-1] == 1:\n",
    "        y = keras.utils.to_categorical(y, num_classes)\n",
    "    return y    "
   ]
  },
  {
   "cell_type": "code",
   "execution_count": 4,
   "metadata": {},
   "outputs": [],
   "source": [
    "x_train, y_train = train\n",
    "x_test, y_test = test\n",
    "\n",
    "# Preproc the inputs\n",
    "x_train = preproc_x(x_train)\n",
    "x_test = preproc_x(x_test)\n",
    "\n",
    "# Preprc the outputs\n",
    "y_train = preproc_y(y_train)\n",
    "y_test = preproc_y(y_test)"
   ]
  },
  {
   "cell_type": "code",
   "execution_count": 5,
   "metadata": {},
   "outputs": [],
   "source": [
    "from keras.layers import BatchNormalization\n",
    "def build_mlp(input_shape, output_units=10, num_neurons=[512, 256, 128]):\n",
    "    input_layer = keras.layers.Input(input_shape)\n",
    "    \n",
    "    for i, n_units in enumerate(num_neurons):\n",
    "        if i == 0:\n",
    "            x = keras.layers.Dense(units=n_units, \n",
    "                                   activation=\"relu\", \n",
    "                                   name=\"hidden_layer\"+str(i+1))(input_layer)\n",
    "            x = BatchNormalization()(x)\n",
    "        else:\n",
    "            x = keras.layers.Dense(units=n_units, \n",
    "                                   activation=\"relu\", \n",
    "                                   name=\"hidden_layer\"+str(i+1))(x)\n",
    "            x = BatchNormalization()(x)\n",
    "    \n",
    "    out = keras.layers.Dense(units=output_units, activation=\"softmax\", name=\"output\")(x)\n",
    "    \n",
    "    model = keras.models.Model(inputs=[input_layer], outputs=[out])\n",
    "    return model"
   ]
  },
  {
   "cell_type": "code",
   "execution_count": 6,
   "metadata": {},
   "outputs": [],
   "source": [
    "## 超參數設定\n",
    "LEARNING_RATE = 1e-3\n",
    "EPOCHS = 50\n",
    "BATCH_SIZE = 1024\n",
    "MOMENTUM = 0.95"
   ]
  },
  {
   "cell_type": "code",
   "execution_count": 7,
   "metadata": {},
   "outputs": [],
   "source": [
    "# 載入 Callbacks\n",
    "from keras.callbacks import ModelCheckpoint\n",
    "\n",
    "model_ckpt = ModelCheckpoint(filepath=\"./tmp.h5\", \n",
    "                             monitor=\"val_loss\", \n",
    "                             save_best_only=True)"
   ]
  },
  {
   "cell_type": "code",
   "execution_count": 8,
   "metadata": {
    "scrolled": true
   },
   "outputs": [
    {
     "name": "stdout",
     "output_type": "stream",
     "text": [
      "WARNING:tensorflow:From C:\\Users\\Jude\\Anaconda3\\lib\\site-packages\\tensorflow\\python\\framework\\op_def_library.py:263: colocate_with (from tensorflow.python.framework.ops) is deprecated and will be removed in a future version.\n",
      "Instructions for updating:\n",
      "Colocations handled automatically by placer.\n",
      "_________________________________________________________________\n",
      "Layer (type)                 Output Shape              Param #   \n",
      "=================================================================\n",
      "input_1 (InputLayer)         (None, 3072)              0         \n",
      "_________________________________________________________________\n",
      "hidden_layer1 (Dense)        (None, 512)               1573376   \n",
      "_________________________________________________________________\n",
      "batch_normalization_1 (Batch (None, 512)               2048      \n",
      "_________________________________________________________________\n",
      "hidden_layer2 (Dense)        (None, 256)               131328    \n",
      "_________________________________________________________________\n",
      "batch_normalization_2 (Batch (None, 256)               1024      \n",
      "_________________________________________________________________\n",
      "hidden_layer3 (Dense)        (None, 128)               32896     \n",
      "_________________________________________________________________\n",
      "batch_normalization_3 (Batch (None, 128)               512       \n",
      "_________________________________________________________________\n",
      "output (Dense)               (None, 10)                1290      \n",
      "=================================================================\n",
      "Total params: 1,742,474\n",
      "Trainable params: 1,740,682\n",
      "Non-trainable params: 1,792\n",
      "_________________________________________________________________\n",
      "WARNING:tensorflow:From C:\\Users\\Jude\\Anaconda3\\lib\\site-packages\\tensorflow\\python\\ops\\math_ops.py:3066: to_int32 (from tensorflow.python.ops.math_ops) is deprecated and will be removed in a future version.\n",
      "Instructions for updating:\n",
      "Use tf.cast instead.\n",
      "Train on 50000 samples, validate on 10000 samples\n",
      "Epoch 1/50\n",
      "50000/50000 [==============================] - 5s 106us/step - loss: 2.2171 - acc: 0.2691 - val_loss: 2.0258 - val_acc: 0.3341\n",
      "Epoch 2/50\n",
      "50000/50000 [==============================] - 2s 49us/step - loss: 1.7388 - acc: 0.3943 - val_loss: 1.8071 - val_acc: 0.3731\n",
      "Epoch 3/50\n",
      "50000/50000 [==============================] - 2s 44us/step - loss: 1.6191 - acc: 0.4346 - val_loss: 1.6721 - val_acc: 0.4143\n",
      "Epoch 4/50\n",
      "50000/50000 [==============================] - 2s 46us/step - loss: 1.5476 - acc: 0.4591 - val_loss: 1.6313 - val_acc: 0.4285\n",
      "Epoch 5/50\n",
      "50000/50000 [==============================] - 2s 47us/step - loss: 1.4928 - acc: 0.4799 - val_loss: 1.5966 - val_acc: 0.4445\n",
      "Epoch 6/50\n",
      "50000/50000 [==============================] - 2s 46us/step - loss: 1.4503 - acc: 0.4937 - val_loss: 1.5570 - val_acc: 0.4550\n",
      "Epoch 7/50\n",
      "50000/50000 [==============================] - 2s 44us/step - loss: 1.4099 - acc: 0.5091 - val_loss: 1.5411 - val_acc: 0.4579\n",
      "Epoch 8/50\n",
      "50000/50000 [==============================] - 2s 46us/step - loss: 1.3764 - acc: 0.5197 - val_loss: 1.5220 - val_acc: 0.4672\n",
      "Epoch 9/50\n",
      "50000/50000 [==============================] - 2s 46us/step - loss: 1.3438 - acc: 0.5308 - val_loss: 1.5288 - val_acc: 0.4653\n",
      "Epoch 10/50\n",
      "50000/50000 [==============================] - 2s 45us/step - loss: 1.3145 - acc: 0.5423 - val_loss: 1.4977 - val_acc: 0.4705\n",
      "Epoch 11/50\n",
      "50000/50000 [==============================] - 2s 44us/step - loss: 1.2857 - acc: 0.5522 - val_loss: 1.4849 - val_acc: 0.4836\n",
      "Epoch 12/50\n",
      "50000/50000 [==============================] - 2s 44us/step - loss: 1.2584 - acc: 0.5624 - val_loss: 1.4879 - val_acc: 0.4764\n",
      "Epoch 13/50\n",
      "50000/50000 [==============================] - 2s 45us/step - loss: 1.2343 - acc: 0.5731 - val_loss: 1.4735 - val_acc: 0.4808\n",
      "Epoch 14/50\n",
      "50000/50000 [==============================] - 2s 45us/step - loss: 1.2083 - acc: 0.5822 - val_loss: 1.4739 - val_acc: 0.4813\n",
      "Epoch 15/50\n",
      "50000/50000 [==============================] - 2s 46us/step - loss: 1.1845 - acc: 0.5893 - val_loss: 1.4590 - val_acc: 0.4836\n",
      "Epoch 16/50\n",
      "50000/50000 [==============================] - 2s 44us/step - loss: 1.1592 - acc: 0.6012 - val_loss: 1.4702 - val_acc: 0.4804\n",
      "Epoch 17/50\n",
      "50000/50000 [==============================] - 2s 45us/step - loss: 1.1374 - acc: 0.6083 - val_loss: 1.4659 - val_acc: 0.4826\n",
      "Epoch 18/50\n",
      "50000/50000 [==============================] - 2s 43us/step - loss: 1.1149 - acc: 0.6160 - val_loss: 1.4582 - val_acc: 0.4954\n",
      "Epoch 19/50\n",
      "50000/50000 [==============================] - 2s 43us/step - loss: 1.0924 - acc: 0.6256 - val_loss: 1.4536 - val_acc: 0.4957\n",
      "Epoch 20/50\n",
      "50000/50000 [==============================] - 2s 43us/step - loss: 1.0717 - acc: 0.6330 - val_loss: 1.4513 - val_acc: 0.4891\n",
      "Epoch 21/50\n",
      "50000/50000 [==============================] - 2s 43us/step - loss: 1.0485 - acc: 0.6416 - val_loss: 1.4456 - val_acc: 0.4924\n",
      "Epoch 22/50\n",
      "50000/50000 [==============================] - 2s 43us/step - loss: 1.0289 - acc: 0.6503 - val_loss: 1.4591 - val_acc: 0.4935\n",
      "Epoch 23/50\n",
      "50000/50000 [==============================] - 2s 43us/step - loss: 1.0082 - acc: 0.6570 - val_loss: 1.4451 - val_acc: 0.4954\n",
      "Epoch 24/50\n",
      "50000/50000 [==============================] - 2s 43us/step - loss: 0.9870 - acc: 0.6665 - val_loss: 1.4547 - val_acc: 0.4950\n",
      "Epoch 25/50\n",
      "50000/50000 [==============================] - 2s 43us/step - loss: 0.9669 - acc: 0.6742 - val_loss: 1.4572 - val_acc: 0.4931\n",
      "Epoch 26/50\n",
      "50000/50000 [==============================] - 2s 46us/step - loss: 0.9457 - acc: 0.6850 - val_loss: 1.4651 - val_acc: 0.4950\n",
      "Epoch 27/50\n",
      "50000/50000 [==============================] - 2s 45us/step - loss: 0.9275 - acc: 0.6895 - val_loss: 1.4720 - val_acc: 0.4906\n",
      "Epoch 28/50\n",
      "50000/50000 [==============================] - 2s 44us/step - loss: 0.9077 - acc: 0.6980 - val_loss: 1.4801 - val_acc: 0.4948\n",
      "Epoch 29/50\n",
      "50000/50000 [==============================] - 2s 45us/step - loss: 0.8882 - acc: 0.7057 - val_loss: 1.4686 - val_acc: 0.5006\n",
      "Epoch 30/50\n",
      "50000/50000 [==============================] - 2s 44us/step - loss: 0.8678 - acc: 0.7138 - val_loss: 1.4746 - val_acc: 0.4971\n",
      "Epoch 31/50\n",
      "50000/50000 [==============================] - 2s 44us/step - loss: 0.8470 - acc: 0.7226 - val_loss: 1.4826 - val_acc: 0.4910\n",
      "Epoch 32/50\n",
      "50000/50000 [==============================] - 2s 43us/step - loss: 0.8306 - acc: 0.7284 - val_loss: 1.4832 - val_acc: 0.4963\n",
      "Epoch 33/50\n",
      "50000/50000 [==============================] - 2s 44us/step - loss: 0.8110 - acc: 0.7352 - val_loss: 1.4870 - val_acc: 0.4980\n",
      "Epoch 34/50\n",
      "50000/50000 [==============================] - 2s 44us/step - loss: 0.7916 - acc: 0.7448 - val_loss: 1.4940 - val_acc: 0.5021\n",
      "Epoch 35/50\n",
      "50000/50000 [==============================] - 2s 44us/step - loss: 0.7721 - acc: 0.7533 - val_loss: 1.4975 - val_acc: 0.4984\n",
      "Epoch 36/50\n",
      "50000/50000 [==============================] - 2s 43us/step - loss: 0.7536 - acc: 0.7588 - val_loss: 1.5229 - val_acc: 0.4912\n",
      "Epoch 37/50\n",
      "50000/50000 [==============================] - 2s 43us/step - loss: 0.7351 - acc: 0.7662 - val_loss: 1.5207 - val_acc: 0.4967\n",
      "Epoch 38/50\n",
      "50000/50000 [==============================] - 2s 43us/step - loss: 0.7163 - acc: 0.7738 - val_loss: 1.5421 - val_acc: 0.4941\n",
      "Epoch 39/50\n",
      "50000/50000 [==============================] - 2s 43us/step - loss: 0.6999 - acc: 0.7803 - val_loss: 1.5365 - val_acc: 0.4940\n",
      "Epoch 40/50\n",
      "50000/50000 [==============================] - 2s 43us/step - loss: 0.6780 - acc: 0.7873 - val_loss: 1.5435 - val_acc: 0.4959\n",
      "Epoch 41/50\n",
      "50000/50000 [==============================] - 2s 43us/step - loss: 0.6623 - acc: 0.7954 - val_loss: 1.5553 - val_acc: 0.4912\n",
      "Epoch 42/50\n",
      "50000/50000 [==============================] - 2s 43us/step - loss: 0.6427 - acc: 0.8029 - val_loss: 1.5601 - val_acc: 0.4960\n",
      "Epoch 43/50\n",
      "50000/50000 [==============================] - 2s 43us/step - loss: 0.6267 - acc: 0.8102 - val_loss: 1.5762 - val_acc: 0.4904\n",
      "Epoch 44/50\n",
      "50000/50000 [==============================] - 2s 44us/step - loss: 0.6087 - acc: 0.8163 - val_loss: 1.5855 - val_acc: 0.4922\n",
      "Epoch 45/50\n",
      "50000/50000 [==============================] - 2s 43us/step - loss: 0.5902 - acc: 0.8248 - val_loss: 1.6043 - val_acc: 0.4894\n"
     ]
    },
    {
     "name": "stdout",
     "output_type": "stream",
     "text": [
      "Epoch 46/50\n",
      "50000/50000 [==============================] - 2s 43us/step - loss: 0.5727 - acc: 0.8323 - val_loss: 1.6070 - val_acc: 0.4889\n",
      "Epoch 47/50\n",
      "50000/50000 [==============================] - 2s 44us/step - loss: 0.5575 - acc: 0.8374 - val_loss: 1.6409 - val_acc: 0.4837\n",
      "Epoch 48/50\n",
      "50000/50000 [==============================] - 2s 44us/step - loss: 0.5421 - acc: 0.8425 - val_loss: 1.6374 - val_acc: 0.4875\n",
      "Epoch 49/50\n",
      "50000/50000 [==============================] - 2s 43us/step - loss: 0.5249 - acc: 0.8498 - val_loss: 1.6342 - val_acc: 0.4897\n",
      "Epoch 50/50\n",
      "50000/50000 [==============================] - 2s 45us/step - loss: 0.5107 - acc: 0.8550 - val_loss: 1.6575 - val_acc: 0.4914\n",
      "10000/10000 [==============================] - 1s 90us/step\n"
     ]
    }
   ],
   "source": [
    "model = build_mlp(input_shape=x_train.shape[1:])\n",
    "model.summary()\n",
    "optimizer = keras.optimizers.SGD(lr=LEARNING_RATE, nesterov=True, momentum=MOMENTUM)\n",
    "model.compile(loss=\"categorical_crossentropy\", metrics=[\"accuracy\"], optimizer=optimizer)\n",
    "\n",
    "model.fit(x_train, y_train, \n",
    "          epochs=EPOCHS, \n",
    "          batch_size=BATCH_SIZE, \n",
    "          validation_data=(x_test, y_test), \n",
    "          shuffle=True,\n",
    "          callbacks=[model_ckpt]\n",
    "         )\n",
    "\n",
    "# Collect results\n",
    "train_loss = model.history.history[\"loss\"]\n",
    "valid_loss = model.history.history[\"val_loss\"]\n",
    "train_acc = model.history.history[\"acc\"]\n",
    "valid_acc = model.history.history[\"val_acc\"]\n",
    "\n",
    "# Load back\n",
    "model = keras.models.load_model(\"./tmp.h5\")\n",
    "loss_loadback, acc_loadback = model.evaluate(x_test, y_test)"
   ]
  },
  {
   "cell_type": "code",
   "execution_count": 9,
   "metadata": {},
   "outputs": [
    {
     "data": {
      "image/png": "[encoded data removed]",
      "text/plain": [
       "<Figure size 432x288 with 1 Axes>"
      ]
     },
     "metadata": {},
     "output_type": "display_data"
    },
    {
     "data": {
      "image/png": "[encoded data removed]",
      "text/plain": [
       "<Figure size 432x288 with 1 Axes>"
      ]
     },
     "metadata": {},
     "output_type": "display_data"
    }
   ],
   "source": [
    "import matplotlib.pyplot as plt\n",
    "%matplotlib inline\n",
    "\n",
    "plt.plot(range(len(train_loss)), train_loss, label=\"train loss\")\n",
    "plt.plot(range(len(valid_loss)), valid_loss, label=\"valid loss\")\n",
    "plt.hlines(y=loss_loadback, xmin=0, xmax=len(train_loss), colors='r', linestyles='--')\n",
    "plt.legend()\n",
    "plt.title(\"Loss\")\n",
    "plt.show()\n",
    "\n",
    "plt.plot(range(len(train_acc)), train_acc, label=\"train accuracy\")\n",
    "plt.plot(range(len(valid_acc)), valid_acc, label=\"valid accuracy\")\n",
    "plt.hlines(y=acc_loadback, xmin=0, xmax=len(train_loss), colors='r', linestyles='--')\n",
    "plt.legend()\n",
    "plt.title(\"Accuracy\")\n",
    "plt.show()"
   ]
  },
  {
   "cell_type": "markdown",
   "metadata": {},
   "source": [
    "## Work\n",
    "1. 試比較 save_best_only 與否的差異\n",
    "2. 請僅存入將 save_weights_only 設定為 True, 並嘗試 reset ipynb 並將模型與權重重新建回並預測 x_test"
   ]
  }
 ],
 "metadata": {
  "kernelspec": {
   "display_name": "Python 3",
   "language": "python",
   "name": "python3"
  },
  "language_info": {
   "codemirror_mode": {
    "name": "ipython",
    "version": 3
   },
   "file_extension": ".py",
   "mimetype": "text/x-python",
   "name": "python",
   "nbconvert_exporter": "python",
   "pygments_lexer": "ipython3",
   "version": "3.6.6"
  }
 },
 "nbformat": 4,
 "nbformat_minor": 2
}
