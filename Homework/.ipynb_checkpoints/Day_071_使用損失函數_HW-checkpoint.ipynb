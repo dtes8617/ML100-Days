{
 "cells": [
  {
   "cell_type": "markdown",
   "metadata": {
    "colab_type": "text",
    "id": "ZsKWOgqa93Aa"
   },
   "source": [
    "# Import Library"
   ]
  },
  {
   "cell_type": "code",
   "execution_count": 1,
   "metadata": {
    "colab": {
     "base_uri": "https://localhost:8080/",
     "height": 34
    },
    "colab_type": "code",
    "executionInfo": {
     "elapsed": 2660,
     "status": "ok",
     "timestamp": 1554610655538,
     "user": {
      "displayName": "蘇耆康",
      "photoUrl": "",
      "userId": "04029891591801006409"
     },
     "user_tz": -480
    },
    "id": "n5BDSXOf93Ac",
    "outputId": "cb53ade4-44cd-4277-f33e-f514ad846d3a"
   },
   "outputs": [
    {
     "name": "stderr",
     "output_type": "stream",
     "text": [
      "Using TensorFlow backend.\n"
     ]
    }
   ],
   "source": [
    "from keras.datasets import cifar10"
   ]
  },
  {
   "cell_type": "code",
   "execution_count": 2,
   "metadata": {
    "colab": {
     "base_uri": "https://localhost:8080/",
     "height": 34
    },
    "colab_type": "code",
    "executionInfo": {
     "elapsed": 2660,
     "status": "ok",
     "timestamp": 1554610655538,
     "user": {
      "displayName": "蘇耆康",
      "photoUrl": "",
      "userId": "04029891591801006409"
     },
     "user_tz": -480
    },
    "id": "n5BDSXOf93Ac",
    "outputId": "cb53ade4-44cd-4277-f33e-f514ad846d3a"
   },
   "outputs": [],
   "source": [
    "import numpy as np\n",
    "np.random.seed(10)"
   ]
  },
  {
   "cell_type": "markdown",
   "metadata": {
    "colab_type": "text",
    "id": "BTS-HB1b93Ag"
   },
   "source": [
    "# 資料準備"
   ]
  },
  {
   "cell_type": "code",
   "execution_count": 3,
   "metadata": {
    "colab": {},
    "colab_type": "code",
    "id": "WSJQoKUg93Ai"
   },
   "outputs": [],
   "source": [
    "#取得Keras Dataset\n",
    "(x_img_train,y_label_train),(x_img_test,y_label_test)=cifar10.load_data()"
   ]
  },
  {
   "cell_type": "code",
   "execution_count": 4,
   "metadata": {
    "colab": {
     "base_uri": "https://localhost:8080/",
     "height": 51
    },
    "colab_type": "code",
    "executionInfo": {
     "elapsed": 2630,
     "status": "ok",
     "timestamp": 1554610655542,
     "user": {
      "displayName": "蘇耆康",
      "photoUrl": "",
      "userId": "04029891591801006409"
     },
     "user_tz": -480
    },
    "id": "JHB2FArH93Al",
    "outputId": "d36a97d9-c6c5-4a5e-e944-54c8cf635a94"
   },
   "outputs": [
    {
     "name": "stdout",
     "output_type": "stream",
     "text": [
      "train data: images: (50000, 32, 32, 3)  labels: (50000, 1)\n",
      "test  data: images: (10000, 32, 32, 3)  labels: (10000, 1)\n"
     ]
    }
   ],
   "source": [
    "#確認 CIFAR10 Dataset 資料維度\n",
    "print(\"train data:\",'images:',x_img_train.shape,\n",
    "      \" labels:\",y_label_train.shape) \n",
    "print(\"test  data:\",'images:',x_img_test.shape ,\n",
    "      \" labels:\",y_label_test.shape) "
   ]
  },
  {
   "cell_type": "code",
   "execution_count": 5,
   "metadata": {
    "colab": {},
    "colab_type": "code",
    "id": "GQsu9cXL93Ao"
   },
   "outputs": [],
   "source": [
    "#資料正規化\n",
    "x_img_train_normalize = x_img_train.astype('float32') / 255.0\n",
    "x_img_test_normalize = x_img_test.astype('float32') / 255.0"
   ]
  },
  {
   "cell_type": "code",
   "execution_count": 6,
   "metadata": {
    "colab": {
     "base_uri": "https://localhost:8080/",
     "height": 34
    },
    "colab_type": "code",
    "executionInfo": {
     "elapsed": 3000,
     "status": "ok",
     "timestamp": 1554610655944,
     "user": {
      "displayName": "蘇耆康",
      "photoUrl": "",
      "userId": "04029891591801006409"
     },
     "user_tz": -480
    },
    "id": "NhO5MwNp93Ar",
    "outputId": "6644791e-0d86-4d57-e3d2-d16c5e3d0d87"
   },
   "outputs": [
    {
     "data": {
      "text/plain": [
       "(10000, 10)"
      ]
     },
     "execution_count": 6,
     "metadata": {},
     "output_type": "execute_result"
    }
   ],
   "source": [
    "#針對Label 做 ONE HOT ENCODE\n",
    "from keras.utils import np_utils\n",
    "y_label_train_OneHot = np_utils.to_categorical(y_label_train)\n",
    "y_label_test_OneHot = np_utils.to_categorical(y_label_test)\n",
    "y_label_test_OneHot.shape"
   ]
  },
  {
   "cell_type": "markdown",
   "metadata": {
    "colab_type": "text",
    "id": "FIw_aOC193Au"
   },
   "source": [
    "# 建立模型"
   ]
  },
  {
   "cell_type": "code",
   "execution_count": 7,
   "metadata": {
    "colab": {},
    "colab_type": "code",
    "id": "ZY0MSOnD93Av"
   },
   "outputs": [],
   "source": [
    "from keras.models import Sequential\n",
    "from keras.layers import Dense, Dropout, Activation, Flatten\n",
    "from keras.layers import Conv2D, MaxPooling2D, ZeroPadding2D"
   ]
  },
  {
   "cell_type": "code",
   "execution_count": 8,
   "metadata": {
    "colab": {},
    "colab_type": "code",
    "id": "KipRO-H993A3"
   },
   "outputs": [],
   "source": [
    "model = Sequential()"
   ]
  },
  {
   "cell_type": "code",
   "execution_count": 9,
   "metadata": {
    "colab": {},
    "colab_type": "code",
    "id": "oNP9nM_I93A7"
   },
   "outputs": [],
   "source": [
    "#卷積層1"
   ]
  },
  {
   "cell_type": "code",
   "execution_count": 10,
   "metadata": {
    "colab": {
     "base_uri": "https://localhost:8080/",
     "height": 88
    },
    "colab_type": "code",
    "executionInfo": {
     "elapsed": 2963,
     "status": "ok",
     "timestamp": 1554610655952,
     "user": {
      "displayName": "蘇耆康",
      "photoUrl": "",
      "userId": "04029891591801006409"
     },
     "user_tz": -480
    },
    "id": "m8nBcX9U93A_",
    "outputId": "3516f0cc-759e-4b0c-a827-edd4edf25bea"
   },
   "outputs": [
    {
     "name": "stdout",
     "output_type": "stream",
     "text": [
      "WARNING:tensorflow:From C:\\Users\\Jude\\Anaconda3\\lib\\site-packages\\tensorflow\\python\\framework\\op_def_library.py:263: colocate_with (from tensorflow.python.framework.ops) is deprecated and will be removed in a future version.\n",
      "Instructions for updating:\n",
      "Colocations handled automatically by placer.\n"
     ]
    }
   ],
   "source": [
    "model.add(Conv2D(filters=32,kernel_size=(3,3),\n",
    "                 input_shape=(32, 32,3), \n",
    "                 activation='relu', \n",
    "                 padding='same'))"
   ]
  },
  {
   "cell_type": "code",
   "execution_count": 11,
   "metadata": {
    "colab": {
     "base_uri": "https://localhost:8080/",
     "height": 88
    },
    "colab_type": "code",
    "executionInfo": {
     "elapsed": 3559,
     "status": "ok",
     "timestamp": 1554610656560,
     "user": {
      "displayName": "蘇耆康",
      "photoUrl": "",
      "userId": "04029891591801006409"
     },
     "user_tz": -480
    },
    "id": "gCsayKX093BE",
    "outputId": "9c104831-fade-430f-8838-8ee8aa98a4d3"
   },
   "outputs": [
    {
     "name": "stdout",
     "output_type": "stream",
     "text": [
      "WARNING:tensorflow:From C:\\Users\\Jude\\Anaconda3\\lib\\site-packages\\keras\\backend\\tensorflow_backend.py:3368: calling dropout (from tensorflow.python.ops.nn_ops) with keep_prob is deprecated and will be removed in a future version.\n",
      "Instructions for updating:\n",
      "Please use `rate` instead of `keep_prob`. Rate should be set to `rate = 1 - keep_prob`.\n"
     ]
    }
   ],
   "source": [
    "model.add(Dropout(rate=0.25))"
   ]
  },
  {
   "cell_type": "code",
   "execution_count": 12,
   "metadata": {
    "colab": {},
    "colab_type": "code",
    "id": "TleQbAC093BS"
   },
   "outputs": [],
   "source": [
    "model.add(MaxPooling2D(pool_size=(2, 2)))"
   ]
  },
  {
   "cell_type": "code",
   "execution_count": 13,
   "metadata": {
    "colab": {},
    "colab_type": "code",
    "id": "FkPoIShE93BU"
   },
   "outputs": [],
   "source": [
    "#卷積層2與池化層2"
   ]
  },
  {
   "cell_type": "code",
   "execution_count": 14,
   "metadata": {
    "colab": {},
    "colab_type": "code",
    "id": "QusN0Sba93BW"
   },
   "outputs": [],
   "source": [
    "model.add(Conv2D(filters=64, kernel_size=(3, 3), \n",
    "                 activation='relu', padding='same'))"
   ]
  },
  {
   "cell_type": "code",
   "execution_count": 15,
   "metadata": {
    "colab": {},
    "colab_type": "code",
    "id": "pec8Ubt-93BY"
   },
   "outputs": [],
   "source": [
    "model.add(Dropout(0.25))"
   ]
  },
  {
   "cell_type": "code",
   "execution_count": 16,
   "metadata": {
    "colab": {},
    "colab_type": "code",
    "id": "wJZfh2vF93Bd"
   },
   "outputs": [],
   "source": [
    "model.add(MaxPooling2D(pool_size=(2, 2)))"
   ]
  },
  {
   "cell_type": "code",
   "execution_count": 17,
   "metadata": {
    "colab": {},
    "colab_type": "code",
    "id": "NXP34iI993Bf"
   },
   "outputs": [],
   "source": [
    "#建立神經網路(平坦層、隱藏層、輸出層)"
   ]
  },
  {
   "cell_type": "code",
   "execution_count": 18,
   "metadata": {
    "colab": {},
    "colab_type": "code",
    "id": "ihitYNDy93Bh"
   },
   "outputs": [],
   "source": [
    "model.add(Flatten())\n",
    "model.add(Dropout(rate=0.25))"
   ]
  },
  {
   "cell_type": "code",
   "execution_count": 19,
   "metadata": {
    "colab": {},
    "colab_type": "code",
    "id": "iMKGgZ1B93Bk"
   },
   "outputs": [],
   "source": [
    "model.add(Dense(1024, activation='relu'))\n",
    "model.add(Dropout(rate=0.25))"
   ]
  },
  {
   "cell_type": "code",
   "execution_count": 20,
   "metadata": {
    "colab": {},
    "colab_type": "code",
    "id": "pMIrUHkL93Bn"
   },
   "outputs": [],
   "source": [
    "model.add(Dense(10, activation='softmax'))"
   ]
  },
  {
   "cell_type": "code",
   "execution_count": 21,
   "metadata": {
    "colab": {
     "base_uri": "https://localhost:8080/",
     "height": 527
    },
    "colab_type": "code",
    "executionInfo": {
     "elapsed": 3476,
     "status": "ok",
     "timestamp": 1554610656585,
     "user": {
      "displayName": "蘇耆康",
      "photoUrl": "",
      "userId": "04029891591801006409"
     },
     "user_tz": -480
    },
    "id": "jyXMng6V93Bq",
    "outputId": "ca99227b-da76-4760-da59-560350d91992"
   },
   "outputs": [
    {
     "name": "stdout",
     "output_type": "stream",
     "text": [
      "_________________________________________________________________\n",
      "Layer (type)                 Output Shape              Param #   \n",
      "=================================================================\n",
      "conv2d_1 (Conv2D)            (None, 32, 32, 32)        896       \n",
      "_________________________________________________________________\n",
      "dropout_1 (Dropout)          (None, 32, 32, 32)        0         \n",
      "_________________________________________________________________\n",
      "max_pooling2d_1 (MaxPooling2 (None, 16, 16, 32)        0         \n",
      "_________________________________________________________________\n",
      "conv2d_2 (Conv2D)            (None, 16, 16, 64)        18496     \n",
      "_________________________________________________________________\n",
      "dropout_2 (Dropout)          (None, 16, 16, 64)        0         \n",
      "_________________________________________________________________\n",
      "max_pooling2d_2 (MaxPooling2 (None, 8, 8, 64)          0         \n",
      "_________________________________________________________________\n",
      "flatten_1 (Flatten)          (None, 4096)              0         \n",
      "_________________________________________________________________\n",
      "dropout_3 (Dropout)          (None, 4096)              0         \n",
      "_________________________________________________________________\n",
      "dense_1 (Dense)              (None, 1024)              4195328   \n",
      "_________________________________________________________________\n",
      "dropout_4 (Dropout)          (None, 1024)              0         \n",
      "_________________________________________________________________\n",
      "dense_2 (Dense)              (None, 10)                10250     \n",
      "=================================================================\n",
      "Total params: 4,224,970\n",
      "Trainable params: 4,224,970\n",
      "Non-trainable params: 0\n",
      "_________________________________________________________________\n",
      "None\n"
     ]
    }
   ],
   "source": [
    "#檢查model 的STACK\n",
    "print(model.summary())"
   ]
  },
  {
   "cell_type": "markdown",
   "metadata": {
    "colab_type": "text",
    "id": "Iw8Z5q2p93Bs"
   },
   "source": [
    "# 載入之前訓練的模型"
   ]
  },
  {
   "cell_type": "code",
   "execution_count": 22,
   "metadata": {
    "colab": {
     "base_uri": "https://localhost:8080/",
     "height": 34
    },
    "colab_type": "code",
    "executionInfo": {
     "elapsed": 3467,
     "status": "ok",
     "timestamp": 1554610656586,
     "user": {
      "displayName": "蘇耆康",
      "photoUrl": "",
      "userId": "04029891591801006409"
     },
     "user_tz": -480
    },
    "id": "Yw0pz_7x93Bt",
    "outputId": "daa7dcc6-b55a-46d4-e818-129a5bcaf4fb"
   },
   "outputs": [
    {
     "name": "stdout",
     "output_type": "stream",
     "text": [
      "載入模型失敗!開始訓練一個新模型\n"
     ]
    }
   ],
   "source": [
    "try:\n",
    "    model.load_weights(\"SaveModel/cifarCnnModel.h5\")\n",
    "    print(\"載入模型成功!繼續訓練模型\")\n",
    "except :    \n",
    "    print(\"載入模型失敗!開始訓練一個新模型\")"
   ]
  },
  {
   "cell_type": "markdown",
   "metadata": {
    "colab_type": "text",
    "id": "SO-dgTup93Bv"
   },
   "source": [
    "# 訓練模型"
   ]
  },
  {
   "cell_type": "markdown",
   "metadata": {
    "colab_type": "text",
    "id": "YhRcxOz893Bv"
   },
   "source": [
    "# 作業: \n",
    "    請分別選用 \"MSE\", \"binary _crossentropy\"\n",
    "    查看Train/test accurancy and loss rate"
   ]
  },
  {
   "cell_type": "code",
   "execution_count": 23,
   "metadata": {
    "colab": {
     "base_uri": "https://localhost:8080/",
     "height": 445
    },
    "colab_type": "code",
    "executionInfo": {
     "elapsed": 236795,
     "status": "ok",
     "timestamp": 1554610889927,
     "user": {
      "displayName": "蘇耆康",
      "photoUrl": "",
      "userId": "04029891591801006409"
     },
     "user_tz": -480
    },
    "id": "ziVNkMf793Bw",
    "outputId": "b424498a-022e-48b5-b495-b51ab8e49b81"
   },
   "outputs": [
    {
     "name": "stdout",
     "output_type": "stream",
     "text": [
      "WARNING:tensorflow:From C:\\Users\\Jude\\Anaconda3\\lib\\site-packages\\tensorflow\\python\\ops\\math_ops.py:3066: to_int32 (from tensorflow.python.ops.math_ops) is deprecated and will be removed in a future version.\n",
      "Instructions for updating:\n",
      "Use tf.cast instead.\n",
      "Train on 40000 samples, validate on 10000 samples\n",
      "Epoch 1/10\n",
      "40000/40000 [==============================] - 21s 528us/step - loss: 1.8132 - acc: 0.3420 - val_loss: 1.6136 - val_acc: 0.4519\n",
      "Epoch 2/10\n",
      "40000/40000 [==============================] - 15s 381us/step - loss: 1.4472 - acc: 0.4797 - val_loss: 1.3855 - val_acc: 0.5381\n",
      "Epoch 3/10\n",
      "40000/40000 [==============================] - 14s 358us/step - loss: 1.2939 - acc: 0.5392 - val_loss: 1.3090 - val_acc: 0.5807\n",
      "Epoch 4/10\n",
      "40000/40000 [==============================] - 15s 383us/step - loss: 1.1856 - acc: 0.5813 - val_loss: 1.2085 - val_acc: 0.6156\n",
      "Epoch 5/10\n",
      "40000/40000 [==============================] - 15s 387us/step - loss: 1.0992 - acc: 0.6093 - val_loss: 1.1443 - val_acc: 0.6370\n",
      "Epoch 6/10\n",
      "40000/40000 [==============================] - 16s 395us/step - loss: 1.0306 - acc: 0.6358 - val_loss: 1.1058 - val_acc: 0.6340\n",
      "Epoch 7/10\n",
      "40000/40000 [==============================] - 16s 402us/step - loss: 0.9680 - acc: 0.6568 - val_loss: 1.0568 - val_acc: 0.6608\n",
      "Epoch 8/10\n",
      "40000/40000 [==============================] - 15s 374us/step - loss: 0.9146 - acc: 0.6765 - val_loss: 1.0019 - val_acc: 0.6807\n",
      "Epoch 9/10\n",
      "40000/40000 [==============================] - 15s 383us/step - loss: 0.8679 - acc: 0.6966 - val_loss: 0.9959 - val_acc: 0.6657\n",
      "Epoch 10/10\n",
      "40000/40000 [==============================] - 15s 378us/step - loss: 0.8157 - acc: 0.7126 - val_loss: 0.9644 - val_acc: 0.6801\n"
     ]
    }
   ],
   "source": [
    "model.compile(loss='categorical_crossentropy', optimizer='sgd', metrics=['accuracy'])\n",
    "\n",
    "train_history_cateCross=model.fit(x_img_train_normalize, y_label_train_OneHot,\n",
    "                        validation_split=0.2,\n",
    "                        epochs=10, batch_size=16, verbose=1)          "
   ]
  },
  {
   "cell_type": "code",
   "execution_count": 24,
   "metadata": {
    "colab": {
     "base_uri": "https://localhost:8080/",
     "height": 374
    },
    "colab_type": "code",
    "executionInfo": {
     "elapsed": 236270,
     "status": "ok",
     "timestamp": 1554611875731,
     "user": {
      "displayName": "蘇耆康",
      "photoUrl": "",
      "userId": "04029891591801006409"
     },
     "user_tz": -480
    },
    "id": "5GY66dYr93Bx",
    "outputId": "adaedf4c-60fe-43e0-8dd9-6425c65520aa"
   },
   "outputs": [
    {
     "name": "stdout",
     "output_type": "stream",
     "text": [
      "Train on 40000 samples, validate on 10000 samples\n",
      "Epoch 1/10\n",
      "40000/40000 [==============================] - 16s 401us/step - loss: 0.1185 - categorical_accuracy: 0.7490 - val_loss: 0.1425 - val_categorical_accuracy: 0.7104\n",
      "Epoch 2/10\n",
      "40000/40000 [==============================] - 15s 375us/step - loss: 0.1153 - categorical_accuracy: 0.7585 - val_loss: 0.1409 - val_categorical_accuracy: 0.7153\n",
      "Epoch 3/10\n",
      "40000/40000 [==============================] - 15s 378us/step - loss: 0.1136 - categorical_accuracy: 0.7611 - val_loss: 0.1407 - val_categorical_accuracy: 0.7121\n",
      "Epoch 4/10\n",
      "40000/40000 [==============================] - 16s 390us/step - loss: 0.1113 - categorical_accuracy: 0.7674 - val_loss: 0.1395 - val_categorical_accuracy: 0.7147\n",
      "Epoch 5/10\n",
      "40000/40000 [==============================] - 16s 391us/step - loss: 0.1097 - categorical_accuracy: 0.7696 - val_loss: 0.1383 - val_categorical_accuracy: 0.7191\n",
      "Epoch 6/10\n",
      "40000/40000 [==============================] - 15s 375us/step - loss: 0.1078 - categorical_accuracy: 0.7729 - val_loss: 0.1381 - val_categorical_accuracy: 0.7158\n",
      "Epoch 7/10\n",
      "40000/40000 [==============================] - 15s 385us/step - loss: 0.1062 - categorical_accuracy: 0.7764 - val_loss: 0.1352 - val_categorical_accuracy: 0.7285\n",
      "Epoch 8/10\n",
      "40000/40000 [==============================] - 15s 377us/step - loss: 0.1055 - categorical_accuracy: 0.7799 - val_loss: 0.1372 - val_categorical_accuracy: 0.7194\n",
      "Epoch 9/10\n",
      "40000/40000 [==============================] - 15s 381us/step - loss: 0.1041 - categorical_accuracy: 0.7843 - val_loss: 0.1348 - val_categorical_accuracy: 0.7250\n",
      "Epoch 10/10\n",
      "40000/40000 [==============================] - 15s 385us/step - loss: 0.1027 - categorical_accuracy: 0.7865 - val_loss: 0.1353 - val_categorical_accuracy: 0.7221\n"
     ]
    }
   ],
   "source": [
    "model.compile(loss='binary_crossentropy', optimizer='sgd', metrics=['categorical_accuracy'])\n",
    "\n",
    "train_history_binaCross=model.fit(x_img_train_normalize, y_label_train_OneHot,\n",
    "                        validation_split=0.2,\n",
    "                        epochs=10, batch_size=16, verbose=1)          "
   ]
  },
  {
   "cell_type": "code",
   "execution_count": 25,
   "metadata": {
    "colab": {
     "base_uri": "https://localhost:8080/",
     "height": 374
    },
    "colab_type": "code",
    "executionInfo": {
     "elapsed": 695078,
     "status": "ok",
     "timestamp": 1554611348230,
     "user": {
      "displayName": "蘇耆康",
      "photoUrl": "",
      "userId": "04029891591801006409"
     },
     "user_tz": -480
    },
    "id": "wSMndTRc_lUU",
    "outputId": "dd9fdb8b-ad1f-43f9-88aa-ad2845f42166"
   },
   "outputs": [
    {
     "name": "stdout",
     "output_type": "stream",
     "text": [
      "Train on 40000 samples, validate on 10000 samples\n",
      "Epoch 1/10\n",
      "40000/40000 [==============================] - 15s 383us/step - loss: 0.0290 - acc: 0.7946 - val_loss: 0.0386 - val_acc: 0.7293\n",
      "Epoch 2/10\n",
      "40000/40000 [==============================] - 15s 368us/step - loss: 0.0290 - acc: 0.7949 - val_loss: 0.0386 - val_acc: 0.7293\n",
      "Epoch 3/10\n",
      "40000/40000 [==============================] - 14s 357us/step - loss: 0.0287 - acc: 0.7985 - val_loss: 0.0387 - val_acc: 0.7279\n",
      "Epoch 4/10\n",
      "40000/40000 [==============================] - 14s 344us/step - loss: 0.0286 - acc: 0.7975 - val_loss: 0.0387 - val_acc: 0.7266\n",
      "Epoch 5/10\n",
      "40000/40000 [==============================] - 14s 354us/step - loss: 0.0284 - acc: 0.7990 - val_loss: 0.0383 - val_acc: 0.7342\n",
      "Epoch 6/10\n",
      "40000/40000 [==============================] - 14s 352us/step - loss: 0.0281 - acc: 0.8033 - val_loss: 0.0385 - val_acc: 0.7302\n",
      "Epoch 7/10\n",
      "40000/40000 [==============================] - 14s 341us/step - loss: 0.0280 - acc: 0.8029 - val_loss: 0.0385 - val_acc: 0.7308\n",
      "Epoch 8/10\n",
      "40000/40000 [==============================] - 14s 341us/step - loss: 0.0279 - acc: 0.8048 - val_loss: 0.0384 - val_acc: 0.7296\n",
      "Epoch 9/10\n",
      "40000/40000 [==============================] - 14s 340us/step - loss: 0.0281 - acc: 0.8024 - val_loss: 0.0384 - val_acc: 0.7309\n",
      "Epoch 10/10\n",
      "40000/40000 [==============================] - 14s 340us/step - loss: 0.0278 - acc: 0.8054 - val_loss: 0.0383 - val_acc: 0.7327\n"
     ]
    }
   ],
   "source": [
    "model.compile(loss='mean_squared_error', optimizer='sgd', metrics=['accuracy'])\n",
    "\n",
    "train_history_MSE=model.fit(x_img_train_normalize, y_label_train_OneHot,\n",
    "                        validation_split=0.2,\n",
    "                        epochs=10, batch_size=16, verbose=1)          "
   ]
  },
  {
   "cell_type": "code",
   "execution_count": 26,
   "metadata": {
    "colab": {},
    "colab_type": "code",
    "id": "L1EVVWQlAEHP"
   },
   "outputs": [],
   "source": [
    "import matplotlib.pyplot as plt\n",
    "def show_train_history(train_acc):\n",
    "    plt.plot(train_history_cateCross.history[train_acc])\n",
    "    plt.plot(train_history_binaCross.history['categorical_accuracy'])\n",
    "    plt.plot(train_history_MSE.history[train_acc])\n",
    "    plt.title('Train History')\n",
    "    plt.ylabel('Accuracy')\n",
    "    plt.xlabel('Epoch')\n",
    "    plt.legend(['categorical_crossentropy', 'binary_crossentropy', 'mean_squared_error'], loc='upper left')\n",
    "    plt.show()"
   ]
  },
  {
   "cell_type": "code",
   "execution_count": 27,
   "metadata": {
    "colab": {},
    "colab_type": "code",
    "id": "7cAeTO81AYPS"
   },
   "outputs": [],
   "source": [
    "def show_test_history(test_acc):\n",
    "    plt.plot(train_history_cateCross.history[test_acc])\n",
    "    plt.plot(train_history_binaCross.history['categorical_accuracy'])\n",
    "    plt.plot(train_history_MSE.history[test_acc])\n",
    "    plt.title('Train History')\n",
    "    plt.ylabel('Accuracy')\n",
    "    plt.xlabel('Epoch')\n",
    "    plt.legend(['categorical_crossentropy', 'binary_crossentropy', 'mean_squared_error'], loc='upper left')\n",
    "    plt.show()"
   ]
  },
  {
   "cell_type": "code",
   "execution_count": 28,
   "metadata": {
    "colab": {
     "base_uri": "https://localhost:8080/",
     "height": 376
    },
    "colab_type": "code",
    "executionInfo": {
     "elapsed": 1863,
     "status": "ok",
     "timestamp": 1554615720960,
     "user": {
      "displayName": "蘇耆康",
      "photoUrl": "",
      "userId": "04029891591801006409"
     },
     "user_tz": -480
    },
    "id": "MNrAw4EHURLi",
    "outputId": "f19eedec-216d-4602-c11d-fffa4feb2b1b"
   },
   "outputs": [
    {
     "data": {
      "image/png": "[encoded data removed]",
      "text/plain": [
       "<Figure size 432x288 with 1 Axes>"
      ]
     },
     "metadata": {},
     "output_type": "display_data"
    }
   ],
   "source": [
    "show_train_history('acc')"
   ]
  },
  {
   "cell_type": "code",
   "execution_count": 29,
   "metadata": {
    "colab": {
     "base_uri": "https://localhost:8080/",
     "height": 376
    },
    "colab_type": "code",
    "executionInfo": {
     "elapsed": 1409,
     "status": "ok",
     "timestamp": 1554615726025,
     "user": {
      "displayName": "蘇耆康",
      "photoUrl": "",
      "userId": "04029891591801006409"
     },
     "user_tz": -480
    },
    "id": "eGV0VL4UPeNa",
    "outputId": "4ac5651c-724b-4e90-b212-67f32cc64f5f"
   },
   "outputs": [
    {
     "data": {
      "image/png": "[encoded data removed]",
      "text/plain": [
       "<Figure size 432x288 with 1 Axes>"
      ]
     },
     "metadata": {},
     "output_type": "display_data"
    }
   ],
   "source": [
    "show_test_history('val_acc')"
   ]
  },
  {
   "cell_type": "code",
   "execution_count": null,
   "metadata": {},
   "outputs": [],
   "source": []
  }
 ],
 "metadata": {
  "accelerator": "GPU",
  "colab": {
   "collapsed_sections": [],
   "name": "Day071_使用損失函數_HW.ipynb",
   "provenance": [],
   "version": "0.3.2"
  },
  "kernelspec": {
   "display_name": "Python 3",
   "language": "python",
   "name": "python3"
  },
  "language_info": {
   "codemirror_mode": {
    "name": "ipython",
    "version": 3
   },
   "file_extension": ".py",
   "mimetype": "text/x-python",
   "name": "python",
   "nbconvert_exporter": "python",
   "pygments_lexer": "ipython3",
   "version": "3.6.6"
  }
 },
 "nbformat": 4,
 "nbformat_minor": 1
}
