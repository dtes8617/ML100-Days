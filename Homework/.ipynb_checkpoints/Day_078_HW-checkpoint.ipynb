{
 "cells": [
  {
   "cell_type": "markdown",
   "metadata": {},
   "source": [
    "## Work\n",
    "1. 請嘗試將 preproc_x 替換成以每筆資料的 min/max 進行標準化至 -1 ~ 1 間，再進行訓練\n",
    "2. 請嘗試將 mlp 疊更深 (e.g 5~10 層)，進行訓練後觀察 learning curve 的走勢\n",
    "3. (optional) 請改用 GPU 進行訓練 (如果你有 GPU 的話)，比較使用 CPU 與 GPU 的訓練速度"
   ]
  },
  {
   "cell_type": "code",
   "execution_count": 1,
   "metadata": {},
   "outputs": [
    {
     "name": "stdout",
     "output_type": "stream",
     "text": [
      "Mon Apr 15 00:42:09 2019       \n",
      "+-----------------------------------------------------------------------------+\n",
      "| NVIDIA-SMI 418.96       Driver Version: 418.96       CUDA Version: 10.1     |\n",
      "|-------------------------------+----------------------+----------------------+\n",
      "| GPU  Name            TCC/WDDM | Bus-Id        Disp.A | Volatile Uncorr. ECC |\n",
      "| Fan  Temp  Perf  Pwr:Usage/Cap|         Memory-Usage | GPU-Util  Compute M. |\n",
      "|===============================+======================+======================|\n",
      "|   0  GeForce RTX 2070   WDDM  | 00000000:01:00.0  On |                  N/A |\n",
      "| 27%   33C    P8    15W / 215W |    685MiB /  8192MiB |      4%      Default |\n",
      "+-------------------------------+----------------------+----------------------+\n",
      "                                                                               \n",
      "+-----------------------------------------------------------------------------+\n",
      "| Processes:                                                       GPU Memory |\n",
      "|  GPU       PID   Type   Process name                             Usage      |\n",
      "|=============================================================================|\n",
      "|    0      1336    C+G   Insufficient Permissions                   N/A      |\n",
      "|    0      3156    C+G   C:\\Windows\\explorer.exe                    N/A      |\n",
      "|    0      6780    C+G   ....42.0_x64__8wekyb3d8bbwe\\Calculator.exe N/A      |\n",
      "|    0      9968    C+G   ...dows.Cortana_cw5n1h2txyewy\\SearchUI.exe N/A      |\n",
      "|    0     10212    C+G   ...t_cw5n1h2txyewy\\ShellExperienceHost.exe N/A      |\n",
      "|    0     10384    C+G   ...tHubDesktop\\app-1.6.5\\GitHubDesktop.exe N/A      |\n",
      "|    0     10764    C+G   ...x64__8wekyb3d8bbwe\\Microsoft.Photos.exe N/A      |\n",
      "|    0     11504    C+G   ...iles\\AMD\\CNext\\CNext\\RadeonSettings.exe N/A      |\n",
      "|    0     12832    C+G   ...11411.0_x64__8wekyb3d8bbwe\\Video.UI.exe N/A      |\n",
      "|    0     13024    C+G   ...DIA GeForce Experience\\NVIDIA Share.exe N/A      |\n",
      "|    0     13152    C+G   ...DIA GeForce Experience\\NVIDIA Share.exe N/A      |\n",
      "|    0     13648    C+G   ...ons\\Software\\Current\\LogiOptionsMgr.exe N/A      |\n",
      "|    0     13716    C+G   ...ptions\\Software\\Current\\LogiOverlay.exe N/A      |\n",
      "|    0     15864    C+G   ...\\bin\\cef\\cef.win7x64\\steamwebhelper.exe N/A      |\n",
      "|    0     16336    C+G   ...pple\\Internet Services\\iCloudPhotos.exe N/A      |\n",
      "|    0     17640    C+G   ...)\\Microsoft\\Skype for Desktop\\Skype.exe N/A      |\n",
      "|    0     17756    C+G   ...)\\Microsoft\\Skype for Desktop\\Skype.exe N/A      |\n",
      "|    0     17992    C+G   ... Files (x86)\\Dropbox\\Client\\Dropbox.exe N/A      |\n",
      "|    0     18464    C+G   ...6)\\Google\\Chrome\\Application\\chrome.exe N/A      |\n",
      "|    0     21544    C+G   ...mmersiveControlPanel\\SystemSettings.exe N/A      |\n",
      "|    0     22080    C+G   ...7.0_x64__8wekyb3d8bbwe\\WinStore.App.exe N/A      |\n",
      "|    0     23588    C+G   ...AppData\\Local\\LINE\\bin\\current\\LINE.exe N/A      |\n",
      "|    0     24516    C+G   D:\\Program Files\\Typora\\Typora.exe         N/A      |\n",
      "+-----------------------------------------------------------------------------+\n"
     ]
    }
   ],
   "source": [
    "## 確認硬體資源\n",
    "\"\"\"\n",
    "Your code here\n",
    "\"\"\"\n",
    "! \"C:\\Program Files\\NVIDIA Corporation\\NVSMI\\nvidia-smi\""
   ]
  },
  {
   "cell_type": "code",
   "execution_count": 2,
   "metadata": {},
   "outputs": [
    {
     "name": "stderr",
     "output_type": "stream",
     "text": [
      "Using TensorFlow backend.\n"
     ]
    }
   ],
   "source": [
    "import os\n",
    "import keras\n",
    "\n",
    "# Try to enable GPU (optional)\n"
   ]
  },
  {
   "cell_type": "code",
   "execution_count": 22,
   "metadata": {},
   "outputs": [],
   "source": [
    "train, test = keras.datasets.cifar10.load_data()"
   ]
  },
  {
   "cell_type": "code",
   "execution_count": 61,
   "metadata": {},
   "outputs": [],
   "source": [
    "## 資料前處理\n",
    "\"\"\"\n",
    "Your code here\n",
    "\"\"\"\n",
    "def preproc_x(x, flatten = True):\n",
    "    if flatten:\n",
    "        x = x.astype(float).reshape((x.shape[0],-1))\n",
    "    for i in range(x.shape[0]):\n",
    "        x_min, x_max = x[i,:].min(), x[i,:].max()\n",
    "        x[i,:] = (((x[i,:]-x_min)/(x_max-x_min))-0.5)*2\n",
    "    return x\n",
    "\n",
    "def preproc_y(y, num_classes = 10):\n",
    "    if y.shape[-1] == 1:\n",
    "        y = keras.utils.to_categorical(y, num_classes=num_classes)\n",
    "    return y"
   ]
  },
  {
   "cell_type": "code",
   "execution_count": 62,
   "metadata": {},
   "outputs": [],
   "source": [
    "x_train, y_train = train\n",
    "x_test, y_test = test\n",
    "\n",
    "# Preproc the inputs\n",
    "x_train = preproc_x(x_train)\n",
    "x_test = preproc_x(x_test)\n",
    "\n",
    "# Preprc the outputs\n",
    "y_train = preproc_y(y_train)\n",
    "y_test = preproc_y(y_test)"
   ]
  },
  {
   "cell_type": "code",
   "execution_count": 64,
   "metadata": {},
   "outputs": [
    {
     "name": "stdout",
     "output_type": "stream",
     "text": [
      "_________________________________________________________________\n",
      "Layer (type)                 Output Shape              Param #   \n",
      "=================================================================\n",
      "input_2 (InputLayer)         (None, 3072)              0         \n",
      "_________________________________________________________________\n",
      "hidden_layer1 (Dense)        (None, 512)               1573376   \n",
      "_________________________________________________________________\n",
      "hidden_layer2 (Dense)        (None, 256)               131328    \n",
      "_________________________________________________________________\n",
      "hidden_layer3 (Dense)        (None, 128)               32896     \n",
      "_________________________________________________________________\n",
      "hidden_layer4 (Dense)        (None, 64)                8256      \n",
      "_________________________________________________________________\n",
      "hidden_layer5 (Dense)        (None, 32)                2080      \n",
      "_________________________________________________________________\n",
      "Output (Dense)               (None, 10)                330       \n",
      "=================================================================\n",
      "Total params: 1,748,266\n",
      "Trainable params: 1,748,266\n",
      "Non-trainable params: 0\n",
      "_________________________________________________________________\n"
     ]
    }
   ],
   "source": [
    "\"\"\"\n",
    "Your code here\n",
    "\"\"\"\n",
    "def build_mlp(input_shape, num_classes, num_neurons = [512, 256, 128, 64, 32]):\n",
    "    input_layer = keras.layers.Input(input_shape)\n",
    "    \n",
    "    for i, n in enumerate(num_neurons):\n",
    "        if i == 0:\n",
    "            x = keras.layers.Dense(n, activation='relu', name = 'hidden_layer'+str(i+1))(input_layer)\n",
    "        else:\n",
    "            x = keras.layers.Dense(n, activation='relu', name = 'hidden_layer'+str(i+1))(x)\n",
    "    \n",
    "    out = keras.layers.Dense(num_classes, activation='softmax', name = 'Output')(x)\n",
    "    \n",
    "    model = keras.models.Model(inputs = [input_layer], outputs = [out])\n",
    "    return model\n",
    "\n",
    "model = build_mlp(x_train.shape[1:], y_train.shape[-1])\n",
    "model.summary()"
   ]
  },
  {
   "cell_type": "code",
   "execution_count": 65,
   "metadata": {},
   "outputs": [],
   "source": [
    "## 超參數設定\n",
    "LEARNING_RATE = 0.001\n",
    "EPOCHS = 100\n",
    "BATCH_SIZE = 256"
   ]
  },
  {
   "cell_type": "code",
   "execution_count": 66,
   "metadata": {},
   "outputs": [],
   "source": [
    "optimizer = keras.optimizers.Adam(lr=LEARNING_RATE)\n",
    "model.compile(loss=\"categorical_crossentropy\", metrics=[\"accuracy\"], optimizer=optimizer)"
   ]
  },
  {
   "cell_type": "code",
   "execution_count": 67,
   "metadata": {
    "scrolled": false
   },
   "outputs": [
    {
     "name": "stdout",
     "output_type": "stream",
     "text": [
      "Train on 50000 samples, validate on 10000 samples\n",
      "Epoch 1/100\n",
      "50000/50000 [==============================] - 4s 73us/step - loss: 1.7081 - acc: 0.3909 - val_loss: 1.5461 - val_acc: 0.4564\n",
      "Epoch 2/100\n",
      "50000/50000 [==============================] - 3s 54us/step - loss: 1.4687 - acc: 0.4793 - val_loss: 1.4739 - val_acc: 0.4806\n",
      "Epoch 3/100\n",
      "50000/50000 [==============================] - 3s 54us/step - loss: 1.3559 - acc: 0.5200 - val_loss: 1.4437 - val_acc: 0.4855\n",
      "Epoch 4/100\n",
      "50000/50000 [==============================] - 3s 55us/step - loss: 1.2595 - acc: 0.5536 - val_loss: 1.4017 - val_acc: 0.4981\n",
      "Epoch 5/100\n",
      "50000/50000 [==============================] - 3s 55us/step - loss: 1.1726 - acc: 0.5858 - val_loss: 1.3626 - val_acc: 0.5264\n",
      "Epoch 6/100\n",
      "50000/50000 [==============================] - 3s 55us/step - loss: 1.0986 - acc: 0.6109 - val_loss: 1.3681 - val_acc: 0.5273\n",
      "Epoch 7/100\n",
      "50000/50000 [==============================] - 3s 55us/step - loss: 1.0229 - acc: 0.6388 - val_loss: 1.3869 - val_acc: 0.5266\n",
      "Epoch 8/100\n",
      "50000/50000 [==============================] - 3s 55us/step - loss: 0.9434 - acc: 0.6671 - val_loss: 1.4292 - val_acc: 0.5312\n",
      "Epoch 9/100\n",
      "50000/50000 [==============================] - 3s 54us/step - loss: 0.8709 - acc: 0.6926 - val_loss: 1.4543 - val_acc: 0.5257\n",
      "Epoch 10/100\n",
      "50000/50000 [==============================] - 3s 55us/step - loss: 0.7917 - acc: 0.7221 - val_loss: 1.5125 - val_acc: 0.5279\n",
      "Epoch 11/100\n",
      "50000/50000 [==============================] - 3s 55us/step - loss: 0.7297 - acc: 0.7394 - val_loss: 1.5101 - val_acc: 0.5338\n",
      "Epoch 12/100\n",
      "50000/50000 [==============================] - 3s 55us/step - loss: 0.6575 - acc: 0.7663 - val_loss: 1.6245 - val_acc: 0.5295\n",
      "Epoch 13/100\n",
      "50000/50000 [==============================] - 3s 55us/step - loss: 0.5982 - acc: 0.7880 - val_loss: 1.8062 - val_acc: 0.5240\n",
      "Epoch 14/100\n",
      "50000/50000 [==============================] - 3s 55us/step - loss: 0.5373 - acc: 0.8108 - val_loss: 1.7914 - val_acc: 0.5301\n",
      "Epoch 15/100\n",
      "50000/50000 [==============================] - 3s 55us/step - loss: 0.4866 - acc: 0.8280 - val_loss: 1.8856 - val_acc: 0.5267\n",
      "Epoch 16/100\n",
      "50000/50000 [==============================] - 3s 55us/step - loss: 0.4342 - acc: 0.8459 - val_loss: 1.9950 - val_acc: 0.5201\n",
      "Epoch 17/100\n",
      "50000/50000 [==============================] - 3s 55us/step - loss: 0.4001 - acc: 0.8601 - val_loss: 2.1086 - val_acc: 0.5277\n",
      "Epoch 18/100\n",
      "50000/50000 [==============================] - 3s 55us/step - loss: 0.3669 - acc: 0.8714 - val_loss: 2.1804 - val_acc: 0.5256\n",
      "Epoch 19/100\n",
      "50000/50000 [==============================] - 3s 55us/step - loss: 0.3340 - acc: 0.8817 - val_loss: 2.2992 - val_acc: 0.5238\n",
      "Epoch 20/100\n",
      "50000/50000 [==============================] - 3s 55us/step - loss: 0.3056 - acc: 0.8934 - val_loss: 2.4496 - val_acc: 0.5176\n",
      "Epoch 21/100\n",
      "50000/50000 [==============================] - 3s 56us/step - loss: 0.2847 - acc: 0.9003 - val_loss: 2.4414 - val_acc: 0.5220\n",
      "Epoch 22/100\n",
      "50000/50000 [==============================] - 3s 55us/step - loss: 0.2576 - acc: 0.9105 - val_loss: 2.5782 - val_acc: 0.5217\n",
      "Epoch 23/100\n",
      "50000/50000 [==============================] - 3s 55us/step - loss: 0.2450 - acc: 0.9155 - val_loss: 2.6682 - val_acc: 0.5274\n",
      "Epoch 24/100\n",
      "50000/50000 [==============================] - 3s 56us/step - loss: 0.2242 - acc: 0.9217 - val_loss: 2.7807 - val_acc: 0.5148\n",
      "Epoch 25/100\n",
      "50000/50000 [==============================] - 3s 55us/step - loss: 0.2129 - acc: 0.9263 - val_loss: 2.8746 - val_acc: 0.5246\n",
      "Epoch 26/100\n",
      "50000/50000 [==============================] - 3s 55us/step - loss: 0.2103 - acc: 0.9272 - val_loss: 2.7494 - val_acc: 0.5257\n",
      "Epoch 27/100\n",
      "50000/50000 [==============================] - 3s 55us/step - loss: 0.2068 - acc: 0.9274 - val_loss: 2.8945 - val_acc: 0.5266\n",
      "Epoch 28/100\n",
      "50000/50000 [==============================] - 3s 55us/step - loss: 0.1958 - acc: 0.9330 - val_loss: 2.9116 - val_acc: 0.5256\n",
      "Epoch 29/100\n",
      "50000/50000 [==============================] - 3s 55us/step - loss: 0.1634 - acc: 0.9440 - val_loss: 3.0301 - val_acc: 0.5255\n",
      "Epoch 30/100\n",
      "50000/50000 [==============================] - 3s 57us/step - loss: 0.1738 - acc: 0.9399 - val_loss: 3.0180 - val_acc: 0.5202\n",
      "Epoch 31/100\n",
      "50000/50000 [==============================] - 3s 56us/step - loss: 0.1637 - acc: 0.9441 - val_loss: 3.1445 - val_acc: 0.5229\n",
      "Epoch 32/100\n",
      "50000/50000 [==============================] - 3s 56us/step - loss: 0.1618 - acc: 0.9439 - val_loss: 3.2547 - val_acc: 0.5183\n",
      "Epoch 33/100\n",
      "50000/50000 [==============================] - 3s 56us/step - loss: 0.1684 - acc: 0.9442 - val_loss: 3.0890 - val_acc: 0.5282\n",
      "Epoch 34/100\n",
      "50000/50000 [==============================] - 3s 55us/step - loss: 0.1481 - acc: 0.9498 - val_loss: 3.1898 - val_acc: 0.5265\n",
      "Epoch 35/100\n",
      "50000/50000 [==============================] - 3s 55us/step - loss: 0.1286 - acc: 0.9566 - val_loss: 3.3198 - val_acc: 0.5244\n",
      "Epoch 36/100\n",
      "50000/50000 [==============================] - 3s 55us/step - loss: 0.1467 - acc: 0.9497 - val_loss: 3.2586 - val_acc: 0.5252\n",
      "Epoch 37/100\n",
      "50000/50000 [==============================] - 3s 56us/step - loss: 0.1342 - acc: 0.9548 - val_loss: 3.2789 - val_acc: 0.5192\n",
      "Epoch 38/100\n",
      "50000/50000 [==============================] - 3s 55us/step - loss: 0.1456 - acc: 0.9505 - val_loss: 3.3920 - val_acc: 0.5217\n",
      "Epoch 39/100\n",
      "50000/50000 [==============================] - 3s 55us/step - loss: 0.1243 - acc: 0.9580 - val_loss: 3.4577 - val_acc: 0.5205\n",
      "Epoch 40/100\n",
      "50000/50000 [==============================] - 3s 56us/step - loss: 0.1301 - acc: 0.9566 - val_loss: 3.4092 - val_acc: 0.5220\n",
      "Epoch 41/100\n",
      "50000/50000 [==============================] - 3s 55us/step - loss: 0.1457 - acc: 0.9505 - val_loss: 3.4540 - val_acc: 0.5178\n",
      "Epoch 42/100\n",
      "50000/50000 [==============================] - 3s 55us/step - loss: 0.1192 - acc: 0.9591 - val_loss: 3.3840 - val_acc: 0.5329A: 0s - loss: 0.1187 - acc: 0.95\n",
      "Epoch 43/100\n",
      "50000/50000 [==============================] - 3s 55us/step - loss: 0.1245 - acc: 0.9582 - val_loss: 3.4001 - val_acc: 0.5305\n",
      "Epoch 44/100\n",
      "50000/50000 [==============================] - 3s 55us/step - loss: 0.0984 - acc: 0.9665 - val_loss: 3.5296 - val_acc: 0.5269\n",
      "Epoch 45/100\n",
      "50000/50000 [==============================] - 3s 55us/step - loss: 0.1112 - acc: 0.9634 - val_loss: 3.6038 - val_acc: 0.5312\n",
      "Epoch 46/100\n",
      "50000/50000 [==============================] - 3s 55us/step - loss: 0.1355 - acc: 0.9550 - val_loss: 3.5342 - val_acc: 0.5250\n",
      "Epoch 47/100\n",
      "50000/50000 [==============================] - 3s 55us/step - loss: 0.1181 - acc: 0.9599 - val_loss: 3.5229 - val_acc: 0.5313\n",
      "Epoch 48/100\n",
      "50000/50000 [==============================] - 3s 55us/step - loss: 0.0972 - acc: 0.9668 - val_loss: 3.6637 - val_acc: 0.5214\n",
      "Epoch 49/100\n",
      "50000/50000 [==============================] - 3s 55us/step - loss: 0.0972 - acc: 0.9676 - val_loss: 3.6215 - val_acc: 0.5249\n",
      "Epoch 50/100\n",
      "50000/50000 [==============================] - 3s 55us/step - loss: 0.0902 - acc: 0.9693 - val_loss: 3.7959 - val_acc: 0.5114\n",
      "Epoch 51/100\n",
      "50000/50000 [==============================] - 3s 54us/step - loss: 0.1232 - acc: 0.9585 - val_loss: 3.5681 - val_acc: 0.5287\n",
      "Epoch 52/100\n",
      "50000/50000 [==============================] - 3s 55us/step - loss: 0.0912 - acc: 0.9692 - val_loss: 3.7702 - val_acc: 0.5227\n",
      "Epoch 53/100\n",
      "50000/50000 [==============================] - 3s 55us/step - loss: 0.0948 - acc: 0.9685 - val_loss: 3.7193 - val_acc: 0.5219\n",
      "Epoch 54/100\n",
      "50000/50000 [==============================] - 3s 55us/step - loss: 0.0927 - acc: 0.9691 - val_loss: 3.7352 - val_acc: 0.5188\n",
      "Epoch 55/100\n",
      "50000/50000 [==============================] - 3s 56us/step - loss: 0.0944 - acc: 0.9682 - val_loss: 3.6835 - val_acc: 0.5248\n",
      "Epoch 56/100\n",
      "50000/50000 [==============================] - 3s 55us/step - loss: 0.1124 - acc: 0.9631 - val_loss: 3.5876 - val_acc: 0.5243\n",
      "Epoch 57/100\n",
      "50000/50000 [==============================] - 3s 55us/step - loss: 0.0858 - acc: 0.9724 - val_loss: 3.6758 - val_acc: 0.5286\n",
      "Epoch 58/100\n",
      "50000/50000 [==============================] - 3s 55us/step - loss: 0.0733 - acc: 0.9766 - val_loss: 3.8077 - val_acc: 0.5285\n",
      "Epoch 59/100\n"
     ]
    },
    {
     "name": "stdout",
     "output_type": "stream",
     "text": [
      "50000/50000 [==============================] - 3s 55us/step - loss: 0.1246 - acc: 0.9601 - val_loss: 3.7101 - val_acc: 0.5238\n",
      "Epoch 60/100\n",
      "50000/50000 [==============================] - 3s 56us/step - loss: 0.0771 - acc: 0.9743 - val_loss: 3.7539 - val_acc: 0.5292\n",
      "Epoch 61/100\n",
      "50000/50000 [==============================] - 3s 56us/step - loss: 0.0680 - acc: 0.9767 - val_loss: 3.8328 - val_acc: 0.5352\n",
      "Epoch 62/100\n",
      "50000/50000 [==============================] - 3s 55us/step - loss: 0.0983 - acc: 0.9678 - val_loss: 3.7131 - val_acc: 0.5231\n",
      "Epoch 63/100\n",
      "50000/50000 [==============================] - 3s 55us/step - loss: 0.1007 - acc: 0.9672 - val_loss: 3.7681 - val_acc: 0.5228\n",
      "Epoch 64/100\n",
      "50000/50000 [==============================] - 3s 57us/step - loss: 0.0880 - acc: 0.9716 - val_loss: 3.8048 - val_acc: 0.5252\n",
      "Epoch 65/100\n",
      "50000/50000 [==============================] - 3s 59us/step - loss: 0.0777 - acc: 0.9747 - val_loss: 3.7735 - val_acc: 0.5281\n",
      "Epoch 66/100\n",
      "50000/50000 [==============================] - 3s 53us/step - loss: 0.0697 - acc: 0.9767 - val_loss: 3.9354 - val_acc: 0.5312\n",
      "Epoch 67/100\n",
      "50000/50000 [==============================] - 3s 53us/step - loss: 0.0815 - acc: 0.9729 - val_loss: 3.8337 - val_acc: 0.5262\n",
      "Epoch 68/100\n",
      "50000/50000 [==============================] - 3s 56us/step - loss: 0.0882 - acc: 0.9714 - val_loss: 3.8566 - val_acc: 0.5251\n",
      "Epoch 69/100\n",
      "50000/50000 [==============================] - 3s 60us/step - loss: 0.0883 - acc: 0.9710 - val_loss: 3.7272 - val_acc: 0.5243\n",
      "Epoch 70/100\n",
      "50000/50000 [==============================] - 3s 60us/step - loss: 0.0882 - acc: 0.9703 - val_loss: 3.8586 - val_acc: 0.5203\n",
      "Epoch 71/100\n",
      "50000/50000 [==============================] - 3s 56us/step - loss: 0.0767 - acc: 0.9744 - val_loss: 3.8292 - val_acc: 0.5295\n",
      "Epoch 72/100\n",
      "50000/50000 [==============================] - 3s 57us/step - loss: 0.0489 - acc: 0.9838 - val_loss: 4.0327 - val_acc: 0.5242\n",
      "Epoch 73/100\n",
      "50000/50000 [==============================] - 3s 58us/step - loss: 0.0850 - acc: 0.9722 - val_loss: 3.9186 - val_acc: 0.5275\n",
      "Epoch 74/100\n",
      "50000/50000 [==============================] - 3s 57us/step - loss: 0.0925 - acc: 0.9709 - val_loss: 3.8297 - val_acc: 0.5207\n",
      "Epoch 75/100\n",
      "50000/50000 [==============================] - 3s 54us/step - loss: 0.0678 - acc: 0.9768 - val_loss: 3.9307 - val_acc: 0.5314\n",
      "Epoch 76/100\n",
      "50000/50000 [==============================] - 3s 55us/step - loss: 0.0812 - acc: 0.9730 - val_loss: 3.9927 - val_acc: 0.5192\n",
      "Epoch 77/100\n",
      "50000/50000 [==============================] - 3s 54us/step - loss: 0.0833 - acc: 0.9727 - val_loss: 3.9911 - val_acc: 0.5233\n",
      "Epoch 78/100\n",
      "50000/50000 [==============================] - 3s 55us/step - loss: 0.0629 - acc: 0.9800 - val_loss: 4.0135 - val_acc: 0.5271\n",
      "Epoch 79/100\n",
      "50000/50000 [==============================] - 3s 56us/step - loss: 0.0671 - acc: 0.9778 - val_loss: 3.9112 - val_acc: 0.5345\n",
      "Epoch 80/100\n",
      "50000/50000 [==============================] - 3s 57us/step - loss: 0.0643 - acc: 0.9786 - val_loss: 3.9888 - val_acc: 0.5291\n",
      "Epoch 81/100\n",
      "50000/50000 [==============================] - 3s 54us/step - loss: 0.0712 - acc: 0.9772 - val_loss: 4.0523 - val_acc: 0.5301\n",
      "Epoch 82/100\n",
      "50000/50000 [==============================] - 3s 54us/step - loss: 0.0760 - acc: 0.9753 - val_loss: 3.9513 - val_acc: 0.5286\n",
      "Epoch 83/100\n",
      "50000/50000 [==============================] - 3s 56us/step - loss: 0.0697 - acc: 0.9773 - val_loss: 3.9850 - val_acc: 0.5324\n",
      "Epoch 84/100\n",
      "50000/50000 [==============================] - 3s 57us/step - loss: 0.0497 - acc: 0.9836 - val_loss: 4.0654 - val_acc: 0.5302\n",
      "Epoch 85/100\n",
      "50000/50000 [==============================] - 3s 56us/step - loss: 0.0734 - acc: 0.9767 - val_loss: 4.0615 - val_acc: 0.5230\n",
      "Epoch 86/100\n",
      "50000/50000 [==============================] - 3s 56us/step - loss: 0.0677 - acc: 0.9787 - val_loss: 3.9943 - val_acc: 0.5219\n",
      "Epoch 87/100\n",
      "50000/50000 [==============================] - 3s 56us/step - loss: 0.0780 - acc: 0.9754 - val_loss: 4.1148 - val_acc: 0.5230\n",
      "Epoch 88/100\n",
      "50000/50000 [==============================] - 3s 56us/step - loss: 0.0653 - acc: 0.9787 - val_loss: 3.9749 - val_acc: 0.5256\n",
      "Epoch 89/100\n",
      "50000/50000 [==============================] - 3s 55us/step - loss: 0.0409 - acc: 0.9865 - val_loss: 4.1389 - val_acc: 0.5284\n",
      "Epoch 90/100\n",
      "50000/50000 [==============================] - 3s 55us/step - loss: 0.0591 - acc: 0.9810 - val_loss: 4.1194 - val_acc: 0.5256\n",
      "Epoch 91/100\n",
      "50000/50000 [==============================] - 3s 55us/step - loss: 0.0835 - acc: 0.9732 - val_loss: 3.9478 - val_acc: 0.5261\n",
      "Epoch 92/100\n",
      "50000/50000 [==============================] - 3s 55us/step - loss: 0.0595 - acc: 0.9805 - val_loss: 4.1085 - val_acc: 0.5211\n",
      "Epoch 93/100\n",
      "50000/50000 [==============================] - 3s 56us/step - loss: 0.0666 - acc: 0.9797 - val_loss: 3.9913 - val_acc: 0.5264\n",
      "Epoch 94/100\n",
      "50000/50000 [==============================] - 3s 55us/step - loss: 0.0719 - acc: 0.9774 - val_loss: 3.9888 - val_acc: 0.5260\n",
      "Epoch 95/100\n",
      "50000/50000 [==============================] - 3s 55us/step - loss: 0.0414 - acc: 0.9865 - val_loss: 4.1559 - val_acc: 0.5260\n",
      "Epoch 96/100\n",
      "50000/50000 [==============================] - 3s 55us/step - loss: 0.0673 - acc: 0.9785 - val_loss: 4.1560 - val_acc: 0.5196\n",
      "Epoch 97/100\n",
      "50000/50000 [==============================] - 3s 55us/step - loss: 0.0573 - acc: 0.9815 - val_loss: 4.0226 - val_acc: 0.5256\n",
      "Epoch 98/100\n",
      "50000/50000 [==============================] - 3s 55us/step - loss: 0.0610 - acc: 0.9811 - val_loss: 4.1078 - val_acc: 0.5290\n",
      "Epoch 99/100\n",
      "50000/50000 [==============================] - 3s 55us/step - loss: 0.0649 - acc: 0.9792 - val_loss: 4.0471 - val_acc: 0.5321\n",
      "Epoch 100/100\n",
      "50000/50000 [==============================] - 3s 55us/step - loss: 0.0696 - acc: 0.9777 - val_loss: 4.0496 - val_acc: 0.5253\n"
     ]
    },
    {
     "data": {
      "text/plain": [
       "<keras.callbacks.History at 0x1a9207ff860>"
      ]
     },
     "execution_count": 67,
     "metadata": {},
     "output_type": "execute_result"
    }
   ],
   "source": [
    "model.fit(x_train, y_train, \n",
    "          epochs=EPOCHS, \n",
    "          batch_size=BATCH_SIZE, \n",
    "          validation_data=(x_test, y_test), \n",
    "          shuffle=True)"
   ]
  },
  {
   "cell_type": "code",
   "execution_count": 69,
   "metadata": {},
   "outputs": [
    {
     "data": {
      "image/png": "[encoded data removed]",
      "text/plain": [
       "<Figure size 432x288 with 1 Axes>"
      ]
     },
     "metadata": {},
     "output_type": "display_data"
    },
    {
     "data": {
      "image/png": "[encoded data removed]",
      "text/plain": [
       "<Figure size 432x288 with 1 Axes>"
      ]
     },
     "metadata": {},
     "output_type": "display_data"
    }
   ],
   "source": [
    "import matplotlib.pyplot as plt\n",
    "%matplotlib inline\n",
    "\n",
    "train_loss = model.history.history[\"loss\"]\n",
    "valid_loss = model.history.history[\"val_loss\"]\n",
    "\n",
    "train_acc = model.history.history[\"acc\"]\n",
    "valid_acc = model.history.history[\"val_acc\"]\n",
    "\n",
    "plt.plot(range(len(train_loss)), train_loss, label=\"train loss\")\n",
    "plt.plot(range(len(valid_loss)), valid_loss, label=\"valid loss\")\n",
    "plt.legend()\n",
    "plt.title(\"Loss\")\n",
    "plt.show()\n",
    "\n",
    "plt.plot(range(len(train_acc)), train_acc, label=\"train accuracy\")\n",
    "plt.plot(range(len(valid_acc)), valid_acc, label=\"valid accuracy\")\n",
    "plt.legend()\n",
    "plt.title(\"Accuracy\")\n",
    "plt.show()"
   ]
  },
  {
   "cell_type": "code",
   "execution_count": null,
   "metadata": {},
   "outputs": [],
   "source": []
  }
 ],
 "metadata": {
  "kernelspec": {
   "display_name": "Python 3",
   "language": "python",
   "name": "python3"
  },
  "language_info": {
   "codemirror_mode": {
    "name": "ipython",
    "version": 3
   },
   "file_extension": ".py",
   "mimetype": "text/x-python",
   "name": "python",
   "nbconvert_exporter": "python",
   "pygments_lexer": "ipython3",
   "version": "3.6.6"
  }
 },
 "nbformat": 4,
 "nbformat_minor": 2
}
