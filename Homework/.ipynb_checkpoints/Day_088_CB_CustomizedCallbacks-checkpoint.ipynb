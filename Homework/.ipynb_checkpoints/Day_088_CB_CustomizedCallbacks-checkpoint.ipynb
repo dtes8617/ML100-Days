{
 "cells": [
  {
   "cell_type": "code",
   "execution_count": 1,
   "metadata": {},
   "outputs": [
    {
     "name": "stderr",
     "output_type": "stream",
     "text": [
      "Using TensorFlow backend.\n"
     ]
    }
   ],
   "source": [
    "import os\n",
    "import keras\n",
    "\n",
    "# Disable GPU\n",
    "os.environ[\"CUDA_VISIBLE_DEVICES\"] = \"\""
   ]
  },
  {
   "cell_type": "code",
   "execution_count": 2,
   "metadata": {},
   "outputs": [],
   "source": [
    "train, test = keras.datasets.cifar10.load_data()"
   ]
  },
  {
   "cell_type": "code",
   "execution_count": 3,
   "metadata": {},
   "outputs": [],
   "source": [
    "## 資料前處理\n",
    "def preproc_x(x, flatten=True):\n",
    "    x = x / 255.\n",
    "    if flatten:\n",
    "        x = x.reshape((len(x), -1))\n",
    "    return x\n",
    "\n",
    "def preproc_y(y, num_classes=10):\n",
    "    if y.shape[-1] == 1:\n",
    "        y = keras.utils.to_categorical(y, num_classes)\n",
    "    return y    "
   ]
  },
  {
   "cell_type": "code",
   "execution_count": 4,
   "metadata": {},
   "outputs": [],
   "source": [
    "x_train, y_train = train\n",
    "x_test, y_test = test\n",
    "\n",
    "# Preproc the inputs\n",
    "x_train = preproc_x(x_train)\n",
    "x_test = preproc_x(x_test)\n",
    "\n",
    "# Preprc the outputs\n",
    "y_train = preproc_y(y_train)\n",
    "y_test = preproc_y(y_test)"
   ]
  },
  {
   "cell_type": "code",
   "execution_count": 5,
   "metadata": {},
   "outputs": [],
   "source": [
    "from keras.layers import BatchNormalization\n",
    "def build_mlp(input_shape, output_units=10, num_neurons=[512, 256, 128]):\n",
    "    input_layer = keras.layers.Input(input_shape)\n",
    "    \n",
    "    for i, n_units in enumerate(num_neurons):\n",
    "        if i == 0:\n",
    "            x = keras.layers.Dense(units=n_units, \n",
    "                                   activation=\"relu\", \n",
    "                                   name=\"hidden_layer\"+str(i+1))(input_layer)\n",
    "            x = BatchNormalization()(x)\n",
    "        else:\n",
    "            x = keras.layers.Dense(units=n_units, \n",
    "                                   activation=\"relu\", \n",
    "                                   name=\"hidden_layer\"+str(i+1))(x)\n",
    "            x = BatchNormalization()(x)\n",
    "    \n",
    "    out = keras.layers.Dense(units=output_units, activation=\"softmax\", name=\"output\")(x)\n",
    "    \n",
    "    model = keras.models.Model(inputs=[input_layer], outputs=[out])\n",
    "    return model"
   ]
  },
  {
   "cell_type": "code",
   "execution_count": 6,
   "metadata": {},
   "outputs": [],
   "source": [
    "## 超參數設定\n",
    "LEARNING_RATE = 1e-3\n",
    "EPOCHS = 50\n",
    "BATCH_SIZE = 1024\n",
    "MOMENTUM = 0.95"
   ]
  },
  {
   "cell_type": "code",
   "execution_count": 7,
   "metadata": {},
   "outputs": [],
   "source": [
    "# 載入 Callbacks\n",
    "from keras.callbacks import Callback\n",
    "from sklearn.metrics import f1_score\n",
    "\n",
    "class f1sc(Callback):\n",
    "    def on_train_begin(self, epoch, logs = {}):\n",
    "        logs = logs or {}\n",
    "        record_items = [\"val_auc\", \"val_f1sc\", \"val_fp\", \"val_fn\", \"val_tp\", \"val_tn\"]\n",
    "        for i in record_items:\n",
    "            if i not in self.params['metrics']:\n",
    "                self.params['metrics'].append(i)\n",
    "    \n",
    "    def on_epoch_end(self, epoch, logs = {}, thres=0.5):\n",
    "        logs = logs or {}\n",
    "        y_true = self.validation_data[1].argmax(axis = 1)\n",
    "        y_pred = self.model.predict(self.validation_data[0])\n",
    "        y_pred = (y_pred[:, 1] >= thres) * 1\n",
    "        \n",
    "        logs[\"val_f1sc\"] = f1_score(y_true = y_true, y_pred = y_pred, average=\"weighted\")\n",
    "        \n",
    "log_f1sc = f1sc()"
   ]
  },
  {
   "cell_type": "code",
   "execution_count": 8,
   "metadata": {
    "scrolled": true
   },
   "outputs": [
    {
     "name": "stdout",
     "output_type": "stream",
     "text": [
      "WARNING:tensorflow:From C:\\Users\\Jude\\Anaconda3\\lib\\site-packages\\tensorflow\\python\\framework\\op_def_library.py:263: colocate_with (from tensorflow.python.framework.ops) is deprecated and will be removed in a future version.\n",
      "Instructions for updating:\n",
      "Colocations handled automatically by placer.\n",
      "_________________________________________________________________\n",
      "Layer (type)                 Output Shape              Param #   \n",
      "=================================================================\n",
      "input_1 (InputLayer)         (None, 3072)              0         \n",
      "_________________________________________________________________\n",
      "hidden_layer1 (Dense)        (None, 512)               1573376   \n",
      "_________________________________________________________________\n",
      "batch_normalization_1 (Batch (None, 512)               2048      \n",
      "_________________________________________________________________\n",
      "hidden_layer2 (Dense)        (None, 256)               131328    \n",
      "_________________________________________________________________\n",
      "batch_normalization_2 (Batch (None, 256)               1024      \n",
      "_________________________________________________________________\n",
      "hidden_layer3 (Dense)        (None, 128)               32896     \n",
      "_________________________________________________________________\n",
      "batch_normalization_3 (Batch (None, 128)               512       \n",
      "_________________________________________________________________\n",
      "output (Dense)               (None, 10)                1290      \n",
      "=================================================================\n",
      "Total params: 1,742,474\n",
      "Trainable params: 1,740,682\n",
      "Non-trainable params: 1,792\n",
      "_________________________________________________________________\n",
      "WARNING:tensorflow:From C:\\Users\\Jude\\Anaconda3\\lib\\site-packages\\tensorflow\\python\\ops\\math_ops.py:3066: to_int32 (from tensorflow.python.ops.math_ops) is deprecated and will be removed in a future version.\n",
      "Instructions for updating:\n",
      "Use tf.cast instead.\n",
      "Train on 50000 samples, validate on 10000 samples\n",
      "Epoch 1/50\n",
      "50000/50000 [==============================] - 5s 104us/step - loss: 2.1869 - acc: 0.2705 - val_loss: 2.0622 - val_acc: 0.3135\n",
      "Epoch 2/50\n",
      " 3072/50000 [>.............................] - ETA: 1s - loss: 1.7693 - acc: 0.3770"
     ]
    },
    {
     "name": "stderr",
     "output_type": "stream",
     "text": [
      "C:\\Users\\Jude\\Anaconda3\\lib\\site-packages\\sklearn\\metrics\\classification.py:1143: UndefinedMetricWarning: F-score is ill-defined and being set to 0.0 in labels with no predicted samples.\n",
      "  'precision', 'predicted', average, warn_for)\n"
     ]
    },
    {
     "name": "stdout",
     "output_type": "stream",
     "text": [
      "50000/50000 [==============================] - 2s 45us/step - loss: 1.7276 - acc: 0.3924 - val_loss: 1.7841 - val_acc: 0.3869\n",
      "Epoch 3/50\n",
      "50000/50000 [==============================] - 2s 43us/step - loss: 1.6057 - acc: 0.4352 - val_loss: 1.6741 - val_acc: 0.4127\n",
      "Epoch 4/50\n",
      "50000/50000 [==============================] - 2s 42us/step - loss: 1.5349 - acc: 0.4607 - val_loss: 1.6328 - val_acc: 0.4265\n",
      "Epoch 5/50\n",
      "50000/50000 [==============================] - 2s 44us/step - loss: 1.4803 - acc: 0.4804 - val_loss: 1.6069 - val_acc: 0.4344\n",
      "Epoch 6/50\n",
      "50000/50000 [==============================] - 2s 43us/step - loss: 1.4368 - acc: 0.4957 - val_loss: 1.5708 - val_acc: 0.4462\n",
      "Epoch 7/50\n",
      "50000/50000 [==============================] - 2s 43us/step - loss: 1.3976 - acc: 0.5098 - val_loss: 1.5373 - val_acc: 0.4578\n",
      "Epoch 8/50\n",
      "50000/50000 [==============================] - 2s 42us/step - loss: 1.3636 - acc: 0.5227 - val_loss: 1.5400 - val_acc: 0.4573\n",
      "Epoch 9/50\n",
      "50000/50000 [==============================] - 2s 42us/step - loss: 1.3315 - acc: 0.5353 - val_loss: 1.5345 - val_acc: 0.4609\n",
      "Epoch 10/50\n",
      "50000/50000 [==============================] - 2s 42us/step - loss: 1.3026 - acc: 0.5452 - val_loss: 1.4945 - val_acc: 0.4701\n",
      "Epoch 11/50\n",
      "50000/50000 [==============================] - 2s 43us/step - loss: 1.2740 - acc: 0.5556 - val_loss: 1.4985 - val_acc: 0.4692\n",
      "Epoch 12/50\n",
      "50000/50000 [==============================] - 2s 43us/step - loss: 1.2490 - acc: 0.5653 - val_loss: 1.5028 - val_acc: 0.4690\n",
      "Epoch 13/50\n",
      "50000/50000 [==============================] - 2s 42us/step - loss: 1.2222 - acc: 0.5752 - val_loss: 1.4777 - val_acc: 0.4824\n",
      "Epoch 14/50\n",
      "50000/50000 [==============================] - 2s 43us/step - loss: 1.1980 - acc: 0.5836 - val_loss: 1.4786 - val_acc: 0.4792\n",
      "Epoch 15/50\n",
      "50000/50000 [==============================] - 2s 42us/step - loss: 1.1751 - acc: 0.5929 - val_loss: 1.4619 - val_acc: 0.4889\n",
      "Epoch 16/50\n",
      "50000/50000 [==============================] - 2s 43us/step - loss: 1.1505 - acc: 0.6014 - val_loss: 1.4677 - val_acc: 0.4858\n",
      "Epoch 17/50\n",
      "50000/50000 [==============================] - 2s 44us/step - loss: 1.1285 - acc: 0.6099 - val_loss: 1.4590 - val_acc: 0.4862\n",
      "Epoch 18/50\n",
      "50000/50000 [==============================] - 2s 44us/step - loss: 1.1080 - acc: 0.6190 - val_loss: 1.4609 - val_acc: 0.4879\n",
      "Epoch 19/50\n",
      "50000/50000 [==============================] - 2s 49us/step - loss: 1.0843 - acc: 0.6279 - val_loss: 1.4638 - val_acc: 0.4844\n",
      "Epoch 20/50\n",
      "50000/50000 [==============================] - 2s 43us/step - loss: 1.0614 - acc: 0.6373 - val_loss: 1.4509 - val_acc: 0.4914\n",
      "Epoch 21/50\n",
      "50000/50000 [==============================] - 3s 50us/step - loss: 1.0395 - acc: 0.6455 - val_loss: 1.4517 - val_acc: 0.4924\n",
      "Epoch 22/50\n",
      "50000/50000 [==============================] - 2s 43us/step - loss: 1.0196 - acc: 0.6534 - val_loss: 1.4627 - val_acc: 0.4887\n",
      "Epoch 23/50\n",
      "50000/50000 [==============================] - 2s 43us/step - loss: 0.9984 - acc: 0.6614 - val_loss: 1.4591 - val_acc: 0.4923\n",
      "Epoch 24/50\n",
      "50000/50000 [==============================] - 2s 48us/step - loss: 0.9796 - acc: 0.6692 - val_loss: 1.4650 - val_acc: 0.4909\n",
      "Epoch 25/50\n",
      "50000/50000 [==============================] - 2s 45us/step - loss: 0.9593 - acc: 0.6766 - val_loss: 1.4730 - val_acc: 0.4872\n",
      "Epoch 26/50\n",
      "50000/50000 [==============================] - 2s 45us/step - loss: 0.9372 - acc: 0.6845 - val_loss: 1.4835 - val_acc: 0.4884\n",
      "Epoch 27/50\n",
      "50000/50000 [==============================] - 3s 56us/step - loss: 0.9176 - acc: 0.6934 - val_loss: 1.4815 - val_acc: 0.4875\n",
      "Epoch 28/50\n",
      "50000/50000 [==============================] - 2s 44us/step - loss: 0.8989 - acc: 0.7009 - val_loss: 1.4852 - val_acc: 0.4919\n",
      "Epoch 29/50\n",
      "50000/50000 [==============================] - 2s 42us/step - loss: 0.8774 - acc: 0.7078 - val_loss: 1.4749 - val_acc: 0.4968\n",
      "Epoch 30/50\n",
      "50000/50000 [==============================] - 2s 42us/step - loss: 0.8587 - acc: 0.7163 - val_loss: 1.5018 - val_acc: 0.4904\n",
      "Epoch 31/50\n",
      "50000/50000 [==============================] - 2s 48us/step - loss: 0.8401 - acc: 0.7226 - val_loss: 1.4958 - val_acc: 0.4911\n",
      "Epoch 32/50\n",
      "50000/50000 [==============================] - 2s 44us/step - loss: 0.8214 - acc: 0.7312 - val_loss: 1.5208 - val_acc: 0.4907\n",
      "Epoch 33/50\n",
      "50000/50000 [==============================] - 2s 46us/step - loss: 0.7993 - acc: 0.7381 - val_loss: 1.5113 - val_acc: 0.4895\n",
      "Epoch 34/50\n",
      "50000/50000 [==============================] - 2s 47us/step - loss: 0.7822 - acc: 0.7454 - val_loss: 1.5251 - val_acc: 0.4849\n",
      "Epoch 35/50\n",
      "50000/50000 [==============================] - 2s 48us/step - loss: 0.7627 - acc: 0.7532 - val_loss: 1.5261 - val_acc: 0.4916\n",
      "Epoch 36/50\n",
      "50000/50000 [==============================] - 2s 47us/step - loss: 0.7444 - acc: 0.7596 - val_loss: 1.5382 - val_acc: 0.4893\n",
      "Epoch 37/50\n",
      "50000/50000 [==============================] - 2s 45us/step - loss: 0.7247 - acc: 0.7686 - val_loss: 1.5462 - val_acc: 0.4893\n",
      "Epoch 38/50\n",
      "50000/50000 [==============================] - 2s 45us/step - loss: 0.7046 - acc: 0.7771 - val_loss: 1.5477 - val_acc: 0.4893\n",
      "Epoch 39/50\n",
      "50000/50000 [==============================] - 2s 45us/step - loss: 0.6876 - acc: 0.7827 - val_loss: 1.5503 - val_acc: 0.4886\n",
      "Epoch 40/50\n",
      "50000/50000 [==============================] - 2s 44us/step - loss: 0.6700 - acc: 0.7923 - val_loss: 1.5683 - val_acc: 0.4883\n",
      "Epoch 41/50\n",
      "50000/50000 [==============================] - 2s 46us/step - loss: 0.6511 - acc: 0.7977 - val_loss: 1.5707 - val_acc: 0.4878\n",
      "Epoch 42/50\n",
      "50000/50000 [==============================] - 2s 45us/step - loss: 0.6327 - acc: 0.8052 - val_loss: 1.5953 - val_acc: 0.4875\n",
      "Epoch 43/50\n",
      "50000/50000 [==============================] - 2s 45us/step - loss: 0.6165 - acc: 0.8103 - val_loss: 1.6021 - val_acc: 0.4858\n",
      "Epoch 44/50\n",
      "50000/50000 [==============================] - 2s 44us/step - loss: 0.5978 - acc: 0.8187 - val_loss: 1.6133 - val_acc: 0.4868\n",
      "Epoch 45/50\n",
      "50000/50000 [==============================] - 2s 44us/step - loss: 0.5812 - acc: 0.8261 - val_loss: 1.6212 - val_acc: 0.4892\n",
      "Epoch 46/50\n",
      "50000/50000 [==============================] - 2s 44us/step - loss: 0.5644 - acc: 0.8333 - val_loss: 1.6400 - val_acc: 0.4840\n",
      "Epoch 47/50\n",
      "50000/50000 [==============================] - 2s 44us/step - loss: 0.5485 - acc: 0.8393 - val_loss: 1.6408 - val_acc: 0.4861\n",
      "Epoch 48/50\n",
      "50000/50000 [==============================] - 2s 45us/step - loss: 0.5312 - acc: 0.8453 - val_loss: 1.6687 - val_acc: 0.4845\n",
      "Epoch 49/50\n",
      "50000/50000 [==============================] - 2s 44us/step - loss: 0.5143 - acc: 0.8526 - val_loss: 1.6851 - val_acc: 0.4775\n",
      "Epoch 50/50\n",
      "50000/50000 [==============================] - 2s 44us/step - loss: 0.4988 - acc: 0.8584 - val_loss: 1.6974 - val_acc: 0.4832\n"
     ]
    }
   ],
   "source": [
    "model = build_mlp(input_shape=x_train.shape[1:])\n",
    "model.summary()\n",
    "optimizer = keras.optimizers.SGD(lr=LEARNING_RATE, nesterov=True, momentum=MOMENTUM)\n",
    "model.compile(loss=\"categorical_crossentropy\", metrics=[\"accuracy\"], optimizer=optimizer)\n",
    "\n",
    "model.fit(x_train, y_train, \n",
    "          epochs=EPOCHS, \n",
    "          batch_size=BATCH_SIZE, \n",
    "          validation_data=(x_test, y_test), \n",
    "          shuffle=True,\n",
    "          callbacks=[log_f1sc]\n",
    "         )\n",
    "\n",
    "# Collect results\n",
    "train_loss = model.history.history[\"loss\"]\n",
    "valid_loss = model.history.history[\"val_loss\"]\n",
    "train_acc = model.history.history[\"acc\"]\n",
    "valid_acc = model.history.history[\"val_acc\"]\n",
    "\n",
    "valid_f1sc = model.history.history['val_f1sc']"
   ]
  },
  {
   "cell_type": "code",
   "execution_count": 10,
   "metadata": {},
   "outputs": [
    {
     "data": {
      "image/png": "[encoded data removed]",
      "text/plain": [
       "<Figure size 432x288 with 1 Axes>"
      ]
     },
     "metadata": {},
     "output_type": "display_data"
    },
    {
     "data": {
      "image/png": "[encoded data removed]",
      "text/plain": [
       "<Figure size 432x288 with 1 Axes>"
      ]
     },
     "metadata": {},
     "output_type": "display_data"
    },
    {
     "data": {
      "image/png": "[encoded data removed]",
      "text/plain": [
       "<Figure size 432x288 with 1 Axes>"
      ]
     },
     "metadata": {},
     "output_type": "display_data"
    }
   ],
   "source": [
    "import matplotlib.pyplot as plt\n",
    "%matplotlib inline\n",
    "\n",
    "plt.plot(range(len(train_loss)), train_loss, label=\"train loss\")\n",
    "plt.plot(range(len(valid_loss)), valid_loss, label=\"valid loss\")\n",
    "plt.legend()\n",
    "plt.title(\"Loss\")\n",
    "plt.show()\n",
    "\n",
    "plt.plot(range(len(train_acc)), train_acc, label=\"train accuracy\")\n",
    "plt.plot(range(len(valid_acc)), valid_acc, label=\"valid accuracy\")\n",
    "plt.legend()\n",
    "plt.title(\"Accuracy\")\n",
    "plt.show()\n",
    "\n",
    "plt.plot(range(len(valid_f1sc)), valid_f1sc, label=\"valid f1-score\")\n",
    "plt.legend()\n",
    "plt.title(\"F1-score\")\n",
    "plt.show()\n"
   ]
  },
  {
   "cell_type": "markdown",
   "metadata": {},
   "source": [
    "## Work\n",
    "1. 請嘗試寫一個 callback 用來記錄各類別在訓練過程中，對驗證集的 True Positive 與 True Negative"
   ]
  }
 ],
 "metadata": {
  "kernelspec": {
   "display_name": "Python 3",
   "language": "python",
   "name": "python3"
  },
  "language_info": {
   "codemirror_mode": {
    "name": "ipython",
    "version": 3
   },
   "file_extension": ".py",
   "mimetype": "text/x-python",
   "name": "python",
   "nbconvert_exporter": "python",
   "pygments_lexer": "ipython3",
   "version": "3.6.6"
  }
 },
 "nbformat": 4,
 "nbformat_minor": 2
}
