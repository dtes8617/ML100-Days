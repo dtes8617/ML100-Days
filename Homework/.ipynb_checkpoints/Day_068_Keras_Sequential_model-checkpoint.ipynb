{
 "cells": [
  {
   "cell_type": "code",
   "execution_count": 1,
   "metadata": {
    "colab": {
     "base_uri": "https://localhost:8080/",
     "height": 68
    },
    "colab_type": "code",
    "id": "lFwF7CW4flae",
    "outputId": "67c94fd8-b596-4463-ef52-fd206276be85"
   },
   "outputs": [
    {
     "name": "stderr",
     "output_type": "stream",
     "text": [
      "Using TensorFlow backend.\n"
     ]
    }
   ],
   "source": [
    "import keras\n",
    "from keras.datasets import cifar10\n",
    "from keras.models import Sequential, load_model\n",
    "from keras.layers import Dense, Dropout, Activation, Flatten\n",
    "from keras.layers import Conv2D, MaxPooling2D\n",
    "import matplotlib.pyplot as plt\n",
    "\n",
    "batch_size = 16\n",
    "num_classes = 10\n",
    "epochs = 10\n",
    "\n",
    "# The data, shuffled and split between train and test sets:\n",
    "(x_train, y_train), (x_test, y_test) = cifar10.load_data()\n"
   ]
  },
  {
   "cell_type": "code",
   "execution_count": 2,
   "metadata": {
    "colab": {},
    "colab_type": "code",
    "id": "8OTDDW59flal"
   },
   "outputs": [],
   "source": [
    " #Convert class vectors to binary class matrices.\n",
    "y_train = keras.utils.to_categorical(y_train, num_classes)\n",
    "y_test = keras.utils.to_categorical(y_test, num_classes)\n",
    "\n",
    "x_train = x_train.astype('float32') / 255.0\n",
    "x_test = x_test.astype('float32') / 255.0\n"
   ]
  },
  {
   "cell_type": "code",
   "execution_count": 3,
   "metadata": {
    "colab": {
     "base_uri": "https://localhost:8080/",
     "height": 442
    },
    "colab_type": "code",
    "id": "-lxnF6QSflan",
    "outputId": "8608588e-431c-4bcb-edc1-c95048ea829c"
   },
   "outputs": [
    {
     "name": "stdout",
     "output_type": "stream",
     "text": [
      "WARNING:tensorflow:From C:\\Users\\Jude\\Anaconda3\\lib\\site-packages\\tensorflow\\python\\framework\\op_def_library.py:263: colocate_with (from tensorflow.python.framework.ops) is deprecated and will be removed in a future version.\n",
      "Instructions for updating:\n",
      "Colocations handled automatically by placer.\n",
      "_________________________________________________________________\n",
      "Layer (type)                 Output Shape              Param #   \n",
      "=================================================================\n",
      "conv2d_1 (Conv2D)            (None, 32, 32, 64)        1792      \n",
      "_________________________________________________________________\n",
      "max_pooling2d_1 (MaxPooling2 (None, 16, 16, 64)        0         \n",
      "_________________________________________________________________\n",
      "flatten_1 (Flatten)          (None, 16384)             0         \n",
      "_________________________________________________________________\n",
      "dense_1 (Dense)              (None, 1024)              16778240  \n",
      "_________________________________________________________________\n",
      "activation_1 (Activation)    (None, 1024)              0         \n",
      "_________________________________________________________________\n",
      "dense_2 (Dense)              (None, 10)                10250     \n",
      "_________________________________________________________________\n",
      "activation_2 (Activation)    (None, 10)                0         \n",
      "=================================================================\n",
      "Total params: 16,790,282\n",
      "Trainable params: 16,790,282\n",
      "Non-trainable params: 0\n",
      "_________________________________________________________________\n",
      "None\n"
     ]
    }
   ],
   "source": [
    "# build our CNN model\n",
    "model = Sequential()\n",
    "model.add(Conv2D(filters=64,kernel_size=(3,3),\n",
    "                 input_shape=(32, 32,3), \n",
    "                 activation='relu', \n",
    "                 padding='same'))\n",
    "model.add(MaxPooling2D(pool_size=(2, 2)))\n",
    "\n",
    "model.add(Flatten())\n",
    "model.add(Dense(1024))\n",
    "model.add(Activation('relu'))\n",
    "model.add(Dense(num_classes))\n",
    "model.add(Activation('softmax'))\n",
    "\n",
    "print(model.summary())"
   ]
  },
  {
   "cell_type": "code",
   "execution_count": 5,
   "metadata": {
    "colab": {
     "base_uri": "https://localhost:8080/",
     "height": 459
    },
    "colab_type": "code",
    "id": "wn05Wun7flar",
    "outputId": "589cab16-0442-4587-dbff-f3458458c699",
    "scrolled": false
   },
   "outputs": [
    {
     "name": "stdout",
     "output_type": "stream",
     "text": [
      "Train on 40000 samples, validate on 10000 samples\n",
      "Epoch 1/10\n",
      "40000/40000 [==============================] - 7s 178us/step - loss: 0.2331 - acc: 0.9288 - val_loss: 1.2285 - val_acc: 0.6692\n",
      "Epoch 2/10\n",
      "40000/40000 [==============================] - 6s 148us/step - loss: 0.1671 - acc: 0.9520 - val_loss: 1.2908 - val_acc: 0.6697\n",
      "Epoch 3/10\n",
      "40000/40000 [==============================] - 6s 149us/step - loss: 0.1193 - acc: 0.9690 - val_loss: 1.3763 - val_acc: 0.6777\n",
      "Epoch 4/10\n",
      "40000/40000 [==============================] - 6s 148us/step - loss: 0.0932 - acc: 0.9754 - val_loss: 1.4612 - val_acc: 0.6767\n",
      "Epoch 5/10\n",
      "40000/40000 [==============================] - 6s 149us/step - loss: 0.0810 - acc: 0.9781 - val_loss: 1.5213 - val_acc: 0.6777\n",
      "Epoch 6/10\n",
      "40000/40000 [==============================] - 6s 149us/step - loss: 0.0630 - acc: 0.9839 - val_loss: 1.6698 - val_acc: 0.6627\n",
      "Epoch 7/10\n",
      "40000/40000 [==============================] - 6s 150us/step - loss: 0.0550 - acc: 0.9865 - val_loss: 1.7027 - val_acc: 0.6642\n",
      "Epoch 8/10\n",
      "40000/40000 [==============================] - 6s 150us/step - loss: 0.0427 - acc: 0.9895 - val_loss: 1.8317 - val_acc: 0.6545\n",
      "Epoch 9/10\n",
      "40000/40000 [==============================] - 6s 150us/step - loss: 0.0548 - acc: 0.9849 - val_loss: 1.8012 - val_acc: 0.6626\n",
      "Epoch 10/10\n",
      "40000/40000 [==============================] - 6s 151us/step - loss: 0.0500 - acc: 0.9860 - val_loss: 1.9289 - val_acc: 0.6582\n",
      "10000/10000 [==============================] - 1s 76us/step\n",
      "Test accuracy: 0.6502\n"
     ]
    }
   ],
   "source": [
    "# initiate Adam optimizer\n",
    "opt = keras.optimizers.Adam()\n",
    "\n",
    "# Let's train the model using Adam\n",
    "model.compile(loss='categorical_crossentropy',optimizer=opt,metrics=['accuracy'])\n",
    "\n",
    "model_history = model.fit(x_train, y_train, validation_split=0.2, epochs=10, batch_size=128, verbose=1)  \n",
    "\n",
    "# Score trained model.\n",
    "scores = model.evaluate(x_test, y_test, verbose=1)\n",
    "print('Test accuracy:', scores[1])"
   ]
  },
  {
   "cell_type": "code",
   "execution_count": 0,
   "metadata": {
    "colab": {},
    "colab_type": "code",
    "id": "0jY2gfKsflat"
   },
   "outputs": [],
   "source": []
  }
 ],
 "metadata": {
  "accelerator": "GPU",
  "colab": {
   "name": "Day_068_Keras_Sequential_model.ipynb",
   "provenance": [],
   "version": "0.3.2"
  },
  "kernelspec": {
   "display_name": "Python 3",
   "language": "python",
   "name": "python3"
  },
  "language_info": {
   "codemirror_mode": {
    "name": "ipython",
    "version": 3
   },
   "file_extension": ".py",
   "mimetype": "text/x-python",
   "name": "python",
   "nbconvert_exporter": "python",
   "pygments_lexer": "ipython3",
   "version": "3.6.6"
  }
 },
 "nbformat": 4,
 "nbformat_minor": 1
}
