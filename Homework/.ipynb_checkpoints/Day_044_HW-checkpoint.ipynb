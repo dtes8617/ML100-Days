{
 "cells": [
  {
   "cell_type": "markdown",
   "metadata": {},
   "source": [
    "## 作業\n",
    "\n",
    "1. 試著調整 RandomForestClassifier(...) 中的參數，並觀察是否會改變結果？\n",
    "2. 改用其他資料集 (boston, wine)，並與回歸模型與決策樹的結果進行比較"
   ]
  },
  {
   "cell_type": "markdown",
   "metadata": {},
   "source": [
    "# HW1"
   ]
  },
  {
   "cell_type": "code",
   "execution_count": 67,
   "metadata": {},
   "outputs": [
    {
     "name": "stdout",
     "output_type": "stream",
     "text": [
      "Acuuracy:  0.9736842105263158\n",
      "['sepal length (cm)', 'sepal width (cm)', 'petal length (cm)', 'petal width (cm)']\n",
      "Feature importance:  [0.08034835 0.02741552 0.31134752 0.58088861]\n"
     ]
    }
   ],
   "source": [
    "from sklearn import datasets, metrics\n",
    "from sklearn.ensemble import RandomForestClassifier\n",
    "from sklearn.model_selection import train_test_split\n",
    "# 讀取鳶尾花資料集\n",
    "iris = datasets.load_iris()\n",
    "\n",
    "# 切分訓練集/測試集\n",
    "x_train, x_test, y_train, y_test = train_test_split(iris.data, iris.target, test_size=0.25, random_state=4)\n",
    "\n",
    "# 建立模型\n",
    "clf = RandomForestClassifier()\n",
    "\n",
    "# 訓練模型\n",
    "clf.fit(x_train, y_train)\n",
    "\n",
    "# 預測測試集\n",
    "y_pred = clf.predict(x_test)\n",
    "acc = metrics.accuracy_score(y_test, y_pred)\n",
    "print(\"Acuuracy: \", acc)\n",
    "print(iris.feature_names)\n",
    "print(\"Feature importance: \", clf.feature_importances_)"
   ]
  },
  {
   "cell_type": "code",
   "execution_count": 68,
   "metadata": {},
   "outputs": [],
   "source": [
    "from sklearn.model_selection import GridSearchCV\n",
    "import numpy as np"
   ]
  },
  {
   "cell_type": "code",
   "execution_count": 69,
   "metadata": {},
   "outputs": [
    {
     "name": "stdout",
     "output_type": "stream",
     "text": [
      "Acuuracy:  0.9736842105263158\n",
      "['sepal length (cm)', 'sepal width (cm)', 'petal length (cm)', 'petal width (cm)']\n",
      "Feature importance:  [0.00083923 0.01721213 0.4997916  0.48215703]\n"
     ]
    }
   ],
   "source": [
    "parameters = {'max_features': range(1,5), 'n_estimators': [10,15,20]}\n",
    "clf = RandomForestClassifier(oob_score = True)\n",
    "clf_gridserch = GridSearchCV(clf, param_grid=parameters)\n",
    "clf_gridserch.fit(x_train, y_train)\n",
    "clf_best = clf_gridserch.best_estimator_\n",
    "\n",
    "y_pred = clf_best.predict(x_test)\n",
    "acc = metrics.accuracy_score(y_test, y_pred)\n",
    "print(\"Acuuracy: \", acc)\n",
    "print(iris.feature_names)\n",
    "print(\"Feature importance: \", clf_best.feature_importances_)"
   ]
  },
  {
   "cell_type": "code",
   "execution_count": 70,
   "metadata": {},
   "outputs": [
    {
     "data": {
      "text/plain": [
       "0.9196428571428571"
      ]
     },
     "execution_count": 70,
     "metadata": {},
     "output_type": "execute_result"
    }
   ],
   "source": [
    "clf_best.oob_score_"
   ]
  },
  {
   "cell_type": "markdown",
   "metadata": {},
   "source": [
    "# HW2"
   ]
  },
  {
   "cell_type": "code",
   "execution_count": 71,
   "metadata": {},
   "outputs": [],
   "source": [
    "from sklearn.datasets import load_boston, load_iris\n",
    "import pandas as pd\n",
    "import numpy as np\n",
    "from sklearn.model_selection import train_test_split, cross_val_score, GridSearchCV\n",
    "from sklearn.tree import DecisionTreeClassifier, DecisionTreeRegressor\n",
    "from sklearn.linear_model import LinearRegression, LogisticRegression, Lasso\n",
    "from sklearn.ensemble import GradientBoostingClassifier, GradientBoostingRegressor, RandomForestRegressor\n",
    "from sklearn.metrics import r2_score, mean_squared_error, accuracy_score\n",
    "import matplotlib.pyplot as plt\n",
    "import seaborn as sns\n",
    "import warnings\n",
    "%matplotlib inline"
   ]
  },
  {
   "cell_type": "code",
   "execution_count": 72,
   "metadata": {},
   "outputs": [],
   "source": [
    "warnings.filterwarnings(action='ignore')"
   ]
  },
  {
   "cell_type": "code",
   "execution_count": 73,
   "metadata": {},
   "outputs": [],
   "source": [
    "boston = load_boston()\n",
    "X_train, X_test, y_train, y_test = train_test_split(boston.data, boston.target, test_size = 0.2, random_state = 168)"
   ]
  },
  {
   "cell_type": "markdown",
   "metadata": {},
   "source": [
    "## Linear Regreesion"
   ]
  },
  {
   "cell_type": "code",
   "execution_count": 74,
   "metadata": {},
   "outputs": [
    {
     "name": "stdout",
     "output_type": "stream",
     "text": [
      "\n",
      "r_square: 0.7208043881775205\n",
      "MSE: 17.49300079038335\n",
      "\n"
     ]
    }
   ],
   "source": [
    "lr = LinearRegression()\n",
    "lr.fit(X_train, y_train)\n",
    "print(f'''\n",
    "r_square: {r2_score(y_test, lr.predict(X_test))}\n",
    "MSE: {mean_squared_error(y_test, lr.predict(X_test))}\n",
    "''')"
   ]
  },
  {
   "cell_type": "markdown",
   "metadata": {},
   "source": [
    "## Gradient Boosting Regressor"
   ]
  },
  {
   "cell_type": "code",
   "execution_count": 75,
   "metadata": {},
   "outputs": [
    {
     "name": "stdout",
     "output_type": "stream",
     "text": [
      "\n",
      "r_square: 0.9072420156767659\n",
      "MSE: 5.811751418616158\n",
      "importances: {'CRIM': 0.06804392743211866, 'ZN': 0.005417270854276163, 'INDUS': 0.08330719208054363, 'CHAS': 0.007630161558107628, 'NOX': 0.059413837922173814, 'RM': 0.20372375284798402, 'AGE': 0.07409185585616232, 'DIS': 0.15003596354196902, 'RAD': 0.018643616048115787, 'TAX': 0.04949851637838527, 'PTRATIO': 0.06650628754184983, 'B': 0.07756223426654806, 'LSTAT': 0.13612538367176583}\n",
      "\n"
     ]
    }
   ],
   "source": [
    "gbr = GradientBoostingRegressor()\n",
    "gbr.fit(X_train, y_train)\n",
    "print(f'''\n",
    "r_square: {r2_score(y_test, gbr.predict(X_test))}\n",
    "MSE: {mean_squared_error(y_test, gbr.predict(X_test))}\n",
    "importances: {dict(zip(boston.feature_names, gbr.feature_importances_))}\n",
    "''')"
   ]
  },
  {
   "cell_type": "markdown",
   "metadata": {},
   "source": [
    "## Random Forest"
   ]
  },
  {
   "cell_type": "code",
   "execution_count": 91,
   "metadata": {},
   "outputs": [
    {
     "data": {
      "text/plain": [
       "GridSearchCV(cv=None, error_score='raise',\n",
       "       estimator=RandomForestRegressor(bootstrap=True, criterion='mse', max_depth=None,\n",
       "           max_features='auto', max_leaf_nodes=None,\n",
       "           min_impurity_decrease=0.0, min_impurity_split=None,\n",
       "           min_samples_leaf=1, min_samples_split=2,\n",
       "           min_weight_fraction_leaf=0.0, n_estimators=10, n_jobs=1,\n",
       "           oob_score=True, random_state=123, verbose=0, warm_start=False),\n",
       "       fit_params=None, iid=True, n_jobs=1,\n",
       "       param_grid={'max_features': range(1, 14)}, pre_dispatch='2*n_jobs',\n",
       "       refit=True, return_train_score='warn', scoring=None, verbose=0)"
      ]
     },
     "execution_count": 91,
     "metadata": {},
     "output_type": "execute_result"
    }
   ],
   "source": [
    "rf = RandomForestRegressor(oob_score=True, random_state= 123)\n",
    "parameters = {'max_features': range(1, len(boston.feature_names)+1)}\n",
    "rf_gridSearch = GridSearchCV(rf, param_grid= parameters)\n",
    "rf_gridSearch.fit(X_train, y_train)"
   ]
  },
  {
   "cell_type": "code",
   "execution_count": 126,
   "metadata": {},
   "outputs": [
    {
     "data": {
      "text/plain": [
       "Text(0.5,1,'Number of features')"
      ]
     },
     "execution_count": 126,
     "metadata": {},
     "output_type": "execute_result"
    },
    {
     "data": {
      "image/png": "[encoded data removed]",
      "text/plain": [
       "<Figure size 864x432 with 1 Axes>"
      ]
     },
     "metadata": {},
     "output_type": "display_data"
    }
   ],
   "source": [
    "plt.figure(figsize=(12,6))\n",
    "g = sns.lineplot(x = range(1, len(boston.feature_names)+1), y = rf_gridSearch.cv_results_['mean_test_score'])\n",
    "ymin, ymax = g.get_yticks().min(), g.get_yticks().max()\n",
    "plt.vlines(ymin = ymin, ymax = ymax, x = np.sqrt(len(boston.feature_names)), colors='r', label = '$\\sqrt{M}$')\n",
    "plt.vlines(ymin = ymin, ymax = ymax, x = np.log1p(len(boston.feature_names)), colors='g', label = '$\\mathrm{log}M + 1$')\n",
    "plt.vlines(ymin = ymin, ymax = ymax, x = len(boston.feature_names)/2+1, colors='b', label = '$(k/2)+1$')\n",
    "plt.legend(loc = 4)\n",
    "plt.title('Number of features')"
   ]
  },
  {
   "cell_type": "code",
   "execution_count": 93,
   "metadata": {},
   "outputs": [
    {
     "name": "stdout",
     "output_type": "stream",
     "text": [
      "\n",
      "r_square: 0.9013809658449348\n",
      "MSE: 6.178975490196075\n",
      "importances: {'CRIM': 0.04509351946538402, 'ZN': 0.0018111547652372977, 'INDUS': 0.013107870480725018, 'CHAS': 0.0010789306656169922, 'NOX': 0.07210015206140177, 'RM': 0.38034719043771464, 'AGE': 0.013457606783428883, 'DIS': 0.06248037281580663, 'RAD': 0.001883410746232406, 'TAX': 0.016534305076083035, 'PTRATIO': 0.06542525834389716, 'B': 0.015909747273216958, 'LSTAT': 0.3107704810852553}\n",
      "\n"
     ]
    }
   ],
   "source": [
    "rf_best = rf_gridSearch.best_estimator_\n",
    "print(f'''\n",
    "r_square: {r2_score(y_test, rf_best.predict(X_test))}\n",
    "MSE: {mean_squared_error(y_test, rf_best.predict(X_test))}\n",
    "importances: {dict(zip(boston.feature_names, rf_best.feature_importances_))}\n",
    "''')"
   ]
  }
 ],
 "metadata": {
  "kernelspec": {
   "display_name": "Python 3",
   "language": "python",
   "name": "python3"
  },
  "language_info": {
   "codemirror_mode": {
    "name": "ipython",
    "version": 3
   },
   "file_extension": ".py",
   "mimetype": "text/x-python",
   "name": "python",
   "nbconvert_exporter": "python",
   "pygments_lexer": "ipython3",
   "version": "3.6.6"
  }
 },
 "nbformat": 4,
 "nbformat_minor": 2
}
