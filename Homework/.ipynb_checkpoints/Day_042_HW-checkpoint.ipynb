{
 "cells": [
  {
   "cell_type": "markdown",
   "metadata": {},
   "source": [
    "## 作業\n",
    "\n",
    "1. 試著調整 DecisionTreeClassifier(...) 中的參數，並觀察是否會改變結果？\n",
    "2. 改用其他資料集 (boston, wine)，並與回歸模型的結果進行比較"
   ]
  },
  {
   "cell_type": "code",
   "execution_count": 38,
   "metadata": {},
   "outputs": [],
   "source": [
    "from sklearn.datasets import load_boston, load_iris\n",
    "import pandas as pd\n",
    "import numpy as np\n",
    "from sklearn.model_selection import train_test_split, cross_val_score, GridSearchCV\n",
    "from sklearn.tree import DecisionTreeClassifier, DecisionTreeRegressor\n",
    "from sklearn.linear_model import LinearRegression, LogisticRegression, Lasso\n",
    "from sklearn.ensemble import GradientBoostingClassifier, GradientBoostingRegressor\n",
    "from sklearn.metrics import r2_score, mean_squared_error, accuracy_score\n",
    "import matplotlib.pyplot as plt\n",
    "import seaborn as sns\n",
    "%matplotlib inline"
   ]
  },
  {
   "cell_type": "code",
   "execution_count": 39,
   "metadata": {},
   "outputs": [],
   "source": [
    "np.random.seed(1)"
   ]
  },
  {
   "cell_type": "markdown",
   "metadata": {},
   "source": [
    "# HW1"
   ]
  },
  {
   "cell_type": "markdown",
   "metadata": {},
   "source": [
    "## Original method"
   ]
  },
  {
   "cell_type": "code",
   "execution_count": 40,
   "metadata": {},
   "outputs": [
    {
     "name": "stdout",
     "output_type": "stream",
     "text": [
      "Acuuracy:  0.9736842105263158\n",
      "['sepal length (cm)', 'sepal width (cm)', 'petal length (cm)', 'petal width (cm)']\n",
      "Feature importance:  [0.01796599 0.         0.05992368 0.92211033]\n"
     ]
    }
   ],
   "source": [
    "# 讀取鳶尾花資料集\n",
    "iris = load_iris()\n",
    "\n",
    "# 切分訓練集/測試集\n",
    "x_train, x_test, y_train, y_test = train_test_split(iris.data, iris.target, test_size=0.25, random_state=4)\n",
    "\n",
    "# 建立模型\n",
    "clf = DecisionTreeClassifier()\n",
    "\n",
    "# 訓練模型\n",
    "clf.fit(x_train, y_train)\n",
    "\n",
    "# 預測測試集\n",
    "y_pred = clf.predict(x_test)\n",
    "acc = accuracy_score(y_test, y_pred)\n",
    "print(\"Acuuracy: \", acc)\n",
    "print(iris.feature_names)\n",
    "print(\"Feature importance: \", clf.feature_importances_)"
   ]
  },
  {
   "cell_type": "code",
   "execution_count": 41,
   "metadata": {},
   "outputs": [
    {
     "data": {
      "text/plain": [
       "GridSearchCV(cv=None, error_score='raise',\n",
       "       estimator=DecisionTreeClassifier(class_weight=None, criterion='gini', max_depth=None,\n",
       "            max_features=None, max_leaf_nodes=None,\n",
       "            min_impurity_decrease=0.0, min_impurity_split=None,\n",
       "            min_samples_leaf=1, min_samples_split=2,\n",
       "            min_weight_fraction_leaf=0.0, presort=False, random_state=None,\n",
       "            splitter='best'),\n",
       "       fit_params=None, iid=True, n_jobs=1,\n",
       "       param_grid={'max_depth': range(1, 8), 'min_samples_split': range(2, 5), 'min_samples_leaf': range(1, 5), 'criterion': ['gini', 'entropy']},\n",
       "       pre_dispatch='2*n_jobs', refit=True, return_train_score='warn',\n",
       "       scoring=None, verbose=0)"
      ]
     },
     "execution_count": 41,
     "metadata": {},
     "output_type": "execute_result"
    }
   ],
   "source": [
    "parameters = {'max_depth': range(1,8), 'min_samples_split': range(2,5), 'min_samples_leaf': range(1,5),\n",
    "              'criterion': ['gini', 'entropy']}\n",
    "clf_gs = GridSearchCV(clf, param_grid=parameters)\n",
    "clf_gs.fit(x_train, y_train)"
   ]
  },
  {
   "cell_type": "code",
   "execution_count": 42,
   "metadata": {},
   "outputs": [
    {
     "name": "stdout",
     "output_type": "stream",
     "text": [
      "best parameters: {'criterion': 'gini', 'max_depth': 3, 'min_samples_leaf': 3, 'min_samples_split': 2}\n",
      "Acuuracy:  0.9736842105263158\n",
      "['sepal length (cm)', 'sepal width (cm)', 'petal length (cm)', 'petal width (cm)']\n",
      "Feature importance:  [0.         0.         0.06405315 0.93594685]\n"
     ]
    }
   ],
   "source": [
    "clf_gs_best = clf_gs.best_estimator_\n",
    "print(f'best parameters: {clf_gs.best_params_}')\n",
    "\n",
    "y_pred = clf_gs_best.predict(x_test)\n",
    "acc = accuracy_score(y_test, y_pred)\n",
    "print(\"Acuuracy: \", acc)\n",
    "print(iris.feature_names)\n",
    "print(\"Feature importance: \", clf_gs_best.feature_importances_)"
   ]
  },
  {
   "cell_type": "markdown",
   "metadata": {},
   "source": [
    "# HW2"
   ]
  },
  {
   "cell_type": "markdown",
   "metadata": {},
   "source": [
    "## Boston Data"
   ]
  },
  {
   "cell_type": "code",
   "execution_count": 43,
   "metadata": {},
   "outputs": [],
   "source": [
    "boston = load_boston()"
   ]
  },
  {
   "cell_type": "code",
   "execution_count": 44,
   "metadata": {},
   "outputs": [],
   "source": [
    "X_train, X_test, y_train, y_test = train_test_split(boston.data, boston.target, test_size = 0.2, random_state = 168)"
   ]
  },
  {
   "cell_type": "markdown",
   "metadata": {},
   "source": [
    "### Linear Regression"
   ]
  },
  {
   "cell_type": "code",
   "execution_count": 45,
   "metadata": {},
   "outputs": [
    {
     "name": "stdout",
     "output_type": "stream",
     "text": [
      "\n",
      "r_square: 0.7208043881775205\n",
      "MSE: 17.49300079038335\n",
      "\n"
     ]
    }
   ],
   "source": [
    "lr = LinearRegression()\n",
    "lr.fit(X_train, y_train)\n",
    "print(f'''\n",
    "r_square: {r2_score(y_test, lr.predict(X_test))}\n",
    "MSE: {mean_squared_error(y_test, lr.predict(X_test))}\n",
    "''')"
   ]
  },
  {
   "cell_type": "markdown",
   "metadata": {},
   "source": [
    "### Lasso"
   ]
  },
  {
   "cell_type": "code",
   "execution_count": 46,
   "metadata": {},
   "outputs": [
    {
     "name": "stdout",
     "output_type": "stream",
     "text": [
      "\n",
      "r_square: 0.7186333569327461\n",
      "MSE: 17.62902675093796\n",
      "coefficient: \n",
      "{'CRIM': 0.08993384381255068, 'ZN': 0.05221434946325558, 'INDUS': 0.0022976807149908815, 'CHAS': 2.538836510813648, 'NOX': 13.5852430379734, 'RM': 3.6339708240731494, 'AGE': 0.0010315854389889862, 'DIS': 1.5253713646976967, 'RAD': 0.3108050937296832, 'TAX': 0.013022149084358031, 'PTRATIO': 0.9170430928865725, 'B': 0.013010875454418548, 'LSTAT': 0.564271783638941}\n",
      "\n"
     ]
    }
   ],
   "source": [
    "lasso = Lasso(alpha = 0.01)\n",
    "lasso.fit(X_train, y_train)\n",
    "print(f'''\n",
    "r_square: {r2_score(y_test, lasso.predict(X_test))}\n",
    "MSE: {mean_squared_error(y_test, lasso.predict(X_test))}\n",
    "coefficient: \\n{dict(zip(boston.feature_names, np.abs(lasso.coef_)))}\n",
    "''')"
   ]
  },
  {
   "cell_type": "markdown",
   "metadata": {},
   "source": [
    "### Gradient Boosting Regressor"
   ]
  },
  {
   "cell_type": "code",
   "execution_count": 47,
   "metadata": {},
   "outputs": [
    {
     "name": "stdout",
     "output_type": "stream",
     "text": [
      "\n",
      "r_square: 0.9079843586917289\n",
      "MSE: 5.7652399177271665\n",
      "importances: {'CRIM': 0.06942506444758256, 'ZN': 0.008590819914976545, 'INDUS': 0.07908085306611977, 'CHAS': 0.0076301615581075444, 'NOX': 0.05528049994007951, 'RM': 0.20647778798865693, 'AGE': 0.07169755280515455, 'DIS': 0.14648860811258932, 'RAD': 0.021714219642558888, 'TAX': 0.05759421142199882, 'PTRATIO': 0.062322740214527966, 'B': 0.07870721501260011, 'LSTAT': 0.13499026587504756}\n",
      "\n"
     ]
    }
   ],
   "source": [
    "gbr = GradientBoostingRegressor()\n",
    "gbr.fit(X_train, y_train)\n",
    "print(f'''\n",
    "r_square: {r2_score(y_test, gbr.predict(X_test))}\n",
    "MSE: {mean_squared_error(y_test, gbr.predict(X_test))}\n",
    "importances: {dict(zip(boston.feature_names, gbr.feature_importances_))}\n",
    "''')"
   ]
  },
  {
   "cell_type": "markdown",
   "metadata": {},
   "source": [
    "### Decision Tree Regressor"
   ]
  },
  {
   "cell_type": "code",
   "execution_count": 48,
   "metadata": {
    "scrolled": true
   },
   "outputs": [
    {
     "name": "stdout",
     "output_type": "stream",
     "text": [
      "\n",
      "r_square: 0.7947865732013684\n",
      "MSE: 12.857647058823526\n",
      "importances: {'CRIM': 0.02693224058273195, 'ZN': 0.002060379079710978, 'INDUS': 0.007378041990650121, 'CHAS': 0.0008833142037176372, 'NOX': 0.02938283084751532, 'RM': 0.26835017622503377, 'AGE': 0.00988663269408531, 'DIS': 0.08510421801690841, 'RAD': 0.01652580314683856, 'TAX': 0.007691450454491773, 'PTRATIO': 0.01113751292483225, 'B': 0.006246393843091552, 'LSTAT': 0.5284210059903923}\n",
      "\n"
     ]
    }
   ],
   "source": [
    "dtr = DecisionTreeRegressor()\n",
    "dtr.fit(X_train, y_train)\n",
    "print(f'''\n",
    "r_square: {r2_score(y_test, dtr.predict(X_test))}\n",
    "MSE: {mean_squared_error(y_test, dtr.predict(X_test))}\n",
    "importances: {dict(zip(boston.feature_names, dtr.feature_importances_))}\n",
    "''')"
   ]
  },
  {
   "cell_type": "markdown",
   "metadata": {},
   "source": [
    "### Decision Tree Regressor"
   ]
  },
  {
   "cell_type": "code",
   "execution_count": 49,
   "metadata": {
    "scrolled": true
   },
   "outputs": [
    {
     "data": {
      "text/plain": [
       "GridSearchCV(cv=None, error_score='raise',\n",
       "       estimator=DecisionTreeRegressor(criterion='mse', max_depth=None, max_features=None,\n",
       "           max_leaf_nodes=None, min_impurity_decrease=0.0,\n",
       "           min_impurity_split=None, min_samples_leaf=1,\n",
       "           min_samples_split=2, min_weight_fraction_leaf=0.0,\n",
       "           presort=False, random_state=None, splitter='best'),\n",
       "       fit_params=None, iid=True, n_jobs=-1,\n",
       "       param_grid={'max_depth': range(1, 8), 'min_samples_split': range(2, 5), 'min_samples_leaf': range(1, 5)},\n",
       "       pre_dispatch='2*n_jobs', refit=True, return_train_score='warn',\n",
       "       scoring=None, verbose=0)"
      ]
     },
     "execution_count": 49,
     "metadata": {},
     "output_type": "execute_result"
    }
   ],
   "source": [
    "dtr_ = DecisionTreeRegressor()\n",
    "parameters = {'max_depth': range(1,8), 'min_samples_split': range(2,5), 'min_samples_leaf': range(1,5)}\n",
    "dtr_gs = GridSearchCV(dtr, param_grid=parameters, n_jobs=-1)\n",
    "dtr_gs.fit(X_train, y_train)"
   ]
  },
  {
   "cell_type": "code",
   "execution_count": 50,
   "metadata": {},
   "outputs": [
    {
     "name": "stdout",
     "output_type": "stream",
     "text": [
      "best parameters: {'max_depth': 7, 'min_samples_leaf': 1, 'min_samples_split': 4}\n",
      "\n",
      "r_square: 0.8103925867700544\n",
      "MSE: 11.879852293677512\n",
      "importances: {'CRIM': 0.024549334147294103, 'ZN': 0.0, 'INDUS': 0.0033464963201139735, 'CHAS': 0.0, 'NOX': 0.028940568898417635, 'RM': 0.27801928012641947, 'AGE': 0.005445810469127663, 'DIS': 0.08104338474006556, 'RAD': 0.0, 'TAX': 0.006756536515361437, 'PTRATIO': 0.010029777767618894, 'B': 0.018301255674287528, 'LSTAT': 0.5435675553412938}\n",
      "\n"
     ]
    }
   ],
   "source": [
    "print(f'best parameters: {dtr_gs.best_params_}')\n",
    "dtr_gs_best = dtr_gs.best_estimator_\n",
    "print(f'''\n",
    "r_square: {r2_score(y_test, dtr_gs_best.predict(X_test))}\n",
    "MSE: {mean_squared_error(y_test, dtr_gs_best.predict(X_test))}\n",
    "importances: {dict(zip(boston.feature_names, dtr_gs_best.feature_importances_))}\n",
    "''')"
   ]
  },
  {
   "cell_type": "markdown",
   "metadata": {},
   "source": [
    "### Visualization"
   ]
  },
  {
   "cell_type": "code",
   "execution_count": 51,
   "metadata": {},
   "outputs": [
    {
     "data": {
      "image/png": "[encoded data removed]",
      "text/plain": [
       "<Figure size 864x720 with 4 Axes>"
      ]
     },
     "metadata": {},
     "output_type": "display_data"
    }
   ],
   "source": [
    "# 視覺化特徵重要性\n",
    "fig, ax = plt.subplots(2,2, figsize = (12,10))\n",
    "sns.barplot(y = boston.feature_names, x = np.abs(lasso.coef_), orient='h', ax = ax[0,0],\\\n",
    "            order= boston.feature_names[np.abs(lasso.coef_).argsort()[::-1]])\n",
    "ax[0,0].set_title('Lasso Coefficients\\nR-squared={}'\\\n",
    "                .format(round(r2_score(y_test, lasso.predict(X_test)), 2)))\n",
    "\n",
    "sns.barplot(y = boston.feature_names, x = np.abs(dtr.feature_importances_), orient='h', ax = ax[0,1],\\\n",
    "            order= boston.feature_names[np.abs(dtr.feature_importances_).argsort()[::-1]])\n",
    "ax[0,1].set_title('Decision Tree Importances\\nR-squared={}'\\\n",
    "                .format(round(r2_score(y_test, dtr.predict(X_test)), 2)))\n",
    "\n",
    "sns.barplot(y = boston.feature_names, x = np.abs(dtr_gs_best.feature_importances_), orient='h', ax = ax[1,0],\\\n",
    "            order= boston.feature_names[np.abs(dtr_gs_best.feature_importances_).argsort()[::-1]])\n",
    "ax[1,0].set_title('Decision Tree Importances with Grid Search\\nR-squared={}'\\\n",
    "                .format(round(r2_score(y_test, dtr_gs_best.predict(X_test)), 2)))\n",
    "\n",
    "sns.barplot(y = boston.feature_names, x = np.abs(gbr.feature_importances_), orient='h', ax = ax[1,1],\\\n",
    "            order= boston.feature_names[np.abs(gbr.feature_importances_).argsort()[::-1]])\n",
    "ax[1,1].set_title('Gradient Boosting Regression Importances\\nR-squared={}'\\\n",
    "                .format(round(r2_score(y_test, gbr.predict(X_test)), 2)))\n",
    "\n",
    "plt.tight_layout()"
   ]
  }
 ],
 "metadata": {
  "kernelspec": {
   "display_name": "Python 3",
   "language": "python",
   "name": "python3"
  },
  "language_info": {
   "codemirror_mode": {
    "name": "ipython",
    "version": 3
   },
   "file_extension": ".py",
   "mimetype": "text/x-python",
   "name": "python",
   "nbconvert_exporter": "python",
   "pygments_lexer": "ipython3",
   "version": "3.6.7"
  }
 },
 "nbformat": 4,
 "nbformat_minor": 2
}
