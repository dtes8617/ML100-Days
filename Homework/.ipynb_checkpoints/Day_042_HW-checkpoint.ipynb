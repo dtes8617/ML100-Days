{
 "cells": [
  {
   "cell_type": "markdown",
   "metadata": {},
   "source": [
    "## 作業\n",
    "\n",
    "1. 試著調整 DecisionTreeClassifier(...) 中的參數，並觀察是否會改變結果？\n",
    "2. 改用其他資料集 (boston, wine)，並與回歸模型的結果進行比較"
   ]
  },
  {
   "cell_type": "code",
   "execution_count": 167,
   "metadata": {},
   "outputs": [],
   "source": [
    "from sklearn.datasets import load_boston, load_iris\n",
    "import pandas as pd\n",
    "import numpy as np\n",
    "from sklearn.model_selection import train_test_split, cross_val_score, GridSearchCV\n",
    "from sklearn.tree import DecisionTreeClassifier, DecisionTreeRegressor\n",
    "from sklearn.linear_model import LinearRegression, LogisticRegression, Lasso\n",
    "from sklearn.ensemble import GradientBoostingClassifier, GradientBoostingRegressor\n",
    "from sklearn.metrics import r2_score, mean_squared_error, accuracy_score\n",
    "import matplotlib.pyplot as plt\n",
    "import seaborn as sns\n",
    "%matplotlib inline"
   ]
  },
  {
   "cell_type": "markdown",
   "metadata": {},
   "source": [
    "# HW1"
   ]
  },
  {
   "cell_type": "markdown",
   "metadata": {},
   "source": [
    "## Original method"
   ]
  },
  {
   "cell_type": "code",
   "execution_count": 169,
   "metadata": {},
   "outputs": [
    {
     "name": "stdout",
     "output_type": "stream",
     "text": [
      "Acuuracy:  0.9736842105263158\n",
      "['sepal length (cm)', 'sepal width (cm)', 'petal length (cm)', 'petal width (cm)']\n",
      "Feature importance:  [0.         0.01796599 0.52229134 0.45974266]\n"
     ]
    }
   ],
   "source": [
    "# 讀取鳶尾花資料集\n",
    "iris = load_iris()\n",
    "\n",
    "# 切分訓練集/測試集\n",
    "x_train, x_test, y_train, y_test = train_test_split(iris.data, iris.target, test_size=0.25, random_state=4)\n",
    "\n",
    "# 建立模型\n",
    "clf = DecisionTreeClassifier()\n",
    "\n",
    "# 訓練模型\n",
    "clf.fit(x_train, y_train)\n",
    "\n",
    "# 預測測試集\n",
    "y_pred = clf.predict(x_test)\n",
    "acc = accuracy_score(y_test, y_pred)\n",
    "print(\"Acuuracy: \", acc)\n",
    "print(iris.feature_names)\n",
    "print(\"Feature importance: \", clf.feature_importances_)"
   ]
  },
  {
   "cell_type": "code",
   "execution_count": 177,
   "metadata": {},
   "outputs": [
    {
     "data": {
      "text/plain": [
       "GridSearchCV(cv=None, error_score='raise',\n",
       "       estimator=DecisionTreeClassifier(class_weight=None, criterion='gini', max_depth=None,\n",
       "            max_features=None, max_leaf_nodes=None,\n",
       "            min_impurity_decrease=0.0, min_impurity_split=None,\n",
       "            min_samples_leaf=1, min_samples_split=2,\n",
       "            min_weight_fraction_leaf=0.0, presort=False, random_state=None,\n",
       "            splitter='best'),\n",
       "       fit_params=None, iid=True, n_jobs=1,\n",
       "       param_grid={'max_depth': range(1, 8), 'min_samples_split': range(2, 5), 'min_samples_leaf': range(1, 5), 'criterion': ['gini', 'entropy']},\n",
       "       pre_dispatch='2*n_jobs', refit=True, return_train_score='warn',\n",
       "       scoring=None, verbose=0)"
      ]
     },
     "execution_count": 177,
     "metadata": {},
     "output_type": "execute_result"
    }
   ],
   "source": [
    "parameters = {'max_depth': range(1,8), 'min_samples_split': range(2,5), 'min_samples_leaf': range(1,5),\n",
    "              'criterion': ['gini', 'entropy']}\n",
    "clf_gs = GridSearchCV(clf, param_grid=parameters)\n",
    "clf_gs.fit(x_train, y_train)"
   ]
  },
  {
   "cell_type": "code",
   "execution_count": 178,
   "metadata": {},
   "outputs": [
    {
     "name": "stdout",
     "output_type": "stream",
     "text": [
      "best parameters: {'criterion': 'gini', 'max_depth': 3, 'min_samples_leaf': 3, 'min_samples_split': 2}\n",
      "Acuuracy:  0.9736842105263158\n",
      "['sepal length (cm)', 'sepal width (cm)', 'petal length (cm)', 'petal width (cm)']\n",
      "Feature importance:  [0.         0.         0.06405315 0.93594685]\n"
     ]
    }
   ],
   "source": [
    "clf_gs_best = clf_gs.best_estimator_\n",
    "print(f'best parameters: {clf_gs.best_params_}')\n",
    "\n",
    "y_pred = clf_gs_best.predict(x_test)\n",
    "acc = accuracy_score(y_test, y_pred)\n",
    "print(\"Acuuracy: \", acc)\n",
    "print(iris.feature_names)\n",
    "print(\"Feature importance: \", clf_gs_best.feature_importances_)"
   ]
  },
  {
   "cell_type": "markdown",
   "metadata": {},
   "source": [
    "# HW2"
   ]
  },
  {
   "cell_type": "markdown",
   "metadata": {},
   "source": [
    "## Boston Data"
   ]
  },
  {
   "cell_type": "code",
   "execution_count": 182,
   "metadata": {},
   "outputs": [],
   "source": [
    "boston = load_boston()"
   ]
  },
  {
   "cell_type": "code",
   "execution_count": 183,
   "metadata": {},
   "outputs": [],
   "source": [
    "X_train, X_test, y_train, y_test = train_test_split(boston.data, boston.target, test_size = 0.2, random_state = 168)"
   ]
  },
  {
   "cell_type": "markdown",
   "metadata": {},
   "source": [
    "### Linear Regression"
   ]
  },
  {
   "cell_type": "code",
   "execution_count": 190,
   "metadata": {},
   "outputs": [
    {
     "name": "stdout",
     "output_type": "stream",
     "text": [
      "\n",
      "r_square: 0.7208043881775205\n",
      "MSE: 17.49300079038335\n",
      "\n"
     ]
    }
   ],
   "source": [
    "lr = LinearRegression()\n",
    "lr.fit(X_train, y_train)\n",
    "print(f'''\n",
    "r_square: {r2_score(y_test, lr.predict(X_test))}\n",
    "MSE: {mean_squared_error(y_test, lr.predict(X_test))}\n",
    "''')"
   ]
  },
  {
   "cell_type": "markdown",
   "metadata": {},
   "source": [
    "### Lasso"
   ]
  },
  {
   "cell_type": "code",
   "execution_count": 36,
   "metadata": {},
   "outputs": [
    {
     "data": {
      "text/plain": [
       "dict_keys(['CRIM', 'ZN', 'INDUS', 'CHAS', 'NOX', 'RM', 'AGE', 'DIS', 'RAD', 'TAX', 'PTRATIO', 'B', 'LSTAT'])"
      ]
     },
     "execution_count": 36,
     "metadata": {},
     "output_type": "execute_result"
    }
   ],
   "source": [
    "dict(zip(boston.feature_names, lasso.coef_)).keys()"
   ]
  },
  {
   "cell_type": "code",
   "execution_count": 191,
   "metadata": {},
   "outputs": [
    {
     "name": "stdout",
     "output_type": "stream",
     "text": [
      "\n",
      "r_square: 0.7186333569327461\n",
      "MSE: 17.62902675093796\n",
      "coefficient: \n",
      "{'CRIM': 0.08993384381255068, 'ZN': 0.05221434946325558, 'INDUS': 0.0022976807149908815, 'CHAS': 2.538836510813648, 'NOX': 13.5852430379734, 'RM': 3.6339708240731494, 'AGE': 0.0010315854389889862, 'DIS': 1.5253713646976967, 'RAD': 0.3108050937296832, 'TAX': 0.013022149084358031, 'PTRATIO': 0.9170430928865725, 'B': 0.013010875454418548, 'LSTAT': 0.564271783638941}\n",
      "\n"
     ]
    }
   ],
   "source": [
    "lasso = Lasso(alpha = 0.01)\n",
    "lasso.fit(X_train, y_train)\n",
    "print(f'''\n",
    "r_square: {r2_score(y_test, lasso.predict(X_test))}\n",
    "MSE: {mean_squared_error(y_test, lasso.predict(X_test))}\n",
    "coefficient: \\n{dict(zip(boston.feature_names, np.abs(lasso.coef_)))}\n",
    "''')"
   ]
  },
  {
   "cell_type": "markdown",
   "metadata": {},
   "source": [
    "### Gradient Boosting Regressor"
   ]
  },
  {
   "cell_type": "code",
   "execution_count": 192,
   "metadata": {},
   "outputs": [
    {
     "name": "stdout",
     "output_type": "stream",
     "text": [
      "\n",
      "r_square: 0.907483819052798\n",
      "MSE: 5.796601228323279\n",
      "\n"
     ]
    }
   ],
   "source": [
    "gbr = GradientBoostingRegressor()\n",
    "gbr.fit(X_train, y_train)\n",
    "print(f'''\n",
    "r_square: {r2_score(y_test, gbr.predict(X_test))}\n",
    "MSE: {mean_squared_error(y_test, gbr.predict(X_test))}\n",
    "importances: {dict(zip(boston.feature_names, gbr.feature_importances_))}\n",
    "''')"
   ]
  },
  {
   "cell_type": "markdown",
   "metadata": {},
   "source": [
    "### Decision Tree Regressor"
   ]
  },
  {
   "cell_type": "code",
   "execution_count": 193,
   "metadata": {
    "scrolled": true
   },
   "outputs": [
    {
     "name": "stdout",
     "output_type": "stream",
     "text": [
      "\n",
      "r_square: 0.7934142901676782\n",
      "MSE: 12.943627450980388\n",
      "importances: {'CRIM': 0.022724140356913537, 'ZN': 0.002064450355601951, 'INDUS': 0.007030800198741346, 'CHAS': 0.00025310829751490143, 'NOX': 0.0335538545322512, 'RM': 0.2698623348853604, 'AGE': 0.011384107114009603, 'DIS': 0.08642117226094044, 'RAD': 0.0005362107603532214, 'TAX': 0.007448955476249243, 'PTRATIO': 0.026136858934068977, 'B': 0.003915678877707976, 'LSTAT': 0.5286683279502873}\n",
      "\n"
     ]
    }
   ],
   "source": [
    "dtr = DecisionTreeRegressor()\n",
    "dtr.fit(X_train, y_train)\n",
    "print(f'''\n",
    "r_square: {r2_score(y_test, dtr.predict(X_test))}\n",
    "MSE: {mean_squared_error(y_test, dtr.predict(X_test))}\n",
    "importances: {dict(zip(boston.feature_names, dtr.feature_importances_))}\n",
    "''')"
   ]
  },
  {
   "cell_type": "markdown",
   "metadata": {},
   "source": [
    "### Decision Tree Regressor"
   ]
  },
  {
   "cell_type": "code",
   "execution_count": 146,
   "metadata": {
    "scrolled": true
   },
   "outputs": [
    {
     "data": {
      "text/plain": [
       "GridSearchCV(cv=None, error_score='raise',\n",
       "       estimator=DecisionTreeRegressor(criterion='mse', max_depth=3, max_features=None,\n",
       "           max_leaf_nodes=None, min_impurity_decrease=0.0,\n",
       "           min_impurity_split=None, min_samples_leaf=3,\n",
       "           min_samples_split=2, min_weight_fraction_leaf=0.0,\n",
       "           presort=False, random_state=None, splitter='best'),\n",
       "       fit_params=None, iid=True, n_jobs=-1,\n",
       "       param_grid={'max_depth': range(1, 8), 'min_samples_split': range(2, 5), 'min_samples_leaf': range(1, 5)},\n",
       "       pre_dispatch='2*n_jobs', refit=True, return_train_score='warn',\n",
       "       scoring=None, verbose=0)"
      ]
     },
     "execution_count": 146,
     "metadata": {},
     "output_type": "execute_result"
    }
   ],
   "source": [
    "dtr_ = DecisionTreeRegressor()\n",
    "parameters = {'max_depth': range(1,8), 'min_samples_split': range(2,5), 'min_samples_leaf': range(1,5)}\n",
    "dtr_gs = GridSearchCV(dtr, param_grid=parameters, n_jobs=-1)\n",
    "dtr_gs.fit(X_train, y_train)"
   ]
  },
  {
   "cell_type": "code",
   "execution_count": 194,
   "metadata": {},
   "outputs": [
    {
     "name": "stdout",
     "output_type": "stream",
     "text": [
      "best parameters: {'max_depth': 6, 'min_samples_leaf': 1, 'min_samples_split': 3}\n",
      "\n",
      "r_square: 0.7992940065651534\n",
      "MSE: 12.575233825747983\n",
      "importances: {'CRIM': 0.024534941475653254, 'ZN': 0.0, 'INDUS': 0.003396206704675467, 'CHAS': 0.0, 'NOX': 0.0284162306027531, 'RM': 0.27290172803208035, 'AGE': 0.0043647944172508345, 'DIS': 0.08694638207635735, 'RAD': 0.0, 'TAX': 0.022907404122895107, 'PTRATIO': 0.009115090062249318, 'B': 0.0012415539241515264, 'LSTAT': 0.5461756685819337}\n",
      "\n"
     ]
    }
   ],
   "source": [
    "print(f'best parameters: {dtr_gs.best_params_}')\n",
    "dtr_gs_best = dtr_gs.best_estimator_\n",
    "print(f'''\n",
    "r_square: {r2_score(y_test, dtr_gs_best.predict(X_test))}\n",
    "MSE: {mean_squared_error(y_test, dtr_gs_best.predict(X_test))}\n",
    "importances: {dict(zip(boston.feature_names, dtr_gs_best.feature_importances_))}\n",
    "''')"
   ]
  },
  {
   "cell_type": "markdown",
   "metadata": {},
   "source": [
    "### Visualization"
   ]
  },
  {
   "cell_type": "code",
   "execution_count": 211,
   "metadata": {},
   "outputs": [
    {
     "data": {
      "image/png": "[encoded data removed]",
      "text/plain": [
       "<Figure size 864x720 with 4 Axes>"
      ]
     },
     "metadata": {},
     "output_type": "display_data"
    }
   ],
   "source": [
    "fig, ax = plt.subplots(2,2, figsize = (12,10))\n",
    "sns.barplot(y = boston.feature_names, x = np.abs(lasso.coef_), orient='h', ax = ax[0,0],\\\n",
    "            order= boston.feature_names[np.abs(lasso.coef_).argsort()[::-1]])\n",
    "ax[0,0].set_title('Lasso Coefficients\\nR-squared={}'\\\n",
    "                .format(round(r2_score(y_test, lasso.predict(X_test)), 2)))\n",
    "\n",
    "sns.barplot(y = boston.feature_names, x = np.abs(dtr.feature_importances_), orient='h', ax = ax[0,1],\\\n",
    "            order= boston.feature_names[np.abs(dtr.feature_importances_).argsort()[::-1]])\n",
    "ax[0,1].set_title('Decision Tree Importances\\nR-squared={}'\\\n",
    "                .format(round(r2_score(y_test, dtr.predict(X_test)), 2)))\n",
    "\n",
    "sns.barplot(y = boston.feature_names, x = np.abs(dtr_gs_best.feature_importances_), orient='h', ax = ax[1,0],\\\n",
    "            order= boston.feature_names[np.abs(dtr_gs_best.feature_importances_).argsort()[::-1]])\n",
    "ax[1,0].set_title('Decision Tree Importances with Grid Search\\nR-squared={}'\\\n",
    "                .format(round(r2_score(y_test, dtr_gs_best.predict(X_test)), 2)))\n",
    "\n",
    "sns.barplot(y = boston.feature_names, x = np.abs(gbr.feature_importances_), orient='h', ax = ax[1,1],\\\n",
    "            order= boston.feature_names[np.abs(gbr.feature_importances_).argsort()[::-1]])\n",
    "ax[1,1].set_title('Gradient Boosting Regression\\nR-squared={}'\\\n",
    "                .format(round(r2_score(y_test, gbr.predict(X_test)), 2)))\n",
    "\n",
    "plt.tight_layout()"
   ]
  }
 ],
 "metadata": {
  "kernelspec": {
   "display_name": "Python 3",
   "language": "python",
   "name": "python3"
  },
  "language_info": {
   "codemirror_mode": {
    "name": "ipython",
    "version": 3
   },
   "file_extension": ".py",
   "mimetype": "text/x-python",
   "name": "python",
   "nbconvert_exporter": "python",
   "pygments_lexer": "ipython3",
   "version": "3.6.6"
  }
 },
 "nbformat": 4,
 "nbformat_minor": 2
}
