{
 "cells": [
  {
   "cell_type": "code",
   "execution_count": 1,
   "metadata": {},
   "outputs": [
    {
     "name": "stderr",
     "output_type": "stream",
     "text": [
      "Using TensorFlow backend.\n"
     ]
    }
   ],
   "source": [
    "import os\n",
    "import keras\n",
    "\n",
    "# Disable GPU\n",
    "os.environ[\"CUDA_VISIBLE_DEVICES\"] = \"\""
   ]
  },
  {
   "cell_type": "code",
   "execution_count": 2,
   "metadata": {},
   "outputs": [],
   "source": [
    "train, test = keras.datasets.cifar10.load_data()"
   ]
  },
  {
   "cell_type": "code",
   "execution_count": 3,
   "metadata": {},
   "outputs": [],
   "source": [
    "## 資料前處理\n",
    "def preproc_x(x, flatten=True):\n",
    "    x = x / 255.\n",
    "    if flatten:\n",
    "        x = x.reshape((len(x), -1))\n",
    "    return x\n",
    "\n",
    "def preproc_y(y, num_classes=10):\n",
    "    if y.shape[-1] == 1:\n",
    "        y = keras.utils.to_categorical(y, num_classes)\n",
    "    return y    "
   ]
  },
  {
   "cell_type": "code",
   "execution_count": 4,
   "metadata": {},
   "outputs": [],
   "source": [
    "x_train, y_train = train\n",
    "x_test, y_test = test\n",
    "\n",
    "# Preproc the inputs\n",
    "x_train = preproc_x(x_train)\n",
    "x_test = preproc_x(x_test)\n",
    "\n",
    "# Preprc the outputs\n",
    "y_train = preproc_y(y_train)\n",
    "y_test = preproc_y(y_test)"
   ]
  },
  {
   "cell_type": "code",
   "execution_count": 5,
   "metadata": {},
   "outputs": [],
   "source": [
    "from keras.layers import BatchNormalization\n",
    "def build_mlp(input_shape, output_units=10, num_neurons=[512, 256, 128]):\n",
    "    input_layer = keras.layers.Input(input_shape)\n",
    "    \n",
    "    for i, n_units in enumerate(num_neurons):\n",
    "        if i == 0:\n",
    "            x = keras.layers.Dense(units=n_units, \n",
    "                                   activation=\"relu\", \n",
    "                                   name=\"hidden_layer\"+str(i+1))(input_layer)\n",
    "            x = BatchNormalization()(x)\n",
    "        else:\n",
    "            x = keras.layers.Dense(units=n_units, \n",
    "                                   activation=\"relu\", \n",
    "                                   name=\"hidden_layer\"+str(i+1))(x)\n",
    "            x = BatchNormalization()(x)\n",
    "    \n",
    "    out = keras.layers.Dense(units=output_units, activation=\"softmax\", name=\"output\")(x)\n",
    "    \n",
    "    model = keras.models.Model(inputs=[input_layer], outputs=[out])\n",
    "    return model"
   ]
  },
  {
   "cell_type": "code",
   "execution_count": 6,
   "metadata": {},
   "outputs": [],
   "source": [
    "## 超參數設定\n",
    "LEARNING_RATE = 1e-3\n",
    "EPOCHS = 50\n",
    "BATCH_SIZE = 1024\n",
    "MOMENTUM = 0.95"
   ]
  },
  {
   "cell_type": "code",
   "execution_count": 7,
   "metadata": {},
   "outputs": [],
   "source": [
    "import tensorflow as tf\n",
    "import keras.backend as K\n",
    "\n",
    "def focal_loss(gamma=2., alpha=4.):\n",
    "    gamma = float(gamma)\n",
    "    alpha = float(alpha)\n",
    "    def focal_loss_fixed(y_true, y_pred):\n",
    "        \"\"\"Focal loss for multi-classification\n",
    "        FL(p_t)=-alpha(1-p_t)^{gamma}ln(p_t)\n",
    "        \"\"\"\n",
    "        epsilon = 1e-8\n",
    "        y_true = tf.convert_to_tensor(y_true, tf.float32)\n",
    "        y_pred = tf.convert_to_tensor(y_pred, tf.float32)\n",
    "\n",
    "        model_out = tf.add(y_pred, epsilon)\n",
    "        ce = tf.multiply(y_true, -tf.log(model_out))\n",
    "        weight = tf.multiply(y_true, tf.pow(tf.subtract(1., model_out), gamma))\n",
    "        fl = tf.multiply(alpha, tf.multiply(weight, ce))\n",
    "        reduced_fl = tf.reduce_max(fl, axis=1)\n",
    "        return tf.reduce_mean(reduced_fl)\n",
    "    return focal_loss_fixed"
   ]
  },
  {
   "cell_type": "code",
   "execution_count": 8,
   "metadata": {
    "scrolled": true
   },
   "outputs": [
    {
     "name": "stdout",
     "output_type": "stream",
     "text": [
      "WARNING:tensorflow:From C:\\Users\\Jude\\Anaconda3\\lib\\site-packages\\tensorflow\\python\\framework\\op_def_library.py:263: colocate_with (from tensorflow.python.framework.ops) is deprecated and will be removed in a future version.\n",
      "Instructions for updating:\n",
      "Colocations handled automatically by placer.\n",
      "_________________________________________________________________\n",
      "Layer (type)                 Output Shape              Param #   \n",
      "=================================================================\n",
      "input_1 (InputLayer)         (None, 3072)              0         \n",
      "_________________________________________________________________\n",
      "hidden_layer1 (Dense)        (None, 512)               1573376   \n",
      "_________________________________________________________________\n",
      "batch_normalization_1 (Batch (None, 512)               2048      \n",
      "_________________________________________________________________\n",
      "hidden_layer2 (Dense)        (None, 256)               131328    \n",
      "_________________________________________________________________\n",
      "batch_normalization_2 (Batch (None, 256)               1024      \n",
      "_________________________________________________________________\n",
      "hidden_layer3 (Dense)        (None, 128)               32896     \n",
      "_________________________________________________________________\n",
      "batch_normalization_3 (Batch (None, 128)               512       \n",
      "_________________________________________________________________\n",
      "output (Dense)               (None, 10)                1290      \n",
      "=================================================================\n",
      "Total params: 1,742,474\n",
      "Trainable params: 1,740,682\n",
      "Non-trainable params: 1,792\n",
      "_________________________________________________________________\n",
      "WARNING:tensorflow:From C:\\Users\\Jude\\Anaconda3\\lib\\site-packages\\tensorflow\\python\\ops\\math_ops.py:3066: to_int32 (from tensorflow.python.ops.math_ops) is deprecated and will be removed in a future version.\n",
      "Instructions for updating:\n",
      "Use tf.cast instead.\n",
      "WARNING:tensorflow:From C:\\Users\\Jude\\Anaconda3\\lib\\site-packages\\tensorflow\\python\\ops\\math_grad.py:102: div (from tensorflow.python.ops.math_ops) is deprecated and will be removed in a future version.\n",
      "Instructions for updating:\n",
      "Deprecated in favor of operator or tf.math.divide.\n",
      "Train on 50000 samples, validate on 10000 samples\n",
      "Epoch 1/50\n",
      "50000/50000 [==============================] - 5s 108us/step - loss: 6.0450 - acc: 0.3285 - val_loss: 7.2242 - val_acc: 0.3061\n",
      "Epoch 2/50\n",
      "50000/50000 [==============================] - 2s 47us/step - loss: 4.3747 - acc: 0.4424 - val_loss: 4.9131 - val_acc: 0.3963\n",
      "Epoch 3/50\n",
      "50000/50000 [==============================] - 2s 46us/step - loss: 3.9543 - acc: 0.4835 - val_loss: 4.5107 - val_acc: 0.4338\n",
      "Epoch 4/50\n",
      "50000/50000 [==============================] - 2s 43us/step - loss: 3.6955 - acc: 0.5099 - val_loss: 4.2865 - val_acc: 0.4502\n",
      "Epoch 5/50\n",
      "50000/50000 [==============================] - 2s 44us/step - loss: 3.4871 - acc: 0.5315 - val_loss: 4.2559 - val_acc: 0.4470\n",
      "Epoch 6/50\n",
      "50000/50000 [==============================] - 2s 43us/step - loss: 3.2939 - acc: 0.5505 - val_loss: 4.0092 - val_acc: 0.4687\n",
      "Epoch 7/50\n",
      "50000/50000 [==============================] - 2s 42us/step - loss: 3.1332 - acc: 0.5664 - val_loss: 4.0021 - val_acc: 0.4749\n",
      "Epoch 8/50\n",
      "50000/50000 [==============================] - 2s 44us/step - loss: 2.9698 - acc: 0.5854 - val_loss: 3.9566 - val_acc: 0.4820\n",
      "Epoch 9/50\n",
      "50000/50000 [==============================] - 2s 44us/step - loss: 2.8233 - acc: 0.6021 - val_loss: 3.9444 - val_acc: 0.4843\n",
      "Epoch 10/50\n",
      "50000/50000 [==============================] - 2s 45us/step - loss: 2.6849 - acc: 0.6148 - val_loss: 4.0431 - val_acc: 0.4734\n",
      "Epoch 11/50\n",
      "50000/50000 [==============================] - 2s 45us/step - loss: 2.5535 - acc: 0.6300 - val_loss: 4.1022 - val_acc: 0.4744\n",
      "Epoch 12/50\n",
      "50000/50000 [==============================] - 2s 44us/step - loss: 2.4196 - acc: 0.6464 - val_loss: 3.9734 - val_acc: 0.4806\n",
      "Epoch 13/50\n",
      "50000/50000 [==============================] - 2s 43us/step - loss: 2.3053 - acc: 0.6582 - val_loss: 3.8904 - val_acc: 0.4893\n",
      "Epoch 14/50\n",
      "50000/50000 [==============================] - 2s 43us/step - loss: 2.1795 - acc: 0.6736 - val_loss: 4.0270 - val_acc: 0.4845\n",
      "Epoch 15/50\n",
      "50000/50000 [==============================] - 2s 43us/step - loss: 2.0541 - acc: 0.6890 - val_loss: 3.9872 - val_acc: 0.4902\n",
      "Epoch 16/50\n",
      "50000/50000 [==============================] - 2s 43us/step - loss: 1.9296 - acc: 0.7038 - val_loss: 4.1799 - val_acc: 0.4741\n",
      "Epoch 17/50\n",
      "50000/50000 [==============================] - 2s 43us/step - loss: 1.8266 - acc: 0.7160 - val_loss: 4.2096 - val_acc: 0.4727\n",
      "Epoch 18/50\n",
      "50000/50000 [==============================] - 2s 43us/step - loss: 1.7144 - acc: 0.7286 - val_loss: 4.2713 - val_acc: 0.4795\n",
      "Epoch 19/50\n",
      "50000/50000 [==============================] - 2s 43us/step - loss: 1.6117 - acc: 0.7445 - val_loss: 4.2682 - val_acc: 0.4842\n",
      "Epoch 20/50\n",
      "50000/50000 [==============================] - 2s 43us/step - loss: 1.5052 - acc: 0.7574 - val_loss: 4.2736 - val_acc: 0.4799\n",
      "Epoch 21/50\n",
      "50000/50000 [==============================] - 2s 44us/step - loss: 1.4025 - acc: 0.7701 - val_loss: 4.3715 - val_acc: 0.4785\n",
      "Epoch 22/50\n",
      "50000/50000 [==============================] - 2s 44us/step - loss: 1.3106 - acc: 0.7848 - val_loss: 4.4066 - val_acc: 0.4817\n",
      "Epoch 23/50\n",
      "50000/50000 [==============================] - 2s 43us/step - loss: 1.2135 - acc: 0.7993 - val_loss: 4.5245 - val_acc: 0.4846\n",
      "Epoch 24/50\n",
      "50000/50000 [==============================] - 2s 43us/step - loss: 1.1171 - acc: 0.8134 - val_loss: 4.5574 - val_acc: 0.4876\n",
      "Epoch 25/50\n",
      "50000/50000 [==============================] - 2s 43us/step - loss: 1.0247 - acc: 0.8255 - val_loss: 4.6032 - val_acc: 0.4885\n",
      "Epoch 26/50\n",
      "50000/50000 [==============================] - 2s 43us/step - loss: 0.9503 - acc: 0.8395 - val_loss: 4.6439 - val_acc: 0.4858\n",
      "Epoch 27/50\n",
      "50000/50000 [==============================] - 2s 43us/step - loss: 0.8700 - acc: 0.8530 - val_loss: 4.7505 - val_acc: 0.4750\n",
      "Epoch 28/50\n",
      "50000/50000 [==============================] - 2s 43us/step - loss: 0.7905 - acc: 0.8645 - val_loss: 4.9152 - val_acc: 0.4778\n",
      "Epoch 29/50\n",
      "50000/50000 [==============================] - 2s 43us/step - loss: 0.7252 - acc: 0.8761 - val_loss: 4.8771 - val_acc: 0.4805\n",
      "Epoch 30/50\n",
      "50000/50000 [==============================] - 2s 43us/step - loss: 0.6639 - acc: 0.8857 - val_loss: 5.0896 - val_acc: 0.4662\n",
      "Epoch 31/50\n",
      "50000/50000 [==============================] - 2s 43us/step - loss: 0.6091 - acc: 0.8943 - val_loss: 5.2528 - val_acc: 0.4838\n",
      "Epoch 32/50\n",
      "50000/50000 [==============================] - 2s 43us/step - loss: 0.5547 - acc: 0.9037 - val_loss: 5.2073 - val_acc: 0.4794\n",
      "Epoch 33/50\n",
      "50000/50000 [==============================] - 2s 43us/step - loss: 0.4983 - acc: 0.9137 - val_loss: 5.1452 - val_acc: 0.4849\n",
      "Epoch 34/50\n",
      "50000/50000 [==============================] - 2s 42us/step - loss: 0.4484 - acc: 0.9245 - val_loss: 5.2191 - val_acc: 0.4797\n",
      "Epoch 35/50\n",
      "50000/50000 [==============================] - 2s 43us/step - loss: 0.4028 - acc: 0.9329 - val_loss: 5.3257 - val_acc: 0.4813\n",
      "Epoch 36/50\n",
      "50000/50000 [==============================] - 2s 43us/step - loss: 0.3597 - acc: 0.9406 - val_loss: 5.5392 - val_acc: 0.4813\n",
      "Epoch 37/50\n",
      "50000/50000 [==============================] - 2s 43us/step - loss: 0.3269 - acc: 0.9473 - val_loss: 5.5499 - val_acc: 0.4777\n",
      "Epoch 38/50\n",
      "50000/50000 [==============================] - 2s 43us/step - loss: 0.2999 - acc: 0.9522 - val_loss: 5.5516 - val_acc: 0.4860\n",
      "Epoch 39/50\n",
      "50000/50000 [==============================] - 2s 43us/step - loss: 0.2673 - acc: 0.9588 - val_loss: 5.6632 - val_acc: 0.4794\n",
      "Epoch 40/50\n",
      "50000/50000 [==============================] - 2s 43us/step - loss: 0.2391 - acc: 0.9633 - val_loss: 5.7342 - val_acc: 0.4798\n",
      "Epoch 41/50\n",
      "50000/50000 [==============================] - 2s 43us/step - loss: 0.2127 - acc: 0.9707 - val_loss: 5.9203 - val_acc: 0.4768\n",
      "Epoch 42/50\n",
      "50000/50000 [==============================] - 2s 43us/step - loss: 0.1934 - acc: 0.9741 - val_loss: 6.0566 - val_acc: 0.4746\n",
      "Epoch 43/50\n",
      "50000/50000 [==============================] - 2s 43us/step - loss: 0.1759 - acc: 0.9766 - val_loss: 5.9925 - val_acc: 0.4801\n"
     ]
    },
    {
     "name": "stdout",
     "output_type": "stream",
     "text": [
      "Epoch 44/50\n",
      "50000/50000 [==============================] - 2s 44us/step - loss: 0.1579 - acc: 0.9802 - val_loss: 6.1031 - val_acc: 0.4746\n",
      "Epoch 45/50\n",
      "50000/50000 [==============================] - 2s 44us/step - loss: 0.1383 - acc: 0.9842 - val_loss: 6.0694 - val_acc: 0.4766\n",
      "Epoch 46/50\n",
      "50000/50000 [==============================] - 2s 43us/step - loss: 0.1260 - acc: 0.9866 - val_loss: 6.0926 - val_acc: 0.4780\n",
      "Epoch 47/50\n",
      "50000/50000 [==============================] - 2s 43us/step - loss: 0.1116 - acc: 0.9898 - val_loss: 6.1850 - val_acc: 0.4792\n",
      "Epoch 48/50\n",
      "50000/50000 [==============================] - 2s 43us/step - loss: 0.1078 - acc: 0.9894 - val_loss: 6.2067 - val_acc: 0.4788\n",
      "Epoch 49/50\n",
      "50000/50000 [==============================] - 2s 44us/step - loss: 0.0951 - acc: 0.9917 - val_loss: 6.3296 - val_acc: 0.4795\n",
      "Epoch 50/50\n",
      "50000/50000 [==============================] - 2s 44us/step - loss: 0.0833 - acc: 0.9933 - val_loss: 6.2847 - val_acc: 0.4867\n"
     ]
    }
   ],
   "source": [
    "model = build_mlp(input_shape=x_train.shape[1:])\n",
    "model.summary()\n",
    "optimizer = keras.optimizers.SGD(lr=LEARNING_RATE, nesterov=True, momentum=MOMENTUM)\n",
    "model.compile(loss=focal_loss(), metrics=[\"accuracy\"], optimizer=optimizer)\n",
    "\n",
    "model.fit(x_train, y_train, \n",
    "          epochs=EPOCHS, \n",
    "          batch_size=BATCH_SIZE, \n",
    "          validation_data=(x_test, y_test), \n",
    "          shuffle=True\n",
    "         )\n",
    "\n",
    "# Collect results\n",
    "train_loss = model.history.history[\"loss\"]\n",
    "valid_loss = model.history.history[\"val_loss\"]\n",
    "train_acc = model.history.history[\"acc\"]\n",
    "valid_acc = model.history.history[\"val_acc\"]"
   ]
  },
  {
   "cell_type": "code",
   "execution_count": 9,
   "metadata": {},
   "outputs": [
    {
     "data": {
      "image/png": "[encoded data removed]",
      "text/plain": [
       "<Figure size 432x288 with 1 Axes>"
      ]
     },
     "metadata": {},
     "output_type": "display_data"
    },
    {
     "data": {
      "image/png": "[encoded data removed]",
      "text/plain": [
       "<Figure size 432x288 with 1 Axes>"
      ]
     },
     "metadata": {},
     "output_type": "display_data"
    }
   ],
   "source": [
    "import matplotlib.pyplot as plt\n",
    "%matplotlib inline\n",
    "\n",
    "plt.plot(range(len(train_loss)), train_loss, label=\"train loss\")\n",
    "plt.plot(range(len(valid_loss)), valid_loss, label=\"valid loss\")\n",
    "plt.legend()\n",
    "plt.title(\"Loss\")\n",
    "plt.show()\n",
    "\n",
    "plt.plot(range(len(train_acc)), train_acc, label=\"train accuracy\")\n",
    "plt.plot(range(len(valid_acc)), valid_acc, label=\"valid accuracy\")\n",
    "plt.legend()\n",
    "plt.title(\"Accuracy\")\n",
    "plt.show()"
   ]
  },
  {
   "cell_type": "markdown",
   "metadata": {},
   "source": [
    "## Work\n",
    "1. 請自行定義一個 loss function, 為 0.3 * focal loss + 0.7 cross-entropy，訓練並比較結果\n"
   ]
  },
  {
   "cell_type": "code",
   "execution_count": null,
   "metadata": {
    "collapsed": true
   },
   "outputs": [],
   "source": []
  }
 ],
 "metadata": {
  "kernelspec": {
   "display_name": "Python 3",
   "language": "python",
   "name": "python3"
  },
  "language_info": {
   "codemirror_mode": {
    "name": "ipython",
    "version": 3
   },
   "file_extension": ".py",
   "mimetype": "text/x-python",
   "name": "python",
   "nbconvert_exporter": "python",
   "pygments_lexer": "ipython3",
   "version": "3.6.6"
  }
 },
 "nbformat": 4,
 "nbformat_minor": 2
}
