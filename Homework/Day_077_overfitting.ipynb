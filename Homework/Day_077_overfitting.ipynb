{
 "cells": [
  {
   "cell_type": "code",
   "execution_count": 1,
   "metadata": {},
   "outputs": [
    {
     "name": "stderr",
     "output_type": "stream",
     "text": [
      "Using TensorFlow backend.\n"
     ]
    }
   ],
   "source": [
    "import os\n",
    "import keras\n",
    "\n",
    "# Disable GPU\n",
    "os.environ[\"CUDA_VISIBLE_DEVICES\"] = \"\""
   ]
  },
  {
   "cell_type": "code",
   "execution_count": 2,
   "metadata": {},
   "outputs": [],
   "source": [
    "train, test = keras.datasets.cifar10.load_data()"
   ]
  },
  {
   "cell_type": "code",
   "execution_count": 3,
   "metadata": {},
   "outputs": [],
   "source": [
    "x_train, y_train = train\n",
    "x_test, y_test = test\n",
    "x_train = x_train / 255.\n",
    "x_test = x_test / 255.\n",
    "\n",
    "# Flatten the images\n",
    "x_train = x_train.reshape((len(x_train), -1))\n",
    "x_test = x_test.reshape((len(x_test), -1))\n",
    "\n",
    "# Convert y to onehot\n",
    "y_train = keras.utils.to_categorical(y_train, num_classes=10)\n",
    "y_test = keras.utils.to_categorical(y_test, num_classes=10)"
   ]
  },
  {
   "cell_type": "code",
   "execution_count": 4,
   "metadata": {},
   "outputs": [],
   "source": [
    "def build_mlp():\n",
    "    input_layer = keras.layers.Input([x_train.shape[-1]])\n",
    "    x = keras.layers.Dense(units=512, activation=\"relu\")(input_layer)\n",
    "    x = keras.layers.Dense(units=256, activation=\"relu\")(x)\n",
    "    x = keras.layers.Dense(units=128, activation=\"relu\")(x)\n",
    "    out = keras.layers.Dense(units=10, activation=\"softmax\")(x)\n",
    "    \n",
    "    model = keras.models.Model(inputs=[input_layer], outputs=[out])\n",
    "    return model"
   ]
  },
  {
   "cell_type": "code",
   "execution_count": 5,
   "metadata": {},
   "outputs": [
    {
     "name": "stdout",
     "output_type": "stream",
     "text": [
      "WARNING:tensorflow:From C:\\Users\\Jude\\Anaconda3\\lib\\site-packages\\tensorflow\\python\\framework\\op_def_library.py:263: colocate_with (from tensorflow.python.framework.ops) is deprecated and will be removed in a future version.\n",
      "Instructions for updating:\n",
      "Colocations handled automatically by placer.\n",
      "_________________________________________________________________\n",
      "Layer (type)                 Output Shape              Param #   \n",
      "=================================================================\n",
      "input_1 (InputLayer)         (None, 3072)              0         \n",
      "_________________________________________________________________\n",
      "dense_1 (Dense)              (None, 512)               1573376   \n",
      "_________________________________________________________________\n",
      "dense_2 (Dense)              (None, 256)               131328    \n",
      "_________________________________________________________________\n",
      "dense_3 (Dense)              (None, 128)               32896     \n",
      "_________________________________________________________________\n",
      "dense_4 (Dense)              (None, 10)                1290      \n",
      "=================================================================\n",
      "Total params: 1,738,890\n",
      "Trainable params: 1,738,890\n",
      "Non-trainable params: 0\n",
      "_________________________________________________________________\n"
     ]
    }
   ],
   "source": [
    "model = build_mlp()\n",
    "model.summary()"
   ]
  },
  {
   "cell_type": "code",
   "execution_count": 6,
   "metadata": {},
   "outputs": [],
   "source": [
    "optimizer = keras.optimizers.Adam(lr=0.001)\n",
    "model.compile(loss=\"categorical_crossentropy\", metrics=[\"accuracy\"], optimizer=optimizer)"
   ]
  },
  {
   "cell_type": "code",
   "execution_count": 7,
   "metadata": {
    "scrolled": false
   },
   "outputs": [
    {
     "name": "stdout",
     "output_type": "stream",
     "text": [
      "WARNING:tensorflow:From C:\\Users\\Jude\\Anaconda3\\lib\\site-packages\\tensorflow\\python\\ops\\math_ops.py:3066: to_int32 (from tensorflow.python.ops.math_ops) is deprecated and will be removed in a future version.\n",
      "Instructions for updating:\n",
      "Use tf.cast instead.\n",
      "Train on 50000 samples, validate on 10000 samples\n",
      "Epoch 1/100\n",
      "50000/50000 [==============================] - 5s 101us/step - loss: 1.9437 - acc: 0.2998 - val_loss: 1.7618 - val_acc: 0.3760\n",
      "Epoch 2/100\n",
      "50000/50000 [==============================] - 3s 52us/step - loss: 1.6957 - acc: 0.3947 - val_loss: 1.6939 - val_acc: 0.3882\n",
      "Epoch 3/100\n",
      "50000/50000 [==============================] - 3s 52us/step - loss: 1.6058 - acc: 0.4295 - val_loss: 1.5882 - val_acc: 0.4356\n",
      "Epoch 4/100\n",
      "50000/50000 [==============================] - 3s 52us/step - loss: 1.5564 - acc: 0.4458 - val_loss: 1.5832 - val_acc: 0.4365\n",
      "Epoch 5/100\n",
      "50000/50000 [==============================] - 3s 52us/step - loss: 1.5057 - acc: 0.4647 - val_loss: 1.5333 - val_acc: 0.4575\n",
      "Epoch 6/100\n",
      "50000/50000 [==============================] - 3s 52us/step - loss: 1.4774 - acc: 0.4730 - val_loss: 1.5274 - val_acc: 0.4556\n",
      "Epoch 7/100\n",
      "50000/50000 [==============================] - 3s 52us/step - loss: 1.4389 - acc: 0.4889 - val_loss: 1.4716 - val_acc: 0.4833\n",
      "Epoch 8/100\n",
      "50000/50000 [==============================] - 3s 53us/step - loss: 1.4018 - acc: 0.5016 - val_loss: 1.4943 - val_acc: 0.4679\n",
      "Epoch 9/100\n",
      "50000/50000 [==============================] - 3s 52us/step - loss: 1.3831 - acc: 0.5099 - val_loss: 1.4854 - val_acc: 0.4654\n",
      "Epoch 10/100\n",
      "50000/50000 [==============================] - 3s 56us/step - loss: 1.3570 - acc: 0.5189 - val_loss: 1.4335 - val_acc: 0.4885\n",
      "Epoch 11/100\n",
      "50000/50000 [==============================] - 3s 56us/step - loss: 1.3340 - acc: 0.5272 - val_loss: 1.4284 - val_acc: 0.4954\n",
      "Epoch 12/100\n",
      "50000/50000 [==============================] - 3s 52us/step - loss: 1.3081 - acc: 0.5342 - val_loss: 1.4132 - val_acc: 0.4984\n",
      "Epoch 13/100\n",
      "50000/50000 [==============================] - 3s 53us/step - loss: 1.2856 - acc: 0.5414 - val_loss: 1.3834 - val_acc: 0.5134\n",
      "Epoch 14/100\n",
      "50000/50000 [==============================] - 3s 53us/step - loss: 1.2638 - acc: 0.5497 - val_loss: 1.4162 - val_acc: 0.5037\n",
      "Epoch 15/100\n",
      "50000/50000 [==============================] - 3s 54us/step - loss: 1.2422 - acc: 0.5596 - val_loss: 1.3952 - val_acc: 0.5075\n",
      "Epoch 16/100\n",
      "50000/50000 [==============================] - 3s 52us/step - loss: 1.2171 - acc: 0.5689 - val_loss: 1.3707 - val_acc: 0.5215\n",
      "Epoch 17/100\n",
      "50000/50000 [==============================] - 3s 52us/step - loss: 1.1918 - acc: 0.5743 - val_loss: 1.3733 - val_acc: 0.5153\n",
      "Epoch 18/100\n",
      "50000/50000 [==============================] - 3s 52us/step - loss: 1.1839 - acc: 0.5802 - val_loss: 1.4137 - val_acc: 0.5068\n",
      "Epoch 19/100\n",
      "50000/50000 [==============================] - 3s 53us/step - loss: 1.1575 - acc: 0.5879 - val_loss: 1.3700 - val_acc: 0.5214\n",
      "Epoch 20/100\n",
      "50000/50000 [==============================] - 3s 53us/step - loss: 1.1395 - acc: 0.5959 - val_loss: 1.3638 - val_acc: 0.5261\n",
      "Epoch 21/100\n",
      "50000/50000 [==============================] - 3s 52us/step - loss: 1.1144 - acc: 0.6042 - val_loss: 1.3959 - val_acc: 0.5156\n",
      "Epoch 22/100\n",
      "50000/50000 [==============================] - 3s 53us/step - loss: 1.1049 - acc: 0.6083 - val_loss: 1.4255 - val_acc: 0.5159\n",
      "Epoch 23/100\n",
      "50000/50000 [==============================] - 3s 52us/step - loss: 1.0819 - acc: 0.6146 - val_loss: 1.3852 - val_acc: 0.5218\n",
      "Epoch 24/100\n",
      "50000/50000 [==============================] - 3s 53us/step - loss: 1.0611 - acc: 0.6233 - val_loss: 1.4337 - val_acc: 0.5122\n",
      "Epoch 25/100\n",
      "50000/50000 [==============================] - 3s 52us/step - loss: 1.0509 - acc: 0.6276 - val_loss: 1.3788 - val_acc: 0.5294\n",
      "Epoch 26/100\n",
      "50000/50000 [==============================] - 3s 52us/step - loss: 1.0260 - acc: 0.6327 - val_loss: 1.3838 - val_acc: 0.5296\n",
      "Epoch 27/100\n",
      "50000/50000 [==============================] - 3s 52us/step - loss: 1.0098 - acc: 0.6386 - val_loss: 1.4006 - val_acc: 0.5209\n",
      "Epoch 28/100\n",
      "50000/50000 [==============================] - 3s 52us/step - loss: 0.9929 - acc: 0.6482 - val_loss: 1.4272 - val_acc: 0.5247\n",
      "Epoch 29/100\n",
      "50000/50000 [==============================] - 3s 52us/step - loss: 0.9763 - acc: 0.6530 - val_loss: 1.4147 - val_acc: 0.5216\n",
      "Epoch 30/100\n",
      "50000/50000 [==============================] - 3s 52us/step - loss: 0.9503 - acc: 0.6590 - val_loss: 1.4270 - val_acc: 0.5312\n",
      "Epoch 31/100\n",
      "50000/50000 [==============================] - 3s 52us/step - loss: 0.9429 - acc: 0.6649 - val_loss: 1.4543 - val_acc: 0.5230\n",
      "Epoch 32/100\n",
      "50000/50000 [==============================] - 3s 53us/step - loss: 0.9198 - acc: 0.6733 - val_loss: 1.4552 - val_acc: 0.5296\n",
      "Epoch 33/100\n",
      "50000/50000 [==============================] - 3s 52us/step - loss: 0.9026 - acc: 0.6796 - val_loss: 1.4510 - val_acc: 0.5278\n",
      "Epoch 34/100\n",
      "50000/50000 [==============================] - 3s 52us/step - loss: 0.8947 - acc: 0.6820 - val_loss: 1.4653 - val_acc: 0.5332\n",
      "Epoch 35/100\n",
      "50000/50000 [==============================] - 3s 52us/step - loss: 0.8681 - acc: 0.6890 - val_loss: 1.4856 - val_acc: 0.5306\n",
      "Epoch 36/100\n",
      "50000/50000 [==============================] - 3s 52us/step - loss: 0.8528 - acc: 0.6947 - val_loss: 1.5005 - val_acc: 0.5251\n",
      "Epoch 37/100\n",
      "50000/50000 [==============================] - 3s 52us/step - loss: 0.8402 - acc: 0.6990 - val_loss: 1.5158 - val_acc: 0.5265\n",
      "Epoch 38/100\n",
      "50000/50000 [==============================] - 3s 52us/step - loss: 0.8225 - acc: 0.7051 - val_loss: 1.5282 - val_acc: 0.5275\n",
      "Epoch 39/100\n",
      "50000/50000 [==============================] - 3s 54us/step - loss: 0.8102 - acc: 0.7104 - val_loss: 1.6002 - val_acc: 0.5163\n",
      "Epoch 40/100\n",
      "50000/50000 [==============================] - 3s 53us/step - loss: 0.7936 - acc: 0.7137 - val_loss: 1.5914 - val_acc: 0.5224\n",
      "Epoch 41/100\n",
      "50000/50000 [==============================] - 3s 52us/step - loss: 0.7875 - acc: 0.7185 - val_loss: 1.5759 - val_acc: 0.5265\n",
      "Epoch 42/100\n",
      "50000/50000 [==============================] - 3s 52us/step - loss: 0.7629 - acc: 0.7286 - val_loss: 1.5990 - val_acc: 0.5196\n",
      "Epoch 43/100\n",
      "50000/50000 [==============================] - 3s 53us/step - loss: 0.7582 - acc: 0.7294 - val_loss: 1.6423 - val_acc: 0.5325\n",
      "Epoch 44/100\n",
      "50000/50000 [==============================] - 3s 52us/step - loss: 0.7417 - acc: 0.7330 - val_loss: 1.6739 - val_acc: 0.5186\n",
      "Epoch 45/100\n",
      "50000/50000 [==============================] - 3s 52us/step - loss: 0.7286 - acc: 0.7400 - val_loss: 1.6924 - val_acc: 0.5174\n",
      "Epoch 46/100\n",
      "50000/50000 [==============================] - 3s 52us/step - loss: 0.7104 - acc: 0.7466 - val_loss: 1.7193 - val_acc: 0.5108\n",
      "Epoch 47/100\n",
      "50000/50000 [==============================] - 3s 52us/step - loss: 0.7032 - acc: 0.7489 - val_loss: 1.7184 - val_acc: 0.5147\n",
      "Epoch 48/100\n",
      "50000/50000 [==============================] - 3s 53us/step - loss: 0.6855 - acc: 0.7565 - val_loss: 1.7491 - val_acc: 0.5201\n",
      "Epoch 49/100\n",
      "50000/50000 [==============================] - 3s 52us/step - loss: 0.6713 - acc: 0.7594 - val_loss: 1.7517 - val_acc: 0.5163\n",
      "Epoch 50/100\n",
      "50000/50000 [==============================] - 3s 52us/step - loss: 0.6641 - acc: 0.7630 - val_loss: 1.7614 - val_acc: 0.5200\n",
      "Epoch 51/100\n",
      "50000/50000 [==============================] - 3s 52us/step - loss: 0.6421 - acc: 0.7701 - val_loss: 1.7495 - val_acc: 0.5232\n",
      "Epoch 52/100\n",
      "50000/50000 [==============================] - 3s 52us/step - loss: 0.6381 - acc: 0.7718 - val_loss: 1.8365 - val_acc: 0.5134\n",
      "Epoch 53/100\n",
      "50000/50000 [==============================] - 3s 52us/step - loss: 0.6215 - acc: 0.7781 - val_loss: 1.8225 - val_acc: 0.5216\n",
      "Epoch 54/100\n",
      "50000/50000 [==============================] - 3s 52us/step - loss: 0.6257 - acc: 0.7757 - val_loss: 1.8512 - val_acc: 0.5012\n",
      "Epoch 55/100\n",
      "50000/50000 [==============================] - 3s 52us/step - loss: 0.6068 - acc: 0.7828 - val_loss: 1.8772 - val_acc: 0.5195\n",
      "Epoch 56/100\n",
      "50000/50000 [==============================] - 3s 52us/step - loss: 0.6042 - acc: 0.7844 - val_loss: 1.9539 - val_acc: 0.5094\n",
      "Epoch 57/100\n",
      "50000/50000 [==============================] - 3s 52us/step - loss: 0.5813 - acc: 0.7949 - val_loss: 1.9507 - val_acc: 0.5136\n"
     ]
    },
    {
     "name": "stdout",
     "output_type": "stream",
     "text": [
      "Epoch 58/100\n",
      "50000/50000 [==============================] - 3s 52us/step - loss: 0.5674 - acc: 0.7973 - val_loss: 1.9173 - val_acc: 0.5213\n",
      "Epoch 59/100\n",
      "50000/50000 [==============================] - 3s 52us/step - loss: 0.5603 - acc: 0.8007 - val_loss: 2.0193 - val_acc: 0.5048\n",
      "Epoch 60/100\n",
      "50000/50000 [==============================] - 3s 52us/step - loss: 0.5560 - acc: 0.8005 - val_loss: 2.0079 - val_acc: 0.5168\n",
      "Epoch 61/100\n",
      "50000/50000 [==============================] - 3s 52us/step - loss: 0.5500 - acc: 0.8022 - val_loss: 2.0238 - val_acc: 0.5123\n",
      "Epoch 62/100\n",
      "50000/50000 [==============================] - 3s 52us/step - loss: 0.5342 - acc: 0.8081 - val_loss: 2.0668 - val_acc: 0.5137\n",
      "Epoch 63/100\n",
      "50000/50000 [==============================] - 3s 52us/step - loss: 0.5145 - acc: 0.8171 - val_loss: 2.1163 - val_acc: 0.5064\n",
      "Epoch 64/100\n",
      "50000/50000 [==============================] - 3s 53us/step - loss: 0.5018 - acc: 0.8211 - val_loss: 2.1601 - val_acc: 0.5079\n",
      "Epoch 65/100\n",
      "50000/50000 [==============================] - 3s 53us/step - loss: 0.5113 - acc: 0.8183 - val_loss: 2.1314 - val_acc: 0.5130\n",
      "Epoch 66/100\n",
      "50000/50000 [==============================] - 3s 52us/step - loss: 0.5059 - acc: 0.8188 - val_loss: 2.1262 - val_acc: 0.5136\n",
      "Epoch 67/100\n",
      "50000/50000 [==============================] - 3s 52us/step - loss: 0.4846 - acc: 0.8263 - val_loss: 2.1701 - val_acc: 0.5143\n",
      "Epoch 68/100\n",
      "50000/50000 [==============================] - 3s 52us/step - loss: 0.4856 - acc: 0.8255 - val_loss: 2.2024 - val_acc: 0.4988\n",
      "Epoch 69/100\n",
      "50000/50000 [==============================] - 3s 51us/step - loss: 0.4818 - acc: 0.8253 - val_loss: 2.2087 - val_acc: 0.5122\n",
      "Epoch 70/100\n",
      "50000/50000 [==============================] - 3s 52us/step - loss: 0.4689 - acc: 0.8309 - val_loss: 2.2193 - val_acc: 0.5135\n",
      "Epoch 71/100\n",
      "50000/50000 [==============================] - 3s 52us/step - loss: 0.4571 - acc: 0.8350 - val_loss: 2.2376 - val_acc: 0.5136\n",
      "Epoch 72/100\n",
      "50000/50000 [==============================] - 3s 52us/step - loss: 0.4640 - acc: 0.8330 - val_loss: 2.3552 - val_acc: 0.5067\n",
      "Epoch 73/100\n",
      "50000/50000 [==============================] - 3s 52us/step - loss: 0.4344 - acc: 0.8453 - val_loss: 2.3453 - val_acc: 0.5057\n",
      "Epoch 74/100\n",
      "50000/50000 [==============================] - 3s 52us/step - loss: 0.4348 - acc: 0.8421 - val_loss: 2.3223 - val_acc: 0.5114\n",
      "Epoch 75/100\n",
      "50000/50000 [==============================] - 3s 52us/step - loss: 0.4217 - acc: 0.8481 - val_loss: 2.3389 - val_acc: 0.5073\n",
      "Epoch 76/100\n",
      "50000/50000 [==============================] - 3s 53us/step - loss: 0.4248 - acc: 0.8461 - val_loss: 2.4455 - val_acc: 0.5121\n",
      "Epoch 77/100\n",
      "50000/50000 [==============================] - 3s 52us/step - loss: 0.4175 - acc: 0.8485 - val_loss: 2.3712 - val_acc: 0.5085\n",
      "Epoch 78/100\n",
      "50000/50000 [==============================] - 3s 52us/step - loss: 0.3965 - acc: 0.8593 - val_loss: 2.5041 - val_acc: 0.5024\n",
      "Epoch 79/100\n",
      "50000/50000 [==============================] - 3s 52us/step - loss: 0.4000 - acc: 0.8575 - val_loss: 2.4891 - val_acc: 0.5024\n",
      "Epoch 80/100\n",
      "50000/50000 [==============================] - 3s 52us/step - loss: 0.3912 - acc: 0.8589 - val_loss: 2.5197 - val_acc: 0.5054\n",
      "Epoch 81/100\n",
      "50000/50000 [==============================] - 3s 52us/step - loss: 0.3832 - acc: 0.8606 - val_loss: 2.5058 - val_acc: 0.5070\n",
      "Epoch 82/100\n",
      "50000/50000 [==============================] - 3s 52us/step - loss: 0.3848 - acc: 0.8605 - val_loss: 2.5538 - val_acc: 0.5087\n",
      "Epoch 83/100\n",
      "50000/50000 [==============================] - 3s 52us/step - loss: 0.3786 - acc: 0.8638 - val_loss: 2.5615 - val_acc: 0.5070\n",
      "Epoch 84/100\n",
      "50000/50000 [==============================] - 3s 52us/step - loss: 0.3673 - acc: 0.8688 - val_loss: 2.6128 - val_acc: 0.5096\n",
      "Epoch 85/100\n",
      "50000/50000 [==============================] - 3s 53us/step - loss: 0.3825 - acc: 0.8625 - val_loss: 2.6558 - val_acc: 0.4951\n",
      "Epoch 86/100\n",
      "50000/50000 [==============================] - 3s 52us/step - loss: 0.3632 - acc: 0.8691 - val_loss: 2.6811 - val_acc: 0.5060\n",
      "Epoch 87/100\n",
      "50000/50000 [==============================] - 3s 52us/step - loss: 0.3766 - acc: 0.8644 - val_loss: 2.7475 - val_acc: 0.5032\n",
      "Epoch 88/100\n",
      "50000/50000 [==============================] - 3s 53us/step - loss: 0.3520 - acc: 0.8736 - val_loss: 2.7672 - val_acc: 0.4998\n",
      "Epoch 89/100\n",
      "50000/50000 [==============================] - 3s 53us/step - loss: 0.3465 - acc: 0.8758 - val_loss: 2.6769 - val_acc: 0.5006\n",
      "Epoch 90/100\n",
      "50000/50000 [==============================] - 3s 53us/step - loss: 0.3415 - acc: 0.8778 - val_loss: 2.7473 - val_acc: 0.5004\n",
      "Epoch 91/100\n",
      "50000/50000 [==============================] - 3s 53us/step - loss: 0.3481 - acc: 0.8744 - val_loss: 2.7519 - val_acc: 0.5103: 0.8\n",
      "Epoch 92/100\n",
      "50000/50000 [==============================] - 3s 52us/step - loss: 0.3174 - acc: 0.8859 - val_loss: 2.8271 - val_acc: 0.5035\n",
      "Epoch 93/100\n",
      "50000/50000 [==============================] - 3s 53us/step - loss: 0.3537 - acc: 0.8714 - val_loss: 2.8620 - val_acc: 0.5048\n",
      "Epoch 94/100\n",
      "50000/50000 [==============================] - 3s 52us/step - loss: 0.3271 - acc: 0.8830 - val_loss: 2.8210 - val_acc: 0.5066\n",
      "Epoch 95/100\n",
      "50000/50000 [==============================] - 3s 52us/step - loss: 0.3190 - acc: 0.8849 - val_loss: 2.8647 - val_acc: 0.5005\n",
      "Epoch 96/100\n",
      "50000/50000 [==============================] - 3s 52us/step - loss: 0.2951 - acc: 0.8946 - val_loss: 2.9470 - val_acc: 0.5014\n",
      "Epoch 97/100\n",
      "50000/50000 [==============================] - 3s 52us/step - loss: 0.3105 - acc: 0.8874 - val_loss: 2.9147 - val_acc: 0.50633054 - acc: \n",
      "Epoch 98/100\n",
      "50000/50000 [==============================] - 3s 52us/step - loss: 0.3048 - acc: 0.8898 - val_loss: 2.9485 - val_acc: 0.4991\n",
      "Epoch 99/100\n",
      "50000/50000 [==============================] - 3s 53us/step - loss: 0.3135 - acc: 0.8866 - val_loss: 2.9307 - val_acc: 0.5019\n",
      "Epoch 100/100\n",
      "50000/50000 [==============================] - 3s 52us/step - loss: 0.3056 - acc: 0.8892 - val_loss: 2.9738 - val_acc: 0.4979\n"
     ]
    },
    {
     "data": {
      "text/plain": [
       "<keras.callbacks.History at 0x1268ed03320>"
      ]
     },
     "execution_count": 7,
     "metadata": {},
     "output_type": "execute_result"
    }
   ],
   "source": [
    "model.fit(x_train, y_train, \n",
    "          epochs=100, \n",
    "          batch_size=256, \n",
    "          validation_data=(x_test, y_test), \n",
    "          shuffle=True)"
   ]
  },
  {
   "cell_type": "code",
   "execution_count": 9,
   "metadata": {},
   "outputs": [
    {
     "data": {
      "image/png": "[encoded data removed]",
      "text/plain": [
       "<Figure size 432x288 with 1 Axes>"
      ]
     },
     "metadata": {},
     "output_type": "display_data"
    },
    {
     "data": {
      "image/png": "[encoded data removed]",
      "text/plain": [
       "<Figure size 432x288 with 1 Axes>"
      ]
     },
     "metadata": {},
     "output_type": "display_data"
    }
   ],
   "source": [
    "import matplotlib.pyplot as plt\n",
    "%matplotlib inline\n",
    "\n",
    "train_loss = model.history.history[\"loss\"]\n",
    "valid_loss = model.history.history[\"val_loss\"]\n",
    "\n",
    "train_acc = model.history.history[\"acc\"]\n",
    "valid_acc = model.history.history[\"val_acc\"]\n",
    "\n",
    "plt.plot(range(len(train_loss)), train_loss, label=\"train loss\")\n",
    "plt.plot(range(len(valid_loss)), valid_loss, label=\"valid loss\")\n",
    "plt.legend()\n",
    "plt.title(\"Loss\")\n",
    "plt.show()\n",
    "\n",
    "plt.plot(range(len(train_acc)), train_acc, label=\"train accuracy\")\n",
    "plt.plot(range(len(valid_acc)), valid_acc, label=\"valid accuracy\")\n",
    "plt.legend()\n",
    "plt.title(\"Accuracy\")\n",
    "plt.show()"
   ]
  },
  {
   "cell_type": "markdown",
   "metadata": {},
   "source": [
    "## Work\n",
    "1. 請將 Epoch 加到 500 個，並觀察 learning curve 的走勢\n",
    "2. 請將 Optimizer 換成 SGD，並觀察 learning curve 的走勢"
   ]
  }
 ],
 "metadata": {
  "kernelspec": {
   "display_name": "Python 3",
   "language": "python",
   "name": "python3"
  },
  "language_info": {
   "codemirror_mode": {
    "name": "ipython",
    "version": 3
   },
   "file_extension": ".py",
   "mimetype": "text/x-python",
   "name": "python",
   "nbconvert_exporter": "python",
   "pygments_lexer": "ipython3",
   "version": "3.6.6"
  }
 },
 "nbformat": 4,
 "nbformat_minor": 2
}
