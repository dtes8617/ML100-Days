{
 "cells": [
  {
   "cell_type": "code",
   "execution_count": 1,
   "metadata": {},
   "outputs": [
    {
     "name": "stderr",
     "output_type": "stream",
     "text": [
      "Using TensorFlow backend.\n"
     ]
    }
   ],
   "source": [
    "import os\n",
    "import keras\n",
    "\n",
    "# Disable GPU\n",
    "os.environ[\"CUDA_VISIBLE_DEVICES\"] = \"\""
   ]
  },
  {
   "cell_type": "code",
   "execution_count": 2,
   "metadata": {},
   "outputs": [],
   "source": [
    "train, test = keras.datasets.cifar10.load_data()"
   ]
  },
  {
   "cell_type": "code",
   "execution_count": 3,
   "metadata": {},
   "outputs": [],
   "source": [
    "## 資料前處理\n",
    "def preproc_x(x, flatten=True):\n",
    "    x = x / 255.\n",
    "    if flatten:\n",
    "        x = x.reshape((len(x), -1))\n",
    "    return x\n",
    "\n",
    "def preproc_y(y, num_classes=10):\n",
    "    if y.shape[-1] == 1:\n",
    "        y = keras.utils.to_categorical(y, num_classes)\n",
    "    return y    "
   ]
  },
  {
   "cell_type": "code",
   "execution_count": 4,
   "metadata": {},
   "outputs": [],
   "source": [
    "x_train, y_train = train\n",
    "x_test, y_test = test\n",
    "\n",
    "# Preproc the inputs\n",
    "x_train = preproc_x(x_train)\n",
    "x_test = preproc_x(x_test)\n",
    "\n",
    "# Preprc the outputs\n",
    "y_train = preproc_y(y_train)\n",
    "y_test = preproc_y(y_test)"
   ]
  },
  {
   "cell_type": "code",
   "execution_count": 5,
   "metadata": {},
   "outputs": [],
   "source": [
    "from keras.layers import Dropout\n",
    "def build_mlp(input_shape, output_units=10, num_neurons=[512, 256, 128], drp_ratio=0.2):\n",
    "    input_layer = keras.layers.Input(input_shape)\n",
    "    \n",
    "    for i, n_units in enumerate(num_neurons):\n",
    "        if i == 0:\n",
    "            x = keras.layers.Dense(units=n_units, \n",
    "                                   activation=\"relu\", \n",
    "                                   name=\"hidden_layer\"+str(i+1))(input_layer)\n",
    "            x = Dropout(drp_ratio)(x)\n",
    "        else:\n",
    "            x = keras.layers.Dense(units=n_units, \n",
    "                                   activation=\"relu\", \n",
    "                                   name=\"hidden_layer\"+str(i+1))(x)\n",
    "            x = Dropout(drp_ratio)(x)\n",
    "    \n",
    "    out = keras.layers.Dense(units=output_units, activation=\"softmax\", name=\"output\")(x)\n",
    "    \n",
    "    model = keras.models.Model(inputs=[input_layer], outputs=[out])\n",
    "    return model"
   ]
  },
  {
   "cell_type": "code",
   "execution_count": 6,
   "metadata": {},
   "outputs": [],
   "source": [
    "## 超參數設定\n",
    "LEARNING_RATE = 1e-3\n",
    "EPOCHS = 50\n",
    "BATCH_SIZE = 256\n",
    "MOMENTUM = 0.95\n",
    "Dropout_EXP = 0.25"
   ]
  },
  {
   "cell_type": "code",
   "execution_count": 7,
   "metadata": {
    "scrolled": true
   },
   "outputs": [
    {
     "name": "stdout",
     "output_type": "stream",
     "text": [
      "WARNING:tensorflow:From C:\\Users\\Jude\\Anaconda3\\lib\\site-packages\\tensorflow\\python\\framework\\op_def_library.py:263: colocate_with (from tensorflow.python.framework.ops) is deprecated and will be removed in a future version.\n",
      "Instructions for updating:\n",
      "Colocations handled automatically by placer.\n",
      "WARNING:tensorflow:From C:\\Users\\Jude\\Anaconda3\\lib\\site-packages\\keras\\backend\\tensorflow_backend.py:3368: calling dropout (from tensorflow.python.ops.nn_ops) with keep_prob is deprecated and will be removed in a future version.\n",
      "Instructions for updating:\n",
      "Please use `rate` instead of `keep_prob`. Rate should be set to `rate = 1 - keep_prob`.\n",
      "_________________________________________________________________\n",
      "Layer (type)                 Output Shape              Param #   \n",
      "=================================================================\n",
      "input_1 (InputLayer)         (None, 3072)              0         \n",
      "_________________________________________________________________\n",
      "hidden_layer1 (Dense)        (None, 512)               1573376   \n",
      "_________________________________________________________________\n",
      "dropout_1 (Dropout)          (None, 512)               0         \n",
      "_________________________________________________________________\n",
      "hidden_layer2 (Dense)        (None, 256)               131328    \n",
      "_________________________________________________________________\n",
      "dropout_2 (Dropout)          (None, 256)               0         \n",
      "_________________________________________________________________\n",
      "hidden_layer3 (Dense)        (None, 128)               32896     \n",
      "_________________________________________________________________\n",
      "dropout_3 (Dropout)          (None, 128)               0         \n",
      "_________________________________________________________________\n",
      "output (Dense)               (None, 10)                1290      \n",
      "=================================================================\n",
      "Total params: 1,738,890\n",
      "Trainable params: 1,738,890\n",
      "Non-trainable params: 0\n",
      "_________________________________________________________________\n",
      "WARNING:tensorflow:From C:\\Users\\Jude\\Anaconda3\\lib\\site-packages\\tensorflow\\python\\ops\\math_ops.py:3066: to_int32 (from tensorflow.python.ops.math_ops) is deprecated and will be removed in a future version.\n",
      "Instructions for updating:\n",
      "Use tf.cast instead.\n",
      "Train on 50000 samples, validate on 10000 samples\n",
      "Epoch 1/50\n",
      "50000/50000 [==============================] - 5s 103us/step - loss: 2.1987 - acc: 0.1804 - val_loss: 2.0039 - val_acc: 0.2828\n",
      "Epoch 2/50\n",
      "50000/50000 [==============================] - 3s 60us/step - loss: 2.0093 - acc: 0.2611 - val_loss: 1.8858 - val_acc: 0.3339\n",
      "Epoch 3/50\n",
      "50000/50000 [==============================] - 3s 51us/step - loss: 1.9238 - acc: 0.3030 - val_loss: 1.8231 - val_acc: 0.3557\n",
      "Epoch 4/50\n",
      "50000/50000 [==============================] - 2s 50us/step - loss: 1.8706 - acc: 0.3223 - val_loss: 1.7660 - val_acc: 0.3717\n",
      "Epoch 5/50\n",
      "50000/50000 [==============================] - 2s 49us/step - loss: 1.8284 - acc: 0.3402 - val_loss: 1.7262 - val_acc: 0.3841\n",
      "Epoch 6/50\n",
      "50000/50000 [==============================] - 3s 53us/step - loss: 1.7920 - acc: 0.3544 - val_loss: 1.6938 - val_acc: 0.4046s - loss: 1.7962 - a\n",
      "Epoch 7/50\n",
      "50000/50000 [==============================] - 3s 54us/step - loss: 1.7645 - acc: 0.3657 - val_loss: 1.6567 - val_acc: 0.4103\n",
      "Epoch 8/50\n",
      "50000/50000 [==============================] - 3s 52us/step - loss: 1.7371 - acc: 0.3751 - val_loss: 1.6325 - val_acc: 0.4258\n",
      "Epoch 9/50\n",
      "50000/50000 [==============================] - 3s 55us/step - loss: 1.7103 - acc: 0.3867 - val_loss: 1.6123 - val_acc: 0.4316\n",
      "Epoch 10/50\n",
      "50000/50000 [==============================] - 3s 55us/step - loss: 1.6880 - acc: 0.3968 - val_loss: 1.5938 - val_acc: 0.4335\n",
      "Epoch 11/50\n",
      "50000/50000 [==============================] - 3s 56us/step - loss: 1.6726 - acc: 0.4036 - val_loss: 1.5808 - val_acc: 0.4428\n",
      "Epoch 12/50\n",
      "50000/50000 [==============================] - 3s 55us/step - loss: 1.6467 - acc: 0.4138 - val_loss: 1.5544 - val_acc: 0.4506\n",
      "Epoch 13/50\n",
      "50000/50000 [==============================] - 3s 54us/step - loss: 1.6348 - acc: 0.4150 - val_loss: 1.5502 - val_acc: 0.4533\n",
      "Epoch 14/50\n",
      "50000/50000 [==============================] - 3s 53us/step - loss: 1.6179 - acc: 0.4222 - val_loss: 1.5227 - val_acc: 0.4606\n",
      "Epoch 15/50\n",
      "50000/50000 [==============================] - 3s 55us/step - loss: 1.5993 - acc: 0.4318 - val_loss: 1.5083 - val_acc: 0.4664 1s - loss: 1.6039 - acc: 0.429 - ETA: 1s - loss: \n",
      "Epoch 16/50\n",
      "50000/50000 [==============================] - 3s 52us/step - loss: 1.5875 - acc: 0.4327 - val_loss: 1.4956 - val_acc: 0.4714\n",
      "Epoch 17/50\n",
      "50000/50000 [==============================] - 3s 53us/step - loss: 1.5734 - acc: 0.4405 - val_loss: 1.4875 - val_acc: 0.4694\n",
      "Epoch 18/50\n",
      "50000/50000 [==============================] - 3s 53us/step - loss: 1.5590 - acc: 0.4452 - val_loss: 1.4798 - val_acc: 0.4765\n",
      "Epoch 19/50\n",
      "50000/50000 [==============================] - 3s 51us/step - loss: 1.5460 - acc: 0.4479 - val_loss: 1.4667 - val_acc: 0.4758\n",
      "Epoch 20/50\n",
      "50000/50000 [==============================] - 3s 51us/step - loss: 1.5314 - acc: 0.4522 - val_loss: 1.4674 - val_acc: 0.4836\n",
      "Epoch 21/50\n",
      "50000/50000 [==============================] - 3s 52us/step - loss: 1.5201 - acc: 0.4566 - val_loss: 1.4544 - val_acc: 0.4837\n",
      "Epoch 22/50\n",
      "50000/50000 [==============================] - 3s 52us/step - loss: 1.5158 - acc: 0.4604 - val_loss: 1.4489 - val_acc: 0.4814\n",
      "Epoch 23/50\n",
      "50000/50000 [==============================] - 3s 55us/step - loss: 1.5018 - acc: 0.4648 - val_loss: 1.4468 - val_acc: 0.4874\n",
      "Epoch 24/50\n",
      "50000/50000 [==============================] - 3s 53us/step - loss: 1.4921 - acc: 0.4690 - val_loss: 1.4245 - val_acc: 0.4979\n",
      "Epoch 25/50\n",
      "50000/50000 [==============================] - 3s 54us/step - loss: 1.4828 - acc: 0.4711 - val_loss: 1.4182 - val_acc: 0.4987\n",
      "Epoch 26/50\n",
      "50000/50000 [==============================] - 3s 58us/step - loss: 1.4714 - acc: 0.4744 - val_loss: 1.4083 - val_acc: 0.5022\n",
      "Epoch 27/50\n",
      "50000/50000 [==============================] - 75s 2ms/step - loss: 1.4620 - acc: 0.4781 - val_loss: 1.4052 - val_acc: 0.5018\n",
      "Epoch 28/50\n",
      "50000/50000 [==============================] - 3s 65us/step - loss: 1.4533 - acc: 0.4841 - val_loss: 1.3971 - val_acc: 0.5050\n",
      "Epoch 29/50\n",
      "50000/50000 [==============================] - 3s 55us/step - loss: 1.4454 - acc: 0.4849 - val_loss: 1.3949 - val_acc: 0.5067\n",
      "Epoch 30/50\n",
      "50000/50000 [==============================] - 3s 55us/step - loss: 1.4337 - acc: 0.4865 - val_loss: 1.3883 - val_acc: 0.5104\n",
      "Epoch 31/50\n",
      "50000/50000 [==============================] - 3s 54us/step - loss: 1.4277 - acc: 0.4883 - val_loss: 1.3851 - val_acc: 0.5025\n",
      "Epoch 32/50\n",
      "50000/50000 [==============================] - 3s 54us/step - loss: 1.4236 - acc: 0.4932 - val_loss: 1.3932 - val_acc: 0.5056\n",
      "Epoch 33/50\n",
      "50000/50000 [==============================] - 3s 56us/step - loss: 1.4119 - acc: 0.4949 - val_loss: 1.3704 - val_acc: 0.5152\n",
      "Epoch 34/50\n",
      "50000/50000 [==============================] - 36s 719us/step - loss: 1.4016 - acc: 0.5002 - val_loss: 1.3704 - val_acc: 0.5094\n",
      "Epoch 35/50\n",
      "50000/50000 [==============================] - 4s 83us/step - loss: 1.3957 - acc: 0.5011 - val_loss: 1.3659 - val_acc: 0.5115\n",
      "Epoch 36/50\n",
      "50000/50000 [==============================] - 3s 60us/step - loss: 1.3867 - acc: 0.5055 - val_loss: 1.3733 - val_acc: 0.5108\n",
      "Epoch 37/50\n",
      "50000/50000 [==============================] - 3s 56us/step - loss: 1.3773 - acc: 0.5093 - val_loss: 1.3575 - val_acc: 0.5125\n",
      "Epoch 38/50\n",
      "50000/50000 [==============================] - 3s 55us/step - loss: 1.3713 - acc: 0.5088 - val_loss: 1.3558 - val_acc: 0.5138\n",
      "Epoch 39/50\n",
      "50000/50000 [==============================] - 3s 56us/step - loss: 1.3677 - acc: 0.5091 - val_loss: 1.3555 - val_acc: 0.5155\n",
      "Epoch 40/50\n",
      "50000/50000 [==============================] - 3s 56us/step - loss: 1.3568 - acc: 0.5139 - val_loss: 1.3426 - val_acc: 0.5162\n",
      "Epoch 41/50\n",
      "50000/50000 [==============================] - 3s 53us/step - loss: 1.3507 - acc: 0.5187 - val_loss: 1.3422 - val_acc: 0.5241\n",
      "Epoch 42/50\n",
      "50000/50000 [==============================] - 3s 53us/step - loss: 1.3451 - acc: 0.5193 - val_loss: 1.3377 - val_acc: 0.5206\n"
     ]
    },
    {
     "name": "stdout",
     "output_type": "stream",
     "text": [
      "Epoch 43/50\n",
      "50000/50000 [==============================] - 3s 51us/step - loss: 1.3334 - acc: 0.5228 - val_loss: 1.3331 - val_acc: 0.5256\n",
      "Epoch 44/50\n",
      "50000/50000 [==============================] - 3s 51us/step - loss: 1.3318 - acc: 0.5229 - val_loss: 1.3341 - val_acc: 0.5196\n",
      "Epoch 45/50\n",
      "50000/50000 [==============================] - 3s 50us/step - loss: 1.3222 - acc: 0.5297 - val_loss: 1.3248 - val_acc: 0.5299\n",
      "Epoch 46/50\n",
      "50000/50000 [==============================] - 3s 53us/step - loss: 1.3188 - acc: 0.5307 - val_loss: 1.3217 - val_acc: 0.5265\n",
      "Epoch 47/50\n",
      "50000/50000 [==============================] - 3s 55us/step - loss: 1.3077 - acc: 0.5304 - val_loss: 1.3193 - val_acc: 0.5292\n",
      "Epoch 48/50\n",
      "50000/50000 [==============================] - 3s 52us/step - loss: 1.3038 - acc: 0.5331 - val_loss: 1.3210 - val_acc: 0.5325\n",
      "Epoch 49/50\n",
      "50000/50000 [==============================] - 3s 51us/step - loss: 1.2958 - acc: 0.5365 - val_loss: 1.3166 - val_acc: 0.5336\n",
      "Epoch 50/50\n",
      "50000/50000 [==============================] - 3s 51us/step - loss: 1.2937 - acc: 0.5345 - val_loss: 1.3161 - val_acc: 0.5338\n"
     ]
    }
   ],
   "source": [
    "model = build_mlp(input_shape=x_train.shape[1:], drp_ratio=Dropout_EXP)\n",
    "model.summary()\n",
    "optimizer = keras.optimizers.SGD(lr=LEARNING_RATE, nesterov=True, momentum=MOMENTUM)\n",
    "model.compile(loss=\"categorical_crossentropy\", metrics=[\"accuracy\"], optimizer=optimizer)\n",
    "\n",
    "model.fit(x_train, y_train, \n",
    "          epochs=EPOCHS, \n",
    "          batch_size=BATCH_SIZE, \n",
    "          validation_data=(x_test, y_test), \n",
    "          shuffle=True)\n",
    "\n",
    "# Collect results\n",
    "train_loss = model.history.history[\"loss\"]\n",
    "valid_loss = model.history.history[\"val_loss\"]\n",
    "train_acc = model.history.history[\"acc\"]\n",
    "valid_acc = model.history.history[\"val_acc\"]"
   ]
  },
  {
   "cell_type": "code",
   "execution_count": 8,
   "metadata": {},
   "outputs": [
    {
     "data": {
      "image/png": "[encoded data removed]",
      "text/plain": [
       "<Figure size 432x288 with 1 Axes>"
      ]
     },
     "metadata": {},
     "output_type": "display_data"
    },
    {
     "data": {
      "image/png": "[encoded data removed]",
      "text/plain": [
       "<Figure size 432x288 with 1 Axes>"
      ]
     },
     "metadata": {},
     "output_type": "display_data"
    }
   ],
   "source": [
    "import matplotlib.pyplot as plt\n",
    "%matplotlib inline\n",
    "\n",
    "plt.plot(range(len(train_loss)), train_loss, label=\"train loss\")\n",
    "plt.plot(range(len(valid_loss)), valid_loss, label=\"valid loss\")\n",
    "plt.legend()\n",
    "plt.title(\"Loss\")\n",
    "plt.show()\n",
    "\n",
    "plt.plot(range(len(train_acc)), train_acc, label=\"train accuracy\")\n",
    "plt.plot(range(len(valid_acc)), valid_acc, label=\"valid accuracy\")\n",
    "plt.legend()\n",
    "plt.title(\"Accuracy\")\n",
    "plt.show()"
   ]
  },
  {
   "cell_type": "markdown",
   "metadata": {},
   "source": [
    "## Work\n",
    "1. 請比較使用不同層數以及不同 Dropout rate 對訓練的效果\n",
    "2. 將 optimizer 改成使用 Adam 並加上適當的 dropout rate 檢視結果"
   ]
  }
 ],
 "metadata": {
  "kernelspec": {
   "display_name": "Python 3",
   "language": "python",
   "name": "python3"
  },
  "language_info": {
   "codemirror_mode": {
    "name": "ipython",
    "version": 3
   },
   "file_extension": ".py",
   "mimetype": "text/x-python",
   "name": "python",
   "nbconvert_exporter": "python",
   "pygments_lexer": "ipython3",
   "version": "3.6.6"
  }
 },
 "nbformat": 4,
 "nbformat_minor": 2
}
