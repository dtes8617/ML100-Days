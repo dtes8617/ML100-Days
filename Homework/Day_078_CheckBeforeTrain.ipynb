{
 "cells": [
  {
   "cell_type": "code",
   "execution_count": 10,
   "metadata": {},
   "outputs": [
    {
     "name": "stderr",
     "output_type": "stream",
     "text": [
      "'nvidia-smi' 不是內部或外部命令、可執行的程式或批次檔。\n"
     ]
    }
   ],
   "source": [
    "## 確認硬體資源\n",
    "!nvidia-smi"
   ]
  },
  {
   "cell_type": "code",
   "execution_count": 11,
   "metadata": {},
   "outputs": [
    {
     "name": "stderr",
     "output_type": "stream",
     "text": [
      "Using TensorFlow backend.\n"
     ]
    }
   ],
   "source": [
    "import os\n",
    "import keras\n",
    "\n",
    "# Disable GPU\n",
    "os.environ[\"CUDA_VISIBLE_DEVICES\"] = \"\""
   ]
  },
  {
   "cell_type": "code",
   "execution_count": 12,
   "metadata": {},
   "outputs": [],
   "source": [
    "train, test = keras.datasets.cifar10.load_data()"
   ]
  },
  {
   "cell_type": "code",
   "execution_count": 13,
   "metadata": {},
   "outputs": [],
   "source": [
    "## 資料前處理\n",
    "def preproc_x(x, flatten=True):\n",
    "    x = x / 255.\n",
    "    if flatten:\n",
    "        x = x.reshape((len(x), -1))\n",
    "    return x\n",
    "\n",
    "def preproc_y(y, num_classes=10):\n",
    "    if y.shape[-1] == 1:\n",
    "        y = keras.utils.to_categorical(y, num_classes)\n",
    "    return y    "
   ]
  },
  {
   "cell_type": "code",
   "execution_count": 14,
   "metadata": {},
   "outputs": [],
   "source": [
    "x_train, y_train = train\n",
    "x_test, y_test = test\n",
    "\n",
    "# Preproc the inputs\n",
    "x_train = preproc_x(x_train)\n",
    "x_test = preproc_x(x_test)\n",
    "\n",
    "# Preprc the outputs\n",
    "y_train = preproc_y(y_train)\n",
    "y_test = preproc_y(y_test)"
   ]
  },
  {
   "cell_type": "code",
   "execution_count": 15,
   "metadata": {},
   "outputs": [],
   "source": [
    "def build_mlp(input_shape, output_units=10, num_neurons=[512, 256, 128]):\n",
    "    input_layer = keras.layers.Input(input_shape)\n",
    "    \n",
    "    for i, n_units in enumerate(num_neurons):\n",
    "        if i == 0:\n",
    "            x = keras.layers.Dense(units=n_units, activation=\"relu\", name=\"hidden_layer\"+str(i+1))(input_layer)\n",
    "        else:\n",
    "            x = keras.layers.Dense(units=n_units, activation=\"relu\", name=\"hidden_layer\"+str(i+1))(x)\n",
    "    \n",
    "    out = keras.layers.Dense(units=output_units, activation=\"softmax\", name=\"output\")(x)\n",
    "    \n",
    "    model = keras.models.Model(inputs=[input_layer], outputs=[out])\n",
    "    return model"
   ]
  },
  {
   "cell_type": "code",
   "execution_count": 16,
   "metadata": {},
   "outputs": [
    {
     "name": "stdout",
     "output_type": "stream",
     "text": [
      "WARNING:tensorflow:From C:\\Users\\Jude\\Anaconda3\\lib\\site-packages\\tensorflow\\python\\framework\\op_def_library.py:263: colocate_with (from tensorflow.python.framework.ops) is deprecated and will be removed in a future version.\n",
      "Instructions for updating:\n",
      "Colocations handled automatically by placer.\n",
      "_________________________________________________________________\n",
      "Layer (type)                 Output Shape              Param #   \n",
      "=================================================================\n",
      "input_1 (InputLayer)         (None, 3072)              0         \n",
      "_________________________________________________________________\n",
      "hidden_layer1 (Dense)        (None, 512)               1573376   \n",
      "_________________________________________________________________\n",
      "hidden_layer2 (Dense)        (None, 256)               131328    \n",
      "_________________________________________________________________\n",
      "hidden_layer3 (Dense)        (None, 128)               32896     \n",
      "_________________________________________________________________\n",
      "output (Dense)               (None, 10)                1290      \n",
      "=================================================================\n",
      "Total params: 1,738,890\n",
      "Trainable params: 1,738,890\n",
      "Non-trainable params: 0\n",
      "_________________________________________________________________\n"
     ]
    }
   ],
   "source": [
    "model = build_mlp(input_shape=x_train.shape[1:])\n",
    "model.summary()"
   ]
  },
  {
   "cell_type": "code",
   "execution_count": 17,
   "metadata": {},
   "outputs": [],
   "source": [
    "## 超參數設定\n",
    "LEARNING_RATE = 0.001\n",
    "EPOCHS = 100\n",
    "BATCH_SIZE = 256"
   ]
  },
  {
   "cell_type": "code",
   "execution_count": 18,
   "metadata": {},
   "outputs": [],
   "source": [
    "optimizer = keras.optimizers.Adam(lr=LEARNING_RATE)\n",
    "model.compile(loss=\"categorical_crossentropy\", metrics=[\"accuracy\"], optimizer=optimizer)"
   ]
  },
  {
   "cell_type": "code",
   "execution_count": 19,
   "metadata": {
    "scrolled": true
   },
   "outputs": [
    {
     "name": "stdout",
     "output_type": "stream",
     "text": [
      "WARNING:tensorflow:From C:\\Users\\Jude\\Anaconda3\\lib\\site-packages\\tensorflow\\python\\ops\\math_ops.py:3066: to_int32 (from tensorflow.python.ops.math_ops) is deprecated and will be removed in a future version.\n",
      "Instructions for updating:\n",
      "Use tf.cast instead.\n",
      "Train on 50000 samples, validate on 10000 samples\n",
      "Epoch 1/100\n",
      "50000/50000 [==============================] - 5s 108us/step - loss: 1.9559 - acc: 0.2994 - val_loss: 1.7556 - val_acc: 0.3725\n",
      "Epoch 2/100\n",
      "50000/50000 [==============================] - 3s 54us/step - loss: 1.7160 - acc: 0.3883 - val_loss: 1.6401 - val_acc: 0.4163\n",
      "Epoch 3/100\n",
      "50000/50000 [==============================] - 3s 53us/step - loss: 1.6192 - acc: 0.4229 - val_loss: 1.5979 - val_acc: 0.4319\n",
      "Epoch 4/100\n",
      "50000/50000 [==============================] - 3s 54us/step - loss: 1.5577 - acc: 0.4443 - val_loss: 1.5685 - val_acc: 0.4387\n",
      "Epoch 5/100\n",
      "50000/50000 [==============================] - 3s 56us/step - loss: 1.5083 - acc: 0.4625 - val_loss: 1.5548 - val_acc: 0.4455\n",
      "Epoch 6/100\n",
      "50000/50000 [==============================] - 3s 60us/step - loss: 1.4717 - acc: 0.4784 - val_loss: 1.5702 - val_acc: 0.4284\n",
      "Epoch 7/100\n",
      "50000/50000 [==============================] - 3s 60us/step - loss: 1.4409 - acc: 0.4861 - val_loss: 1.4546 - val_acc: 0.4827\n",
      "Epoch 8/100\n",
      "50000/50000 [==============================] - 3s 55us/step - loss: 1.4172 - acc: 0.4949 - val_loss: 1.4722 - val_acc: 0.4787\n",
      "Epoch 9/100\n",
      "50000/50000 [==============================] - 3s 55us/step - loss: 1.3839 - acc: 0.5064 - val_loss: 1.5433 - val_acc: 0.4569cc: 0 - ETA: 0s - loss: 1.3830 - ac\n",
      "Epoch 10/100\n",
      "50000/50000 [==============================] - 3s 54us/step - loss: 1.3486 - acc: 0.5214 - val_loss: 1.4689 - val_acc: 0.4806\n",
      "Epoch 11/100\n",
      "50000/50000 [==============================] - 3s 57us/step - loss: 1.3273 - acc: 0.5273 - val_loss: 1.4257 - val_acc: 0.4946\n",
      "Epoch 12/100\n",
      "50000/50000 [==============================] - 3s 53us/step - loss: 1.3106 - acc: 0.5343 - val_loss: 1.4341 - val_acc: 0.4974\n",
      "Epoch 13/100\n",
      "50000/50000 [==============================] - 3s 53us/step - loss: 1.2869 - acc: 0.5404 - val_loss: 1.4424 - val_acc: 0.4929\n",
      "Epoch 14/100\n",
      "50000/50000 [==============================] - 3s 54us/step - loss: 1.2614 - acc: 0.5515 - val_loss: 1.3941 - val_acc: 0.5146\n",
      "Epoch 15/100\n",
      "50000/50000 [==============================] - 3s 52us/step - loss: 1.2389 - acc: 0.5588 - val_loss: 1.3789 - val_acc: 0.5172\n",
      "Epoch 16/100\n",
      "50000/50000 [==============================] - 3s 54us/step - loss: 1.2239 - acc: 0.5624 - val_loss: 1.3935 - val_acc: 0.5126\n",
      "Epoch 17/100\n",
      "50000/50000 [==============================] - 3s 54us/step - loss: 1.1962 - acc: 0.5729 - val_loss: 1.3530 - val_acc: 0.5217\n",
      "Epoch 18/100\n",
      "50000/50000 [==============================] - 3s 54us/step - loss: 1.1751 - acc: 0.5801 - val_loss: 1.4192 - val_acc: 0.5006\n",
      "Epoch 19/100\n",
      "50000/50000 [==============================] - 3s 53us/step - loss: 1.1582 - acc: 0.5883 - val_loss: 1.3564 - val_acc: 0.5284\n",
      "Epoch 20/100\n",
      "50000/50000 [==============================] - 3s 51us/step - loss: 1.1324 - acc: 0.5978 - val_loss: 1.3665 - val_acc: 0.5228\n",
      "Epoch 21/100\n",
      "50000/50000 [==============================] - 3s 51us/step - loss: 1.1192 - acc: 0.6024 - val_loss: 1.3612 - val_acc: 0.5246\n",
      "Epoch 22/100\n",
      "50000/50000 [==============================] - 3s 53us/step - loss: 1.0957 - acc: 0.6112 - val_loss: 1.3619 - val_acc: 0.5278\n",
      "Epoch 23/100\n",
      "50000/50000 [==============================] - 3s 53us/step - loss: 1.0844 - acc: 0.6131 - val_loss: 1.4333 - val_acc: 0.5025\n",
      "Epoch 24/100\n",
      "50000/50000 [==============================] - 3s 55us/step - loss: 1.0694 - acc: 0.6198 - val_loss: 1.3822 - val_acc: 0.5210\n",
      "Epoch 25/100\n",
      "50000/50000 [==============================] - 3s 54us/step - loss: 1.0522 - acc: 0.6243 - val_loss: 1.3903 - val_acc: 0.5288\n",
      "Epoch 26/100\n",
      "50000/50000 [==============================] - 3s 53us/step - loss: 1.0344 - acc: 0.6308 - val_loss: 1.3916 - val_acc: 0.5250\n",
      "Epoch 27/100\n",
      "50000/50000 [==============================] - 3s 52us/step - loss: 1.0010 - acc: 0.6440 - val_loss: 1.3768 - val_acc: 0.5337\n",
      "Epoch 28/100\n",
      "50000/50000 [==============================] - 3s 52us/step - loss: 1.0023 - acc: 0.6447 - val_loss: 1.4390 - val_acc: 0.5269\n",
      "Epoch 29/100\n",
      "50000/50000 [==============================] - 3s 52us/step - loss: 0.9841 - acc: 0.6486 - val_loss: 1.3972 - val_acc: 0.5321\n",
      "Epoch 30/100\n",
      "50000/50000 [==============================] - 3s 52us/step - loss: 0.9473 - acc: 0.6608 - val_loss: 1.4324 - val_acc: 0.5255\n",
      "Epoch 31/100\n",
      "50000/50000 [==============================] - 3s 51us/step - loss: 0.9363 - acc: 0.6652 - val_loss: 1.4222 - val_acc: 0.5285\n",
      "Epoch 32/100\n",
      "50000/50000 [==============================] - 3s 52us/step - loss: 0.9339 - acc: 0.6657 - val_loss: 1.4645 - val_acc: 0.5220\n",
      "Epoch 33/100\n",
      "50000/50000 [==============================] - 3s 51us/step - loss: 0.9113 - acc: 0.6738 - val_loss: 1.4408 - val_acc: 0.5329\n",
      "Epoch 34/100\n",
      "50000/50000 [==============================] - 3s 52us/step - loss: 0.8943 - acc: 0.6818 - val_loss: 1.4709 - val_acc: 0.5175 loss: 0.883\n",
      "Epoch 35/100\n",
      "50000/50000 [==============================] - 3s 51us/step - loss: 0.8765 - acc: 0.6868 - val_loss: 1.4671 - val_acc: 0.5185\n",
      "Epoch 36/100\n",
      "50000/50000 [==============================] - 3s 51us/step - loss: 0.8591 - acc: 0.6944 - val_loss: 1.5131 - val_acc: 0.5162\n",
      "Epoch 37/100\n",
      "50000/50000 [==============================] - 3s 52us/step - loss: 0.8479 - acc: 0.6975 - val_loss: 1.5061 - val_acc: 0.5294\n",
      "Epoch 38/100\n",
      "50000/50000 [==============================] - 3s 51us/step - loss: 0.8263 - acc: 0.7047 - val_loss: 1.5608 - val_acc: 0.5240\n",
      "Epoch 39/100\n",
      "50000/50000 [==============================] - 3s 51us/step - loss: 0.8238 - acc: 0.7079 - val_loss: 1.5688 - val_acc: 0.5181\n",
      "Epoch 40/100\n",
      "50000/50000 [==============================] - 3s 51us/step - loss: 0.8086 - acc: 0.7113 - val_loss: 1.5597 - val_acc: 0.5198\n",
      "Epoch 41/100\n",
      "50000/50000 [==============================] - 3s 51us/step - loss: 0.7851 - acc: 0.7206 - val_loss: 1.5630 - val_acc: 0.5205\n",
      "Epoch 42/100\n",
      "50000/50000 [==============================] - 3s 51us/step - loss: 0.7834 - acc: 0.7197 - val_loss: 1.5817 - val_acc: 0.5223\n",
      "Epoch 43/100\n",
      "50000/50000 [==============================] - 3s 51us/step - loss: 0.7589 - acc: 0.7279 - val_loss: 1.6049 - val_acc: 0.5208\n",
      "Epoch 44/100\n",
      "50000/50000 [==============================] - 3s 52us/step - loss: 0.7535 - acc: 0.7298 - val_loss: 1.6022 - val_acc: 0.5197\n",
      "Epoch 45/100\n",
      "50000/50000 [==============================] - 3s 52us/step - loss: 0.7344 - acc: 0.7371 - val_loss: 1.6323 - val_acc: 0.5195\n",
      "Epoch 46/100\n",
      "50000/50000 [==============================] - 3s 52us/step - loss: 0.7066 - acc: 0.7481 - val_loss: 1.6798 - val_acc: 0.5188\n",
      "Epoch 47/100\n",
      "50000/50000 [==============================] - 3s 51us/step - loss: 0.7169 - acc: 0.7428 - val_loss: 1.6530 - val_acc: 0.5210\n",
      "Epoch 48/100\n",
      "50000/50000 [==============================] - 3s 51us/step - loss: 0.6865 - acc: 0.7547 - val_loss: 1.6886 - val_acc: 0.5166\n",
      "Epoch 49/100\n",
      "50000/50000 [==============================] - 3s 51us/step - loss: 0.6730 - acc: 0.7592 - val_loss: 1.7133 - val_acc: 0.5079\n",
      "Epoch 50/100\n",
      "50000/50000 [==============================] - 3s 53us/step - loss: 0.6634 - acc: 0.7642 - val_loss: 1.6805 - val_acc: 0.5197\n",
      "Epoch 51/100\n",
      "50000/50000 [==============================] - 3s 51us/step - loss: 0.6708 - acc: 0.7615 - val_loss: 1.7067 - val_acc: 0.5227\n",
      "Epoch 52/100\n",
      "50000/50000 [==============================] - 3s 51us/step - loss: 0.6325 - acc: 0.7758 - val_loss: 1.8035 - val_acc: 0.5095\n",
      "Epoch 53/100\n",
      "50000/50000 [==============================] - 3s 52us/step - loss: 0.6311 - acc: 0.7736 - val_loss: 1.7662 - val_acc: 0.5186\n",
      "Epoch 54/100\n",
      "50000/50000 [==============================] - 3s 51us/step - loss: 0.6128 - acc: 0.7824 - val_loss: 1.8383 - val_acc: 0.5155\n",
      "Epoch 55/100\n",
      "50000/50000 [==============================] - 3s 52us/step - loss: 0.6020 - acc: 0.7847 - val_loss: 1.8753 - val_acc: 0.51010.7\n",
      "Epoch 56/100\n",
      "50000/50000 [==============================] - 3s 52us/step - loss: 0.5935 - acc: 0.7900 - val_loss: 1.8608 - val_acc: 0.5163\n",
      "Epoch 57/100\n"
     ]
    },
    {
     "name": "stdout",
     "output_type": "stream",
     "text": [
      "50000/50000 [==============================] - 3s 52us/step - loss: 0.5902 - acc: 0.7878 - val_loss: 1.9038 - val_acc: 0.5096\n",
      "Epoch 58/100\n",
      "50000/50000 [==============================] - 3s 51us/step - loss: 0.5786 - acc: 0.7933 - val_loss: 1.8979 - val_acc: 0.5108\n",
      "Epoch 59/100\n",
      "50000/50000 [==============================] - 3s 51us/step - loss: 0.5631 - acc: 0.8002 - val_loss: 1.9655 - val_acc: 0.5034\n",
      "Epoch 60/100\n",
      "50000/50000 [==============================] - 3s 51us/step - loss: 0.5623 - acc: 0.7985 - val_loss: 2.0184 - val_acc: 0.5102\n",
      "Epoch 61/100\n",
      "50000/50000 [==============================] - 3s 52us/step - loss: 0.5424 - acc: 0.8069 - val_loss: 1.9742 - val_acc: 0.5187\n",
      "Epoch 62/100\n",
      "50000/50000 [==============================] - 3s 51us/step - loss: 0.5464 - acc: 0.8034 - val_loss: 2.0204 - val_acc: 0.5128\n",
      "Epoch 63/100\n",
      "50000/50000 [==============================] - 3s 52us/step - loss: 0.5245 - acc: 0.8142 - val_loss: 2.0339 - val_acc: 0.5093\n",
      "Epoch 64/100\n",
      "50000/50000 [==============================] - 3s 52us/step - loss: 0.5147 - acc: 0.8160 - val_loss: 2.0956 - val_acc: 0.5059\n",
      "Epoch 65/100\n",
      "50000/50000 [==============================] - 3s 51us/step - loss: 0.4996 - acc: 0.8212 - val_loss: 2.1231 - val_acc: 0.5074\n",
      "Epoch 66/100\n",
      "50000/50000 [==============================] - 3s 54us/step - loss: 0.5014 - acc: 0.8211 - val_loss: 2.1434 - val_acc: 0.5122\n",
      "Epoch 67/100\n",
      "50000/50000 [==============================] - 3s 52us/step - loss: 0.5016 - acc: 0.8210 - val_loss: 2.1792 - val_acc: 0.5014\n",
      "Epoch 68/100\n",
      "50000/50000 [==============================] - 3s 52us/step - loss: 0.4785 - acc: 0.8287 - val_loss: 2.2557 - val_acc: 0.4996\n",
      "Epoch 69/100\n",
      "50000/50000 [==============================] - 3s 51us/step - loss: 0.4794 - acc: 0.8293 - val_loss: 2.2444 - val_acc: 0.5025\n",
      "Epoch 70/100\n",
      "50000/50000 [==============================] - 3s 51us/step - loss: 0.4571 - acc: 0.8375 - val_loss: 2.1867 - val_acc: 0.5102\n",
      "Epoch 71/100\n",
      "50000/50000 [==============================] - 3s 54us/step - loss: 0.4593 - acc: 0.8356 - val_loss: 2.2664 - val_acc: 0.5080\n",
      "Epoch 72/100\n",
      "50000/50000 [==============================] - 3s 52us/step - loss: 0.4554 - acc: 0.8363 - val_loss: 2.3007 - val_acc: 0.5013\n",
      "Epoch 73/100\n",
      "50000/50000 [==============================] - 3s 53us/step - loss: 0.4504 - acc: 0.8380 - val_loss: 2.3405 - val_acc: 0.5070\n",
      "Epoch 74/100\n",
      "50000/50000 [==============================] - 3s 52us/step - loss: 0.4208 - acc: 0.8499 - val_loss: 2.3892 - val_acc: 0.5000\n",
      "Epoch 75/100\n",
      "50000/50000 [==============================] - 3s 51us/step - loss: 0.4319 - acc: 0.8466 - val_loss: 2.3821 - val_acc: 0.5094\n",
      "Epoch 76/100\n",
      "50000/50000 [==============================] - 3s 51us/step - loss: 0.4201 - acc: 0.8500 - val_loss: 2.4107 - val_acc: 0.5043\n",
      "Epoch 77/100\n",
      "50000/50000 [==============================] - 3s 51us/step - loss: 0.4181 - acc: 0.8499 - val_loss: 2.3612 - val_acc: 0.5060\n",
      "Epoch 78/100\n",
      "50000/50000 [==============================] - 3s 52us/step - loss: 0.4264 - acc: 0.8480 - val_loss: 2.4217 - val_acc: 0.4986\n",
      "Epoch 79/100\n",
      "50000/50000 [==============================] - 3s 52us/step - loss: 0.4042 - acc: 0.8542 - val_loss: 2.4196 - val_acc: 0.5009\n",
      "Epoch 80/100\n",
      "50000/50000 [==============================] - 3s 51us/step - loss: 0.4010 - acc: 0.8570 - val_loss: 2.5478 - val_acc: 0.5011\n",
      "Epoch 81/100\n",
      "50000/50000 [==============================] - 3s 51us/step - loss: 0.3903 - acc: 0.8604 - val_loss: 2.5427 - val_acc: 0.5029\n",
      "Epoch 82/100\n",
      "50000/50000 [==============================] - 3s 51us/step - loss: 0.3733 - acc: 0.8675 - val_loss: 2.5101 - val_acc: 0.5045\n",
      "Epoch 83/100\n",
      "50000/50000 [==============================] - 3s 51us/step - loss: 0.3799 - acc: 0.8647 - val_loss: 2.5068 - val_acc: 0.5066\n",
      "Epoch 84/100\n",
      "50000/50000 [==============================] - 3s 51us/step - loss: 0.3784 - acc: 0.8644 - val_loss: 2.5333 - val_acc: 0.5041\n",
      "Epoch 85/100\n",
      "50000/50000 [==============================] - 3s 52us/step - loss: 0.3774 - acc: 0.8640 - val_loss: 2.6082 - val_acc: 0.4996\n",
      "Epoch 86/100\n",
      "50000/50000 [==============================] - 3s 52us/step - loss: 0.3558 - acc: 0.8720 - val_loss: 2.6303 - val_acc: 0.4966\n",
      "Epoch 87/100\n",
      "50000/50000 [==============================] - 3s 51us/step - loss: 0.3503 - acc: 0.8744 - val_loss: 2.7227 - val_acc: 0.4971\n",
      "Epoch 88/100\n",
      "50000/50000 [==============================] - 3s 51us/step - loss: 0.3385 - acc: 0.8801 - val_loss: 2.7857 - val_acc: 0.4824\n",
      "Epoch 89/100\n",
      "50000/50000 [==============================] - 3s 51us/step - loss: 0.3762 - acc: 0.8647 - val_loss: 2.6655 - val_acc: 0.5062\n",
      "Epoch 90/100\n",
      "50000/50000 [==============================] - 3s 51us/step - loss: 0.3453 - acc: 0.8767 - val_loss: 2.6999 - val_acc: 0.4989\n",
      "Epoch 91/100\n",
      "50000/50000 [==============================] - 3s 52us/step - loss: 0.3348 - acc: 0.8810 - val_loss: 2.7333 - val_acc: 0.5081\n",
      "Epoch 92/100\n",
      "50000/50000 [==============================] - 3s 52us/step - loss: 0.3532 - acc: 0.8733 - val_loss: 2.7792 - val_acc: 0.4996\n",
      "Epoch 93/100\n",
      "50000/50000 [==============================] - 3s 51us/step - loss: 0.3583 - acc: 0.8713 - val_loss: 2.8978 - val_acc: 0.4950\n",
      "Epoch 94/100\n",
      "50000/50000 [==============================] - 3s 51us/step - loss: 0.3266 - acc: 0.8834 - val_loss: 2.8222 - val_acc: 0.5051\n",
      "Epoch 95/100\n",
      "50000/50000 [==============================] - 3s 51us/step - loss: 0.3388 - acc: 0.8789 - val_loss: 2.9081 - val_acc: 0.4953\n",
      "Epoch 96/100\n",
      "50000/50000 [==============================] - 3s 51us/step - loss: 0.3327 - acc: 0.8805 - val_loss: 2.8258 - val_acc: 0.5139\n",
      "Epoch 97/100\n",
      "50000/50000 [==============================] - 3s 52us/step - loss: 0.3154 - acc: 0.8872 - val_loss: 2.9129 - val_acc: 0.5070\n",
      "Epoch 98/100\n",
      "50000/50000 [==============================] - 3s 51us/step - loss: 0.3015 - acc: 0.8929 - val_loss: 2.9297 - val_acc: 0.5055\n",
      "Epoch 99/100\n",
      "50000/50000 [==============================] - 3s 52us/step - loss: 0.3118 - acc: 0.8883 - val_loss: 2.9968 - val_acc: 0.4910\n",
      "Epoch 100/100\n",
      "50000/50000 [==============================] - 3s 53us/step - loss: 0.3090 - acc: 0.8913 - val_loss: 3.0743 - val_acc: 0.4996\n"
     ]
    },
    {
     "data": {
      "text/plain": [
       "<keras.callbacks.History at 0x1f7b92b9e80>"
      ]
     },
     "execution_count": 19,
     "metadata": {},
     "output_type": "execute_result"
    }
   ],
   "source": [
    "model.fit(x_train, y_train, \n",
    "          epochs=EPOCHS, \n",
    "          batch_size=BATCH_SIZE, \n",
    "          validation_data=(x_test, y_test), \n",
    "          shuffle=True)"
   ]
  },
  {
   "cell_type": "code",
   "execution_count": 21,
   "metadata": {},
   "outputs": [
    {
     "data": {
      "image/png": "[encoded data removed]",
      "text/plain": [
       "<Figure size 432x288 with 1 Axes>"
      ]
     },
     "metadata": {},
     "output_type": "display_data"
    },
    {
     "data": {
      "image/png": "[encoded data removed]",
      "text/plain": [
       "<Figure size 432x288 with 1 Axes>"
      ]
     },
     "metadata": {},
     "output_type": "display_data"
    }
   ],
   "source": [
    "import matplotlib.pyplot as plt\n",
    "%matplotlib inline\n",
    "\n",
    "train_loss = model.history.history[\"loss\"]\n",
    "valid_loss = model.history.history[\"val_loss\"]\n",
    "\n",
    "train_acc = model.history.history[\"acc\"]\n",
    "valid_acc = model.history.history[\"val_acc\"]\n",
    "\n",
    "plt.plot(range(len(train_loss)), train_loss, label=\"train loss\")\n",
    "plt.plot(range(len(valid_loss)), valid_loss, label=\"valid loss\")\n",
    "plt.legend()\n",
    "plt.title(\"Loss\")\n",
    "plt.show()\n",
    "\n",
    "plt.plot(range(len(train_acc)), train_acc, label=\"train accuracy\")\n",
    "plt.plot(range(len(valid_acc)), valid_acc, label=\"valid accuracy\")\n",
    "plt.legend()\n",
    "plt.title(\"Accuracy\")\n",
    "plt.show()"
   ]
  },
  {
   "cell_type": "markdown",
   "metadata": {},
   "source": [
    "## Work\n",
    "1. 請嘗試將 preproc_x 替換成以每筆資料的 min/max 進行標準化至 -1 ~ 1 間，再進行訓練\n",
    "2. 請嘗試將 mlp 疊更深 (e.g 5~10 層)，進行訓練後觀察 learning curve 的走勢\n",
    "3. (optional) 請改用 GPU 進行訓練 (如果你有 GPU 的話)，比較使用 CPU 與 GPU 的訓練速度"
   ]
  }
 ],
 "metadata": {
  "kernelspec": {
   "display_name": "Python 3",
   "language": "python",
   "name": "python3"
  },
  "language_info": {
   "codemirror_mode": {
    "name": "ipython",
    "version": 3
   },
   "file_extension": ".py",
   "mimetype": "text/x-python",
   "name": "python",
   "nbconvert_exporter": "python",
   "pygments_lexer": "ipython3",
   "version": "3.6.6"
  }
 },
 "nbformat": 4,
 "nbformat_minor": 2
}
