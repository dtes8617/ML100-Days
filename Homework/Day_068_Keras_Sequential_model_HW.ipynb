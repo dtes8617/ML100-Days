{
  "nbformat": 4,
  "nbformat_minor": 0,
  "metadata": {
    "colab": {
      "name": "Day_068_Keras_Sequential_model_HW.ipynb",
      "version": "0.3.2",
      "provenance": []
    },
    "kernelspec": {
      "name": "python3",
      "display_name": "Python 3"
    },
    "accelerator": "GPU"
  },
  "cells": [
    {
      "metadata": {
        "id": "R9Bjg2VwgmqB",
        "colab_type": "text"
      },
      "cell_type": "markdown",
      "source": [
        "# 作業:\n",
        "請修改input shape: (Conv2D(64, (3, 3))的設定, 新增一層 Dense 並觀看 model.summary 的輸出"
      ]
    },
    {
      "metadata": {
        "id": "wC6K4VzCgmp6",
        "colab_type": "code",
        "colab": {}
      },
      "cell_type": "code",
      "source": [
        "# 載入必須使用的 Library\n",
        "import keras\n",
        "from keras.datasets import cifar10\n",
        "from keras.models import Sequential, load_model\n",
        "from keras.layers import Dense, Dropout, Activation, Flatten\n",
        "from keras.layers import Conv2D, MaxPooling2D\n",
        "from keras.utils import np_utils\n",
        "import numpy as np\n"
      ],
      "execution_count": 0,
      "outputs": []
    },
    {
      "metadata": {
        "id": "2r5xhuvjhoN_",
        "colab_type": "code",
        "colab": {}
      },
      "cell_type": "code",
      "source": [
        "(x_train, y_train), (x_test, y_test) = cifar10.load_data()\n",
        "num_classes = len(np.unique(y_train))\n",
        "\n",
        "x_train_normalize, x_test_normalize = x_train.astype('float32')/255., x_test.astype('float32')/255.\n",
        "y_train_onehot, y_test_onehot = np_utils.to_categorical(y_train), np_utils.to_categorical(y_test)"
      ],
      "execution_count": 0,
      "outputs": []
    },
    {
      "metadata": {
        "id": "yDZ9GkjzgmqC",
        "colab_type": "code",
        "colab": {}
      },
      "cell_type": "code",
      "source": [
        "# build our CNN model, 多加幾層\n",
        "model = Sequential()\n",
        "model.add(Conv2D(64, (3, 3), padding='same',\n",
        "                 input_shape=x_train_normalize.shape[1:]))\n",
        "model.add(Flatten())\n",
        "\n",
        "model.add(Dense(512))\n",
        "model.add(Activation('relu'))\n",
        "model.add(Dropout(0.5))\n",
        "\n",
        "model.add(Dense(128))\n",
        "model.add(Activation('relu'))\n",
        "model.add(Dropout(0.3))\n",
        "\n",
        "model.add(Dense(num_classes))\n",
        "model.add(Activation('softmax'))"
      ],
      "execution_count": 0,
      "outputs": []
    },
    {
      "metadata": {
        "id": "_8_QV_vqiFcD",
        "colab_type": "code",
        "colab": {
          "base_uri": "https://localhost:8080/",
          "height": 459
        },
        "outputId": "c08bf023-77ba-4783-87bf-13f5385369e1"
      },
      "cell_type": "code",
      "source": [
        "# initiate Adam optimizer\n",
        "opt = keras.optimizers.Adam()\n",
        "\n",
        "# Let's train the model using Adam\n",
        "model.compile(loss='categorical_crossentropy',optimizer=opt,metrics=['accuracy'])\n",
        "\n",
        "model_history = model.fit(x_train_normalize, y_train_onehot, validation_split=0.2, epochs=10, batch_size=128, verbose=1)  \n",
        "\n",
        "# Score trained model.\n",
        "scores = model.evaluate(x_test_normalize, y_test_onehot, verbose=1)\n",
        "print('Test accuracy:', scores[1])"
      ],
      "execution_count": 21,
      "outputs": [
        {
          "output_type": "stream",
          "text": [
            "WARNING:tensorflow:From /usr/local/lib/python3.6/dist-packages/tensorflow/python/ops/math_ops.py:3066: to_int32 (from tensorflow.python.ops.math_ops) is deprecated and will be removed in a future version.\n",
            "Instructions for updating:\n",
            "Use tf.cast instead.\n",
            "Train on 40000 samples, validate on 10000 samples\n",
            "Epoch 1/10\n",
            "40000/40000 [==============================] - 25s 616us/step - loss: 2.1859 - acc: 0.2631 - val_loss: 1.7857 - val_acc: 0.3905\n",
            "Epoch 2/10\n",
            "40000/40000 [==============================] - 23s 564us/step - loss: 1.8235 - acc: 0.3463 - val_loss: 1.6831 - val_acc: 0.4186\n",
            "Epoch 3/10\n",
            "40000/40000 [==============================] - 23s 563us/step - loss: 1.7424 - acc: 0.3806 - val_loss: 1.6619 - val_acc: 0.4255\n",
            "Epoch 4/10\n",
            "40000/40000 [==============================] - 22s 562us/step - loss: 1.6706 - acc: 0.4048 - val_loss: 1.6113 - val_acc: 0.4512\n",
            "Epoch 5/10\n",
            "40000/40000 [==============================] - 23s 563us/step - loss: 1.6238 - acc: 0.4197 - val_loss: 1.5776 - val_acc: 0.4585\n",
            "Epoch 6/10\n",
            "40000/40000 [==============================] - 23s 563us/step - loss: 1.5960 - acc: 0.4306 - val_loss: 1.5464 - val_acc: 0.4584\n",
            "Epoch 7/10\n",
            "40000/40000 [==============================] - 23s 565us/step - loss: 1.5633 - acc: 0.4401 - val_loss: 1.5496 - val_acc: 0.4623\n",
            "Epoch 8/10\n",
            "40000/40000 [==============================] - 23s 565us/step - loss: 1.5304 - acc: 0.4522 - val_loss: 1.5325 - val_acc: 0.4689\n",
            "Epoch 9/10\n",
            "40000/40000 [==============================] - 23s 565us/step - loss: 1.4965 - acc: 0.4653 - val_loss: 1.5284 - val_acc: 0.4657\n",
            "Epoch 10/10\n",
            "40000/40000 [==============================] - 23s 565us/step - loss: 1.4671 - acc: 0.4738 - val_loss: 1.5164 - val_acc: 0.4728\n",
            "10000/10000 [==============================] - 2s 171us/step\n",
            "Test accuracy: 0.4737\n"
          ],
          "name": "stdout"
        }
      ]
    },
    {
      "metadata": {
        "id": "xG0zzz_8hiHq",
        "colab_type": "code",
        "colab": {
          "base_uri": "https://localhost:8080/",
          "height": 493
        },
        "outputId": "32c8aac8-639f-4bb3-936e-b93583209bbe"
      },
      "cell_type": "code",
      "source": [
        "print(model.summary())"
      ],
      "execution_count": 23,
      "outputs": [
        {
          "output_type": "stream",
          "text": [
            "_________________________________________________________________\n",
            "Layer (type)                 Output Shape              Param #   \n",
            "=================================================================\n",
            "conv2d_2 (Conv2D)            (None, 32, 32, 64)        1792      \n",
            "_________________________________________________________________\n",
            "flatten_2 (Flatten)          (None, 65536)             0         \n",
            "_________________________________________________________________\n",
            "dense_2 (Dense)              (None, 512)               33554944  \n",
            "_________________________________________________________________\n",
            "activation_2 (Activation)    (None, 512)               0         \n",
            "_________________________________________________________________\n",
            "dropout_2 (Dropout)          (None, 512)               0         \n",
            "_________________________________________________________________\n",
            "dense_3 (Dense)              (None, 128)               65664     \n",
            "_________________________________________________________________\n",
            "activation_3 (Activation)    (None, 128)               0         \n",
            "_________________________________________________________________\n",
            "dropout_3 (Dropout)          (None, 128)               0         \n",
            "_________________________________________________________________\n",
            "dense_4 (Dense)              (None, 10)                1290      \n",
            "_________________________________________________________________\n",
            "activation_4 (Activation)    (None, 10)                0         \n",
            "=================================================================\n",
            "Total params: 33,623,690\n",
            "Trainable params: 33,623,690\n",
            "Non-trainable params: 0\n",
            "_________________________________________________________________\n",
            "None\n"
          ],
          "name": "stdout"
        }
      ]
    }
  ]
}