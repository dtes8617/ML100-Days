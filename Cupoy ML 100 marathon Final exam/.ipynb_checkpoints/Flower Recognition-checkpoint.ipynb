{
 "cells": [
  {
   "cell_type": "markdown",
   "metadata": {},
   "source": [
    "# Flower Recognition\n",
    "\n",
    "In the final exam of ML 100 marathon, I have to determine the species of the flowers. There are 5 different flowers we have to point out: daisy, dandelion, rose, sunflower, tulip. I will elaborate the process for using CNN model to tackle this kind of question. So here we go."
   ]
  },
  {
   "cell_type": "markdown",
   "metadata": {},
   "source": [
    "## Feature Extraction"
   ]
  },
  {
   "cell_type": "markdown",
   "metadata": {},
   "source": [
    "For pictures of flowers, It's not strange if we rotate them even reverse them. This may help the model to deal with different shape of flowers it can be. We can tweak a little bit about these training data by the following process."
   ]
  },
  {
   "cell_type": "code",
   "execution_count": 3,
   "metadata": {},
   "outputs": [
    {
     "name": "stderr",
     "output_type": "stream",
     "text": [
      "Using TensorFlow backend.\n"
     ]
    }
   ],
   "source": [
    "import pandas as pd\n",
    "import numpy as np\n",
    "import cv2\n",
    "import matplotlib.pyplot as plt\n",
    "import keras\n",
    "%matplotlib inline"
   ]
  },
  {
   "cell_type": "code",
   "execution_count": 81,
   "metadata": {},
   "outputs": [
    {
     "name": "stdout",
     "output_type": "stream",
     "text": [
      "Found 2260 images belonging to 5 classes.\n",
      "Found 563 images belonging to 5 classes.\n"
     ]
    }
   ],
   "source": [
    "train_datagen = keras.preprocessing.image.ImageDataGenerator(rescale= 1./255, \n",
    "                                                         shear_range= 0.2, \n",
    "                                                         zoom_range=0.2, \n",
    "                                                         rotation_range = 0.2,\n",
    "                                                         horizontal_flip=True,\n",
    "                                                         vertical_flip=True,\n",
    "                                                         validation_split = 0.2)\n",
    "train = train_datagen.flow_from_directory(r'.\\image_data\\train', \n",
    "                              target_size = (256,256),\n",
    "                              batch_size = 100,\n",
    "                              subset = 'training')\n",
    "validation = train_datagen.flow_from_directory(r'.\\image_data\\train', \n",
    "                              target_size = (256,256),\n",
    "                              batch_size = 100,\n",
    "                              subset = 'validation')"
   ]
  },
  {
   "cell_type": "code",
   "execution_count": 82,
   "metadata": {},
   "outputs": [
    {
     "data": {
      "text/plain": [
       "(256, 256, 3)"
      ]
     },
     "execution_count": 82,
     "metadata": {},
     "output_type": "execute_result"
    }
   ],
   "source": [
    "train.image_shape"
   ]
  },
  {
   "cell_type": "markdown",
   "metadata": {},
   "source": [
    "## Buiding the model"
   ]
  },
  {
   "cell_type": "markdown",
   "metadata": {},
   "source": []
  },
  {
   "cell_type": "code",
   "execution_count": 83,
   "metadata": {},
   "outputs": [],
   "source": [
    "from keras.models import Sequential\n",
    "from keras.layers import Conv2D, MaxPool2D, Flatten, Dense, BatchNormalization"
   ]
  },
  {
   "cell_type": "code",
   "execution_count": 84,
   "metadata": {},
   "outputs": [],
   "source": [
    "def build_model(train, num_filters=32, num_conv_layer=2, num_layer_node = [256,128,64,32]):\n",
    "    \n",
    "    model = Sequential()\n",
    "    \n",
    "    for i in range(num_conv_layer):\n",
    "        if i == 0:\n",
    "            # First Convolution Layer\n",
    "            model.add(Conv2D(filters = num_filters, kernel_size=(3,3), \n",
    "                             input_shape = train.image_shape, activation='relu', name = 'Conv_' + str(i)))\n",
    "            model.add(MaxPool2D(name = 'MaxPool_' + str(i)))\n",
    "        else:\n",
    "            # Other Convolution Layers\n",
    "            model.add(Conv2D(filters = num_filters, kernel_size=(3,3), activation='relu', name = 'Conv_' + str(i)))\n",
    "            model.add(MaxPool2D(name = 'MaxPool_' + str(i)))\n",
    "    \n",
    "    # Flatten data\n",
    "    model.add(Flatten())\n",
    "    \n",
    "    # Full connection layers\n",
    "    for i, n in enumerate(num_layer_node):\n",
    "        # Dense layers with batch normalization\n",
    "        model.add(Dense(n, name = 'Layer_'+str(i)))\n",
    "        model.add(BatchNormalization(name = 'Batch_'+str(i)))\n",
    "        model.add(Activation('relu', name = 'ReLU_'+str(i)))\n",
    "    \n",
    "    # Ouput layer\n",
    "    model.add(Dense(train.num_classes, activation = 'softmax', name = 'Output_layer'))\n",
    "    return model"
   ]
  },
  {
   "cell_type": "code",
   "execution_count": 85,
   "metadata": {},
   "outputs": [],
   "source": [
    "from keras.optimizers import Adam"
   ]
  },
  {
   "cell_type": "code",
   "execution_count": 86,
   "metadata": {},
   "outputs": [],
   "source": [
    "# Hyperparameter\n",
    "STEPS_PER_EPOCH = 100\n",
    "VALIDATION_STEP = 100\n",
    "EPOCHS = 50\n",
    "LR = 0.001\n",
    "BETA_1 = 0.9\n",
    "BETA_2 = 0.999"
   ]
  },
  {
   "cell_type": "code",
   "execution_count": 89,
   "metadata": {},
   "outputs": [
    {
     "name": "stdout",
     "output_type": "stream",
     "text": [
      "_________________________________________________________________\n",
      "Layer (type)                 Output Shape              Param #   \n",
      "=================================================================\n",
      "Conv_0 (Conv2D)              (None, 254, 254, 32)      896       \n",
      "_________________________________________________________________\n",
      "MaxPool_0 (MaxPooling2D)     (None, 127, 127, 32)      0         \n",
      "_________________________________________________________________\n",
      "Conv_1 (Conv2D)              (None, 125, 125, 32)      9248      \n",
      "_________________________________________________________________\n",
      "MaxPool_1 (MaxPooling2D)     (None, 62, 62, 32)        0         \n",
      "_________________________________________________________________\n",
      "flatten_12 (Flatten)         (None, 123008)            0         \n",
      "_________________________________________________________________\n",
      "Layer_0 (Dense)              (None, 256)               31490304  \n",
      "_________________________________________________________________\n",
      "Batch_0 (BatchNormalization) (None, 256)               1024      \n",
      "_________________________________________________________________\n",
      "ReLU_0 (Activation)          (None, 256)               0         \n",
      "_________________________________________________________________\n",
      "Layer_1 (Dense)              (None, 128)               32896     \n",
      "_________________________________________________________________\n",
      "Batch_1 (BatchNormalization) (None, 128)               512       \n",
      "_________________________________________________________________\n",
      "ReLU_1 (Activation)          (None, 128)               0         \n",
      "_________________________________________________________________\n",
      "Layer_2 (Dense)              (None, 64)                8256      \n",
      "_________________________________________________________________\n",
      "Batch_2 (BatchNormalization) (None, 64)                256       \n",
      "_________________________________________________________________\n",
      "ReLU_2 (Activation)          (None, 64)                0         \n",
      "_________________________________________________________________\n",
      "Layer_3 (Dense)              (None, 32)                2080      \n",
      "_________________________________________________________________\n",
      "Batch_3 (BatchNormalization) (None, 32)                128       \n",
      "_________________________________________________________________\n",
      "ReLU_3 (Activation)          (None, 32)                0         \n",
      "_________________________________________________________________\n",
      "Output_layer (Dense)         (None, 5)                 165       \n",
      "=================================================================\n",
      "Total params: 31,545,765\n",
      "Trainable params: 31,544,805\n",
      "Non-trainable params: 960\n",
      "_________________________________________________________________\n",
      "None\n",
      "Epoch 1/50\n",
      "100/100 [==============================] - 270s 3s/step - loss: 1.1116 - categorical_accuracy: 0.5461 - val_loss: 1.1271 - val_categorical_accuracy: 0.5407\n",
      "Epoch 2/50\n",
      "100/100 [==============================] - 263s 3s/step - loss: 0.8147 - categorical_accuracy: 0.6867 - val_loss: 1.0116 - val_categorical_accuracy: 0.6026\n",
      "Epoch 3/50\n",
      "100/100 [==============================] - 254s 3s/step - loss: 0.6451 - categorical_accuracy: 0.7572 - val_loss: 1.0407 - val_categorical_accuracy: 0.5976\n",
      "Epoch 4/50\n",
      "100/100 [==============================] - 271s 3s/step - loss: 0.5229 - categorical_accuracy: 0.8117 - val_loss: 1.0550 - val_categorical_accuracy: 0.6088\n",
      "Epoch 5/50\n",
      "100/100 [==============================] - 255s 3s/step - loss: 0.4177 - categorical_accuracy: 0.8542 - val_loss: 0.9651 - val_categorical_accuracy: 0.6608\n",
      "Epoch 6/50\n",
      "100/100 [==============================] - 255s 3s/step - loss: 0.3327 - categorical_accuracy: 0.8855 - val_loss: 0.9940 - val_categorical_accuracy: 0.6648\n",
      "Epoch 7/50\n",
      "100/100 [==============================] - 273s 3s/step - loss: 0.2642 - categorical_accuracy: 0.9072 - val_loss: 1.1848 - val_categorical_accuracy: 0.6340\n",
      "Epoch 8/50\n",
      "100/100 [==============================] - 255s 3s/step - loss: 0.2359 - categorical_accuracy: 0.9180 - val_loss: 1.2061 - val_categorical_accuracy: 0.6175\n",
      "Epoch 9/50\n",
      "100/100 [==============================] - 260s 3s/step - loss: 0.2068 - categorical_accuracy: 0.9291 - val_loss: 1.0684 - val_categorical_accuracy: 0.6615\n",
      "Epoch 10/50\n",
      "100/100 [==============================] - 254s 3s/step - loss: 0.1712 - categorical_accuracy: 0.9439 - val_loss: 1.1402 - val_categorical_accuracy: 0.6576\n",
      "Epoch 11/50\n",
      "100/100 [==============================] - 254s 3s/step - loss: 0.1347 - categorical_accuracy: 0.9558 - val_loss: 1.2425 - val_categorical_accuracy: 0.6433\n",
      "Epoch 12/50\n",
      "100/100 [==============================] - 253s 3s/step - loss: 0.1259 - categorical_accuracy: 0.9581 - val_loss: 1.2646 - val_categorical_accuracy: 0.6725\n",
      "Epoch 13/50\n",
      "100/100 [==============================] - 261s 3s/step - loss: 0.1364 - categorical_accuracy: 0.9537 - val_loss: 1.1661 - val_categorical_accuracy: 0.6946\n",
      "Epoch 14/50\n",
      "100/100 [==============================] - 266s 3s/step - loss: 0.1056 - categorical_accuracy: 0.9640 - val_loss: 1.2168 - val_categorical_accuracy: 0.6970\n",
      "Epoch 15/50\n",
      "100/100 [==============================] - 252s 3s/step - loss: 0.0913 - categorical_accuracy: 0.9694 - val_loss: 1.2576 - val_categorical_accuracy: 0.6696\n",
      "Epoch 16/50\n",
      "100/100 [==============================] - 254s 3s/step - loss: 0.0835 - categorical_accuracy: 0.9727 - val_loss: 1.3714 - val_categorical_accuracy: 0.6913\n",
      "Epoch 17/50\n",
      "100/100 [==============================] - 264s 3s/step - loss: 0.0824 - categorical_accuracy: 0.9726 - val_loss: 1.2026 - val_categorical_accuracy: 0.7041\n",
      "Epoch 18/50\n",
      "100/100 [==============================] - 252s 3s/step - loss: 0.0762 - categorical_accuracy: 0.9737 - val_loss: 1.2488 - val_categorical_accuracy: 0.6787\n",
      "Epoch 19/50\n",
      "100/100 [==============================] - 252s 3s/step - loss: 0.0646 - categorical_accuracy: 0.9788 - val_loss: 1.2978 - val_categorical_accuracy: 0.6736\n",
      "Epoch 20/50\n",
      "100/100 [==============================] - 266s 3s/step - loss: 0.0791 - categorical_accuracy: 0.9712 - val_loss: 1.4017 - val_categorical_accuracy: 0.6617\n",
      "Epoch 21/50\n",
      "100/100 [==============================] - 253s 3s/step - loss: 0.0745 - categorical_accuracy: 0.9753 - val_loss: 1.3041 - val_categorical_accuracy: 0.6864\n",
      "Epoch 22/50\n",
      "100/100 [==============================] - 252s 3s/step - loss: 0.0582 - categorical_accuracy: 0.9806 - val_loss: 1.3815 - val_categorical_accuracy: 0.6878\n",
      "Epoch 23/50\n",
      "100/100 [==============================] - 265s 3s/step - loss: 0.0525 - categorical_accuracy: 0.9817 - val_loss: 1.4135 - val_categorical_accuracy: 0.6688\n",
      "Epoch 24/50\n",
      "100/100 [==============================] - 252s 3s/step - loss: 0.0627 - categorical_accuracy: 0.9776 - val_loss: 1.4389 - val_categorical_accuracy: 0.6805\n",
      "Epoch 25/50\n",
      "100/100 [==============================] - 253s 3s/step - loss: 0.0529 - categorical_accuracy: 0.9808 - val_loss: 1.3940 - val_categorical_accuracy: 0.6989\n",
      "Epoch 26/50\n",
      "100/100 [==============================] - 259s 3s/step - loss: 0.0538 - categorical_accuracy: 0.9815 - val_loss: 1.4842 - val_categorical_accuracy: 0.6643\n",
      "Epoch 27/50\n",
      "100/100 [==============================] - 259s 3s/step - loss: 0.0534 - categorical_accuracy: 0.9826 - val_loss: 1.4774 - val_categorical_accuracy: 0.6768\n",
      "Epoch 28/50\n",
      "100/100 [==============================] - 252s 3s/step - loss: 0.0442 - categorical_accuracy: 0.9866 - val_loss: 1.4491 - val_categorical_accuracy: 0.6773\n",
      "Epoch 29/50\n",
      "100/100 [==============================] - 252s 3s/step - loss: 0.0405 - categorical_accuracy: 0.9851 - val_loss: 1.5317 - val_categorical_accuracy: 0.6686\n",
      "Epoch 30/50\n",
      "100/100 [==============================] - 266s 3s/step - loss: 0.0527 - categorical_accuracy: 0.9820 - val_loss: 1.6245 - val_categorical_accuracy: 0.6435\n",
      "Epoch 31/50\n",
      "100/100 [==============================] - 252s 3s/step - loss: 0.0610 - categorical_accuracy: 0.9797 - val_loss: 1.5123 - val_categorical_accuracy: 0.6976\n",
      "Epoch 32/50\n",
      "100/100 [==============================] - 253s 3s/step - loss: 0.0414 - categorical_accuracy: 0.9876 - val_loss: 1.6833 - val_categorical_accuracy: 0.6688\n",
      "Epoch 33/50\n"
     ]
    },
    {
     "name": "stdout",
     "output_type": "stream",
     "text": [
      "100/100 [==============================] - 252s 3s/step - loss: 0.0497 - categorical_accuracy: 0.9830 - val_loss: 1.6188 - val_categorical_accuracy: 0.6737\n",
      "Epoch 34/50\n",
      "100/100 [==============================] - 252s 3s/step - loss: 0.0493 - categorical_accuracy: 0.9831 - val_loss: 1.8308 - val_categorical_accuracy: 0.6538\n",
      "Epoch 35/50\n",
      "100/100 [==============================] - 258s 3s/step - loss: 0.0482 - categorical_accuracy: 0.9853 - val_loss: 1.5286 - val_categorical_accuracy: 0.6668\n",
      "Epoch 36/50\n",
      "100/100 [==============================] - 260s 3s/step - loss: 0.0467 - categorical_accuracy: 0.9852 - val_loss: 1.4940 - val_categorical_accuracy: 0.6962\n",
      "Epoch 37/50\n",
      "100/100 [==============================] - 265s 3s/step - loss: 0.0389 - categorical_accuracy: 0.9877 - val_loss: 1.4195 - val_categorical_accuracy: 0.7033\n",
      "Epoch 38/50\n",
      "100/100 [==============================] - 252s 3s/step - loss: 0.0529 - categorical_accuracy: 0.9822 - val_loss: 1.6152 - val_categorical_accuracy: 0.6839\n",
      "Epoch 39/50\n",
      "100/100 [==============================] - 252s 3s/step - loss: 0.0298 - categorical_accuracy: 0.9896 - val_loss: 1.5387 - val_categorical_accuracy: 0.6707\n",
      "Epoch 40/50\n",
      "100/100 [==============================] - 252s 3s/step - loss: 0.0305 - categorical_accuracy: 0.9897 - val_loss: 1.8243 - val_categorical_accuracy: 0.6371\n",
      "Epoch 41/50\n",
      "100/100 [==============================] - 252s 3s/step - loss: 0.0271 - categorical_accuracy: 0.9908 - val_loss: 1.4769 - val_categorical_accuracy: 0.7000\n",
      "Epoch 42/50\n",
      "100/100 [==============================] - 252s 3s/step - loss: 0.0325 - categorical_accuracy: 0.9886 - val_loss: 1.4491 - val_categorical_accuracy: 0.6987\n",
      "Epoch 43/50\n",
      "100/100 [==============================] - 265s 3s/step - loss: 0.0290 - categorical_accuracy: 0.9901 - val_loss: 1.7226 - val_categorical_accuracy: 0.6511\n",
      "Epoch 44/50\n",
      "100/100 [==============================] - 253s 3s/step - loss: 0.0359 - categorical_accuracy: 0.9872 - val_loss: 1.6678 - val_categorical_accuracy: 0.6823\n",
      "Epoch 45/50\n",
      "100/100 [==============================] - 252s 3s/step - loss: 0.0375 - categorical_accuracy: 0.9888 - val_loss: 1.6392 - val_categorical_accuracy: 0.6723\n",
      "Epoch 46/50\n",
      "100/100 [==============================] - 265s 3s/step - loss: 0.0421 - categorical_accuracy: 0.9858 - val_loss: 1.6767 - val_categorical_accuracy: 0.6571\n",
      "Epoch 47/50\n",
      "100/100 [==============================] - 252s 3s/step - loss: 0.0386 - categorical_accuracy: 0.9869 - val_loss: 1.6930 - val_categorical_accuracy: 0.6831\n",
      "Epoch 48/50\n",
      "100/100 [==============================] - 266s 3s/step - loss: 0.0415 - categorical_accuracy: 0.9849 - val_loss: 1.6174 - val_categorical_accuracy: 0.6913\n",
      "Epoch 49/50\n",
      "100/100 [==============================] - 253s 3s/step - loss: 0.0285 - categorical_accuracy: 0.9906 - val_loss: 1.6935 - val_categorical_accuracy: 0.6732\n",
      "Epoch 50/50\n",
      "100/100 [==============================] - 252s 3s/step - loss: 0.0315 - categorical_accuracy: 0.9895 - val_loss: 1.6336 - val_categorical_accuracy: 0.6865\n"
     ]
    },
    {
     "ename": "KeyError",
     "evalue": "'acc'",
     "output_type": "error",
     "traceback": [
      "\u001b[1;31m---------------------------------------------------------------------------\u001b[0m",
      "\u001b[1;31mKeyError\u001b[0m                                  Traceback (most recent call last)",
      "\u001b[1;32m<ipython-input-89-6b3753704a37>\u001b[0m in \u001b[0;36m<module>\u001b[1;34m()\u001b[0m\n\u001b[0;32m     13\u001b[0m \u001b[0mtrain_loss\u001b[0m \u001b[1;33m=\u001b[0m \u001b[0mmodel\u001b[0m\u001b[1;33m.\u001b[0m\u001b[0mhistory\u001b[0m\u001b[1;33m.\u001b[0m\u001b[0mhistory\u001b[0m\u001b[1;33m[\u001b[0m\u001b[1;34m\"loss\"\u001b[0m\u001b[1;33m]\u001b[0m\u001b[1;33m\u001b[0m\u001b[0m\n\u001b[0;32m     14\u001b[0m \u001b[0mvalid_loss\u001b[0m \u001b[1;33m=\u001b[0m \u001b[0mmodel\u001b[0m\u001b[1;33m.\u001b[0m\u001b[0mhistory\u001b[0m\u001b[1;33m.\u001b[0m\u001b[0mhistory\u001b[0m\u001b[1;33m[\u001b[0m\u001b[1;34m\"val_loss\"\u001b[0m\u001b[1;33m]\u001b[0m\u001b[1;33m\u001b[0m\u001b[0m\n\u001b[1;32m---> 15\u001b[1;33m \u001b[0mtrain_acc\u001b[0m \u001b[1;33m=\u001b[0m \u001b[0mmodel\u001b[0m\u001b[1;33m.\u001b[0m\u001b[0mhistory\u001b[0m\u001b[1;33m.\u001b[0m\u001b[0mhistory\u001b[0m\u001b[1;33m[\u001b[0m\u001b[1;34m\"acc\"\u001b[0m\u001b[1;33m]\u001b[0m\u001b[1;33m\u001b[0m\u001b[0m\n\u001b[0m\u001b[0;32m     16\u001b[0m \u001b[0mvalid_acc\u001b[0m \u001b[1;33m=\u001b[0m \u001b[0mmodel\u001b[0m\u001b[1;33m.\u001b[0m\u001b[0mhistory\u001b[0m\u001b[1;33m.\u001b[0m\u001b[0mhistory\u001b[0m\u001b[1;33m[\u001b[0m\u001b[1;34m\"val_acc\"\u001b[0m\u001b[1;33m]\u001b[0m\u001b[1;33m\u001b[0m\u001b[0m\n",
      "\u001b[1;31mKeyError\u001b[0m: 'acc'"
     ]
    }
   ],
   "source": [
    "model = build_model(train)\n",
    "print(model.summary())\n",
    "\n",
    "adam = Adam(lr=LR, beta_1=BETA_1, beta_2=BETA_2)\n",
    "model.compile(adam, loss='categorical_crossentropy', metrics=['categorical_accuracy'])\n",
    "\n",
    "model.fit_generator(train, \n",
    "                    steps_per_epoch=STEPS_PER_EPOCH, \n",
    "                    epochs=EPOCHS, \n",
    "                    validation_data=validation,\n",
    "                    validation_steps = VALIDATION_STEP)\n",
    "# Collect results\n",
    "train_loss = model.history.history[\"loss\"]\n",
    "valid_loss = model.history.history[\"val_loss\"]\n",
    "train_acc = model.history.history[\"acc\"]\n",
    "valid_acc = model.history.history[\"val_acc\"]"
   ]
  },
  {
   "cell_type": "code",
   "execution_count": null,
   "metadata": {},
   "outputs": [],
   "source": [
    "import matplotlib.pyplot as plt\n",
    "%matplotlib inline\n",
    "\"\"\"\n",
    "Plot results\n",
    "\"\"\"\n",
    "plt.plot(range(len(train_loss)), train_loss, label=\"train loss\")\n",
    "plt.plot(range(len(valid_loss)), valid_loss, label=\"valid loss\")\n",
    "plt.legend()\n",
    "plt.title(\"Loss\")\n",
    "plt.show()\n",
    "\n",
    "plt.plot(range(len(train_acc)), train_acc, label=\"train accuracy\")\n",
    "plt.plot(range(len(valid_acc)), valid_acc, label=\"valid accuracy\")\n",
    "plt.legend()\n",
    "plt.title(\"Accuracy\")\n",
    "plt.show()"
   ]
  },
  {
   "cell_type": "code",
   "execution_count": null,
   "metadata": {},
   "outputs": [],
   "source": []
  }
 ],
 "metadata": {
  "kernelspec": {
   "display_name": "Python 3",
   "language": "python",
   "name": "python3"
  },
  "language_info": {
   "codemirror_mode": {
    "name": "ipython",
    "version": 3
   },
   "file_extension": ".py",
   "mimetype": "text/x-python",
   "name": "python",
   "nbconvert_exporter": "python",
   "pygments_lexer": "ipython3",
   "version": "3.6.6"
  }
 },
 "nbformat": 4,
 "nbformat_minor": 2
}
