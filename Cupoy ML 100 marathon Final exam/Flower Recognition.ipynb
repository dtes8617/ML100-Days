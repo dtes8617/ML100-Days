{
 "cells": [
  {
   "cell_type": "markdown",
   "metadata": {},
   "source": [
    "# Flower Recognition\n",
    "\n",
    "In the final exam of ML 100 marathon, I have to determine the species of the flowers. There are 5 different flowers we have to point out: daisy, dandelion, rose, sunflower, tulip. I will elaborate the process for using CNN model to tackle this kind of question. So here we go."
   ]
  },
  {
   "cell_type": "markdown",
   "metadata": {},
   "source": [
    "## Feature Extraction"
   ]
  },
  {
   "cell_type": "markdown",
   "metadata": {},
   "source": [
    "For pictures of flowers, It's not strange if we rotate them even reverse them. This may help the model to deal with different shape of flowers it can be. We can tweak a little bit about these training data by the following process."
   ]
  },
  {
   "cell_type": "code",
   "execution_count": 1,
   "metadata": {},
   "outputs": [
    {
     "name": "stderr",
     "output_type": "stream",
     "text": [
      "Using TensorFlow backend.\n"
     ]
    }
   ],
   "source": [
    "import pandas as pd\n",
    "import numpy as np\n",
    "import cv2\n",
    "import matplotlib.pyplot as plt\n",
    "import keras\n",
    "%matplotlib inline"
   ]
  },
  {
   "cell_type": "code",
   "execution_count": 64,
   "metadata": {},
   "outputs": [],
   "source": [
    "validation_datagen = keras.preprocessing.image.ImageDataGenerator(rescale=1./255,\n",
    "                                                                      samplewise_center = True, \n",
    "                                                                      samplewise_std_normalization = True)"
   ]
  },
  {
   "cell_type": "code",
   "execution_count": 2,
   "metadata": {},
   "outputs": [],
   "source": [
    "def get_data(batch_size = 32, target_size= (128, 128)):\n",
    "    '''\n",
    "    Import data from directory.\n",
    "    '''\n",
    "    train_datagen = keras.preprocessing.image.ImageDataGenerator(rescale= 1./255, \n",
    "                                                             shear_range= 0.2, \n",
    "                                                             zoom_range=0.2, \n",
    "                                                             rotation_range = 0.2,\n",
    "                                                             horizontal_flip=True,\n",
    "                                                             vertical_flip=True,\n",
    "                                                             fill_mode = 'nearest',\n",
    "                                                             width_shift_range = 0.2,\n",
    "                                                             height_shift_range = 0.2,\n",
    "                                                             samplewise_center = True, \n",
    "                                                             samplewise_std_normalization = True)\n",
    "    validation_datagen = keras.preprocessing.image.ImageDataGenerator(rescale=1./255,\n",
    "                                                                      samplewise_center = True, \n",
    "                                                                      samplewise_std_normalization = True)\n",
    "    train = train_datagen.flow_from_directory(r'./image_data/train', \n",
    "                                  target_size = target_size,\n",
    "                                  batch_size = batch_size)\n",
    "    validation = train_datagen.flow_from_directory(r'./image_data/validation', \n",
    "                                  target_size = target_size,\n",
    "                                  batch_size = batch_size)\n",
    "    return train, validation"
   ]
  },
  {
   "cell_type": "markdown",
   "metadata": {},
   "source": [
    "## Buiding the model"
   ]
  },
  {
   "cell_type": "markdown",
   "metadata": {},
   "source": [
    "We can see that the dataset only contains 2,823 pitures. That is not enough to train a CNN model. There is a way to increase accuracy with small dataset. It called Transfer learning. In this problem, we'll use the ResNet50 model to embed into our CNN model."
   ]
  },
  {
   "cell_type": "code",
   "execution_count": 3,
   "metadata": {},
   "outputs": [],
   "source": [
    "from keras.models import Sequential, Model\n",
    "from keras.layers import Conv2D, MaxPool2D, Flatten, Dense, BatchNormalization, Activation, Input, Dropout\n",
    "from keras.regularizers import l1_l2\n",
    "from keras.applications.vgg16 import VGG16\n",
    "from keras.applications.inception_v3 import InceptionV3\n",
    "from keras import layers"
   ]
  },
  {
   "cell_type": "code",
   "execution_count": 49,
   "metadata": {},
   "outputs": [],
   "source": [
    "def build_model(train, num_filters=32, num_conv_layer=3, num_layer_node = [256, 128, 64, 32], transfer = None,\n",
    "                num_transfer_freeze = 0):\n",
    "    \n",
    "    # adding transfer learning model\n",
    "    if transfer:\n",
    "        inputs = transfer.inputs\n",
    "        x = transfer.outputs[0]\n",
    "        \n",
    "    else:\n",
    "        # CNN model\n",
    "#         for i in range(num_conv_layer):\n",
    "#             if i == 0:\n",
    "#                 # First Convolution Layer\n",
    "#                 inputs = Input(shape=train.image_shape, name = 'Input_layer')\n",
    "#                 x = Conv2D(filters = num_filters*2**(i), kernel_size=(3,3), name = 'Conv_Pad_' + str(i))(inputs)\n",
    "#                 x = Activation('relu', name = 'Con_relu_'+str(i))(x)\n",
    "#                 x = MaxPool2D(name = 'MaxPool_' + str(i), pool_size=(2,2), padding='valid')(x)                \n",
    "#                 x = Dropout(0.1*(i+1))(x)\n",
    "#             else:\n",
    "#                 # Other Convolution Layers\n",
    "#                 x = Conv2D(filters = num_filters*2**(i), kernel_size=(2,2), name = 'Conv_Pad_' + str(i))(x)\n",
    "#                 x = Activation('relu', name = 'Con_relu_'+str(i))(x)\n",
    "#                 x = MaxPool2D(name = 'MaxPool_' + str(i), pool_size=(2,2), padding='valid')(x)\n",
    "#                 x = BatchNormalization()(x)\n",
    "#                 x = Dropout(0.1*(i+1))(x)\n",
    "        inputs = Input(shape=train.image_shape, name = 'Input_layer')\n",
    "        x = Conv2D(filters = num_filters, kernel_size=(3,3), name = 'Conv_Pad_' + str(1), padding = 'same')(inputs)\n",
    "        x = Conv2D(filters = num_filters, kernel_size=(3,3), name = 'Conv_Pad_' + str(2), padding = 'same')(x)\n",
    "        x = BatchNormalization()(x)\n",
    "        x = Activation('relu')(x)\n",
    "        x = MaxPool2D(name = 'MaxPool_' + str(1), pool_size=(2,2))(x)\n",
    "        \n",
    "        x = Conv2D(filters = num_filters*2, kernel_size=(3,3), name = 'Conv' + str(1), padding = 'same')(x)\n",
    "        x = Conv2D(filters = num_filters*2, kernel_size=(3,3), name = 'Conv_Pad_' + str(3), padding = 'same')(x)\n",
    "        x = BatchNormalization()(x)\n",
    "        x = Activation('relu')(x)\n",
    "        x = MaxPool2D(name = 'MaxPool_' + str(2), pool_size=(2,2))(x)\n",
    "#         x = Dropout(0.1)(x)\n",
    "        \n",
    "        x = Conv2D(filters = num_filters*4, kernel_size=(3,3), name = 'Conv' + str(2), padding = 'same')(x)\n",
    "        x = Conv2D(filters = num_filters*4, kernel_size=(3,3), name = 'Conv_Pad_' + str(4), padding = 'same')(x)\n",
    "        x = BatchNormalization()(x)\n",
    "        x = Activation('relu')(x)\n",
    "        x = MaxPool2D(name = 'MaxPool_' + str(3), pool_size=(2,2))(x)\n",
    "        x = Dropout(0.1)(x)\n",
    "        \n",
    "        x = Conv2D(filters = num_filters*8, kernel_size=(3,3), name = 'Conv' + str(3), padding = 'same')(x)\n",
    "        x = Conv2D(filters = num_filters*8, kernel_size=(3,3), name = 'Conv_Pad_' + str(5), padding = 'same')(x)\n",
    "        x = BatchNormalization()(x)\n",
    "        x = Activation('relu')(x)\n",
    "        x = MaxPool2D(name = 'MaxPool_' + str(4), pool_size=(2,2))(x)\n",
    "        x = Dropout(0.1)(x)\n",
    "    \n",
    "    # Flatten data\n",
    "    x = Flatten()(x)\n",
    "    \n",
    "    # Full connection layers\n",
    "    for i, n in enumerate(num_layer_node):\n",
    "        # Dense layers with batch normalization\n",
    "        x = Dense(n, name = 'Layer_'+str(i))(x)\n",
    "        x = BatchNormalization()(x)\n",
    "        x = Activation('relu', name = 'ReLU_'+str(i))(x)\n",
    "        x = Dropout(0.15)(x)\n",
    "#         x = Dropout(0.55)(x)\n",
    "    \n",
    "    # Ouput layer\n",
    "    output = Dense(train.num_classes, activation = 'softmax', name = 'Output_layer')(x)\n",
    "    \n",
    "    model = Model(inputs = inputs, outputs = output)\n",
    "    \n",
    "    # fix transfer learning parameters\n",
    "    if num_transfer_freeze:\n",
    "        for i, layer in enumerate(model.layers):\n",
    "            if i >= num_transfer_freeze:\n",
    "                break\n",
    "            layer.trainable = False\n",
    "    return model"
   ]
  },
  {
   "cell_type": "code",
   "execution_count": 50,
   "metadata": {},
   "outputs": [],
   "source": [
    "from keras.optimizers import Adam, RMSprop, SGD, Adagrad\n",
    "from keras.callbacks import EarlyStopping, ModelCheckpoint, ReduceLROnPlateau\n",
    "from keras.wrappers.scikit_learn import KerasClassifier\n",
    "from sklearn.model_selection import GridSearchCV"
   ]
  },
  {
   "cell_type": "code",
   "execution_count": 51,
   "metadata": {
    "scrolled": true
   },
   "outputs": [
    {
     "name": "stdout",
     "output_type": "stream",
     "text": [
      "Found 1956 images belonging to 5 classes.\n",
      "Found 838 images belonging to 5 classes.\n"
     ]
    }
   ],
   "source": [
    "BATCH_SIZE = 32\n",
    "TARGET_SIZE = (128, 128)\n",
    "train, validation = get_data(BATCH_SIZE, TARGET_SIZE)"
   ]
  },
  {
   "cell_type": "code",
   "execution_count": 52,
   "metadata": {},
   "outputs": [],
   "source": [
    "# Hyperparameter\n",
    "EPOCHS = 500\n",
    "LR = 0.0001\n",
    "DECAY = 0.9\n",
    "MOMENTUM = 0.9\n",
    "BETA_1 = 0.9\n",
    "BETA_2 = 0.999\n",
    "earlystop_patience = 10\n",
    "Monitor = 'val_loss'\n",
    "\n",
    "steps_per_epoch = (train.samples//BATCH_SIZE)*3\n",
    "validation_steps = (validation.samples//BATCH_SIZE)*3"
   ]
  },
  {
   "cell_type": "code",
   "execution_count": 53,
   "metadata": {},
   "outputs": [],
   "source": [
    "keras.backend.clear_session()"
   ]
  },
  {
   "cell_type": "markdown",
   "metadata": {
    "scrolled": true
   },
   "source": [
    "vgg16 = VGG16(include_top=False, input_shape=train.image_shape)\n",
    "inceptionV3 = InceptionV3(include_top=False, input_shape=train.image_shape)"
   ]
  },
  {
   "cell_type": "code",
   "execution_count": 54,
   "metadata": {
    "scrolled": true
   },
   "outputs": [
    {
     "name": "stdout",
     "output_type": "stream",
     "text": [
      "_________________________________________________________________\n",
      "Layer (type)                 Output Shape              Param #   \n",
      "=================================================================\n",
      "Input_layer (InputLayer)     (None, 128, 128, 3)       0         \n",
      "_________________________________________________________________\n",
      "Conv_Pad_1 (Conv2D)          (None, 128, 128, 128)     3584      \n",
      "_________________________________________________________________\n",
      "Conv_Pad_2 (Conv2D)          (None, 128, 128, 128)     147584    \n",
      "_________________________________________________________________\n",
      "batch_normalization_1 (Batch (None, 128, 128, 128)     512       \n",
      "_________________________________________________________________\n",
      "activation_1 (Activation)    (None, 128, 128, 128)     0         \n",
      "_________________________________________________________________\n",
      "MaxPool_1 (MaxPooling2D)     (None, 64, 64, 128)       0         \n",
      "_________________________________________________________________\n",
      "Conv1 (Conv2D)               (None, 64, 64, 256)       295168    \n",
      "_________________________________________________________________\n",
      "Conv_Pad_3 (Conv2D)          (None, 64, 64, 256)       590080    \n",
      "_________________________________________________________________\n",
      "batch_normalization_2 (Batch (None, 64, 64, 256)       1024      \n",
      "_________________________________________________________________\n",
      "activation_2 (Activation)    (None, 64, 64, 256)       0         \n",
      "_________________________________________________________________\n",
      "MaxPool_2 (MaxPooling2D)     (None, 32, 32, 256)       0         \n",
      "_________________________________________________________________\n",
      "Conv2 (Conv2D)               (None, 32, 32, 512)       1180160   \n",
      "_________________________________________________________________\n",
      "Conv_Pad_4 (Conv2D)          (None, 32, 32, 512)       2359808   \n",
      "_________________________________________________________________\n",
      "batch_normalization_3 (Batch (None, 32, 32, 512)       2048      \n",
      "_________________________________________________________________\n",
      "activation_3 (Activation)    (None, 32, 32, 512)       0         \n",
      "_________________________________________________________________\n",
      "MaxPool_3 (MaxPooling2D)     (None, 16, 16, 512)       0         \n",
      "_________________________________________________________________\n",
      "dropout_1 (Dropout)          (None, 16, 16, 512)       0         \n",
      "_________________________________________________________________\n",
      "Conv3 (Conv2D)               (None, 16, 16, 1024)      4719616   \n",
      "_________________________________________________________________\n",
      "Conv_Pad_5 (Conv2D)          (None, 16, 16, 1024)      9438208   \n",
      "_________________________________________________________________\n",
      "batch_normalization_4 (Batch (None, 16, 16, 1024)      4096      \n",
      "_________________________________________________________________\n",
      "activation_4 (Activation)    (None, 16, 16, 1024)      0         \n",
      "_________________________________________________________________\n",
      "MaxPool_4 (MaxPooling2D)     (None, 8, 8, 1024)        0         \n",
      "_________________________________________________________________\n",
      "dropout_2 (Dropout)          (None, 8, 8, 1024)        0         \n",
      "_________________________________________________________________\n",
      "flatten_1 (Flatten)          (None, 65536)             0         \n",
      "_________________________________________________________________\n",
      "Layer_0 (Dense)              (None, 1024)              67109888  \n",
      "_________________________________________________________________\n",
      "batch_normalization_5 (Batch (None, 1024)              4096      \n",
      "_________________________________________________________________\n",
      "ReLU_0 (Activation)          (None, 1024)              0         \n",
      "_________________________________________________________________\n",
      "dropout_3 (Dropout)          (None, 1024)              0         \n",
      "_________________________________________________________________\n",
      "Layer_1 (Dense)              (None, 512)               524800    \n",
      "_________________________________________________________________\n",
      "batch_normalization_6 (Batch (None, 512)               2048      \n",
      "_________________________________________________________________\n",
      "ReLU_1 (Activation)          (None, 512)               0         \n",
      "_________________________________________________________________\n",
      "dropout_4 (Dropout)          (None, 512)               0         \n",
      "_________________________________________________________________\n",
      "Layer_2 (Dense)              (None, 256)               131328    \n",
      "_________________________________________________________________\n",
      "batch_normalization_7 (Batch (None, 256)               1024      \n",
      "_________________________________________________________________\n",
      "ReLU_2 (Activation)          (None, 256)               0         \n",
      "_________________________________________________________________\n",
      "dropout_5 (Dropout)          (None, 256)               0         \n",
      "_________________________________________________________________\n",
      "Layer_3 (Dense)              (None, 128)               32896     \n",
      "_________________________________________________________________\n",
      "batch_normalization_8 (Batch (None, 128)               512       \n",
      "_________________________________________________________________\n",
      "ReLU_3 (Activation)          (None, 128)               0         \n",
      "_________________________________________________________________\n",
      "dropout_6 (Dropout)          (None, 128)               0         \n",
      "_________________________________________________________________\n",
      "Output_layer (Dense)         (None, 5)                 645       \n",
      "=================================================================\n",
      "Total params: 86,549,125\n",
      "Trainable params: 86,541,445\n",
      "Non-trainable params: 7,680\n",
      "_________________________________________________________________\n",
      "None\n",
      "Epoch 1/500\n",
      "183/183 [==============================] - 61s 334ms/step - loss: 1.4003 - categorical_accuracy: 0.4326 - val_loss: 1.4376 - val_categorical_accuracy: 0.4763\n",
      "\n",
      "Epoch 00001: val_loss improved from inf to 1.43762, saving model to checkpoint.h5\n",
      "Epoch 2/500\n",
      "183/183 [==============================] - 54s 293ms/step - loss: 1.2208 - categorical_accuracy: 0.5080 - val_loss: 1.1244 - val_categorical_accuracy: 0.5360\n",
      "\n",
      "Epoch 00002: val_loss improved from 1.43762 to 1.12440, saving model to checkpoint.h5\n",
      "Epoch 3/500\n",
      "183/183 [==============================] - 54s 295ms/step - loss: 1.0733 - categorical_accuracy: 0.5733 - val_loss: 1.2636 - val_categorical_accuracy: 0.5558\n",
      "\n",
      "Epoch 00003: val_loss did not improve from 1.12440\n",
      "Epoch 4/500\n",
      "183/183 [==============================] - 54s 295ms/step - loss: 1.0320 - categorical_accuracy: 0.5922 - val_loss: 1.2480 - val_categorical_accuracy: 0.5426\n",
      "\n",
      "Epoch 00004: val_loss did not improve from 1.12440\n",
      "Epoch 5/500\n",
      "183/183 [==============================] - 54s 293ms/step - loss: 0.9762 - categorical_accuracy: 0.6245 - val_loss: 0.9805 - val_categorical_accuracy: 0.6241\n",
      "\n",
      "Epoch 00005: val_loss improved from 1.12440 to 0.98053, saving model to checkpoint.h5\n",
      "Epoch 6/500\n",
      "183/183 [==============================] - 54s 293ms/step - loss: 0.9326 - categorical_accuracy: 0.6409 - val_loss: 0.9178 - val_categorical_accuracy: 0.6547\n",
      "\n",
      "Epoch 00006: val_loss improved from 0.98053 to 0.91777, saving model to checkpoint.h5\n",
      "Epoch 7/500\n",
      "183/183 [==============================] - 54s 293ms/step - loss: 0.8522 - categorical_accuracy: 0.6822 - val_loss: 0.8241 - val_categorical_accuracy: 0.6902\n",
      "\n",
      "Epoch 00007: val_loss improved from 0.91777 to 0.82410, saving model to checkpoint.h5\n",
      "Epoch 8/500\n",
      "183/183 [==============================] - 54s 293ms/step - loss: 0.8273 - categorical_accuracy: 0.6841 - val_loss: 0.8159 - val_categorical_accuracy: 0.7031\n",
      "\n",
      "Epoch 00008: val_loss improved from 0.82410 to 0.81586, saving model to checkpoint.h5\n",
      "Epoch 9/500\n",
      "183/183 [==============================] - 58s 315ms/step - loss: 0.8037 - categorical_accuracy: 0.6919 - val_loss: 1.0326 - val_categorical_accuracy: 0.6567\n",
      "\n",
      "Epoch 00009: val_loss did not improve from 0.81586\n",
      "Epoch 10/500\n",
      "183/183 [==============================] - 57s 310ms/step - loss: 0.7435 - categorical_accuracy: 0.7177 - val_loss: 0.8816 - val_categorical_accuracy: 0.6551\n",
      "\n",
      "Epoch 00010: val_loss did not improve from 0.81586\n",
      "Epoch 11/500\n"
     ]
    },
    {
     "name": "stdout",
     "output_type": "stream",
     "text": [
      "183/183 [==============================] - 56s 306ms/step - loss: 0.7337 - categorical_accuracy: 0.7305 - val_loss: 0.7244 - val_categorical_accuracy: 0.7370\n",
      "\n",
      "Epoch 00011: val_loss improved from 0.81586 to 0.72443, saving model to checkpoint.h5\n",
      "Epoch 12/500\n",
      "183/183 [==============================] - 56s 305ms/step - loss: 0.7251 - categorical_accuracy: 0.7355 - val_loss: 0.8439 - val_categorical_accuracy: 0.6729\n",
      "\n",
      "Epoch 00012: val_loss did not improve from 0.72443\n",
      "Epoch 13/500\n",
      "183/183 [==============================] - 56s 308ms/step - loss: 0.7077 - categorical_accuracy: 0.7432 - val_loss: 1.2845 - val_categorical_accuracy: 0.5513\n",
      "\n",
      "Epoch 00013: val_loss did not improve from 0.72443\n",
      "Epoch 14/500\n",
      "183/183 [==============================] - 56s 306ms/step - loss: 0.7220 - categorical_accuracy: 0.7299 - val_loss: 0.9122 - val_categorical_accuracy: 0.6356\n",
      "\n",
      "Epoch 00014: val_loss did not improve from 0.72443\n",
      "\n",
      "Epoch 00014: ReduceLROnPlateau reducing learning rate to 4.999999873689376e-05.\n",
      "Epoch 15/500\n",
      "183/183 [==============================] - 55s 303ms/step - loss: 0.6287 - categorical_accuracy: 0.7644 - val_loss: 0.7760 - val_categorical_accuracy: 0.7134\n",
      "\n",
      "Epoch 00015: val_loss did not improve from 0.72443\n",
      "Epoch 16/500\n",
      "183/183 [==============================] - 55s 302ms/step - loss: 0.6295 - categorical_accuracy: 0.7712 - val_loss: 1.8212 - val_categorical_accuracy: 0.4764\n",
      "\n",
      "Epoch 00016: val_loss did not improve from 0.72443\n",
      "Epoch 17/500\n",
      "183/183 [==============================] - 55s 301ms/step - loss: 0.6400 - categorical_accuracy: 0.7668 - val_loss: 1.4077 - val_categorical_accuracy: 0.5674\n",
      "\n",
      "Epoch 00017: val_loss did not improve from 0.72443\n",
      "\n",
      "Epoch 00017: ReduceLROnPlateau reducing learning rate to 2.499999936844688e-05.\n",
      "Epoch 18/500\n",
      "183/183 [==============================] - 55s 302ms/step - loss: 0.5463 - categorical_accuracy: 0.7995 - val_loss: 0.6148 - val_categorical_accuracy: 0.7688\n",
      "\n",
      "Epoch 00018: val_loss improved from 0.72443 to 0.61484, saving model to checkpoint.h5\n",
      "Epoch 19/500\n",
      "183/183 [==============================] - 56s 305ms/step - loss: 0.5311 - categorical_accuracy: 0.8036 - val_loss: 0.6941 - val_categorical_accuracy: 0.7340\n",
      "\n",
      "Epoch 00019: val_loss did not improve from 0.61484\n",
      "Epoch 20/500\n",
      "183/183 [==============================] - 57s 313ms/step - loss: 0.5132 - categorical_accuracy: 0.8130 - val_loss: 0.6961 - val_categorical_accuracy: 0.7469\n",
      "\n",
      "Epoch 00020: val_loss did not improve from 0.61484\n",
      "Epoch 21/500\n",
      "183/183 [==============================] - 56s 307ms/step - loss: 0.5140 - categorical_accuracy: 0.8207 - val_loss: 0.6751 - val_categorical_accuracy: 0.7428\n",
      "\n",
      "Epoch 00021: val_loss did not improve from 0.61484\n",
      "\n",
      "Epoch 00021: ReduceLROnPlateau reducing learning rate to 1.249999968422344e-05.\n",
      "Epoch 22/500\n",
      "183/183 [==============================] - 57s 312ms/step - loss: 0.4639 - categorical_accuracy: 0.8359 - val_loss: 0.5519 - val_categorical_accuracy: 0.8048\n",
      "\n",
      "Epoch 00022: val_loss improved from 0.61484 to 0.55191, saving model to checkpoint.h5\n",
      "Epoch 23/500\n",
      "183/183 [==============================] - 57s 313ms/step - loss: 0.4429 - categorical_accuracy: 0.8448 - val_loss: 0.5348 - val_categorical_accuracy: 0.8073\n",
      "\n",
      "Epoch 00023: val_loss improved from 0.55191 to 0.53483, saving model to checkpoint.h5\n",
      "Epoch 24/500\n",
      "183/183 [==============================] - 56s 308ms/step - loss: 0.4662 - categorical_accuracy: 0.8364 - val_loss: 0.5434 - val_categorical_accuracy: 0.8002\n",
      "\n",
      "Epoch 00024: val_loss did not improve from 0.53483\n",
      "Epoch 25/500\n",
      "183/183 [==============================] - 56s 304ms/step - loss: 0.4658 - categorical_accuracy: 0.8409 - val_loss: 0.5617 - val_categorical_accuracy: 0.7928\n",
      "\n",
      "Epoch 00025: val_loss did not improve from 0.53483\n",
      "Epoch 26/500\n",
      "183/183 [==============================] - 56s 304ms/step - loss: 0.4383 - categorical_accuracy: 0.8431 - val_loss: 0.5464 - val_categorical_accuracy: 0.7961\n",
      "\n",
      "Epoch 00026: val_loss did not improve from 0.53483\n",
      "\n",
      "Epoch 00026: ReduceLROnPlateau reducing learning rate to 6.24999984211172e-06.\n",
      "Epoch 27/500\n",
      "183/183 [==============================] - 56s 303ms/step - loss: 0.4147 - categorical_accuracy: 0.8569 - val_loss: 0.5490 - val_categorical_accuracy: 0.7936\n",
      "\n",
      "Epoch 00027: val_loss did not improve from 0.53483\n",
      "Epoch 28/500\n",
      "183/183 [==============================] - 56s 307ms/step - loss: 0.4183 - categorical_accuracy: 0.8566 - val_loss: 0.5105 - val_categorical_accuracy: 0.8212\n",
      "\n",
      "Epoch 00028: val_loss improved from 0.53483 to 0.51047, saving model to checkpoint.h5\n",
      "Epoch 29/500\n",
      "183/183 [==============================] - 59s 320ms/step - loss: 0.3865 - categorical_accuracy: 0.8610 - val_loss: 0.4985 - val_categorical_accuracy: 0.8213\n",
      "\n",
      "Epoch 00029: val_loss improved from 0.51047 to 0.49854, saving model to checkpoint.h5\n",
      "Epoch 30/500\n",
      "183/183 [==============================] - 59s 321ms/step - loss: 0.3943 - categorical_accuracy: 0.8562 - val_loss: 0.4994 - val_categorical_accuracy: 0.8251\n",
      "\n",
      "Epoch 00030: val_loss did not improve from 0.49854\n",
      "Epoch 31/500\n",
      "183/183 [==============================] - 56s 304ms/step - loss: 0.3971 - categorical_accuracy: 0.8622 - val_loss: 0.5372 - val_categorical_accuracy: 0.8060\n",
      "\n",
      "Epoch 00031: val_loss did not improve from 0.49854\n",
      "Epoch 32/500\n",
      "183/183 [==============================] - 55s 303ms/step - loss: 0.3791 - categorical_accuracy: 0.8651 - val_loss: 0.4810 - val_categorical_accuracy: 0.8263\n",
      "\n",
      "Epoch 00032: val_loss improved from 0.49854 to 0.48098, saving model to checkpoint.h5\n",
      "Epoch 33/500\n",
      "183/183 [==============================] - 57s 309ms/step - loss: 0.3747 - categorical_accuracy: 0.8684 - val_loss: 0.5592 - val_categorical_accuracy: 0.7949\n",
      "\n",
      "Epoch 00033: val_loss did not improve from 0.48098\n",
      "Epoch 34/500\n",
      "183/183 [==============================] - 56s 309ms/step - loss: 0.3570 - categorical_accuracy: 0.8711 - val_loss: 0.5032 - val_categorical_accuracy: 0.8110\n",
      "\n",
      "Epoch 00034: val_loss did not improve from 0.48098\n",
      "Epoch 35/500\n",
      "183/183 [==============================] - 56s 305ms/step - loss: 0.3740 - categorical_accuracy: 0.8684 - val_loss: 0.5398 - val_categorical_accuracy: 0.8069\n",
      "\n",
      "Epoch 00035: val_loss did not improve from 0.48098\n",
      "\n",
      "Epoch 00035: ReduceLROnPlateau reducing learning rate to 3.12499992105586e-06.\n",
      "Epoch 36/500\n",
      "183/183 [==============================] - 56s 305ms/step - loss: 0.3652 - categorical_accuracy: 0.8738 - val_loss: 0.5013 - val_categorical_accuracy: 0.8110\n",
      "\n",
      "Epoch 00036: val_loss did not improve from 0.48098\n",
      "Epoch 37/500\n",
      "183/183 [==============================] - 56s 305ms/step - loss: 0.3623 - categorical_accuracy: 0.8784 - val_loss: 0.4922 - val_categorical_accuracy: 0.8163\n",
      "\n",
      "Epoch 00037: val_loss did not improve from 0.48098\n",
      "Epoch 38/500\n",
      "183/183 [==============================] - 57s 310ms/step - loss: 0.3671 - categorical_accuracy: 0.8767 - val_loss: 0.5042 - val_categorical_accuracy: 0.8197\n",
      "\n",
      "Epoch 00038: val_loss did not improve from 0.48098\n",
      "\n",
      "Epoch 00038: ReduceLROnPlateau reducing learning rate to 1.56249996052793e-06.\n",
      "Epoch 39/500\n",
      "183/183 [==============================] - 58s 315ms/step - loss: 0.3370 - categorical_accuracy: 0.8871 - val_loss: 0.4858 - val_categorical_accuracy: 0.8255\n",
      "\n",
      "Epoch 00039: val_loss did not improve from 0.48098\n",
      "Epoch 40/500\n",
      "183/183 [==============================] - 57s 314ms/step - loss: 0.3410 - categorical_accuracy: 0.8851 - val_loss: 0.4789 - val_categorical_accuracy: 0.8329\n",
      "\n",
      "Epoch 00040: val_loss improved from 0.48098 to 0.47888, saving model to checkpoint.h5\n",
      "Epoch 41/500\n",
      "183/183 [==============================] - 56s 308ms/step - loss: 0.3439 - categorical_accuracy: 0.8795 - val_loss: 0.4667 - val_categorical_accuracy: 0.8350\n",
      "\n",
      "Epoch 00041: val_loss improved from 0.47888 to 0.46674, saving model to checkpoint.h5\n",
      "Epoch 42/500\n",
      "183/183 [==============================] - 58s 316ms/step - loss: 0.3435 - categorical_accuracy: 0.8803 - val_loss: 0.4872 - val_categorical_accuracy: 0.8263\n",
      "\n",
      "Epoch 00042: val_loss did not improve from 0.46674\n",
      "Epoch 43/500\n",
      "183/183 [==============================] - 56s 307ms/step - loss: 0.3380 - categorical_accuracy: 0.8846 - val_loss: 0.4859 - val_categorical_accuracy: 0.8255\n",
      "\n",
      "Epoch 00043: val_loss did not improve from 0.46674\n",
      "Epoch 44/500\n",
      "183/183 [==============================] - 56s 308ms/step - loss: 0.3348 - categorical_accuracy: 0.8865 - val_loss: 0.4969 - val_categorical_accuracy: 0.8226\n",
      "\n",
      "Epoch 00044: val_loss did not improve from 0.46674\n",
      "\n",
      "Epoch 00044: ReduceLROnPlateau reducing learning rate to 7.81249980263965e-07.\n",
      "Epoch 45/500\n",
      "183/183 [==============================] - 56s 304ms/step - loss: 0.3234 - categorical_accuracy: 0.8933 - val_loss: 0.4742 - val_categorical_accuracy: 0.8309\n",
      "\n",
      "Epoch 00045: val_loss did not improve from 0.46674\n",
      "Epoch 46/500\n",
      "183/183 [==============================] - 56s 309ms/step - loss: 0.3371 - categorical_accuracy: 0.8863 - val_loss: 0.4897 - val_categorical_accuracy: 0.8212\n",
      "\n",
      "Epoch 00046: val_loss did not improve from 0.46674\n",
      "Epoch 47/500\n",
      "183/183 [==============================] - 57s 311ms/step - loss: 0.3387 - categorical_accuracy: 0.8887 - val_loss: 0.4790 - val_categorical_accuracy: 0.8296\n",
      "\n",
      "Epoch 00047: val_loss did not improve from 0.46674\n",
      "\n",
      "Epoch 00047: ReduceLROnPlateau reducing learning rate to 3.906249901319825e-07.\n",
      "Epoch 48/500\n",
      "183/183 [==============================] - 56s 308ms/step - loss: 0.3227 - categorical_accuracy: 0.8887 - val_loss: 0.4750 - val_categorical_accuracy: 0.8255\n",
      "\n",
      "Epoch 00048: val_loss did not improve from 0.46674\n",
      "Epoch 49/500\n",
      "183/183 [==============================] - 57s 312ms/step - loss: 0.3352 - categorical_accuracy: 0.8827 - val_loss: 0.4830 - val_categorical_accuracy: 0.8267\n",
      "\n",
      "Epoch 00049: val_loss did not improve from 0.46674\n",
      "Epoch 50/500\n",
      "183/183 [==============================] - 58s 319ms/step - loss: 0.3320 - categorical_accuracy: 0.8890 - val_loss: 0.4797 - val_categorical_accuracy: 0.8280\n",
      "\n",
      "Epoch 00050: val_loss did not improve from 0.46674\n",
      "\n",
      "Epoch 00050: ReduceLROnPlateau reducing learning rate to 1.9531249506599124e-07.\n",
      "Epoch 51/500\n",
      "183/183 [==============================] - 57s 313ms/step - loss: 0.3239 - categorical_accuracy: 0.8888 - val_loss: 0.4883 - val_categorical_accuracy: 0.8180\n",
      "\n",
      "Epoch 00051: val_loss did not improve from 0.46674\n",
      "Epoch 00051: early stopping\n"
     ]
    }
   ],
   "source": [
    "model = build_model(train, num_conv_layer = 3, num_layer_node = [1024, 512, 256, 128], num_filters=128)\n",
    "print(model.summary())\n",
    "\n",
    "# adam = Adam(lr=LR, beta_1=BETA_1, beta_2=BETA_2)\n",
    "opt = Adam(lr = LR)\n",
    "earlystop = EarlyStopping(patience = earlystop_patience, verbose = 1, monitor=Monitor)\n",
    "checkpoint = ModelCheckpoint(r'checkpoint.h5', save_best_only=True, verbose=1, monitor = Monitor)\n",
    "reduce_lr = ReduceLROnPlateau(\n",
    "    factor = 0.5,\n",
    "    min_lr = 1e-12,\n",
    "    monitor = Monitor,\n",
    "    patience = 3,\n",
    "    verbose = 1\n",
    ")\n",
    "\n",
    "model.compile(opt, \n",
    "              loss='categorical_crossentropy', \n",
    "              metrics=['categorical_accuracy'])\n",
    "\n",
    "model.fit_generator(train, \n",
    "                    steps_per_epoch=steps_per_epoch, \n",
    "                    epochs=EPOCHS, \n",
    "                    validation_data=validation,\n",
    "                    validation_steps =validation_steps,\n",
    "                    callbacks = [earlystop, checkpoint,reduce_lr])\n",
    "# Collect results\n",
    "train_loss = model.history.history[\"loss\"]\n",
    "valid_loss = model.history.history[\"val_loss\"]\n",
    "train_acc = model.history.history[\"categorical_accuracy\"]\n",
    "valid_acc = model.history.history[\"val_categorical_accuracy\"]"
   ]
  },
  {
   "cell_type": "code",
   "execution_count": 56,
   "metadata": {
    "scrolled": false
   },
   "outputs": [
    {
     "data": {
      "image/png": "[encoded data removed]",
      "text/plain": [
       "<Figure size 432x288 with 1 Axes>"
      ]
     },
     "metadata": {},
     "output_type": "display_data"
    },
    {
     "data": {
      "image/png": "[encoded data removed]",
      "text/plain": [
       "<Figure size 432x288 with 1 Axes>"
      ]
     },
     "metadata": {},
     "output_type": "display_data"
    }
   ],
   "source": [
    "import matplotlib.pyplot as plt\n",
    "%matplotlib inline\n",
    "\"\"\"\n",
    "Plot results\n",
    "\"\"\"\n",
    "plt.plot(range(len(train_loss)), train_loss, label=\"train loss\")\n",
    "plt.plot(range(len(valid_loss)), valid_loss, label=\"valid loss\")\n",
    "plt.legend()\n",
    "plt.title(\"Loss\")\n",
    "plt.show()\n",
    "\n",
    "plt.plot(range(len(train_acc)), train_acc, label=\"train accuracy\")\n",
    "plt.plot(range(len(valid_acc)), valid_acc, label=\"valid accuracy\")\n",
    "plt.legend()\n",
    "plt.title(\"Accuracy\")\n",
    "plt.show()"
   ]
  },
  {
   "cell_type": "code",
   "execution_count": 18,
   "metadata": {
    "scrolled": false
   },
   "outputs": [
    {
     "data": {
      "image/png": "[encoded data removed]",
      "text/plain": [
       "<Figure size 432x288 with 1 Axes>"
      ]
     },
     "metadata": {},
     "output_type": "display_data"
    },
    {
     "data": {
      "image/png": "[encoded data removed]",
      "text/plain": [
       "<Figure size 432x288 with 1 Axes>"
      ]
     },
     "metadata": {},
     "output_type": "display_data"
    }
   ],
   "source": [
    "import matplotlib.pyplot as plt\n",
    "%matplotlib inline\n",
    "\"\"\"\n",
    "Plot results\n",
    "\"\"\"\n",
    "plt.plot(range(len(train_loss)), train_loss, label=\"train loss\")\n",
    "plt.plot(range(len(valid_loss)), valid_loss, label=\"valid loss\")\n",
    "plt.legend()\n",
    "plt.title(\"Loss\")\n",
    "plt.show()\n",
    "\n",
    "plt.plot(range(len(train_acc)), train_acc, label=\"train accuracy\")\n",
    "plt.plot(range(len(valid_acc)), valid_acc, label=\"valid accuracy\")\n",
    "plt.legend()\n",
    "plt.title(\"Accuracy\")\n",
    "plt.show()"
   ]
  },
  {
   "cell_type": "code",
   "execution_count": 393,
   "metadata": {},
   "outputs": [],
   "source": [
    "from winsound import Beep\n",
    "Beep(2500, 1000)"
   ]
  },
  {
   "cell_type": "markdown",
   "metadata": {},
   "source": [
    "## Prediction"
   ]
  },
  {
   "cell_type": "code",
   "execution_count": 57,
   "metadata": {},
   "outputs": [],
   "source": [
    "from keras.preprocessing import image\n",
    "import os"
   ]
  },
  {
   "cell_type": "code",
   "execution_count": 58,
   "metadata": {},
   "outputs": [],
   "source": [
    "model = build_model(train, num_conv_layer = 3, num_layer_node = [1024, 512, 256, 128], num_filters=128)"
   ]
  },
  {
   "cell_type": "code",
   "execution_count": 59,
   "metadata": {},
   "outputs": [],
   "source": [
    "model.load_weights('checkpoint.h5')"
   ]
  },
  {
   "cell_type": "code",
   "execution_count": 75,
   "metadata": {},
   "outputs": [],
   "source": [
    "cls_list = list(train.class_indices)"
   ]
  },
  {
   "cell_type": "code",
   "execution_count": 77,
   "metadata": {},
   "outputs": [
    {
     "data": {
      "text/plain": [
       "['0028624c49b3e0610ff9f1d111f5d532.jpg',\n",
       " '002c30700185b7971369258b438070d5.jpg',\n",
       " '00852f4f666acecd0c0d140365b42efd.jpg',\n",
       " '00c08828fce04e360c732cac01edad9e.jpg',\n",
       " '00d366e7877b6a78b104b57d67b60e6b.jpg']"
      ]
     },
     "execution_count": 77,
     "metadata": {},
     "output_type": "execute_result"
    }
   ],
   "source": [
    "files = os.listdir(os.path.join(os.getcwd(), 'image_data', 'test'))\n",
    "files[:5]"
   ]
  },
  {
   "cell_type": "code",
   "execution_count": 81,
   "metadata": {},
   "outputs": [
    {
     "data": {
      "text/plain": [
       "['daisy', 'dandelion', 'rose', 'sunflower', 'tulip']"
      ]
     },
     "execution_count": 81,
     "metadata": {},
     "output_type": "execute_result"
    }
   ],
   "source": [
    "cls_list"
   ]
  },
  {
   "cell_type": "code",
   "execution_count": 90,
   "metadata": {},
   "outputs": [
    {
     "name": "stdout",
     "output_type": "stream",
     "text": [
      "0.955543  rose\n",
      "0.030021  tulip\n",
      "0.009570  daisy\n",
      "0.003592  dandelion\n",
      "0.001274  sunflower\n"
     ]
    },
    {
     "data": {
      "image/png": "[encoded data removed]",
      "text/plain": [
       "<Figure size 432x288 with 1 Axes>"
      ]
     },
     "metadata": {},
     "output_type": "display_data"
    }
   ],
   "source": [
    "img = image.load_img(os.path.join(os.getcwd(), 'image_data', 'test', files[0]), target_size=TARGET_SIZE)\n",
    "x = image.img_to_array(img)\n",
    "x = x/255.\n",
    "x = np.expand_dims(x, axis = 0)\n",
    "x = validation_datagen.standardize(x)\n",
    "pred = model.predict(x)[0]\n",
    "plt.imshow(img)\n",
    "top_inds = pred.argsort()[::-1][:5]\n",
    "# result.loc[i] = [f[:-4], top_inds[0]]    \n",
    "# print(f)\n",
    "\n",
    "# if i >= 10:\n",
    "#     break\n",
    "# fig.add_subplot(10, 1, i+1)\n",
    "# plt.imshow(img)\n",
    "\n",
    "for i in top_inds:\n",
    "    print('{:f}  {}'.format(pred[i], cls_list[i]))  \n",
    "    "
   ]
  },
  {
   "cell_type": "code",
   "execution_count": null,
   "metadata": {},
   "outputs": [],
   "source": []
  },
  {
   "cell_type": "code",
   "execution_count": 92,
   "metadata": {
    "scrolled": false
   },
   "outputs": [],
   "source": [
    "cls_list = list(train.class_indices.keys())\n",
    "result = pd.DataFrame(columns=['id','flower_class'])\n",
    "for i,f in enumerate(files):\n",
    "    img = image.load_img(os.path.join(os.getcwd(), 'image_data', 'test', f), target_size=TARGET_SIZE)\n",
    "    if img is None:\n",
    "        continue\n",
    "    x = image.img_to_array(img)\n",
    "    x = x/255.\n",
    "    x = np.expand_dims(x, axis = 0)\n",
    "    x = validation_datagen.standardize(x)\n",
    "    pred = model.predict(x)[0]\n",
    "    top_inds = pred.argsort()[::-1][:5]\n",
    "    result.loc[i] = [f[:-4], top_inds[0]]    \n",
    "#     print(f)\n",
    "#     for i in top_inds:\n",
    "#         print('    {:.3f}  {}'.format(pred[i], cls_list[i]))"
   ]
  },
  {
   "cell_type": "code",
   "execution_count": 93,
   "metadata": {},
   "outputs": [
    {
     "data": {
      "text/html": [
       "<div>\n",
       "<style scoped>\n",
       "    .dataframe tbody tr th:only-of-type {\n",
       "        vertical-align: middle;\n",
       "    }\n",
       "\n",
       "    .dataframe tbody tr th {\n",
       "        vertical-align: top;\n",
       "    }\n",
       "\n",
       "    .dataframe thead th {\n",
       "        text-align: right;\n",
       "    }\n",
       "</style>\n",
       "<table border=\"1\" class=\"dataframe\">\n",
       "  <thead>\n",
       "    <tr style=\"text-align: right;\">\n",
       "      <th></th>\n",
       "      <th>id</th>\n",
       "      <th>flower_class</th>\n",
       "    </tr>\n",
       "  </thead>\n",
       "  <tbody>\n",
       "    <tr>\n",
       "      <th>0</th>\n",
       "      <td>0028624c49b3e0610ff9f1d111f5d532</td>\n",
       "      <td>2</td>\n",
       "    </tr>\n",
       "    <tr>\n",
       "      <th>1</th>\n",
       "      <td>002c30700185b7971369258b438070d5</td>\n",
       "      <td>4</td>\n",
       "    </tr>\n",
       "    <tr>\n",
       "      <th>2</th>\n",
       "      <td>00852f4f666acecd0c0d140365b42efd</td>\n",
       "      <td>2</td>\n",
       "    </tr>\n",
       "    <tr>\n",
       "      <th>3</th>\n",
       "      <td>00c08828fce04e360c732cac01edad9e</td>\n",
       "      <td>4</td>\n",
       "    </tr>\n",
       "    <tr>\n",
       "      <th>4</th>\n",
       "      <td>00d366e7877b6a78b104b57d67b60e6b</td>\n",
       "      <td>4</td>\n",
       "    </tr>\n",
       "  </tbody>\n",
       "</table>\n",
       "</div>"
      ],
      "text/plain": [
       "                                 id flower_class\n",
       "0  0028624c49b3e0610ff9f1d111f5d532            2\n",
       "1  002c30700185b7971369258b438070d5            4\n",
       "2  00852f4f666acecd0c0d140365b42efd            2\n",
       "3  00c08828fce04e360c732cac01edad9e            4\n",
       "4  00d366e7877b6a78b104b57d67b60e6b            4"
      ]
     },
     "execution_count": 93,
     "metadata": {},
     "output_type": "execute_result"
    }
   ],
   "source": [
    "result.head()"
   ]
  },
  {
   "cell_type": "code",
   "execution_count": 94,
   "metadata": {},
   "outputs": [],
   "source": [
    "result.to_csv('checkpoint_regularizer.csv', index=False)"
   ]
  },
  {
   "cell_type": "code",
   "execution_count": null,
   "metadata": {},
   "outputs": [],
   "source": []
  }
 ],
 "metadata": {
  "kernelspec": {
   "display_name": "Python 3",
   "language": "python",
   "name": "python3"
  },
  "language_info": {
   "codemirror_mode": {
    "name": "ipython",
    "version": 3
   },
   "file_extension": ".py",
   "mimetype": "text/x-python",
   "name": "python",
   "nbconvert_exporter": "python",
   "pygments_lexer": "ipython3",
   "version": "3.6.7"
  }
 },
 "nbformat": 4,
 "nbformat_minor": 2
}
